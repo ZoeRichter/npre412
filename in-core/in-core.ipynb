{
 "cells": [
  {
   "cell_type": "code",
   "execution_count": 40,
   "metadata": {
    "collapsed": true
   },
   "outputs": [],
   "source": [
    "%matplotlib inline\n",
    "\n",
    "import matplotlib\n",
    "import numpy as np\n",
    "import matplotlib.pyplot as plt\n",
    "\n",
    "plt.rcParams[\"figure.figsize\"] = (12, 9)\n",
    "plt.rcParams[\"font.size\"] = 18"
   ]
  },
  {
   "cell_type": "markdown",
   "metadata": {},
   "source": [
    "# In Core Fuel Management\n",
    "\n",
    "In core fuel management focuses on the study of requirements and operational considerations impacting fuel performance in the reactor core, power history, core loading patterns, and refuelling activities.\n",
    "\n",
    "\n",
    "## Learning Objectives\n",
    "\n",
    "At the end of this lesson, you will be equipped to:\n",
    "\n",
    "- List safety constraints driving in core fuel management decisions.\n",
    "- Calculate capacity and availability factors.\n",
    "- Calculate the mass required for each reactor year of operation.\n",
    "- Calculate core and assembly discharge burnup based on power output.\n",
    "- Analyze the reactivity evolution of a core based on burnup.\n",
    "- Apply burnup calculations to multiple batch cores.\n",
    "- Recognize the relationship between the number of batches and the final burnup. \n",
    "- Understand the goals driving choices in various fuel loading patterns. \n",
    "- Apply these lessons to pebble-fuelled and liquid-fueled advanced reactor designs.\n",
    "- Recognize the impact of extended burnup on fuel utilization, SWU utilization, and fuel cycle cost.\n",
    "- Understand how isotopic activities can be used to determine fuel burnup.\n",
    "- Calculate burnup based on key activity ratios."
   ]
  },
  {
   "cell_type": "markdown",
   "metadata": {},
   "source": [
    "## Safety Constraints\n",
    "\n",
    "\n",
    "-  $\\frac{P_{peak}}{P_{avg}}$, peak to average power ratio.\n",
    "- $T_{max}$, maximimum core temperature.\n",
    "- Departure from Nucleate Boiling Ratio (DNBR)\n",
    "- $\\rho$, reactivity in the core.\n",
    "- $\\alpha_T$, temperature coefficient of reactivity "
   ]
  },
  {
   "cell_type": "markdown",
   "metadata": {},
   "source": [
    "## Mass Required\n",
    "\n",
    "The simplest possible representation of the mass of fuel that must be added into a reactor is:\n",
    "\n",
    "\\begin{align}\n",
    "M(t) &= \\frac{Q}{BU}\n",
    "\\end{align}\n",
    "\n",
    "where\n",
    "\\begin{align}\n",
    "M &= \\mbox{mass of heavy metal (e.g., uranium) in the core }[MTHM/yr]\\\\\n",
    "Q &= \\mbox{annual thermal energy output }[GWd/yr]\\\\\n",
    "BU &= \\mbox{burnup }[GWd/MTIHM]\n",
    "\\end{align}\n",
    "\n",
    "\n",
    "But, Q itself typically needs to be back-calculated from energy produced.\n",
    "\n",
    "\\begin{align}\n",
    "Q &= \\frac{P_0\\cdot CF\\cdot T}{\\eta_{th}}\n",
    "\\end{align}\n",
    "\n",
    "where\n",
    "\\begin{align}\n",
    "P_0 &= \\mbox{installed electric capacity }[GWe]\\\\\n",
    "CF &= \\mbox{capacity factor }[-]\\\\\n",
    "T &= \\mbox{time in core } [days]\\\\\n",
    "\\eta_{th} &= \\mbox{thermal efficiency }[GWe/GWth]\\\\\n",
    "\\end{align}\n",
    "\n"
   ]
  },
  {
   "cell_type": "code",
   "execution_count": 41,
   "metadata": {
    "collapsed": false
   },
   "outputs": [
    {
     "name": "stdout",
     "output_type": "stream",
     "text": [
      "29863.636363636364\n"
     ]
    }
   ],
   "source": [
    "def m(q, bu):\n",
    "    return q/bu\n",
    "\n",
    "def q(p0, cf, t, eta_th):\n",
    "    return p0*cf*t/eta_th\n",
    "\n",
    "p0 = 1500 # installed electric capacity GWe\n",
    "cf = 0.9 # capacity factor\n",
    "t = 365 # days per year\n",
    "eta_th = 0.33 # thermal efficiency GWe/GWth\n",
    "bu = 50 # burnup GWd/MTIHM\n",
    "\n",
    "print(m(q(p0, cf, t, eta_th), bu))\n"
   ]
  },
  {
   "cell_type": "markdown",
   "metadata": {},
   "source": [
    "## Capacity and Availability Factors\n",
    "\n",
    "The capacity factor is representative of the plant's tendency to acheive its rated power capacity.\n",
    "\n",
    "\\begin{align}\n",
    "CF &= \\frac{\\mbox{actual power generated over time T}}{\\mbox{rated power potential over time T}}\\\\\n",
    "  &=\\frac{\\int_0^T P(t)dt}{P_0T}\\\\\n",
    "P(t) &= \\mbox{ thermal power at time t during period T}\n",
    "\\end{align}\n",
    "\n",
    "The capacity factor, integrated over time, gives Effective Full Power Days (EFPD), the equivalent number of days at full power.\n",
    "\n",
    "\\begin{align}\n",
    "EFPD &= \\int_0^TCF(t)dt\\\\\n",
    "     &= \\int_0^T \\frac{\\int_0^T P(t)dt}{P_0T}\\\\\n",
    "\\end{align}\n",
    "\n",
    "\n",
    "\n",
    "The availability factor is always greater than the capacity factor. \n",
    "\n",
    "\\begin{align}\n",
    "AF &= \\frac{\\mbox{time during which the reactor was operational during time period T}}{T}\n",
    "\\end{align}\n",
    "\n"
   ]
  },
  {
   "cell_type": "code",
   "execution_count": 53,
   "metadata": {
    "collapsed": false
   },
   "outputs": [
    {
     "data": {
      "text/plain": [
       "(-0.5, 1.5)"
      ]
     },
     "execution_count": 53,
     "metadata": {},
     "output_type": "execute_result"
    },
    {
     "data": {
      "image/png": "[encoded data removed]",
      "text/plain": [
       "<matplotlib.figure.Figure at 0x7f0a00203630>"
      ]
     },
     "metadata": {},
     "output_type": "display_data"
    }
   ],
   "source": [
    "# The reactor shuts down:\n",
    "# for two weeks starting 1.5 months into the cycle\n",
    "# for a few days during the 10th month\n",
    "# for one month during month 18\n",
    "shutdowns = {1.5:2.0, \n",
    "             10:10.1,\n",
    "             18.5:19.5}\n",
    "\n",
    "import numpy as np\n",
    "def A(t, shutdowns):\n",
    "    to_ret = 1.0*(t > 0)\n",
    "    for start,stop in shutdowns.items():\n",
    "        if start < t and t < stop:\n",
    "            to_ret = 0\n",
    "    return to_ret\n",
    "\n",
    "times = np.arange(0.0, 20.0, 0.01)\n",
    "hist = np.arange(0.0, 20.0, 0.01)\n",
    "for i in range(0, times.size):\n",
    "    hist[i] = A(times[i], shutdowns)\n",
    "plt.plot(times, hist)\n",
    "plt.ylim([-0.5, 1.5])\n",
    "plt.set_title()\n",
    "plt.set_xlabel()\n",
    "plt.set_ylabel()\n"
   ]
  },
  {
   "cell_type": "markdown",
   "metadata": {},
   "source": [
    "## Reactivity Swing\n",
    "\n",
    "\n",
    "\n"
   ]
  },
  {
   "cell_type": "markdown",
   "metadata": {},
   "source": [
    "## Multiple Batch Cores\n"
   ]
  },
  {
   "cell_type": "markdown",
   "metadata": {},
   "source": [
    "## Fuel Loading Patterns  "
   ]
  },
  {
   "cell_type": "markdown",
   "metadata": {},
   "source": [
    "## Many and $\\infty$ Batch Reactor Designs\n"
   ]
  },
  {
   "cell_type": "markdown",
   "metadata": {},
   "source": [
    "## Extended Burnup"
   ]
  },
  {
   "cell_type": "markdown",
   "metadata": {},
   "source": [
    "## Determining Burnup"
   ]
  },
  {
   "cell_type": "code",
   "execution_count": null,
   "metadata": {
    "collapsed": true
   },
   "outputs": [],
   "source": []
  }
 ],
 "metadata": {
  "anaconda-cloud": {},
  "kernelspec": {
   "display_name": "Python [Root]",
   "language": "python",
   "name": "Python [Root]"
  },
  "language_info": {
   "codemirror_mode": {
    "name": "ipython",
    "version": 3
   },
   "file_extension": ".py",
   "mimetype": "text/x-python",
   "name": "python",
   "nbconvert_exporter": "python",
   "pygments_lexer": "ipython3",
   "version": "3.5.2"
  }
 },
 "nbformat": 4,
 "nbformat_minor": 0
}

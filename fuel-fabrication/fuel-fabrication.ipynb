{
 "cells": [
  {
   "cell_type": "markdown",
   "metadata": {},
   "source": [
    "# Nuclear Fuel Fabrication\n",
    "\n",
    "Nuclear fuel production is a highly constrained and optimized process.\n",
    "\n",
    "## Learning Objectives\n",
    "\n",
    "- Differentiate fuel characteristics and materials in various reactor designs \n",
    "- List safety constraints driving fuel designs\n",
    "- Explain the role of fuel and cladding in providing a barrier to radionuclide release\n",
    "- Name appropriate criteria for selection of cladding materials\n",
    "- Compare the mechanims of typical fuel failures\n",
    "- \n"
   ]
  },
  {
   "cell_type": "markdown",
   "metadata": {},
   "source": [
    "## CANDU\n",
    "\n",
    "\n",
    "- natural uranium\n",
    "- heavy water ($D_2O$)\n",
    "- online refuelling\n",
    "- each bundle: 50 cm long 10 cm diameter\n",
    "\n",
    "\n",
    "![https://cna.ca/wp-content/uploads/2014/06/Fuel-bundle-fuel-channel-relationship.png](https://cna.ca/wp-content/uploads/2014/06/Fuel-bundle-fuel-channel-relationship.png)\n",
    "\n",
    "![https://www.cameco.com/uploads/page/gallery/Z5AuIcCt-4050-2700.jpg](https://www.cameco.com/uploads/page/gallery/Z5AuIcCt-4050-2700.jpg)\n",
    "\n",
    "![https://canteach.candu.org/Image%20Library1/00000/CANDU6_Reactor_Assembly.jpg](https://canteach.candu.org/Image%20Library1/00000/CANDU6_Reactor_Assembly.jpg)\n",
    "\n",
    "![https://s-media-cache-ak0.pinimg.com/originals/09/fb/dc/09fbdc52c6e8e800586966ab183ff672.jpg](https://s-media-cache-ak0.pinimg.com/originals/09/fb/dc/09fbdc52c6e8e800586966ab183ff672.jpg)"
   ]
  },
  {
   "cell_type": "markdown",
   "metadata": {},
   "source": [
    "## PWR \n",
    "\n",
    "A PWR has about 200-250 fuel assemblies per core. Each assembly:\n",
    "\n",
    "- 17x17 fuel rods \n",
    "- 8.5x8.5 inches\n",
    "- 14ft tall\n",
    "- 1400lb\n",
    "\n",
    "\n",
    "## BWR\n",
    "\n",
    "A BWR has about 600-800 fuel assemblies per core. Each assembly:\n",
    "\n",
    "- 10x10\n",
    "- 5.5x5.5 inches\n",
    "- 14ft tall\n",
    "- 700lb\n",
    "- Zircalloy channel around the assembly\n",
    "\n",
    "\n",
    "### Zircalloy\n",
    "\n",
    "There is a phenomenal review paper called \"Selection of fuel cladding material for nuclear fission reactors.\" https://www.researchgate.net/publication/257519826_Selection_of_fuel_cladding_material_for_nuclear_fission_reactors . Many of the following images come directly from that paper.\n",
    "\n",
    "\n",
    "\n",
    "\n",
    "![https://www.researchgate.net/profile/Cesar_Azevedo/publication/257519826/viewer/AS:98952154189824@1400603440040/background/10.png](https://www.researchgate.net/profile/Cesar_Azevedo/publication/257519826/viewer/AS:98952154189824@1400603440040/background/10.png)\n",
    "\n",
    "\n",
    "### Magnox\n",
    "![https://sanonofresafety.files.wordpress.com/2013/06/higherburnupcladdingfailurechart1.jpg](https://sanonofresafety.files.wordpress.com/2013/06/higherburnupcladdingfailurechart1.jpg)"
   ]
  },
  {
   "cell_type": "markdown",
   "metadata": {},
   "source": [
    "## Metal Fuels\n",
    "\n",
    "IFR. (Metal fuel, sodium coolant)\n",
    "\n",
    "\n",
    "---"
   ]
  },
  {
   "cell_type": "markdown",
   "metadata": {},
   "source": [
    "## TRISO Fuels\n",
    "\n",
    "- withstand high temperature \n",
    "- fission product containment\n",
    "- \n",
    "\n",
    "### Salt Coolant\n",
    "\n",
    "FHR, AHTR, etc.\n",
    "\n",
    "### Gas Coolant\n",
    "\n",
    "HTGR\n",
    "\n",
    "---"
   ]
  },
  {
   "cell_type": "markdown",
   "metadata": {},
   "source": [
    "## Liquid Fuels\n",
    "\n",
    "\n",
    "![https://upload.wikimedia.org/wikipedia/commons/thumb/0/08/Molten_Salt_Reactor.svg/2000px-Molten_Salt_Reactor.svg.png](https://upload.wikimedia.org/wikipedia/commons/thumb/0/08/Molten_Salt_Reactor.svg/2000px-Molten_Salt_Reactor.svg.png)\n",
    "\n",
    "---"
   ]
  },
  {
   "cell_type": "markdown",
   "metadata": {},
   "source": [
    "# Fuel Failure\n",
    "\n",
    "Increased burnups lead to higher fuel failure rates. \n",
    "\n",
    "U. S. Nuclear Waste Technical Review Board (NWTRB) fuel cladding failure chart (Figure 20 on page 56) and December 2010 report https://sanonofresafety.files.wordpress.com/2013/06/usnwtrb-evaloftechbasisforextendeddrystorageandtransportofusednuclearfuel2010-dec-eds_rpt.pdf\n",
    "\n",
    "![https://sanonofresafety.files.wordpress.com/2013/06/higherburnupcladdingfailurechart1.jpg](https://sanonofresafety.files.wordpress.com/2013/06/higherburnupcladdingfailurechart1.jpg)\n",
    "\n",
    "## Pellet Clad Interaction\n",
    "\n",
    "\n",
    "![http://us.areva.com/home/liblocal/images/Nuclear/solutions_fuel_cycle_optimization/flexible_fuel_cycle_solutions.png](http://us.areva.com/home/liblocal/images/Nuclear/solutions_fuel_cycle_optimization/flexible_fuel_cycle_solutions.png)\n",
    "\n",
    "\n",
    "## Crud Deposition\n",
    "\n",
    "\n",
    "\n",
    "## Creep\n",
    "\n",
    "\n",
    "\n",
    "## Debris\n",
    "\n",
    "In BWRs, the most common failure mode is debris. \n"
   ]
  },
  {
   "cell_type": "markdown",
   "metadata": {},
   "source": [
    "## Wrap-up\n",
    "\n",
    "- \n",
    "- \n",
    "- \n",
    "- "
   ]
  },
  {
   "cell_type": "markdown",
   "metadata": {},
   "source": [
    "## References\n",
    "\n",
    "This section was developed to complement pages 86-119 of [1]. \n",
    "\n",
    "[1] N. Tsoulfanidis, The Nuclear Fuel Cycle. La Grange Park, Illinois, USA: American Nuclear Society, 2013.\n"
   ]
  },
  {
   "cell_type": "code",
   "execution_count": null,
   "metadata": {
    "collapsed": true
   },
   "outputs": [],
   "source": []
  }
 ],
 "metadata": {
  "kernelspec": {
   "display_name": "Python 3",
   "language": "python",
   "name": "python3"
  },
  "language_info": {
   "codemirror_mode": {
    "name": "ipython",
    "version": 3
   },
   "file_extension": ".py",
   "mimetype": "text/x-python",
   "name": "python",
   "nbconvert_exporter": "python",
   "pygments_lexer": "ipython3",
   "version": "3.5.2"
  }
 },
 "nbformat": 4,
 "nbformat_minor": 0
}

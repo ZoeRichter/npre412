{
 "cells": [
  {
   "cell_type": "markdown",
   "metadata": {},
   "source": [
    "## Nuclear Environmental Incidents\n",
    "\n",
    "## Learning Objectives\n",
    "\n",
    "After this section, the student will be able to:\n",
    "\n",
    "- Discuss the history of man-made environmental disasters.\n",
    "- List signficant nuclear related environmental disasters.\n",
    "- Describe the timeline of events at TMI, Chernobyl, and Fukushima.\n",
    "- Understand the scope and magnitude of environmental impacts from such accidents.\n",
    "- Compare the relative magnitudes of accidents at Chernobyl, TMI, and Fukushima.\n",
    "\n",
    "- Recall decay chains and the population equation.\n",
    "- List key isotopes of concern and their biological impacts.\n",
    "- Apply your understanding of decay and the population equation to decay and in-growth of radionuclide contaminants from a source term.\n",
    "\n",
    "\n",
    "- Understand cleanup efforts and safety standards.\n",
    "- Understand the relationship between stress and death."
   ]
  },
  {
   "cell_type": "markdown",
   "metadata": {},
   "source": [
    "## Worst Man Made Environmental Disasters?"
   ]
  },
  {
   "cell_type": "code",
   "execution_count": 1,
   "metadata": {
    "collapsed": false
   },
   "outputs": [
    {
     "data": {
      "text/html": [
       "\n",
       "        <iframe\n",
       "            width=\"100%\"\n",
       "            height=\"700\"\n",
       "            src=\"https://embed.polleverywhere.com/free_text_polls/D5B05A34g3E3kq6?controls=none&short_poll=true\"\n",
       "            frameborder=\"0\"\n",
       "            allowfullscreen\n",
       "        ></iframe>\n",
       "        "
      ],
      "text/plain": [
       "<IPython.lib.display.IFrame at 0x7f2190fbb1d0>"
      ]
     },
     "execution_count": 1,
     "metadata": {},
     "output_type": "execute_result"
    }
   ],
   "source": [
    "from IPython.display import IFrame\n",
    "IFrame(src=\"https://embed.polleverywhere.com/free_text_polls/D5B05A34g3E3kq6?controls=none&short_poll=true\", width=\"100%\", height=\"700\")"
   ]
  },
  {
   "cell_type": "markdown",
   "metadata": {},
   "source": [
    "![https://sustainatlanta.files.wordpress.com/2014/05/love-canal.jpg?w=897](https://sustainatlanta.files.wordpress.com/2014/05/love-canal.jpg?w=897)\n",
    "\n",
    "[//]: # (1940s - 1970s. Chemical company and state of New York dispose of chemicals, elementary school built on top. Love Canal)\n",
    "\n",
    "\n",
    "![http://www.livemint.com/rf/Image-621x414/LiveMint/Period1/2014/11/01/Photos/unioncarbide--621x414.jpg](http://www.livemint.com/rf/Image-621x414/LiveMint/Period1/2014/11/01/Photos/unioncarbide--621x414.jpg) \n",
    "\n",
    "[//]: # (2-3 December 1984, Bhopal, thousands of deaths, hundreds of thousands of injuries)\n",
    "\n",
    "\n",
    "![https://img.washingtonpost.com/rf/image_1484w/2010-2019/WashingtonPost/2016/04/20/Interactivity/Images/AP_860401039.jpg](https://img.washingtonpost.com/rf/image_1484w/2010-2019/WashingtonPost/2016/04/20/Interactivity/Images/AP_860401039.jpg)\n",
    "\n",
    "[//]: # (26 April 1986, Chernobyl, 28 people dead from direct radiation exposure, hundreds of radiation injuries to workers, thousands of cases of thyroid cancer)\n",
    "\n",
    "![http://www.safety4sea.com/wp-content/uploads/2016/03/Exxon-Valdez-image.jpeg](http://www.safety4sea.com/wp-content/uploads/2016/03/Exxon-Valdez-image.jpeg)\n",
    "\n",
    "[//]: # (1989, Exxon Valdez oil spill, 41,000–119,000 m3 oil spilled, 11,000 square miles of ocean)\n",
    "\n",
    "\n",
    "![https://upload.wikimedia.org/wikipedia/commons/7/79/BrennendeOelquellenKuwait1991.jpg](https://upload.wikimedia.org/wikipedia/commons/7/79/BrennendeOelquellenKuwait1991.jpg)\n",
    "\n",
    "[//]: # (1991, Kuwaiti Oil Fires, Iraqi military forces set fire to more than 600, possibly more than 700, oil wells)\n",
    "\n",
    "![https://static01.nyt.com/images/2008/12/24/us/25sludge2_600.JPG](https://static01.nyt.com/images/2008/12/24/us/25sludge2_600.JPG)\n",
    "\n",
    "\n",
    "[//]: # (2008, TVA Kingston Fossil Plant Coal Ash Slurry. 1.7 million cubic yards of coal ash. lead and thallium)\n",
    "\n",
    "\n",
    "![http://ocean.si.edu/sites/default/files/styles/blog_header/public/photos/gulf-2012-oil-spill.jpg?itok=Op7l2reg](http://ocean.si.edu/sites/default/files/styles/blog_header/public/photos/gulf-2012-oil-spill.jpg?itok=Op7l2reg)\n",
    "\n",
    "[//]: # (2010 Deepwater Horizon, 11 people dead, leaked for 87 days,  780,000 cubic meters of oil spilled. 2,500 to 68,000 sq mi of ocean)\n",
    "\n",
    "![http://nuclear-energy.net/media/accidentes_nucleares/fukushima/nuclear-reators-fukushima.jpg](http://nuclear-energy.net/media/accidentes_nucleares/fukushima/nuclear-reators-fukushima.jpg)\n",
    "\n",
    "[//]: # (March 2011, Fukushima Daiichi, none dead due to direct radiation impact, 131 I, 137 Cs releases in the PBq.)\n",
    "\n",
    "### Superfund Sites\n",
    "\n",
    "![https://upload.wikimedia.org/wikipedia/commons/9/91/Superfund_sites.svg](https://upload.wikimedia.org/wikipedia/commons/9/91/Superfund_sites.svg)"
   ]
  },
  {
   "cell_type": "markdown",
   "metadata": {},
   "source": [
    "## Three Mile Island\n",
    "![http://darkroom.baltimoresun.com/wp-content/uploads/2014/03/BLM-US-NUCLEAR.jpg](http://darkroom.baltimoresun.com/wp-content/uploads/2014/03/BLM-US-NUCLEAR.jpg)\n",
    "\n",
    "\n",
    "![http://www.robinsonlibrary.com/technology/electrical/production/graphics/3mile3.jpg](http://www.robinsonlibrary.com/technology/electrical/production/graphics/3mile3.jpg)\n",
    "\n",
    "![http://www.nrc.gov/reading-rm/doc-collections/fact-sheets/tmi-animation.gif](http://www.nrc.gov/reading-rm/doc-collections/fact-sheets/tmi-animation.gif)\n",
    "\n",
    "### Effects of TMI\n",
    "\n",
    "> The approximately 2 million people around TMI-2 during the accident are estimated to have received an average radiation dose of only about 1 millirem above the usual background dose. To put this into context, exposure from a chest X-ray is about 6 millirem and the area's natural radioactive background dose is about 100-125 millirem per year for the area. The accident's maximum dose to a person at the site boundary would have been less than 100 millirem above background. -- [http://www.nrc.gov/reading-rm/doc-collections/fact-sheets/3mile-isle.html](http://www.nrc.gov/reading-rm/doc-collections/fact-sheets/3mile-isle.html)"
   ]
  },
  {
   "cell_type": "markdown",
   "metadata": {},
   "source": [
    "## Chernobyl\n",
    "\n",
    "The following timeline is adapted from [WNA](http://www.world-nuclear.org/information-library/safety-and-security/safety-of-plants/appendices/chernobyl-accident-appendix-1-sequence-of-events.aspx) .\n",
    "\n",
    "### 25 April 1986.\n",
    "\n",
    "- 01:06\tScheduled shutdown started.\n",
    "- 03:47\tLowering of reactor power halted at 1600 MW(thermal).\n",
    "- 14:00\t(ECCS) was isolated (part of the test procedure) to prevent it from interrupting the test later.\n",
    "- 23:10\tPower reduction recommenced.\n",
    "- 24:00\tShift change.\n",
    "\n",
    "![http://www.synthstuff.com/mt/archives/04/2011/rbmk_02.jpg](http://www.synthstuff.com/mt/archives/04/2011/rbmk_02.jpg)\n",
    "\n",
    "### April 26\n",
    "\n",
    "- 00:05\tPower level had been decreased to 720 MWt and continued to be reduced although INSAG-1 stated that operation below 700 MWt was forbidden.\n",
    "- 00:28\tPower at 500 MWt, control transferred to the automatic regulating system. Operator or equipment failed to halt power drop, led to unexpected fall in power, to 30 MWt.\n",
    "- 00:43:27\tTurbogenerator trip signal blocked in accordance with operational and test procedures. \n",
    "- 01:00\tThe reactor power had risen to 200 MWt and stabilised. Although the operators may not have known it, the required operating reactivity margin (ORM) of 15 rods had been violated (Positive void coefficient). The decision was made to carry out the turbogenerator rundown tests at a power level of about 200 MWt.\n",
    "- 01:03\tStandby circulation pump was switched into the left hand cooling circuit.\n",
    "- 01:07\tAn additional cooling pump was switched into the right hand cooling circuit --> reduced reactivity but problems in the level of steam drum due to overworking pumps.\n",
    "- 01:19 (approx.)\tThe steam drum level was still near the emergency level. To compensate, the operator increased feedwater flow. Raised drum level, reduced reactivity, the automatic control rods went up to the upper tie plate to compensate but further withdrawal of manual rods was required to maintain the reactivity balance. System pressure began to fall and, to stabilise pressure, the steam turbine bypass valve was shut off. Since the operators were having trouble with the pressure and level control, **they deactivated the automatic trip systems to the steam drum around this time.**\n",
    "- 01:23 (approx.)\tReactor parameters stabilised. The unit shift supervisors considered that preparations for the tests had been completed and, having switched on the oscilloscope, gave the order to close the emergency stop valves.\n",
    "- 01:23:04\tTurbine feed valves closed to start turbine coasting. This was the beginning of the actual test. According to Annex I of INSAG-7, for the following approximately 30 seconds of rundown of the four coolant pumps, \"the parameters of the unit were controlled, remained within the limits expected for the operating conditions concerned, and did not require any intervention on the part of the personnel.\"\n",
    "- 01:23:40\tThe emergency button (AZ-5) was pressed by the operator. Control rods started to enter the core, increasing the reactivity at the bottom of the core.\n",
    "\n",
    "![http://consumedland.com/images/Control%20Rods_en.jpg](http://consumedland.com/images/Control%20Rods_en.jpg)\n",
    "\n",
    "- 01:23:43\tPower excursion rate emergency protection system signals on; power exceeded 530 MWt.\n",
    "- 01:23:46\tDisconnection of both pairs of pumps (test procedure)\n",
    "- 01:23:47\tReductions in flow rates, increases in pressure.\n",
    "- 01:23:48\tRestoration of some flow rates of MCPs; further increase of pressure in the steam separator drums and of water level in the steam separator drums; triggering of fast acting systems for dumping of steam to condensers.\n",
    "- 01:23:49\tEmergency protection signal 'Pressure increase in reactor space (rupture of a fuel channel)'; 'No voltage - 48 V' signal (no power supply to the servodrive mechanisms of the EPS); 'Failure of the actuators of automatic power controllers Nos 1 and 2' signals.\n",
    "- 01:24\tFrom a note in the chief reactor control engineer's operating log: \"01:24: Severe shocks; the RCPS rods stopped moving before they reached the lower limit stop switches; power switch of clutch mechanisms is off.\"\n",
    "- The two main explosions destroyed the core of Unit 4 and the roof of the reactor building.\n",
    "- 100s of firefighters control building fire\n",
    "- Graphite fire continues for days. \n",
    "\n",
    "### 28 April 1986\n",
    "- A radiation monitor at Forsmark (Sweden) alarmed. A worker had picking up ground contamination on his morning walk into work.\n",
    "\n",
    "### Effects\n",
    "- Two worker deaths that night\n",
    "- 6 firefighters\n",
    "- 22 plant staff\n",
    "- 5% of the radioactive reactor core into the atmosphere and downwind – some 5200 PBq (I-131 eq).\n",
    "- hundreds of thousands of people relocated from the immediate area, including parts of Belarus. \n",
    "\n",
    "![http://www.unscear.org/images/ContaminationMap_Cs_BeUkRu_Fig_VI.jpg](http://www.unscear.org/images/ContaminationMap_Cs_BeUkRu_Fig_VI.jpg)\n",
    "\n",
    "![http://www.world-nuclear.org/uploadedImages/org/info/Safety_and_Security/Safety_of_Plants/path_of_exposure.gif](http://www.world-nuclear.org/uploadedImages/org/info/Safety_and_Security/Safety_of_Plants/path_of_exposure.gif)"
   ]
  },
  {
   "cell_type": "markdown",
   "metadata": {},
   "source": [
    "\n",
    "## Fukushima Accident Sequence\n",
    "\n",
    "- The Great East Japan Earthquake occurred on 11 March 2011\n",
    "  - 9.0 magnitude earthquake\n",
    "  - resulting tsunami struck coastal Japan, many waves higher than 10m\n",
    "  - More than 15 000 people were killed \n",
    "  - over 6000 injured \n",
    "  - approximately 2500 people still reported to be missing\n",
    "\n",
    "![iaea_dir_gen_rep_wave_heights.png](./iaea_dir_gen_rep_wave_heights.png)\n",
    "\n",
    "![https://upload.wikimedia.org/wikipedia/commons/thumb/3/39/Fukushima_I_Nuclear_Powerplant_site_close-up_%28wotext%29.PNG/640px-Fukushima_I_Nuclear_Powerplant_site_close-up_%28wotext%29.PNG](https://upload.wikimedia.org/wikipedia/commons/thumb/3/39/Fukushima_I_Nuclear_Powerplant_site_close-up_%28wotext%29.PNG/640px-Fukushima_I_Nuclear_Powerplant_site_close-up_%28wotext%29.PNG)\n",
    "\n",
    "![https://upload.wikimedia.org/wikipedia/commons/9/96/Fukushima_I_Powerplant_%28Tsunami_hight%29.PNG](https://upload.wikimedia.org/wikipedia/commons/9/96/Fukushima_I_Powerplant_%28Tsunami_hight%29.PNG)\n",
    "\n",
    "\n",
    "![./iaea_dir_gen_rep_elevations.png](./iaea_dir_gen_rep_elevations.png)\n",
    "\n",
    "\n",
    "\n",
    "- Fukushima Daiichi (sequence from Corradiini et al, plus IAEA Director General's Report)\n",
    "  - Units 1-3 were in operation prior to the event\n",
    "  - Units 4-6 were in outage\n",
    "  - 14:46 Japan Standard Time (JST)\n",
    "  - Reactors were shut down based on detection of seismic activity\n",
    "  - Earthquake resulted in the loss of offsite power due to transmission line damage.\n",
    "  - Emergency Diesel Generators powered emergency cooling systems.\n",
    "  - An hour later, the station was struck by the tsunami. The tsunami took out all multiple sets of the Emergency Diesel generator, AC buses, DC batteries (U1) and damaged service water that provide heat rejection to the sea.\n",
    "  - Delayed cooling caused substantial fuel damage as portable power supplies and pumps were being brought on-site to re-establish cooling with fresh & seawater.\n",
    "  -  Containments leakage (U1-3) occurred as fuel cladding oxidized and hydrogen released from these processes combusted in the surrounding buildings\n",
    "  -  Spent fuel pools didn’t suffer direct damage although it was incorrectly assumed\n",
    "\n",
    "![./iaea_dir_gen_rep_timeline.png](./iaea_dir_gen_rep_timeline.png)\n",
    "\n",
    "![./iaea_dir_gen_rep_timeline.png](./iaea_dir_gen_rep_timeline2.png)\n",
    "\n",
    "![./iaea_dir_gen_rep_timeline.png](./iaea_dir_gen_rep_timeline3.png)\n",
    "\n",
    "![./iaea_dir_gen_rep_timeline.png](./iaea_dir_gen_rep_timeline4.png)\n",
    "\n",
    "> As a reference, the global pre-accident deposition of 137 Cs as of 1970 is estimated at 290 ± 30 PBq and the typical (background) level of 137 Cs in the North Pacific Ocean was approximately 69 PBq [187, 188]. -- IAEA Dir. Gen. Rep.\n",
    "\n",
    "### Final Task: Google Images of \"Fukushima Nuclear Disaster\"\n",
    "\n",
    "What comes up? What is that? Is that a reactor on fire? \n"
   ]
  },
  {
   "cell_type": "markdown",
   "metadata": {
    "collapsed": true
   },
   "source": [
    "## Friday: Calculations"
   ]
  },
  {
   "cell_type": "markdown",
   "metadata": {
    "collapsed": true
   },
   "source": [
    "## 131I\n"
   ]
  },
  {
   "cell_type": "markdown",
   "metadata": {},
   "source": [
    "## 134Cs\n"
   ]
  },
  {
   "cell_type": "markdown",
   "metadata": {},
   "source": [
    "## 137 Cs\n"
   ]
  },
  {
   "cell_type": "code",
   "execution_count": null,
   "metadata": {
    "collapsed": true
   },
   "outputs": [],
   "source": []
  }
 ],
 "metadata": {
  "anaconda-cloud": {},
  "kernelspec": {
   "display_name": "Python [Root]",
   "language": "python",
   "name": "Python [Root]"
  },
  "language_info": {
   "codemirror_mode": {
    "name": "ipython",
    "version": 3
   },
   "file_extension": ".py",
   "mimetype": "text/x-python",
   "name": "python",
   "nbconvert_exporter": "python",
   "pygments_lexer": "ipython3",
   "version": "3.5.2"
  }
 },
 "nbformat": 4,
 "nbformat_minor": 0
}

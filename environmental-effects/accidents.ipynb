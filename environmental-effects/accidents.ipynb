{
 "cells": [
  {
   "cell_type": "markdown",
   "metadata": {},
   "source": [
    "## Nuclear Environmental Incidents\n",
    "\n",
    "## Learning Objectives\n",
    "\n",
    "- Recognize the history of nuclear related environmental incidents.\n",
    "- Understand the scope and magnitude of other environmental accidents.\n",
    "- Compare the relative magnitudes of accidents at Chernobyl, TMI, and Fukushima.\n",
    "- Understand the relationship between stress and death.\n",
    "- Recall decay chains and the population equation.\n",
    "- List key isotopes of concern and their biological impacts.\n",
    "- Understand the timeline of events at Fukushima.\n",
    "- Apply your understanding of decay and the population equation to decay and in-growth of radionuclide contaminants from a source term.\n"
   ]
  },
  {
   "cell_type": "markdown",
   "metadata": {},
   "source": [
    "## Accident Sequence\n",
    "\n",
    "- The Great East Japan Earthquake occurred on 11 March 2011\n",
    "- 9.0 magnitude earthquake\n",
    "- resulting tsunami struck coastal Japan, many waves higher than 10m\n",
    "- More than 15 000 people were killed \n",
    "- over 6000 injured \n",
    "- approximately 2500 people still reported to be missing\n",
    "\n",
    "- Units 1-3 were in operation prior to the event\n",
    "- Units 4-6 were in outage\n",
    "- 14:46 Japan Standard Time (JST)\n",
    "- Reactors were shut down based on detection of seismic activity\n",
    "- Earthquake resulted in the loss of offsite power due to transmission line damage.\n",
    "- Emergency Diesel Generators powered emergency cooling systems.\n",
    "- An hour later, the station was struck by the tsunami. The tsunami took out all multiple sets of the Emergency Diesel generator, AC buses, DC batteries (U1) and damaged service water that provide heat rejection to the sea.\n",
    "- Delayed cooling caused substantial fuel damage as portable power supplies and pumps were being brought on-site to re-establish cooling with fresh & seawater.\n",
    "-  Containments leakage (U1-3) occurred as fuel cladding oxidized and hydrogen released from these processes combusted in the surrounding buildings\n",
    "-  Spent fuel pools didn’t suffer direct damage although it was incorrectly assumed"
   ]
  },
  {
   "cell_type": "code",
   "execution_count": null,
   "metadata": {
    "collapsed": true
   },
   "outputs": [],
   "source": []
  },
  {
   "cell_type": "code",
   "execution_count": null,
   "metadata": {
    "collapsed": true
   },
   "outputs": [],
   "source": []
  }
 ],
 "metadata": {
  "kernelspec": {
   "display_name": "Python 3",
   "language": "python",
   "name": "python3"
  },
  "language_info": {
   "codemirror_mode": {
    "name": "ipython",
    "version": 3
   },
   "file_extension": ".py",
   "mimetype": "text/x-python",
   "name": "python",
   "nbconvert_exporter": "python",
   "pygments_lexer": "ipython3",
   "version": "3.5.2"
  }
 },
 "nbformat": 4,
 "nbformat_minor": 0
}

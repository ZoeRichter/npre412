{
 "cells": [
  {
   "cell_type": "markdown",
   "metadata": {},
   "source": [
    "# Environmental Effects\n",
    "\n",
    "As we have studied the various steps of the nuclear fuel cycle, we have mentioned the environmental consequences of each.\n",
    "\n",
    "## Learning Objectives\n",
    "\n",
    "- Recognize agencies with authority over environmental impacts in the nuclear fuel cycle\n",
    "- Name stakeholders in nuclear fuel cycle environmental impacts\n",
    "- List the types of environmental impacts involved in the nuclear fuel cycle\n",
    "- Match the steps of the fuel cycle with the environmental impacts for which they are responsible\n",
    "- Calculate Energy Return on Investment\n",
    "- Calculate the carbon emissions of various activities\n",
    "- Explain the relationship between emissions and planetary albedo\n"
   ]
  },
  {
   "cell_type": "markdown",
   "metadata": {
    "collapsed": false
   },
   "source": [
    "## Energy Return on Investment\n",
    "\n",
    "\\begin{align}\n",
    "EROI =\\frac{\\mbox{energy generated}}{\\mbox{energy required to generate that energy}}\n",
    "\\end{align}\n",
    "\n"
   ]
  },
  {
   "cell_type": "code",
   "execution_count": 3,
   "metadata": {
    "collapsed": false
   },
   "outputs": [
    {
     "data": {
      "text/html": [
       "\n",
       "        <iframe\n",
       "            width=\"100%\"\n",
       "            height=\"700\"\n",
       "            src=\"https://embed.polleverywhere.com/free_text_polls/n8QhU2s2gia0Qu6?controls=none&short_poll=true?frameBorder=0\"\n",
       "            frameborder=\"0\"\n",
       "            allowfullscreen\n",
       "        ></iframe>\n",
       "        "
      ],
      "text/plain": [
       "<IPython.lib.display.IFrame at 0x104400a20>"
      ]
     },
     "execution_count": 3,
     "metadata": {},
     "output_type": "execute_result"
    }
   ],
   "source": [
    "from IPython.display import IFrame\n",
    "IFrame(src=\"https://embed.polleverywhere.com/free_text_polls/n8QhU2s2gia0Qu6?controls=none&short_poll=true\", width=\"100%\", height=\"700\", frameBorder=\"0\")"
   ]
  },
  {
   "cell_type": "markdown",
   "metadata": {},
   "source": [
    "## Carbon Emissions"
   ]
  },
  {
   "cell_type": "markdown",
   "metadata": {},
   "source": [
    "## Carbon Return on Investment\n",
    "Combining these two concepts, we get Carbon Return on Investment.\n",
    "\n"
   ]
  },
  {
   "cell_type": "markdown",
   "metadata": {},
   "source": [
    "## Wrap-up\n",
    "\n",
    "- \n",
    "- \n",
    "- \n",
    "- "
   ]
  },
  {
   "cell_type": "markdown",
   "metadata": {},
   "source": [
    "## References\n",
    "\n",
    "This section was developed to complement pages YY-ZZ of [1]. \n",
    "\n",
    "[1] N. Tsoulfanidis, The Nuclear Fuel Cycle. La Grange Park, Illinois, USA: American Nuclear Society, 2013.\n"
   ]
  },
  {
   "cell_type": "code",
   "execution_count": null,
   "metadata": {
    "collapsed": true
   },
   "outputs": [],
   "source": []
  }
 ],
 "metadata": {
  "kernelspec": {
   "display_name": "Python 3",
   "language": "python",
   "name": "python3"
  },
  "language_info": {
   "codemirror_mode": {
    "name": "ipython",
    "version": 3
   },
   "file_extension": ".py",
   "mimetype": "text/x-python",
   "name": "python",
   "nbconvert_exporter": "python",
   "pygments_lexer": "ipython3",
   "version": "3.5.2"
  }
 },
 "nbformat": 4,
 "nbformat_minor": 0
}

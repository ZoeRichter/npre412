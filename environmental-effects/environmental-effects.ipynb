{
 "cells": [
  {
   "cell_type": "markdown",
   "metadata": {},
   "source": [
    "# Environmental Effects\n",
    "\n",
    "As we have studied the various steps of the nuclear fuel cycle, we have mentioned the environmental consequences of each.\n",
    "\n",
    "## Learning Objectives\n",
    "\n",
    "- Recognize agencies with authority over environmental impacts in the nuclear fuel cycle\n",
    "- Name stakeholders in nuclear fuel cycle environmental impacts\n",
    "- List the types of environmental impacts involved in the nuclear fuel cycle\n",
    "- Match the steps of the fuel cycle with the environmental impacts for which they are responsible\n",
    "- Calculate Energy Return on Investment\n",
    "- Calculate the carbon emissions of various activities\n",
    "- Explain the relationship between emissions and planetary albedo\n"
   ]
  },
  {
   "cell_type": "markdown",
   "metadata": {
    "collapsed": false
   },
   "source": [
    "## Energy Return on Investment\n",
    "\n",
    "\\begin{align}\n",
    "EROI =\\frac{\\mbox{energy generated}}{\\mbox{energy required to generate that energy}}\n",
    "\\end{align}\n",
    "\n"
   ]
  },
  {
   "cell_type": "code",
   "execution_count": 1,
   "metadata": {
    "collapsed": false
   },
   "outputs": [
    {
     "data": {
      "text/html": [
       "\n",
       "        <iframe\n",
       "            width=\"100%\"\n",
       "            height=\"700\"\n",
       "            src=\"https://embed.polleverywhere.com/free_text_polls/n8QhU2s2gia0Qu6?controls=none&short_poll=true?frameBorder=0\"\n",
       "            frameborder=\"0\"\n",
       "            allowfullscreen\n",
       "        ></iframe>\n",
       "        "
      ],
      "text/plain": [
       "<IPython.lib.display.IFrame at 0x7fb8e0060240>"
      ]
     },
     "execution_count": 1,
     "metadata": {},
     "output_type": "execute_result"
    }
   ],
   "source": [
    "from IPython.display import IFrame\n",
    "IFrame(src=\"https://embed.polleverywhere.com/free_text_polls/n8QhU2s2gia0Qu6?controls=none&short_poll=true\", width=\"100%\", height=\"700\", frameBorder=\"0\")"
   ]
  },
  {
   "cell_type": "markdown",
   "metadata": {},
   "source": [
    "Very cool whitepaper on nuclear power plant material use:\n",
    "    [http://fhr.nuc.berkeley.edu/wp-content/uploads/2014/10/05-001-A_Material_input.pdf](http://fhr.nuc.berkeley.edu/wp-content/uploads/2014/10/05-001-A_Material_input.pdf)\n",
    "    \n",
    "> In nuclear energy systems, the major construction inputs are steel and concrete, which comprise\n",
    "over 95% of the material energy inputs. The evaluation of construction material inputs is central to lifecycle\n",
    "assessments for environmental impacts for nuclear and other non-fossil energy systems, and can\n",
    "provide a useful, if only qualitative, plausibility check for economics claims. This paper compares steel\n",
    "and concrete inputs for several nuclear power plants: a 1970's Generation II PWR and BWR, the\n",
    "Generation III EPR and ABWR, the Generation III+ ESBWR, and the Generation IV GT-MHR, PBMR\n",
    "(vertical), and AHTR. The steel and concrete input estimates for the Generation III, III+, and IV\n",
    "systems are based on available arrangement drawings, and on scaling laws, and thus are approximate.\n",
    "However, they show that the evolutionary Generation III plants—EPR and ABWR—use approximately\n",
    "25% more steel and 70% more concrete than 1970’s LWRs. This may explain, in part, the relatively\n",
    "large capital costs that have been observed for these plants. In contrast, the passive Generation III+\n",
    "LWRs that have been selected for new construction in the United States by Nustart—ESBWR and AP-\n",
    "1000—achieve substantial reductions in steel and concrete inputs. For example, analysis presented\n",
    "here suggests that the ESBWR uses 73% of the steel, and 50% of the concrete required to construct an\n",
    "ABWR. This suggests that new Generation III+ nuclear power construction in the U.S. will have\n",
    "substantially lower capital costs than was found with Generation III LWRs. This study also shows that\n",
    "the advanced gas-Brayton cycle technology that will be demonstrated by the Next Generation Nuclear\n",
    "Plant (NGNP) has the potential to achieve comparable material inputs to LWRs at much smaller unit\n",
    "capacities, and when extrapolated to larger reactors, to further reductions in steel and concrete input"
   ]
  },
  {
   "cell_type": "markdown",
   "metadata": {},
   "source": [
    "## Carbon Emissions\n",
    "\n",
    "![carbon_eia](./carbon_eia.pdf)"
   ]
  },
  {
   "cell_type": "markdown",
   "metadata": {},
   "source": [
    "## Carbon Return on Investment\n",
    "Combining these two concepts, we get Carbon Return on Investment.\n",
    "\n"
   ]
  },
  {
   "cell_type": "markdown",
   "metadata": {},
   "source": [
    "## Wrap-up\n",
    "\n",
    "- \n",
    "- \n",
    "- \n",
    "- "
   ]
  },
  {
   "cell_type": "markdown",
   "metadata": {},
   "source": [
    "## References\n",
    "\n",
    "This section was developed to complement pages YY-ZZ of [1]. \n",
    "\n",
    "[1] N. Tsoulfanidis, The Nuclear Fuel Cycle. La Grange Park, Illinois, USA: American Nuclear Society, 2013.\n"
   ]
  },
  {
   "cell_type": "code",
   "execution_count": null,
   "metadata": {
    "collapsed": true
   },
   "outputs": [],
   "source": []
  }
 ],
 "metadata": {
  "kernelspec": {
   "display_name": "Python [Root]",
   "language": "python",
   "name": "Python [Root]"
  },
  "language_info": {
   "codemirror_mode": {
    "name": "ipython",
    "version": 3
   },
   "file_extension": ".py",
   "mimetype": "text/x-python",
   "name": "python",
   "nbconvert_exporter": "python",
   "pygments_lexer": "ipython3",
   "version": "3.5.2"
  }
 },
 "nbformat": 4,
 "nbformat_minor": 0
}

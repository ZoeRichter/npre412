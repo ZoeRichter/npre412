{
 "cells": [
  {
   "cell_type": "code",
   "execution_count": 1,
   "metadata": {
    "collapsed": false
   },
   "outputs": [],
   "source": [
    "%matplotlib inline\n",
    "\n",
    "import matplotlib\n",
    "import numpy as np\n",
    "import matplotlib.pyplot as plt\n",
    "\n",
    "plt.rcParams[\"figure.figsize\"] = (12, 9)\n",
    "plt.rcParams[\"font.size\"] = 18"
   ]
  },
  {
   "cell_type": "markdown",
   "metadata": {},
   "source": [
    "# Reprocessing\n",
    "\n",
    "Reprocessing recovers uranium and plutonium isotopes from spent nuclear fuel (SNF). In this step, some high level waste (HLW) streams may be separated in preparation for special treatment before disposal.\n",
    "\n",
    "## Learning Objectives\n",
    "\n",
    "At the end of this lesson you should be equipped to:\n",
    "\n",
    "- Understand the motivations for reprocessing.\n",
    "- Assess the pros and cons of various reprocessing strategies. \n",
    "- Recognize the actinides and the motivation to manage them.\n",
    "- Explain the differences in process between major reprocessing strategies.\n",
    "- Order the steps of a typical PUREX process. \n",
    "- Recall the history of nuclear fuel reprocessing.\n",
    "- Recognize the safety challenges encountered historically in nuclear fuel repo\n",
    "- Explain the relationship between reprocessing and nonproliferation.\n",
    "- Calculate the impact of reprocessing and recycling on fuel utilization.\n",
    "- Calculate the impact of reprocessing and recycling on fuel cycle costs.\n"
   ]
  },
  {
   "cell_type": "markdown",
   "metadata": {
    "collapsed": true
   },
   "source": [
    "## The Closed Nuclear Fuel Cycle\n",
    "\n",
    "\n",
    "To recycle SNF (or, if you prefer, UNF) one must first chemically \"reprocess\" the nuclear fuel that emerges from nuclear reactors.\n",
    "\n",
    "![http://nucleotidings.com/sites/default/files/styles/large/public/closing_nuclear_fuel%20cycle.jpg?itok=hd9lKAfp](http://nucleotidings.com/sites/default/files/styles/large/public/closing_nuclear_fuel%20cycle.jpg?itok=hd9lKAfp)"
   ]
  },
  {
   "cell_type": "markdown",
   "metadata": {},
   "source": [
    "## Constituents of Used Nuclear Fuel\n",
    "\n"
   ]
  },
  {
   "cell_type": "markdown",
   "metadata": {},
   "source": [
    "## The Atomic Man\n",
    "\n",
    "Aug. 30, 1976. Harold McCluskey. Hanford. Americium recovery facility. \n",
    "\n",
    "![https://i.kinja-img.com/gawker-media/image/upload/s--HWhwZgdY--/c_fit,fl_progressive,q_80,w_636/rnzxjd9pnrb0ve31lfsd.jpg](https://i.kinja-img.com/gawker-media/image/upload/s--HWhwZgdY--/c_fit,fl_progressive,q_80,w_636/rnzxjd9pnrb0ve31lfsd.jpg)\n",
    "\n",
    "![http://newsinfo.inquirer.net/files/2014/07/Atomic-Man.jpg](http://newsinfo.inquirer.net/files/2014/07/Atomic-Man.jpg)\n",
    "\n",
    "![https://i.kinja-img.com/gawker-media/image/upload/s--iTkxhSk4--/hkv44n4dqok01osmxpry.jpg](https://i.kinja-img.com/gawker-media/image/upload/s--iTkxhSk4--/hkv44n4dqok01osmxpry.jpg)\n",
    "\n",
    "![http://static.seattletimes.com/wp-content/uploads/2014/07/2023979052.jpg](http://static.seattletimes.com/wp-content/uploads/2014/07/2023979052.jpg)\n",
    "\n",
    "![http://blogs-images.forbes.com/jamesconca/files/2014/07/AtomicManLab.jpg](http://blogs-images.forbes.com/jamesconca/files/2014/07/AtomicManLab.jpg)\n",
    "\n",
    "Additional notes on the medical side of this accident: [https://www.dademoeller.com/dademoellerblog/wp-content/uploads/2014/08/2014-08-Americium-Incident-Carbaugh.pdf](https://www.dademoeller.com/dademoellerblog/wp-content/uploads/2014/08/2014-08-Americium-Incident-Carbaugh.pdf)"
   ]
  },
  {
   "cell_type": "markdown",
   "metadata": {},
   "source": [
    "## Rocky Flats\n",
    "\n",
    "\n",
    "September 11, 1957, near Golden, Colorado.\n",
    " \n",
    "![http://www.campfiredude.com/i/tinder_kindling_fuel.jpg](http://www.campfiredude.com/i/tinder_kindling_fuel.jpg)\n",
    "\n",
    "Uranium and plutonium are pyrophoric.\n"
   ]
  },
  {
   "cell_type": "markdown",
   "metadata": {},
   "source": [
    "## The First Tokai Mura Accident\n",
    "\n",
    "\n",
    "> On the night of Tuesday 11 March 1997, a small explosion occurred in a nuclear reprocessing plant of the Dōnen. Windows were smashed and smoke escaped to the atmosphere. On Thursday, workers repaired thirty broken windows and three doors with duct tape. They had been damaged during the blast. At least 37 workers were exposed to elevated levels of radiation during the incident.\n",
    "\n"
   ]
  },
  {
   "cell_type": "markdown",
   "metadata": {},
   "source": [
    "## The Second Tokai Mura Accident\n",
    "\n"
   ]
  }
 ],
 "metadata": {
  "anaconda-cloud": {},
  "kernelspec": {
   "display_name": "Python [Root]",
   "language": "python",
   "name": "Python [Root]"
  },
  "language_info": {
   "codemirror_mode": {
    "name": "ipython",
    "version": 3
   },
   "file_extension": ".py",
   "mimetype": "text/x-python",
   "name": "python",
   "nbconvert_exporter": "python",
   "pygments_lexer": "ipython3",
   "version": "3.5.2"
  }
 },
 "nbformat": 4,
 "nbformat_minor": 0
}

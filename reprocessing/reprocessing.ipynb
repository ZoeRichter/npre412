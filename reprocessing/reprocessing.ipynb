{
 "cells": [
  {
   "cell_type": "code",
   "execution_count": 1,
   "metadata": {
    "collapsed": false
   },
   "outputs": [],
   "source": [
    "%matplotlib inline\n",
    "\n",
    "import matplotlib\n",
    "import numpy as np\n",
    "import matplotlib.pyplot as plt\n",
    "\n",
    "plt.rcParams[\"figure.figsize\"] = (12, 9)\n",
    "plt.rcParams[\"font.size\"] = 18"
   ]
  },
  {
   "cell_type": "markdown",
   "metadata": {},
   "source": [
    "# Reprocessing\n",
    "\n",
    "Reprocessing recovers uranium and plutonium isotopes from spent nuclear fuel (SNF). In this step, some high level waste (HLW) streams may be separated in preparation for special treatment before disposal.\n",
    "\n",
    "## Learning Objectives\n",
    "\n",
    "At the end of this lesson you should be equipped to:\n",
    "\n",
    "- Understand the motivations for reprocessing.\n",
    "- Assess the pros and cons of various reprocessing strategies. \n",
    "- Recognize the actinides and the motivation to manage them.\n",
    "- Explain the differences in process between major reprocessing strategies.\n",
    "- Order the steps of a typical PUREX process. \n",
    "- Recall the history of nuclear fuel reprocessing.\n",
    "- Recognize the safety challenges encountered historically in nuclear fuel repo\n",
    "- Explain the relationship between reprocessing and nonproliferation.\n",
    "- Calculate the impact of reprocessing and recycling on fuel utilization.\n",
    "- Calculate the impact of reprocessing and recycling on fuel cycle costs.\n"
   ]
  },
  {
   "cell_type": "markdown",
   "metadata": {},
   "source": [
    "## Used Nuclear Fuel and The Actinides\n",
    "\n",
    "\n",
    "![./wigeland_decay_heat.png](./wigeland_decay_heat.png)\n",
    "\n",
    "\n",
    "### What are actinides?\n",
    "\n",
    "Actinides are all elements that are heavier than Actinium (Z=89). We typically care about a particular set of actinides called _transuranics_ or TRU. These are all elements heavier than Uranium (Z=92). Particularly:\n",
    "\n",
    "- Np (Z=93)\n",
    "- Pu (Z=94)\n",
    "- Am (Z=95)\n",
    "- Cm (Z=96)\n",
    "\n",
    "\n",
    "### Management of Actinides\n",
    "\n",
    "There are three primary reasons to manage actinides. \n",
    "\n",
    "- Repository benefit: The decay heat burden of the actinides is a challenge for geologic disposal and increases repository management horizon.\n",
    "- Energy Recovery: There is energy stored in many of these actinides, as some are fissile or have fissile daughters.\n",
    "- Proliferation Resistence: Actinides can be used to construct a nuclear weapon (specifically, Pu). \n",
    "\n",
    "### Repository Benefit\n",
    "\n",
    "Let's look closely at repository benefit in the case of Yucca Mountain. The following plots are from Wigeland et al. [http://www.wmsym.org/archives/2004/pdfs/4333.pdf](http://www.wmsym.org/archives/2004/pdfs/4333.pdf).\n",
    "\n",
    "\n",
    "![./wigeland_decay_heat.png](./wigeland_decay_heat.png)\n",
    "![./wigeland_ym_transient_pwr.png](./wigeland_ym_transient_pwr.png)\n",
    "![./wigeland_ym_transient_am_pu_removed.png](./wigeland_ym_transient_am_pu_removed.png)\n",
    "![./wigeland_ym_transient_am_pu_cs_sr_removed.png](./wigeland_ym_transient_am_pu_cs_sr_removed.png)\n",
    "\n",
    "\n",
    "**Discussion: If reduced SNF heat allows increased fuel loading, how does that impact the cost of the repository?**\n",
    "\n",
    "![https://upload.wikimedia.org/wikipedia/commons/0/00/Yucca_proposed_design.jpg](https://upload.wikimedia.org/wikipedia/commons/0/00/Yucca_proposed_design.jpg)\n",
    "\n",
    "\n",
    "**Vote: Do you think the cost of recycling is balanced by the savings in repository cost?**\n",
    "\n"
   ]
  },
  {
   "cell_type": "markdown",
   "metadata": {
    "collapsed": true
   },
   "source": [
    "## Closed and Open Nuclear Fuel Cycles\n",
    "\n",
    "\n",
    "\n",
    "\n",
    "To recycle SNF (or, if you prefer, UNF) one must first chemically \"reprocess\" the nuclear fuel that emerges from nuclear reactors.\n",
    "\n",
    "![http://nucleotidings.com/sites/default/files/styles/large/public/closing_nuclear_fuel%20cycle.jpg?itok=hd9lKAfp](http://nucleotidings.com/sites/default/files/styles/large/public/closing_nuclear_fuel%20cycle.jpg?itok=hd9lKAfp)\n",
    "\n",
    "\n",
    "### Compare Once Through to U-Pu Recycling\n",
    "\n",
    "![./corradini_reproc.png](./corradini_reproc.png)\n",
    "\n",
    "<center> This figure from Michael Corradini, 2006</center>\n",
    "\n",
    "### Compare to Advanced LWR Fuel Cycles\n",
    "\n",
    "![./corradini_adv_lwr.png](./corradini_adv_lwr.png)\n"
   ]
  },
  {
   "cell_type": "markdown",
   "metadata": {},
   "source": [
    "## The Atomic Man\n",
    "\n",
    "Aug. 30, 1976. Harold McCluskey. Hanford. Americium recovery facility. \n",
    "\n",
    "![https://i.kinja-img.com/gawker-media/image/upload/s--HWhwZgdY--/c_fit,fl_progressive,q_80,w_636/rnzxjd9pnrb0ve31lfsd.jpg](https://i.kinja-img.com/gawker-media/image/upload/s--HWhwZgdY--/c_fit,fl_progressive,q_80,w_636/rnzxjd9pnrb0ve31lfsd.jpg)\n",
    "\n",
    "![http://newsinfo.inquirer.net/files/2014/07/Atomic-Man.jpg](http://newsinfo.inquirer.net/files/2014/07/Atomic-Man.jpg)\n",
    "\n",
    "![https://i.kinja-img.com/gawker-media/image/upload/s--iTkxhSk4--/hkv44n4dqok01osmxpry.jpg](https://i.kinja-img.com/gawker-media/image/upload/s--iTkxhSk4--/hkv44n4dqok01osmxpry.jpg)\n",
    "\n",
    "![http://static.seattletimes.com/wp-content/uploads/2014/07/2023979052.jpg](http://static.seattletimes.com/wp-content/uploads/2014/07/2023979052.jpg)\n",
    "\n",
    "![http://blogs-images.forbes.com/jamesconca/files/2014/07/AtomicManLab.jpg](http://blogs-images.forbes.com/jamesconca/files/2014/07/AtomicManLab.jpg)\n",
    "\n",
    "Additional notes on the medical side of this accident: [https://www.dademoeller.com/dademoellerblog/wp-content/uploads/2014/08/2014-08-Americium-Incident-Carbaugh.pdf](https://www.dademoeller.com/dademoellerblog/wp-content/uploads/2014/08/2014-08-Americium-Incident-Carbaugh.pdf)"
   ]
  },
  {
   "cell_type": "markdown",
   "metadata": {},
   "source": [
    "## Rocky Flats\n",
    "\n",
    "\n",
    "September 11, 1957, near Golden, Colorado.\n",
    "\n",
    "![https://upload.wikimedia.org/wikipedia/commons/d/dc/Worker_holding_a_plutonium_button.jpg](https://upload.wikimedia.org/wikipedia/commons/d/dc/Worker_holding_a_plutonium_button.jpg)\n",
    " \n",
    "![http://www.campfiredude.com/i/tinder_kindling_fuel.jpg](http://www.campfiredude.com/i/tinder_kindling_fuel.jpg)\n",
    "\n",
    "Uranium and plutonium are pyrophoric.\n"
   ]
  },
  {
   "cell_type": "markdown",
   "metadata": {},
   "source": [
    "## The First Tokai Mura Accident\n",
    "\n",
    "\n",
    "> On the night of Tuesday 11 March 1997, a small explosion occurred in a nuclear reprocessing plant of the Dōnen. Windows were smashed and smoke escaped to the atmosphere. On Thursday, workers repaired thirty broken windows and three doors with duct tape. They had been damaged during the blast. At least 37 workers were exposed to elevated levels of radiation during the incident.\n",
    "\n"
   ]
  },
  {
   "cell_type": "markdown",
   "metadata": {},
   "source": [
    "## PUREX\n",
    "\n",
    "Next time: \n",
    "\n",
    "![http://www.jnfl.co.jp/en/business/reprocessing/image/flow.png](http://www.jnfl.co.jp/en/business/reprocessing/image/flow.png)"
   ]
  },
  {
   "cell_type": "code",
   "execution_count": null,
   "metadata": {
    "collapsed": true
   },
   "outputs": [],
   "source": []
  }
 ],
 "metadata": {
  "anaconda-cloud": {},
  "kernelspec": {
   "display_name": "Python [Root]",
   "language": "python",
   "name": "Python [Root]"
  },
  "language_info": {
   "codemirror_mode": {
    "name": "ipython",
    "version": 3
   },
   "file_extension": ".py",
   "mimetype": "text/x-python",
   "name": "python",
   "nbconvert_exporter": "python",
   "pygments_lexer": "ipython3",
   "version": "3.5.2"
  }
 },
 "nbformat": 4,
 "nbformat_minor": 0
}

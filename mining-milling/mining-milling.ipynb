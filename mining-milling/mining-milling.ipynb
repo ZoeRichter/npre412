{
 "cells": [
  {
   "cell_type": "code",
   "execution_count": 1,
   "metadata": {
    "collapsed": false
   },
   "outputs": [],
   "source": [
    "%matplotlib notebook\n",
    "%matplotlib inline\n",
    "import math\n",
    "import matplotlib.pyplot as plt\n"
   ]
  },
  {
   "cell_type": "markdown",
   "metadata": {},
   "source": [
    "# Nuclear Fuel Resources, Mining, and Milling\n",
    "\n",
    "**Mining:** Nuclear fuel starts as natural uranium or thorium deposits in the earth. This material can be mined from the ground or even extracted from the sea. \n",
    "\n",
    "**Milling:** and other chemical and physical processes then follow in order to produce a uniform, concentrated material. In the case of Uranium, the product is called 'yellowcake'.\n",
    "\n",
    "## Learning Objectives\n",
    "\n",
    "This lesson should equip you to:\n",
    "\n",
    "- Describe the extent, geography, and characteristics of uranium and thorium resources.\n",
    "- Understand various methods of prospecting.\n",
    "- Differentiate various methods for uranium extraction.\n",
    "- Model the economic relationship between uranium resources and extraction price.\n",
    "- Apply decay energy calculations to the Radon decay chain.\n",
    "- Evaluate the radiation danger associated with uranium mining. \n",
    "- Calculate radition exposure for mine workers.\n",
    "- Understand the process in milling operations.\n",
    "- Recognize the chemical form of yellowcake and its role in the fuel cycle.\n",
    "\n"
   ]
  },
  {
   "cell_type": "markdown",
   "metadata": {},
   "source": [
    "# Uranium Resources\n",
    "\n",
    "There are important distinctions between production, supply, known reserves, and estimated resources. The book makes the distinction, further, among  \"probable,\" \"possible,\" and \"speculative\" resources. \n",
    "\n",
    "\n",
    "\n",
    "## Geography of Uranium Resources\n",
    "\n",
    "![https://upload.wikimedia.org/wikipedia/commons/1/1a/Uranium_production_world.PNG](https://upload.wikimedia.org/wikipedia/commons/1/1a/Uranium_production_world.PNG)\n",
    "\n",
    "\n",
    "\n",
    "| Mine | Country | Main owner | Type | Production (tU) | % of world |\n",
    "| ------------ |:-------------:|:-------------:|:-------------:|:-------------:|:-------------:|\n",
    "| McArthur River | Canada | Cameco | underground | 7356 | 13 |\n",
    "| Tortkuduk & Moinkum | Kazakhstan | Katco JV/Areva, Kazatomprom | ISL | 4322 | 8 |\n",
    "| Olympic Dam | Australia | BHP Billiton | by-product/underground | 3351 | 6 |\n",
    "|  SOMAIR | Niger | Areva | open pit | 2331 | 5 |\n",
    "| Budenovskoye 2 | Kazakhstan | Karatau JV/Kazatomprom, Uranium One | ISL | 2084 | 4 |\n",
    "| South Inkai | Kazakhstan | Betpak Dala JV/Uranium One, Kazatomprom | ISL | 2002 | 4 |\n",
    "| Priagunsky | Russia | ARMZ | underground | 1970 | 4 |\n",
    "| Langer Heinrich | Namibia | Paladin | open pit | 1947 | 4 |\n",
    "| Inkai | Kazakhstan | Inkai JV/Cameco, Kazatomprom | ISL | 1922 | 3 |\n",
    "| Central Mynkuduk | Kazakhstan | JSC Ken Dala, Kazatomprom | ISL | 1790 | 3 |\n",
    "| Top 10 total |   | | | 29,075 | 54% |\n",
    "<center>[Source: WNA](http://www.world-nuclear.org/information-library/nuclear-fuel-cycle/mining-of-uranium/uranium-mining-overview.aspx)</center>\n",
    "\n",
    "## Geology of Uranium Resources\n",
    "\n",
    "\n",
    "### Grades of Uranium Ore\n",
    "Uranium deposits are found in different \"grades\" of ore. The \"grade\" is the mass percentage of the rock that is made up of elemental uranium. \n",
    "\n",
    "| Ore Grade        | PPM  |\n",
    "| ------------- |:-------------:|\n",
    "| Very high-grade ore (Canada) – 20% U\t| 200,000 ppm U\n",
    "| High-grade ore – 2% U,\t| 20,000 ppm U |\n",
    "| Low-grade ore – 0.1% U, |\t1,000 ppm U |\n",
    "| Very low-grade ore* (Namibia) – 0.01% U\t| 100 ppm U |\n",
    "| Granite\t| 3-5 ppm U |\n",
    "| Sedimentary rock\t| 2-3 ppm U |\n",
    "| Earth's continental crust (av)\t| 2.8 ppm U |\n",
    "| Seawater |\t0.003 ppm U |\n",
    "<center>[Source: WNA](http://www.world-nuclear.org/information-library/nuclear-fuel-cycle/uranium-resources/supply-of-uranium.aspx)</center>"
   ]
  },
  {
   "cell_type": "code",
   "execution_count": 25,
   "metadata": {
    "collapsed": false
   },
   "outputs": [],
   "source": [
    "def U(U_0, z):\n",
    "    \"\"\"Uranium concentration as a function of depth.\n",
    "    :param U_0: concentration at surface in ppm\n",
    "    :param z: depth\n",
    "    :return c: concentration at depth z\"\"\"\n",
    "    c = U_0*math.exp(-z/6300)\n",
    "    return c"
   ]
  },
  {
   "cell_type": "code",
   "execution_count": 26,
   "metadata": {
    "collapsed": false
   },
   "outputs": [],
   "source": [
    "b = range(1, 1000, 5)\n",
    "to_plot = [U(2.8, z) for z in b]"
   ]
  },
  {
   "cell_type": "code",
   "execution_count": 30,
   "metadata": {
    "collapsed": false,
    "scrolled": true
   },
   "outputs": [
    {
     "data": {
      "text/plain": [
       "<matplotlib.text.Text at 0x10cf976d8>"
      ]
     },
     "execution_count": 30,
     "metadata": {},
     "output_type": "execute_result"
    },
    {
     "data": {
      "image/png": "[encoded data removed]",
      "text/plain": [
       "<matplotlib.figure.Figure at 0x10d0414e0>"
      ]
     },
     "metadata": {},
     "output_type": "display_data"
    }
   ],
   "source": [
    "plt.plot(to_plot)\n",
    "plt.title('Uranium Concentration as a Function of Depth')\n",
    "plt.ylabel('Uranium Concentration (ppm)')\n",
    "plt.xlabel('Depth [m]')"
   ]
  },
  {
   "cell_type": "markdown",
   "metadata": {},
   "source": [
    "## Extent of Uranium Resources\n",
    "\n",
    "Uranium production was at one point far ahead of demand. \n",
    "Recently, mining follows demand a bit more closely.\n",
    "\n",
    "![http://www.world-nuclear.org/uploadedImages/org/info/world_uranium_production_and_demand.png](http://www.world-nuclear.org/uploadedImages/org/info/world_uranium_production_and_demand.png)\n",
    "\n",
    "And, we know that there is a lot more out there.\n",
    "\n",
    "|   Nation  | tonnes U | percentage of world |\n",
    "| ------------ |:-------------:|:-------------:|\n",
    "|  Australia | 1,706,100 | 29% |\n",
    "|  Kazakhstan | 679,300 | 12% |\n",
    "|  Russia | 505,900 | 9% |\n",
    "|  Canada | 493,900 | 8% |\n",
    "|  Niger | 404,900 | 7% |\n",
    "|  Namibia | 382,800 | 6% |\n",
    "|  South Africa | 338,100 | 6% |\n",
    "|  Brazil | 276,100 | 5% |\n",
    "|  USA | 207,400 | 4% |\n",
    "|  China | 199,100 | 4% |\n",
    "|  Mongolia | 141,500 | 2% |\n",
    "|  Ukraine | 117,700 | 2% |\n",
    "|  Uzbekistan | 91,300 | 2% |\n",
    "|  Botswana | 68,800 | 1% |\n",
    "|  Tanzania | 58,500 | 1% |\n",
    "|  Jordan | 40,000 | 1% |\n",
    "|  Other | 191,500 | 3% |\n",
    "|  World total | 5,902,900 |  100% |\n",
    "<center>[Reasonably Assured Resources, Source: WNA](http://www.world-nuclear.org/information-library/nuclear-fuel-cycle/mining-of-uranium/world-uranium-mining-production.aspx)</center>"
   ]
  },
  {
   "cell_type": "markdown",
   "metadata": {
    "collapsed": true
   },
   "source": [
    "## Prospecting\n",
    "\n",
    "- Geologic Study \n",
    "\n",
    "![https://upload.wikimedia.org/wikipedia/commons/7/7d/Charles_A._Steen_%281919-2006%29_the_dat_after_his_discovery.jpg](https://upload.wikimedia.org/wikipedia/commons/7/7d/Charles_A._Steen_%281919-2006%29_the_dat_after_his_discovery.jpg)\n",
    "\n",
    "- Botanical Study\n",
    "\n",
    "![http://labs.bio.unc.edu/Peet/PEL/PGE/PGE2004/Grand%20Canyon%20pics%20047.jpg](http://labs.bio.unc.edu/Peet/PEL/PGE/PGE2004/Grand%20Canyon%20pics%20047.jpg)\n",
    "\n",
    "- Airborne Study \n",
    "\n",
    "![http://geosiamservices.com/wp-content/uploads/2015/07/Airborne02.png](http://geosiamservices.com/wp-content/uploads/2015/07/Airborne02.png)\n",
    "\n",
    "\n",
    "- Surface Study\n",
    "![https://wallaceterrycjr.files.wordpress.com/2015/09/prospecting-pic-2a.jpg?w=640](https://wallaceterrycjr.files.wordpress.com/2015/09/prospecting-pic-2a.jpg?w=640)\n",
    "\n",
    "- Well Logging\n",
    "\n",
    "\n",
    "\n",
    "![http://www.frontier-cf252.com/images/oandg-large.jpg](http://www.frontier-cf252.com/images/oandg-large.jpg)\n",
    "\n",
    "### Gamma Decay Review\n",
    "\n",
    "Radiometric measurements are typically taken from the air by a gamma ray detector.\n",
    "\n",
    "![http://geosiamservices.com/wp-content/uploads/2015/07/radiometric005.jpg](http://geosiamservices.com/wp-content/uploads/2015/07/radiometric005.jpg)\n",
    "\n",
    "\n",
    "\n",
    "\n",
    "![http://energyeducation.ca/wiki/images/4/4d/Gamma.png](http://energyeducation.ca/wiki/images/4/4d/Gamma.png)\n",
    "\n",
    "\n",
    "### Discussion: What naturally occurring elements have reasonably detectable gamma decays?\n",
    "\n",
    "\n",
    "&nbsp;\n",
    "\n",
    "\n",
    "&nbsp;\n",
    "\n"
   ]
  },
  {
   "cell_type": "markdown",
   "metadata": {},
   "source": [
    "## Open Pit Mining\n",
    "\n",
    "![http://www.abc.net.au/news/image/3673784-3x2-940x627.jpg](http://www.abc.net.au/news/image/3673784-3x2-940x627.jpg)\n",
    "\n",
    "## Underground Mining\n",
    "\n",
    "![https://upload.wikimedia.org/wikipedia/commons/5/57/UraniumMineUtah.JPG](https://upload.wikimedia.org/wikipedia/commons/5/57/UraniumMineUtah.JPG)\n",
    "<center>Mi Vida uranium mine in Moab, UT</center>\n",
    "\n",
    "### Radon\n",
    "\n",
    "![https://upload.wikimedia.org/wikipedia/commons/6/65/Decay_chain%284n%2B2%2C_Uranium_series%29.svg](https://upload.wikimedia.org/wikipedia/commons/6/65/Decay_chain%284n%2B2%2C_Uranium_series%29.svg)\n",
    "\n",
    "### Working Level\n",
    "\n",
    "The working level is a unit of measurement for radon exposure. Alpha particles from radon and its progeny (daughters) are ionizing radiation and damage the lungs, leading to lung cancer. \n",
    "\n",
    "The radon progeny in equilibrium with $100 \\frac{pCi}{L}$ radon gas at a mine would typically release approximately 130,000 MeV alpha energy in decay, so the WL was defined as:\n",
    "\n",
    "\\begin{align}\n",
    "1 WL &= 130,000\\frac{MeV}{L} \\mbox{ alpha energy from radon + daughters}\\\\\n",
    "     &= 20.8 \\frac{\\mu J}{m^3} \\mbox{ alpha energy from radon + daughters}\\\\\n",
    "\\end{align}\n",
    "\n",
    "\n",
    "The nominal working hours per month assume 40 hours per week and 4.25 weeks per month. Accordingly, the working level month (WLM) was introduced:\n",
    "\n",
    "\\begin{align}\n",
    "WLM &= \\mbox{Working Level Month}\\\\\n",
    "    &= \\mbox{1 WL exposure for 170 hours}\\\\\n",
    "1 WLM &= 170 x 20.8 = 3.54 \\frac{\\mu J h}{m^3}\\\\ \n",
    "\\end{align}\n",
    "\n",
    "Note that for conversion's sake:\n",
    "\n",
    "\\begin{align}\n",
    "17,000\\frac{pCi h}{L} &= 1 WLM\\\\\n",
    "1\\frac{pCi h}{L} &= 59 \\mu WLM\n",
    "\\end{align}"
   ]
  },
  {
   "cell_type": "code",
   "execution_count": 3,
   "metadata": {
    "collapsed": false
   },
   "outputs": [
    {
     "name": "stdout",
     "output_type": "stream",
     "text": [
      "0.027692307692307697  working level months\n"
     ]
    }
   ],
   "source": [
    "r = 300 # energy from alphas emitted by radon + progeny in mine [MeV/L] \n",
    "h = 170*12 # working hours per month\n",
    "wl = 1.3e5 # worker level in [MeV/L]\n",
    "\n",
    "print((r/wl)*(h/170), \" working level months\")"
   ]
  },
  {
   "cell_type": "markdown",
   "metadata": {},
   "source": [
    "## Energy vs. Rate of decays \n",
    "\n",
    "Radiation energy is measured in **electronvolts (eV), megaelectronvolts (MeV)** for convenience, and **Joules (J)**:\n",
    "\n",
    "\\begin{align}\n",
    "1 J &= 6.242\\times10^{12} MeV\\\\\n",
    "1 \\frac{J}{s} &= 1 W\\\\\n",
    "\\end{align}\n",
    "\n",
    "**Becquerels (Bq)** or **Curies (Ci)** measure the rate of decays from a source : \n",
    "\\begin{align}\n",
    "1 Bq &= \\frac{\\mbox{emission}}{s}\\\\\n",
    "1 Ci &= 37 GBq\\\\ \n",
    "     &= 37000 MBq\\\\\n",
    "1 Bq &= 27 pCi\\\\\n",
    "     &= 27\\times10^{-12}Ci\\\\\n",
    "\\end{align}\n",
    "\n",
    "To convert between these, one must consider the energy per emission. \n",
    "\n",
    "### Calculation of Alpha Energy\n",
    "\n",
    "Calculate the energy Q, in MeV, released during the alpha \n",
    "decay $^{ZZZ}I_i \\stackrel{\\alpha}{\\longrightarrow} {^{YYY}}I_d$:\n",
    "\n",
    "\\begin{align}\n",
    "                        m_i &= \\mbox{initial mass }[u]\\nonumber\\\\\n",
    "                        m_f &= \\mbox{final mass }[u]\\nonumber\\\\\n",
    "                            &= \\mbox{mass of daughter + mass of alpha }[u]\\nonumber\\\\\n",
    "                            &= m_d + m_{\\alpha}\\\\\n",
    "                        m_d &= \\mbox{mass of daughter}[u]\\nonumber\\\\\n",
    "                        m_{\\alpha} &= \\mbox{mass of alpha }[u]\\nonumber\\\\\n",
    "                        Q[u] &= m_ic^2 - m_fc^2\\nonumber\\\\\n",
    "\\end{align}\n",
    "\n",
    "\n",
    "This equation will be used for all alpha decay calculations. These \n",
    "will only vary in the masses. Masses, however, are typically expressed in units of amu (or, u).\n",
    "\n",
    "\n",
    "\\begin{align*}\n",
    "                        m_{\\alpha} &= m_{\\alpha} [u]\\\\\n",
    "                        m_i &= m_{I_i} [u]\\\\\n",
    "                        m_d &= m_{I_f} [u]\\\\\n",
    "                 Q[MeV] &= (m_i - m_f)c^2\\left(931.494 \\frac{MeV}{c^2u}\\right)\\\\ \n",
    "                        &= (m_i - m_d - m_{\\alpha})\\left(931.494\\right)\\\\\n",
    "                 Q_{\\alpha}[MeV] &= 931.494\\left(m_i - m_d - m_{\\alpha}\\right)\\\\ \n",
    "\\end{align*}\n",
    "\n"
   ]
  },
  {
   "cell_type": "markdown",
   "metadata": {},
   "source": [
    "### Discussion: If the daughters of radon are solids, how do they get into your lungs?\n",
    "\n",
    "\n",
    "![https://www.aprilaire.com/images/default-source/problems-health/radon-can-cause-lung-cancer.jpg?sfvrsn=4](https://www.aprilaire.com/images/default-source/problems-health/radon-can-cause-lung-cancer.jpg?sfvrsn=4)\n",
    "\n",
    "### Discussion: Given this, what methods, in addition to moving the air around, might mitigate recieved dose?\n",
    "\n",
    "\n",
    "![https://upload.wikimedia.org/wikipedia/commons/c/c6/A_miner_hauling_a_car_of_silver_radium_ore%2C_340_feet_below_the_surface%2C_Eldorado_Mine_of_Great_Bear_Lake.jpg](https://upload.wikimedia.org/wikipedia/commons/c/c6/A_miner_hauling_a_car_of_silver_radium_ore%2C_340_feet_below_the_surface%2C_Eldorado_Mine_of_Great_Bear_Lake.jpg)\n",
    "\n",
    "&nbsp;\n",
    "\n",
    "\n",
    "&nbsp;"
   ]
  },
  {
   "cell_type": "markdown",
   "metadata": {},
   "source": [
    "## In Situ Leaching\n",
    "\n",
    "\n",
    "![http://bloximages.chicago2.vip.townnews.com/trib.com/content/tncms/assets/v3/editorial/d/38/d38a276b-f0df-5522-bd9d-9e6b0a00759f/4c93921010ecf.image.jpg](http://bloximages.chicago2.vip.townnews.com/trib.com/content/tncms/assets/v3/editorial/d/38/d38a276b-f0df-5522-bd9d-9e6b0a00759f/4c93921010ecf.image.jpg)"
   ]
  },
  {
   "cell_type": "markdown",
   "metadata": {},
   "source": [
    "### Uranium in Seawater\n",
    "\n",
    "Great presentation by expert professor Erich Schneider. [http://www-pub.iaea.org/iaeameetings/cn216pn/Thursday/Session13/180-Schneider.pdf](http://www-pub.iaea.org/iaeameetings/cn216pn/Thursday/Session13/180-Schneider.pdf) .\n",
    "\n",
    "![http://blogs-images.forbes.com/jamesconca/files/2016/06/ORNL-U-sea.jpg](http://blogs-images.forbes.com/jamesconca/files/2016/06/ORNL-U-sea.jpg)\n",
    "\n",
    "![http://blogs-images.forbes.com/jamesconca/files/2016/03/EV478_ORNL_HiCap.jpg](http://blogs-images.forbes.com/jamesconca/files/2016/03/EV478_ORNL_HiCap.jpg)\n"
   ]
  },
  {
   "cell_type": "markdown",
   "metadata": {
    "collapsed": true
   },
   "source": [
    "\n",
    "## Thorium Resources\n",
    "\n",
    "![https://universe-review.ca/I14-03-thorium.jpg](https://universe-review.ca/I14-03-thorium.jpg)\n",
    "\n",
    "![http://www.ga.gov.au/__data/assets/image/0016/41533/AERA-6_01-800.jpg](http://www.ga.gov.au/__data/assets/image/0016/41533/AERA-6_01-800.jpg)\n",
    "\n",
    "![http://pandoraspromise.com/wp-content/uploads/2013/05/still_41.jpg](http://pandoraspromise.com/wp-content/uploads/2013/05/still_41.jpg)\n",
    "\n",
    "This reading from the black monazite rich beach in Brazil, is in units of $\\frac{\\mu Sv}{h}$. Typical background radiation is around $0.3\\frac{\\mu Sv}{h}$."
   ]
  },
  {
   "cell_type": "markdown",
   "metadata": {
    "collapsed": true
   },
   "source": [
    "## Milling\n",
    "\n",
    "Milling is the process of concentrating uranium ore into a substance known as yellow cake, $U_3O_8$. \n",
    "\n",
    "![https://upload.wikimedia.org/wikipedia/commons/3/37/US_Uranium_Production_1949-2011.png](https://upload.wikimedia.org/wikipedia/commons/3/37/US_Uranium_Production_1949-2011.png)"
   ]
  },
  {
   "cell_type": "markdown",
   "metadata": {},
   "source": [
    "## Wrap-up\n",
    "\n",
    "- \n",
    "- \n",
    "- \n",
    "- "
   ]
  },
  {
   "cell_type": "markdown",
   "metadata": {},
   "source": [
    "## References\n",
    "\n",
    "This section was developed to complement Chapter 2 of [1]. You can find a video at [2].\n",
    "\n",
    "[1] N. Tsoulfanidis, The Nuclear Fuel Cycle. La Grange Park, Illinois, USA: American Nuclear Society, 2013.\n",
    "\n",
    "[2] The Heritage Foundation. Powering America: Uranium Mining and Milling. https://www.youtube.com/watch?v=oT2LHGG-9Ko\n"
   ]
  },
  {
   "cell_type": "code",
   "execution_count": null,
   "metadata": {
    "collapsed": true
   },
   "outputs": [],
   "source": []
  }
 ],
 "metadata": {
  "anaconda-cloud": {},
  "kernelspec": {
   "display_name": "Python 3",
   "language": "python",
   "name": "python3"
  },
  "language_info": {
   "codemirror_mode": {
    "name": "ipython",
    "version": 3
   },
   "file_extension": ".py",
   "mimetype": "text/x-python",
   "name": "python",
   "nbconvert_exporter": "python",
   "pygments_lexer": "ipython3",
   "version": "3.5.2"
  }
 },
 "nbformat": 4,
 "nbformat_minor": 0
}

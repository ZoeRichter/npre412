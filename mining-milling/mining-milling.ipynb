{
 "cells": [
  {
   "cell_type": "code",
   "execution_count": 18,
   "metadata": {
    "collapsed": false
   },
   "outputs": [],
   "source": [
    "%matplotlib notebook\n",
    "%matplotlib inline\n",
    "import math\n",
    "import matplotlib.pyplot as plt\n"
   ]
  },
  {
   "cell_type": "markdown",
   "metadata": {},
   "source": [
    "# Nuclear Fuel Resources, Mining, and Milling\n",
    "\n",
    "Nuclear fuel starts as natural uranium or thorium deposits in the earth. This material can be mined from the ground or even extracted from the sea. \"Milling\" and other chemical and physical processes then follow in order to produce a uniform, concentrated material. In the case of Uranium, the product is called 'yellowcake'.\n",
    "\n",
    "## Learning Objectives\n",
    "\n",
    "This lesson should equip you to:\n",
    "\n",
    "- Describe the extent, geography, and characteristics of uranium and thorium resources.\n",
    "- Differentiate various methods for uranium extraction.\n",
    "- Model the economic concerns relative to uranium extraction.\n",
    "- Understand the process in milling operations.\n",
    "- Recognize the chemical form of yellowcake and its role in the fuel cycle.\n",
    "\n"
   ]
  },
  {
   "cell_type": "markdown",
   "metadata": {},
   "source": [
    "## Resources\n",
    "\n",
    "\n",
    "### Uranium Deposits\n",
    "\n",
    "\n",
    "### Uranium in Seawater\n",
    "\n"
   ]
  },
  {
   "cell_type": "code",
   "execution_count": null,
   "metadata": {
    "collapsed": true
   },
   "outputs": [],
   "source": []
  },
  {
   "cell_type": "code",
   "execution_count": 19,
   "metadata": {
    "collapsed": false
   },
   "outputs": [],
   "source": [
    "def U(U_0, z):\n",
    "    \"\"\"Uranium concentration as a function of depth.\n",
    "    :param U_0: concentration at surface in ppm\n",
    "    :param z: depth\n",
    "    :return c: concentration at depth z\"\"\"\n",
    "    c = U_0*math.exp(-z/6300)\n",
    "    return c"
   ]
  },
  {
   "cell_type": "code",
   "execution_count": 20,
   "metadata": {
    "collapsed": true
   },
   "outputs": [],
   "source": [
    "b = range(1, 11, 5)\n",
    "to_plot = [U(2.8, z) for z in b]"
   ]
  },
  {
   "cell_type": "code",
   "execution_count": 21,
   "metadata": {
    "collapsed": false,
    "scrolled": true
   },
   "outputs": [
    {
     "data": {
      "text/plain": [
       "<matplotlib.text.Text at 0x10d4cba20>"
      ]
     },
     "execution_count": 21,
     "metadata": {},
     "output_type": "execute_result"
    },
    {
     "data": {
      "image/png": "[encoded data removed]",
      "text/plain": [
       "<matplotlib.figure.Figure at 0x10d4c0400>"
      ]
     },
     "metadata": {},
     "output_type": "display_data"
    }
   ],
   "source": [
    "plt.plot(to_plot)\n",
    "plt.ylabel('Uranium Concentration as a Function of Depth')"
   ]
  },
  {
   "cell_type": "code",
   "execution_count": null,
   "metadata": {
    "collapsed": true
   },
   "outputs": [],
   "source": []
  },
  {
   "cell_type": "markdown",
   "metadata": {
    "collapsed": true
   },
   "source": [
    "## Milling\n",
    "\n",
    "Milling is the process of concentrating uranium ore into a substance known as yellow cake, $U_3O_8$. "
   ]
  },
  {
   "cell_type": "markdown",
   "metadata": {},
   "source": [
    "## Wrap-up\n",
    "\n",
    "- \n",
    "- \n",
    "- \n",
    "- "
   ]
  },
  {
   "cell_type": "markdown",
   "metadata": {},
   "source": [
    "## References\n",
    "\n",
    "This section was developed to complement pages YY-ZZ of [1]. You can find a video at [2].\n",
    "\n",
    "[1] N. Tsoulfanidis, The Nuclear Fuel Cycle. La Grange Park, Illinois, USA: American Nuclear Society, 2013.\n",
    "[2] The Heritage Foundation. Powering America: Uranium Mining and Milling. https://www.youtube.com/watch?v=oT2LHGG-9Ko\n"
   ]
  },
  {
   "cell_type": "code",
   "execution_count": null,
   "metadata": {
    "collapsed": true
   },
   "outputs": [],
   "source": []
  }
 ],
 "metadata": {
  "kernelspec": {
   "display_name": "Python 3",
   "language": "python",
   "name": "python3"
  },
  "language_info": {
   "codemirror_mode": {
    "name": "ipython",
    "version": 3
   },
   "file_extension": ".py",
   "mimetype": "text/x-python",
   "name": "python",
   "nbconvert_exporter": "python",
   "pygments_lexer": "ipython3",
   "version": "3.5.2"
  }
 },
 "nbformat": 4,
 "nbformat_minor": 0
}

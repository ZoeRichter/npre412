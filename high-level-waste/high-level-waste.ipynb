{
 "cells": [
  {
   "cell_type": "markdown",
   "metadata": {},
   "source": [
    "# High-Level Waste : Policy\n",
    "\n",
    "In the United States, high-level readioactive waste is categorized as such not by its constituent material, but by the history of that material. Let's talk about how this came to be. \n",
    "\n",
    "\n",
    "## Learning Objectives\n",
    "\n",
    "At the end of this lesson, you will be equipped to:\n",
    "\n",
    "- Recall the history of nuclear waste policy in the United States\n",
    "- Recognize the NWPA waste class of various nuclear fuel cycle materials\n",
    "- Compare the pros and cons of nuclear waste policies internationally\n",
    "- Distinguish among current waste classification schemes domestically and internationally\n",
    "- Suggest potential alternative waste classification schemes\n",
    "- Analyze the impact of current policy on domestic nuclear power production\n"
   ]
  },
  {
   "cell_type": "code",
   "execution_count": 3,
   "metadata": {
    "collapsed": false
   },
   "outputs": [],
   "source": []
  },
  {
   "cell_type": "markdown",
   "metadata": {},
   "source": [
    "## Wrap-up\n",
    "\n",
    "- \n",
    "- \n",
    "- \n",
    "- "
   ]
  },
  {
   "cell_type": "markdown",
   "metadata": {},
   "source": [
    "## References\n",
    "\n",
    "This section was developed to complement pages 302-373 of [1] as well as the full content of [2].\n",
    "\n",
    "[1] N. Tsoulfanidis, The Nuclear Fuel Cycle. La Grange Park, Illinois, USA: American Nuclear Society, 2013.\n",
    "\n",
    "[2] Mark Ayers, Vicky Bailey, Albert Carnesale, Pete Domenici, Susan Eisenhower, Chuck Hagel, Jonathan\n",
    "Lash, Allison Macfarlane, Richard Meserve, Ernest Moniz, Per Peterson, John Rowe, and Phil Sharp.\n",
    "Report to the Secretary of Energy. Technical report, Blue Ribbon Commission on America’s Nuclear\n",
    "Future, January 2012. URL: [http://energy.gov/sites/prod/files/2013/04/f0/brc_finalreport_\n",
    "jan2012.pdf](http://energy.gov/sites/prod/files/2013/04/f0/brc_finalreport_\n",
    "jan2012.pdf)"
   ]
  },
  {
   "cell_type": "code",
   "execution_count": null,
   "metadata": {
    "collapsed": true
   },
   "outputs": [],
   "source": []
  }
 ],
 "metadata": {
  "anaconda-cloud": {},
  "kernelspec": {
   "display_name": "Python [Root]",
   "language": "python",
   "name": "Python [Root]"
  },
  "language_info": {
   "codemirror_mode": {
    "name": "ipython",
    "version": 3
   },
   "file_extension": ".py",
   "mimetype": "text/x-python",
   "name": "python",
   "nbconvert_exporter": "python",
   "pygments_lexer": "ipython3",
   "version": "3.5.2"
  }
 },
 "nbformat": 4,
 "nbformat_minor": 0
}

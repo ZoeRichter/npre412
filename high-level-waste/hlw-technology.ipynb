{
 "cells": [
  {
   "cell_type": "code",
   "execution_count": 1,
   "metadata": {
    "collapsed": true,
    "deletable": true,
    "editable": true
   },
   "outputs": [],
   "source": [
    "import numpy\n",
    "from matplotlib import pyplot, cm\n",
    "from mpl_toolkits.mplot3d import Axes3D ##library for 3d projection plots\n",
    "%matplotlib inline"
   ]
  },
  {
   "cell_type": "markdown",
   "metadata": {
    "deletable": true,
    "editable": true
   },
   "source": [
    "# High-Level Waste : Technology\n",
    "\n",
    "Having covered the policy related to high level waste, we will now discuss the technology.\n",
    "\n",
    "## Learning Objectives\n",
    "\n",
    "At the end of this lesson, you will be equipped to:\n",
    "\n",
    "- Recognize the relationship between decay and repository heat burden.\n",
    "- Calculate the decay heat of UNF as a function of reactor power and time since discharge.\n",
    "- Calculate radiotoxicity of a mixture of isotopes over time.\n",
    "- Explain the characteristics and purpose of _the reference man_.\n",
    "- Recognize the barriers between a disposed waste form and the reference man.\n",
    "- List mechanisms involved in radionuclide contaminant transport.\n",
    "- Estimate the radionuclide transport impacts of solubility, sorption, retardation, diffusion, and advection.\n",
    "- Differentiate between reducing and oxidizing geologic host media. \n"
   ]
  },
  {
   "cell_type": "markdown",
   "metadata": {
    "deletable": true,
    "editable": true
   },
   "source": [
    "## Radioactivity\n",
    "\n",
    "Recall: The SI unit of activity is the becquerel (Bq), equal to one reciprocal second.\n",
    "\n",
    "\\begin{align}\n",
    "A(i) &= -\\frac{dN_i}{dt}\\\\\n",
    "&= \\lambda_iN_i\n",
    "\\end{align}\n",
    "\n",
    "And, given these decays, we also know that \n",
    "\n",
    "\\begin{align}\n",
    "N(t) = N_0e^{t/\\tau}\n",
    "\\end{align}\n",
    "\n",
    "## Decay Heat\n",
    "\n",
    "How do we get from radiation to heat?\n",
    "\n",
    "![https://upload.wikimedia.org/wikipedia/commons/thumb/5/55/Question_Mark.svg/2000px-Question_Mark.svg.png](https://upload.wikimedia.org/wikipedia/commons/thumb/5/55/Question_Mark.svg/2000px-Question_Mark.svg.png)\n",
    "\n",
    "\n",
    "\\begin{align}\n",
    "f(t) &= \\sum_i\\left( \\bar{E}_{\\beta,i} + \\bar{E}_{\\gamma, i} + \\bar{E}_{\\alpha, i}\\right)A(i)\\\\\n",
    "     &= \\sum_i\\left( \\bar{E}_{\\beta,i} + \\bar{E}_{\\gamma, i} + \\bar{E}_{\\alpha, i}\\right)\\lambda_iN_i(t)\\\\\n",
    "\\end{align}\n",
    "\n",
    "\n",
    "Recall that we know how to get the populations $N_i$ of all isotopes built up in the reactor. \n",
    "\n",
    "\n"
   ]
  },
  {
   "cell_type": "code",
   "execution_count": 2,
   "metadata": {
    "collapsed": false,
    "deletable": true,
    "editable": true
   },
   "outputs": [
    {
     "name": "stderr",
     "output_type": "stream",
     "text": [
      "/Users/khuff/anaconda/lib/python3.5/importlib/_bootstrap.py:222: QAWarning: pyne.data is not yet QA compliant.\n",
      "  return f(*args, **kwds)\n",
      "/Users/khuff/anaconda/lib/python3.5/importlib/_bootstrap.py:222: QAWarning: pyne.material is not yet QA compliant.\n",
      "  return f(*args, **kwds)\n"
     ]
    },
    {
     "data": {
      "image/png": "[encoded data removed]",
      "text/plain": [
       "<matplotlib.figure.Figure at 0x10ef04be0>"
      ]
     },
     "metadata": {},
     "output_type": "display_data"
    }
   ],
   "source": [
    "from pyne import data\n",
    "\n",
    "data.decay_const('u238')\n",
    " \n",
    "from pyne.material import Material\n",
    "lwr_snf_ma = Material({'U234': 0.12, \n",
    "                    'U236': 4.18,\n",
    "                    'Np237': 0.75,\n",
    "                    '236Pu': 9.2E-6,\n",
    "                    '238Pu': 0.22,\n",
    "                    '239Pu': 5.28,\n",
    "                    '240Pu': 2.17,\n",
    "                    '241Pu': 1.02,\n",
    "                    '242Pu': 0.35,\n",
    "                    '241Am': 0.05,\n",
    "                    '243Am': 0.09,\n",
    "                    '242Cm': 4.9E-3,\n",
    "                    '244Cm': 3.3E-2},\n",
    "                   1000)\n",
    "\n",
    "#print(lwr_snf_ma.comp)\n",
    "#print(lwr_snf_ma.activity())\n",
    "#print(lwr_snf_ma.decay_heat())\n",
    "D=lwr_snf_ma.decay_heat()\n",
    "\n",
    "import matplotlib.pylab as plt\n",
    "plt.bar(range(len(D)), D.values(), align='center')\n",
    "plt.xticks(range(len(D)), D.keys(), rotation='vertical')\n",
    "\n",
    "plt.show()"
   ]
  },
  {
   "cell_type": "markdown",
   "metadata": {
    "deletable": true,
    "editable": true
   },
   "source": [
    "## Decay Heat and Geologic Heat Capacity\n",
    "\n",
    "![concept_features.png](./concept_features.png)\n",
    "\n"
   ]
  },
  {
   "cell_type": "markdown",
   "metadata": {
    "deletable": true,
    "editable": true
   },
   "source": [
    "## Toxicity\n",
    "\n",
    "One possibility is to use toxicity as a classifying metric. It captures the \n",
    "\n",
    "\\begin{align}\n",
    "\\mbox{Toxicity}(i,k) &= \\frac{A(i)}{DAC(i,k)}\\\\\n",
    "i &= \\mbox{isotope}\\\\\n",
    "k &= \\mbox{medium index, air or water}\\\\\n",
    "DAC &= \\mbox{derived air concentration of isotope i in air or water.} \n",
    "\\end{align}\n",
    "\n",
    "\n",
    "### Example: Toxicity\n",
    "\n",
    "Which is more dangerous, 7.2mg of $^{90}Sr$ or 0.8g of $^{239}Pu$? \n"
   ]
  },
  {
   "cell_type": "code",
   "execution_count": 4,
   "metadata": {
    "collapsed": true,
    "deletable": true,
    "editable": true
   },
   "outputs": [],
   "source": [
    "\n",
    "def tox(activity, dac):\n",
    "    \"\"\"returns the radiotoxicity of a sample\n",
    "    :param activity: activity of the sample in Bq\n",
    "    :param dac: derived air concentration for the active isotope in the sample\n",
    "    \"\"\"\n",
    "    return activity/dac"
   ]
  },
  {
   "cell_type": "markdown",
   "metadata": {
    "deletable": true,
    "editable": true
   },
   "source": [
    "To solve this, we'll need to go look up the DAC for each isotope. \n",
    "\n",
    "\\begin{align}\n",
    "DAC_{^{90}Sr} &= 8\\times 10^{-9}\\left[\\frac{\\mu Ci}{cm^3}\\right]\\\\\n",
    "DAC_{^{239}Pu} &= 3\\times 10^{-12}\\left[\\frac{\\mu Ci}{cm^3}\\right]\\\\\n",
    "\\end{align}"
   ]
  },
  {
   "cell_type": "code",
   "execution_count": 5,
   "metadata": {
    "collapsed": true,
    "deletable": true,
    "editable": true
   },
   "outputs": [],
   "source": [
    "dac_90_sr = 8E-9\n",
    "dac_239_pu = 3E-12"
   ]
  },
  {
   "cell_type": "markdown",
   "metadata": {
    "deletable": true,
    "editable": true
   },
   "source": [
    "And, we'll need to calculate the activity of the sample. First, we'll need the number of atoms as a function of the mass of each isotope.\n",
    "\n",
    "\\begin{align}\n",
    "N_i &= N_A\\frac{m_i}{A}\\\\\n",
    "N_i &= \\mbox{number of atoms in the sample}\\\\\n",
    "N_A &= \\mbox{Avogadro's number, atoms per mol}\\\\\n",
    "m_i &= \\mbox{mass of isotope i in the sample}\\\\\n",
    "A &= \\mbox{Atomic mass}\n",
    "\\end{align}\n",
    "\n",
    "\n",
    "![https://upload.wikimedia.org/wikipedia/commons/thumb/5/55/Question_Mark.svg/2000px-Question_Mark.svg.png](https://upload.wikimedia.org/wikipedia/commons/thumb/5/55/Question_Mark.svg/2000px-Question_Mark.svg.png)"
   ]
  },
  {
   "cell_type": "code",
   "execution_count": 6,
   "metadata": {
    "collapsed": true,
    "deletable": true,
    "editable": true
   },
   "outputs": [],
   "source": [
    "def n_from_mass(iso, g):\n",
    "    from pyne import data\n",
    "    from scipy import constants as sc\n",
    "    a = data.atomic_mass(iso)\n",
    "    avo = sc.Avogadro\n",
    "    return (g/a)*avo"
   ]
  },
  {
   "cell_type": "code",
   "execution_count": 7,
   "metadata": {
    "collapsed": false,
    "deletable": true,
    "editable": true
   },
   "outputs": [
    {
     "data": {
      "text/plain": [
       "5.9753832901678335e+23"
      ]
     },
     "execution_count": 7,
     "metadata": {},
     "output_type": "execute_result"
    }
   ],
   "source": [
    "## Test it\n",
    "n_from_mass('1H', 1)"
   ]
  },
  {
   "cell_type": "code",
   "execution_count": 8,
   "metadata": {
    "collapsed": true,
    "deletable": true,
    "editable": true
   },
   "outputs": [],
   "source": [
    "def activity(iso, n):\n",
    "    \"\"\"returns the activity of some N atoms of an isotope\n",
    "    :param iso: the isotope\n",
    "    :param n: number of atoms in the sample \n",
    "    \"\"\"\n",
    "    from pyne import data\n",
    "    lam = data.decay_const(iso)\n",
    "    return n*lam"
   ]
  },
  {
   "cell_type": "code",
   "execution_count": 9,
   "metadata": {
    "collapsed": false,
    "deletable": true,
    "editable": true
   },
   "outputs": [
    {
     "data": {
      "text/plain": [
       "7.302030826339803e-10"
      ]
     },
     "execution_count": 9,
     "metadata": {},
     "output_type": "execute_result"
    }
   ],
   "source": [
    "data.decay_const('cs137')"
   ]
  },
  {
   "cell_type": "markdown",
   "metadata": {
    "deletable": true,
    "editable": true
   },
   "source": [
    "**BUT: All of this has been done in Bq. Recall that our toxicity calculation needs Ci. Let's report our activities in Ci.'**"
   ]
  },
  {
   "cell_type": "code",
   "execution_count": 26,
   "metadata": {
    "collapsed": false,
    "deletable": true,
    "editable": true
   },
   "outputs": [
    {
     "name": "stdout",
     "output_type": "stream",
     "text": [
      "90Sr activity [Ci] =  0.04833926313181694\n",
      "239Pu activity [Ci] =  0.04962160155426739\n"
     ]
    }
   ],
   "source": [
    "def bq_to_ci(bq):\n",
    "    return bq/3.7E10\n",
    "\n",
    "sr_activity =  bq_to_ci(activity('Sr90', \n",
    "                                 (n_from_mass('Sr90', \n",
    "                                              3.5E-4))))\n",
    "pu_activity = bq_to_ci(activity('Pu239', \n",
    "                                (n_from_mass('Pu239', \n",
    "                                             0.8))))\n",
    "                        \n",
    "print(\"90Sr activity [Ci] = \", sr_activity)\n",
    "print(\"239Pu activity [Ci] = \", pu_activity)"
   ]
  },
  {
   "cell_type": "code",
   "execution_count": 27,
   "metadata": {
    "collapsed": false,
    "deletable": true,
    "editable": true
   },
   "outputs": [
    {
     "name": "stdout",
     "output_type": "stream",
     "text": [
      "90Sr toxicity =  6.042408e+06 \n",
      "239Pu toxicity =  1.654053e+10\n"
     ]
    }
   ],
   "source": [
    "print(\"90Sr toxicity = \", '%e' % tox(sr_activity, dac_90_sr), \"\\n\"\n",
    "\"239Pu toxicity = \", '%e' % tox(pu_activity, dac_239_pu))"
   ]
  },
  {
   "cell_type": "code",
   "execution_count": 30,
   "metadata": {
    "collapsed": false,
    "deletable": true,
    "editable": true
   },
   "outputs": [
    {
     "name": "stdout",
     "output_type": "stream",
     "text": [
      "99Tc activity [Ci] =  1.7122166117922365e-05\n",
      "137Cs activity [Ci] =  0.08680943113648998\n",
      "99Tc toxicity =  5.707389e+01 \n",
      "137Cs toxicity =  1.446824e+06\n"
     ]
    }
   ],
   "source": [
    "dac_99_tc = 3E-7\n",
    "dac_137_cs = 6E-8\n",
    "\n",
    "tc_activity =  bq_to_ci(activity('Tc99', \n",
    "                                 (n_from_mass('Tc99', \n",
    "                                              0.001))))\n",
    "cs_activity = bq_to_ci(activity('Cs137', \n",
    "                                (n_from_mass('Cs137', \n",
    "                                             0.001))))\n",
    "                        \n",
    "print(\"99Tc activity [Ci] = \", tc_activity)\n",
    "print(\"137Cs activity [Ci] = \", cs_activity)\n",
    "print(\"99Tc toxicity = \", '%e' % tox(tc_activity, dac_99_tc), \"\\n\"\n",
    "\"137Cs toxicity = \", '%e' % tox(cs_activity, dac_137_cs))"
   ]
  },
  {
   "cell_type": "markdown",
   "metadata": {
    "deletable": true,
    "editable": true
   },
   "source": [
    "### Question: Units?\n",
    "\n",
    "What were the units of toxicity, and how should we interperet those units?\n",
    "\n",
    "![https://upload.wikimedia.org/wikipedia/commons/thumb/5/55/Question_Mark.svg/2000px-Question_Mark.svg.png](https://upload.wikimedia.org/wikipedia/commons/thumb/5/55/Question_Mark.svg/2000px-Question_Mark.svg.png)\n"
   ]
  },
  {
   "cell_type": "markdown",
   "metadata": {
    "collapsed": true,
    "deletable": true,
    "editable": true
   },
   "source": [
    "## Empirical Activity Fits\n",
    "\n",
    "\n",
    "An aside... note that your book gives the following empirical equation for post-reactor burnup activity. \n",
    "\n",
    "\\begin{align}\n",
    "R(t) &=\n",
    "\\begin{cases}\n",
    " A_1e^{\\left(\\frac{1}{A_2 + A_3t}\\right)} & t<30y\\\\\n",
    " B_1t^{-a}\\left[1+ \\frac{B_2}{1+\\left(\\frac{t}{B_3}\\right)^4}\\right] & 30<t<1\\times10^5y\\\\\n",
    " \\end{cases}\\\\\n",
    "\\end{align}\n",
    "For a 1250 Mwe PWR with $\\eta=0.33$, average specific power of 37.5 MWth/tHM, and 33,000 MWd/tHM burnup, the coefficients are:\n",
    "\n",
    "\\begin{align}\n",
    "A_1 &= 1.42\\times10^5\\\\\n",
    " A_2 &= 0.296\\\\\n",
    " A_3 &= 7.22\\times10^{-2}\\\\\n",
    " a &= 0.2680\\\\\n",
    " B_1 &= 1.98\\times10^5\\\\\n",
    " B_2 &= 10\\\\\n",
    " B_3 &= 88\\\\\n",
    "\\end{align}"
   ]
  },
  {
   "cell_type": "markdown",
   "metadata": {
    "deletable": true,
    "editable": true
   },
   "source": [
    "## Release\n",
    "\n",
    "**Source Term** Radionuclide mass flux to the environment\n",
    "- Safety and Risk Metric\n",
    "- EPA Regulation\n",
    "\n",
    "\n",
    "**Radionuclide transport** is a function of\n",
    "- Geochemistry \n",
    "  - chemically induced material degradation\n",
    "  - radionuclide solubility limits\n",
    "  - sorption\n",
    "  - colloid mobility, etc.\n",
    "- Hydrology \n",
    "  - water induced material degradation, \n",
    "  - water movement (diffusion and advection) through pores and fractures, \n",
    "  - dissolved contaminant dispersion.\n",
    "- Thermal Effects \n",
    "  - thermally induced material degradation, \n",
    "  - thermal hydrological effects.\n",
    "\n",
    "![barriers.png](./barriers.png)"
   ]
  },
  {
   "cell_type": "markdown",
   "metadata": {
    "deletable": true,
    "editable": true
   },
   "source": [
    "## Diffusion\n",
    "[Diffusion code below from 12 steps to Navier Stokes, Lorena Barba.](http://nbviewer.jupyter.org/github/barbagroup/CFDPython/blob/master/lessons/09_Step_7.ipynb)\n",
    "\n",
    "We begin with the 2D-diffusion equation:\n",
    "\n",
    "$$\\frac{\\partial u}{\\partial t} = \\nu \\frac{\\partial ^2 u}{\\partial x^2} + \\nu \\frac{\\partial ^2 u}{\\partial y^2}$$\n",
    "\n",
    "Without going into details, just note that it is possible to discretize second order derivatives. The following scheme uses a _forward difference_ in time and two second-order derivatives. \n",
    "\n",
    "$$\\frac{u_{i,j}^{n+1} - u_{i,j}^n}{\\Delta t} = \\nu \\frac{u_{i+1,j}^n - 2 u_{i,j}^n + u_{i-1,j}^n}{\\Delta x^2} + \\nu \\frac{u_{i,j+1}^n-2 u_{i,j}^n + u_{i,j-1}^n}{\\Delta y^2}$$\n",
    "\n",
    "This method requires that you reorganize the discretized equation and solve for $u_{i,j}^{n+1}$\n",
    "\\begin{align}\n",
    "u_{i,j}^{n+1} = u_{i,j}^n &+ \\frac{\\nu \\Delta t}{\\Delta x^2}(u_{i+1,j}^n - 2 u_{i,j}^n + u_{i-1,j}^n) \\\\\n",
    "&+ \\frac{\\nu \\Delta t}{\\Delta y^2}(u_{i,j+1}^n-2 u_{i,j}^n + u_{i,j-1}^n)\n",
    "\\end{align}"
   ]
  },
  {
   "cell_type": "code",
   "execution_count": 31,
   "metadata": {
    "collapsed": false,
    "deletable": true,
    "editable": true
   },
   "outputs": [
    {
     "data": {
      "image/png": "[encoded data removed]",
      "text/plain": [
       "<matplotlib.figure.Figure at 0x116f127b8>"
      ]
     },
     "metadata": {},
     "output_type": "display_data"
    }
   ],
   "source": [
    "### variable declarations\n",
    "nx = 31\n",
    "ny = 31\n",
    "nt = 17\n",
    "nu = 0.05\n",
    "dx = 2 / (nx - 1)\n",
    "dy = 2 / (ny - 1)\n",
    "sigma = .25\n",
    "dt = sigma * dx * dy / nu\n",
    "\n",
    "x = numpy.linspace(0, 2, nx)\n",
    "y = numpy.linspace(0, 2, ny)\n",
    "\n",
    "u = numpy.ones((ny, nx))  # create a 1xn vector of 1's\n",
    "un = numpy.ones((ny, nx))\n",
    "\n",
    "### Assign initial conditions\n",
    "# set hat function I.C. : u(.5<=x<=1 && .5<=y<=1 ) is 2\n",
    "u[int(.5 / dy):int(1 / dy + 1),int(.5 / dx):int(1 / dx + 1)] = 2  \n",
    "\n",
    "fig = pyplot.figure()\n",
    "ax = fig.gca(projection='3d')\n",
    "X, Y = numpy.meshgrid(x, y)\n",
    "surf = ax.plot_surface(X, Y, u, rstride=1, cstride=1, cmap=cm.viridis,\n",
    "        linewidth=0, antialiased=False)\n",
    "\n",
    "ax.set_xlim(0, 2)\n",
    "ax.set_ylim(0, 2)\n",
    "ax.set_zlim(1, 2.5)\n",
    "\n",
    "ax.set_xlabel('$x$')\n",
    "ax.set_ylabel('$y$');"
   ]
  },
  {
   "cell_type": "markdown",
   "metadata": {
    "deletable": true,
    "editable": true
   },
   "source": [
    "\\begin{align}\n",
    "u_{i,j}^{n+1} = u_{i,j}^n &+ \\frac{\\nu \\Delta t}{\\Delta x^2}(u_{i+1,j}^n - 2 u_{i,j}^n + u_{i-1,j}^n) \\\\\n",
    "&+ \\frac{\\nu \\Delta t}{\\Delta y^2}(u_{i,j+1}^n-2 u_{i,j}^n + u_{i,j-1}^n)\n",
    "\\end{align}"
   ]
  },
  {
   "cell_type": "code",
   "execution_count": 32,
   "metadata": {
    "collapsed": true,
    "deletable": true,
    "editable": true
   },
   "outputs": [],
   "source": [
    "###Run through nt timesteps\n",
    "def diffuse(nt):\n",
    "    u[int(.5 / dy):int(1 / dy + 1),int(.5 / dx):int(1 / dx + 1)] = 2  \n",
    "    \n",
    "    for n in range(nt + 1): \n",
    "        un = u.copy()\n",
    "        u[1:-1, 1:-1] = (un[1:-1,1:-1] + \n",
    "                        nu * dt / dx**2 * \n",
    "                        (un[1:-1, 2:] - 2 * un[1:-1, 1:-1] + un[1:-1, 0:-2]) +\n",
    "                        nu * dt / dy**2 * \n",
    "                        (un[2:,1: -1] - 2 * un[1:-1, 1:-1] + un[0:-2, 1:-1]))\n",
    "        u[0, :] = 1\n",
    "        u[-1, :] = 1\n",
    "        u[:, 0] = 1\n",
    "        u[:, -1] = 1\n",
    "\n",
    "    \n",
    "    fig = pyplot.figure()\n",
    "    ax = fig.gca(projection='3d')\n",
    "    surf = ax.plot_surface(X, Y, u[:], rstride=1, cstride=1, cmap=cm.viridis,\n",
    "        linewidth=0, antialiased=True)\n",
    "    ax.set_zlim(1, 2.5)\n",
    "    ax.set_xlabel('$x$')\n",
    "    ax.set_ylabel('$y$');\n",
    "    "
   ]
  },
  {
   "cell_type": "code",
   "execution_count": 33,
   "metadata": {
    "collapsed": false,
    "deletable": true,
    "editable": true
   },
   "outputs": [
    {
     "data": {
      "image/png": "[encoded data removed]",
      "text/plain": [
       "<matplotlib.figure.Figure at 0x114ae3e48>"
      ]
     },
     "metadata": {},
     "output_type": "display_data"
    }
   ],
   "source": [
    "diffuse(0)"
   ]
  },
  {
   "cell_type": "code",
   "execution_count": 37,
   "metadata": {
    "collapsed": false,
    "deletable": true,
    "editable": true
   },
   "outputs": [
    {
     "data": {
      "image/png": "[encoded data removed]",
      "text/plain": [
       "<matplotlib.figure.Figure at 0x114b28d30>"
      ]
     },
     "metadata": {},
     "output_type": "display_data"
    }
   ],
   "source": [
    "diffuse(20)"
   ]
  },
  {
   "cell_type": "markdown",
   "metadata": {
    "deletable": true,
    "editable": true
   },
   "source": [
    "![./wf_release.png](./wf_release.png)\n",
    "[6] J. A. Blink, T. A. Buscheck, W. G. Halsey, and T. Wolery.\n",
    "Disposal systems evaluations and tool Development-Engineered barrier system evaluation\n",
    "work package LL1015080425.\n",
    "Technical report, Lawrence Livermore National Laboratory (LLNL), Livermore, CA, 2010."
   ]
  },
  {
   "cell_type": "markdown",
   "metadata": {
    "deletable": true,
    "editable": true
   },
   "source": [
    "## Hydrology 101: Adevection Dispersion Equation\n",
    "\n",
    " In a saturated, reducing environment, contaminants are transported by \n",
    "**diffusion**, **dispersion,** and **advection**. \n",
    "    \n",
    "\\begin{align}\n",
    "      J &= J_{dis} + J_{adv}\\nonumber\\\\\n",
    "      &= -\\theta(D_{mdis} + \\tau D_m)\\nabla C + \\theta vC\\nonumber\\\\ \n",
    "      &= -\\theta D\\nabla C + \\theta vC \\nonumber\\\\ \n",
    "      J_{dis} &= \\mbox{ Total Dispersive Mass Flux }[kg/m^2/s]\\nonumber\\\\\n",
    "      J_{adv} &= \\mbox{ Advective Mass Flux }[kg/m^2/s]\\nonumber\\\\\n",
    "      \\tau &= \\mbox{ Toruosity }[-] \\nonumber\\\\\n",
    "      \\theta &= \\mbox{ Porosity }[-] \\nonumber\\\\\n",
    "      D_m &= \\mbox{ Molecular diffusion coefficient }[m^2/s]\\nonumber\\\\\n",
    "      D_{mdis} &= \\mbox{ Coefficient of mechanical dispersivity}[m^2/s]\\nonumber\\\\\n",
    "      D &= \\mbox{ Effective Dispersion Coefficient }[m^2/s]\\nonumber\\\\\n",
    "      C &= \\mbox{ Concentration }[kg/m^3]\\nonumber\\\\\n",
    "      v &= \\mbox{ Fluid Velocity in the medium }[m/s].\\nonumber\n",
    "\\end{align}\n",
    "\n",
    "\n",
    "(From F. W. Schwartz and H. Zhang. Fundamentals of ground water. Environmental Geology, 45:10371038, 2004.)\n",
    "\n",
    "One can express this slightly more simply as: \n",
    "\n",
    "\\begin{align} \n",
    "  \\frac{\\partial n C}{\\partial t} & = - \\nabla \\cdot  (F_c + F_{dc} + F_d) + m \n",
    "\\end{align}\n",
    "\n",
    "\\begin{align}\n",
    "      n &= \\mbox{solute accessible porosity } [\\%]\\nonumber\\\\\n",
    "      C &= \\mbox{ concentration } [kg \\cdot m^{-3}]\\nonumber\\\\ \n",
    "      t &= \\mbox{ time } [s]\\nonumber\\\\ \n",
    "      F_c &= \\mbox{ advective transport} [kg \\cdot m^{-2}\\cdot s^{-1}]\\nonumber\\\\\n",
    "      &= nvC \\nonumber \\\\\n",
    "      F_{dc} &= \\mbox{ dispersive transport} [kg \\cdot m^{-2}\\cdot s^{-1}]\\nonumber\\\\ \n",
    "      &= \\alpha nv \\nabla C  \\nonumber\\\\ \n",
    "      F_d &= \\mbox{ diffusive transport} [kg \\cdot m^{-2}\\cdot s^{-1}]\\nonumber\\\\\n",
    "      &= D_e \\nabla C\\nonumber\n",
    "    \\end{align}\n",
    "    \\begin{align}\n",
    "      m &= \\mbox{ solute source } [kg \\cdot m^{-3}\\cdot s^{-1}].\\nonumber\\\\\n",
    "      v &= \\mbox{ pore velocity } [m\\cdot s^{-1}] \\nonumber\\\\\n",
    "      \\alpha &= \\mbox{ dispersivity } [m]\\nonumber\\\\\n",
    "      D_e &= \\mbox{ effective diffusion coefficient } [m^2\\cdot s^{-1}]\\nonumber\\\\\n",
    "      n\\cdot v &= \\mbox{ Darcy velocity } [m\\cdot s^{-1}].\n",
    "    \\end{align} \n",
    "\n",
    "\n"
   ]
  },
  {
   "cell_type": "markdown",
   "metadata": {
    "deletable": true,
    "editable": true
   },
   "source": [
    "## Dispersion\n",
    "\n",
    "Dispersion captures the impact of the tortuous path fluids must take through porous media:\n",
    "\n",
    "![https://www.nap.edu/openbook/0309049946/xhtml/images/img00014.gif](https://www.nap.edu/openbook/0309049946/xhtml/images/img00014.gif)\n",
    "\n",
    "It is customary to define the combination of molecular diffusion, $D_e$ and mechanical dispersion, $\\alpha v$, as $D$ \n",
    "\\begin{align}\n",
    "  D = \\alpha v + D_e\n",
    "\\end{align}\n",
    "such that the mass conservation equation becomes:\n",
    "\n",
    "\\begin{align}\n",
    "  D = \\alpha v + D_e\n",
    "\\end{align}\n",
    "such that the mass conservation equation becomes:\n",
    "\\begin{align}\n",
    "  \\frac{\\partial(nC)}{\\partial t} &= \\nabla \\left( nD\\nabla C \\right) - \\nabla \\left( nvC \\right) \n",
    "  \\end{align}\n",
    "  \n",
    "Adding sorption, by accounting for a change in mass storage,\n",
    "\n",
    "\\begin{align}\n",
    "  \\frac{\\partial(nC)}{\\partial t}  + \\frac{\\partial(s\\rho_b)}{\\partial t} &= \n",
    "  \\nabla \\left( nD\\nabla C \\right) - \\nabla \\left( nvC \\right) \\\\\n",
    "  s &= \\mbox{sorption coefficient}\\nonumber\\\\\n",
    "  \\rho_b &= \\mbox{ bulk (dry) density }[kg/m^3].\\nonumber\n",
    "\\end{align}\n",
    "\n"
   ]
  },
  {
   "cell_type": "markdown",
   "metadata": {
    "deletable": true,
    "editable": true
   },
   "source": [
    "## Sorption \n",
    "\n",
    "If it is assumed that sorption can be approximated as a linear equilibrium, \n",
    "reversible reaction,\n",
    "\\begin{align}\n",
    "  \\frac{\\partial(s\\rho_b)}{\\partial t} &= \\left( R_f - 1 \n",
    "  \\right)\\frac{\\partial(nC)}{\\partial t}\\\\\n",
    "  R_f\\frac{\\partial(nC)}{\\partial t} &= \n",
    "  \\nabla \\left( nD\\nabla C \\right) - \\nabla \\left( nv \\right) \\\\\n",
    "  R_f &= \\mbox{retardation factor}\\nonumber\\\\\n",
    "  &= 1+\\frac{\\rho_bK_d}{n}\\\\\n",
    "  \\rho_b &=\\mbox{bulk density of the rock matrix}\\nonumber\\\\\n",
    "  K_d &= \\mbox{species distribution coefficient.}\\nonumber\n",
    "\\end{align}\n",
    "\n",
    "![http://earthsciences.typepad.com/.a/6a0133f32df47b970b015437884ede970c-pi](http://earthsciences.typepad.com/.a/6a0133f32df47b970b015437884ede970c-pi)\n",
    "\n",
    "### Question: Should we be more concerned about high or low sorption elements?\n"
   ]
  },
  {
   "cell_type": "markdown",
   "metadata": {
    "deletable": true,
    "editable": true
   },
   "source": [
    "## Solubility\n",
    "\n",
    "Elemental solubility limits are based on the maximum concentration of an  element which can exist in solution. A limit on concentration in the void  volume may be expressed as\n",
    "\n",
    "\\begin{align} \n",
    "      m_{1i}(t)&\\le v_{1i}(t)C_{sol}\\\\\n",
    "      m_{li} &= \\mbox{dissolved kg of radionuclide i}\\nonumber\\\\\n",
    "      v_{li} &= \\mbox{void volume}\\nonumber\\\\\n",
    "      C_{sol} &= \\mbox{solubility limit}\\nonumber\n",
    "\\end{align}\n",
    "   \n",
    "### Question: Should we be more concerned about high or low solubility elements?\n",
    "\n"
   ]
  },
  {
   "cell_type": "markdown",
   "metadata": {
    "collapsed": true,
    "deletable": true,
    "editable": true
   },
   "source": [
    "## Wrap up\n",
    "\n",
    "\n",
    "At the end of this lesson, you should be able to:\n",
    "\n",
    "- Recognize the relationship between decay and repository heat burden.\n",
    "- Calculate the decay heat of UNF as a function of reactor power and time since discharge.\n",
    "- Calculate radiotoxicity of a mixture of isotopes over time.\n",
    "- Explain the characteristics and purpose of _the reference man_.\n",
    "- Recognize the barriers between a disposed waste form and the reference man.\n",
    "- List mechanisms involved in radionuclide contaminant transport.\n",
    "- Estimate the radionuclide transport impacts of solubility, sorption, retardation, diffusion, and advection.\n",
    "- Differentiate between reducing and oxidizing geologic host media. \n"
   ]
  },
  {
   "cell_type": "markdown",
   "metadata": {
    "collapsed": true,
    "deletable": true,
    "editable": true
   },
   "source": [
    "## A note on the future\n",
    "\n",
    "- EPA: Transition team being led by Myron Ebell. \n",
    "- DOE: Considering fracking mogul Harold Hamm as Secretary of Energy.\n",
    "- Clean Power Plan: Can immediately stop enforcing.\n",
    "- International Climate Agreements: Takes 4 years to back out. \n",
    "- Coal: possible \"clean coal\" subsidies will compete with nuclear baseload. \n",
    "\n",
    "\n",
    "A more optimistic view b\n",
    "![trump.png](./trump.png)\n",
    "From ANS Focus on Communications Panel, November 9, 2016."
   ]
  },
  {
   "cell_type": "code",
   "execution_count": null,
   "metadata": {
    "collapsed": true,
    "deletable": true,
    "editable": true
   },
   "outputs": [],
   "source": []
  }
 ],
 "metadata": {
  "anaconda-cloud": {},
  "kernelspec": {
   "display_name": "Python 3",
   "language": "python",
   "name": "python3"
  },
  "language_info": {
   "codemirror_mode": {
    "name": "ipython",
    "version": 3
   },
   "file_extension": ".py",
   "mimetype": "text/x-python",
   "name": "python",
   "nbconvert_exporter": "python",
   "pygments_lexer": "ipython3",
   "version": "3.5.2"
  }
 },
 "nbformat": 4,
 "nbformat_minor": 0
}

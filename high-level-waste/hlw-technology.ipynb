{
 "cells": [
  {
   "cell_type": "code",
   "execution_count": null,
   "metadata": {
    "collapsed": true
   },
   "outputs": [],
   "source": [
    "import numpy\n",
    "from matplotlib import pyplot, cm\n",
    "from mpl_toolkits.mplot3d import Axes3D ##library for 3d projection plots\n",
    "%matplotlib inline"
   ]
  },
  {
   "cell_type": "markdown",
   "metadata": {},
   "source": [
    "# High-Level Waste : Technology\n",
    "\n",
    "Having covered the policy related to high level waste, we will now discuss the technology.\n",
    "\n",
    "## Learning Objectives\n",
    "\n",
    "At the end of this lesson, you will be equipped to:\n",
    "\n",
    "- Recognize the relationship between decay and repository heat burden.\n",
    "- Calculate the decay heat of UNF as a function of reactor power and time since discharge.\n",
    "- Calculate radiotoxicity of a mixture of isotopes over time.\n",
    "- List mechanisms of radionuclide contaminant transport.\n",
    "- Differentiate between reducing and oxidizing geologic host media. \n",
    "- List the key benefits and challenges in reducing geologic host media.\n",
    "- List the key benefits and challenges in oxidizing geologic host media.\n",
    "\n"
   ]
  },
  {
   "cell_type": "markdown",
   "metadata": {},
   "source": [
    "## Radioactivity\n",
    "\n",
    "Recall: The SI unit of activity is the becquerel (Bq), equal to one reciprocal second.\n",
    "\n",
    "\\begin{align}\n",
    "A(i) &= -\\frac{dN_i}{dt}\\\\\n",
    "&= \\lambda_iN_i\n",
    "\\end{align}\n",
    "\n",
    "And, given these decays, we also know that \n",
    "\n",
    "\\begin{align}\n",
    "N(t) = N_0e^{t/\\tau}\n",
    "\\end{align}\n",
    "\n",
    "## Decay Heat\n",
    "\n",
    "How do we get from radiation to heat?\n",
    "\n",
    "![https://upload.wikimedia.org/wikipedia/commons/thumb/5/55/Question_Mark.svg/2000px-Question_Mark.svg.png](https://upload.wikimedia.org/wikipedia/commons/thumb/5/55/Question_Mark.svg/2000px-Question_Mark.svg.png)\n",
    "\n",
    "\n",
    "\\begin{align}\n",
    "f(t) &= \\sum_i\\left( \\bar{E}_{\\beta,i} + \\bar{E}_{\\gamma, i} + \\bar{E}_{\\alpha, i}\\right)A(i)\\\\\n",
    "     &= \\sum_i\\left( \\bar{E}_{\\beta,i} + \\bar{E}_{\\gamma, i} + \\bar{E}_{\\alpha, i}\\right)\\lambda_iN_i(t)\\\\\n",
    "\\end{align}\n",
    "\n",
    "\n",
    "Recall that we know how to get the populations $N_i$ of all isotopes built up in the reactor. \n",
    "\n",
    "\n"
   ]
  },
  {
   "cell_type": "code",
   "execution_count": null,
   "metadata": {
    "collapsed": false
   },
   "outputs": [],
   "source": [
    "from pyne import data\n",
    "\n",
    "data.decay_const('u238')\n",
    " \n",
    "from pyne.material import Material\n",
    "lwr_snf_ma = Material({'U234': 0.12, \n",
    "                    'U236': 4.18,\n",
    "                    'Np237': 0.75,\n",
    "                    '236Pu': 9.2E-6,\n",
    "                    '238Pu': 0.22,\n",
    "                    '239Pu': 5.28,\n",
    "                    '240Pu': 2.17,\n",
    "                    '241Pu': 1.02,\n",
    "                    '242Pu': 0.35,\n",
    "                    '241Am': 0.05,\n",
    "                    '243Am': 0.09,\n",
    "                    '242Cm': 4.9E-3,\n",
    "                    '244Cm': 3.3E-2},\n",
    "                   1000)\n",
    "\n",
    "lwr_snf_ma.decay(60*60*24*365*100).comp"
   ]
  },
  {
   "cell_type": "markdown",
   "metadata": {},
   "source": [
    "## Decay Heat and Geologic Heat Capacity\n",
    "\n",
    "![concept_features.png](./concept_features.png)\n",
    "\n",
    "\n",
    "![heat_lims.png](./heat_lims.png)"
   ]
  },
  {
   "cell_type": "markdown",
   "metadata": {},
   "source": [
    "## Toxicity\n",
    "\n",
    "One possibility is to use toxicity as a classifying metric. It captures the \n",
    "\n",
    "\\begin{align}\n",
    "\\mbox{Toxicity}(i,k) &= \\frac{A(i)}{DAC(i,k)}\\\\\n",
    "i &= \\mbox{isotope}\\\\\n",
    "k &= \\mbox{medium index, air or water}\\\\\n",
    "DAC &= \\mbox{derived air concentration of isotope i in air or water.} \n",
    "\\end{align}\n",
    "\n",
    "Warning : DAC is confusing. It generally is reported in $\\frac{\\mu Ci}{mL}$. From the NRC glossary, the definition is:\n",
    "\n",
    "> Derived air concentration (DAC) The concentration of a given radionuclide in air which, if breathed by the reference man for a working year of 2,000 hours under conditions of light work (with an inhalation rate of 1.2 cubic meters of air per hour), results in an intake of one annual limit on intake (ALI).\n",
    "\n",
    "Ok, great, so what is ALI?\n",
    "\n",
    "> ALI is the smaller value of intake of a given radionuclide in a year by the \"reference man\" that would result in a committed effective dose equivalent (CEDE) of 5 rems (0.05 sievert) or a committed dose equivalent (CDE) of 50 rems (0.5 sievert) to any individual organ or tissue. "
   ]
  },
  {
   "cell_type": "markdown",
   "metadata": {
    "collapsed": true
   },
   "source": [
    "## Empirical Activity Fits\n",
    "\n",
    "\\begin{align}\n",
    "R(t) &=\n",
    "\\begin{cases}\n",
    " A_1e^{\\left(\\frac{1}{A_2 + A_3t}\\right)} & t<30y\\\\\n",
    " B_1t^{-a}\\left[1+ \\frac{B_2}{1+\\left(\\frac{t}{B_3}\\right)^4}\\right] & 30<t<1\\times10^5y\\\\\n",
    " \\end{cases}\\\\\n",
    "\\end{align}\n",
    "For a 1250 Mwe PWR with $\\eta=0.33$, average specific power of 37.5 MWth/tHM, and 33,000 MWd/tHM burnup, the coefficients are:\n",
    "\n",
    "\\begin{align}\n",
    "A_1 &= 1.42\\times10^5\\\\\n",
    " A_2 &= 0.296\\\\\n",
    " A_3 &= 7.22\\times10^{-2}\\\\\n",
    " a &= 0.2680\\\\\n",
    " B_1 &= 1.98\\times10^5\\\\\n",
    " B_2 &= 10\\\\\n",
    " B_3 &= 88\\\\\n",
    "\\end{align}"
   ]
  },
  {
   "cell_type": "markdown",
   "metadata": {},
   "source": [
    "## Diffusion\n",
    "[Diffusion code below from 12 steps to Navier Stokes, Lorena Barba.](http://nbviewer.jupyter.org/github/barbagroup/CFDPython/blob/master/lessons/09_Step_7.ipynb)\n",
    "\n",
    "We begin with the 2D-diffusion equation:\n",
    "\n",
    "$$\\frac{\\partial u}{\\partial t} = \\nu \\frac{\\partial ^2 u}{\\partial x^2} + \\nu \\frac{\\partial ^2 u}{\\partial y^2}$$\n",
    "\n",
    "Without going into details, just note that it is possible to discretize second order derivatives. The following scheme uses a _forward difference_ in time and two second-order derivatives. \n",
    "\n",
    "$$\\frac{u_{i,j}^{n+1} - u_{i,j}^n}{\\Delta t} = \\nu \\frac{u_{i+1,j}^n - 2 u_{i,j}^n + u_{i-1,j}^n}{\\Delta x^2} + \\nu \\frac{u_{i,j+1}^n-2 u_{i,j}^n + u_{i,j-1}^n}{\\Delta y^2}$$\n",
    "\n",
    "This method requires that you reorganize the discretized equation and solve for $u_{i,j}^{n+1}$\n",
    "\\begin{align}\n",
    "u_{i,j}^{n+1} = u_{i,j}^n &+ \\frac{\\nu \\Delta t}{\\Delta x^2}(u_{i+1,j}^n - 2 u_{i,j}^n + u_{i-1,j}^n) \\\\\n",
    "&+ \\frac{\\nu \\Delta t}{\\Delta y^2}(u_{i,j+1}^n-2 u_{i,j}^n + u_{i,j-1}^n)\n",
    "\\end{align}"
   ]
  },
  {
   "cell_type": "code",
   "execution_count": 1,
   "metadata": {
    "collapsed": false
   },
   "outputs": [
    {
     "ename": "NameError",
     "evalue": "name 'numpy' is not defined",
     "output_type": "error",
     "traceback": [
      "\u001b[0;31m---------------------------------------------------------------------------\u001b[0m",
      "\u001b[0;31mNameError\u001b[0m                                 Traceback (most recent call last)",
      "\u001b[0;32m<ipython-input-1-1e795556663b>\u001b[0m in \u001b[0;36m<module>\u001b[0;34m()\u001b[0m\n\u001b[1;32m      9\u001b[0m \u001b[0mdt\u001b[0m \u001b[0;34m=\u001b[0m \u001b[0msigma\u001b[0m \u001b[0;34m*\u001b[0m \u001b[0mdx\u001b[0m \u001b[0;34m*\u001b[0m \u001b[0mdy\u001b[0m \u001b[0;34m/\u001b[0m \u001b[0mnu\u001b[0m\u001b[0;34m\u001b[0m\u001b[0m\n\u001b[1;32m     10\u001b[0m \u001b[0;34m\u001b[0m\u001b[0m\n\u001b[0;32m---> 11\u001b[0;31m \u001b[0mx\u001b[0m \u001b[0;34m=\u001b[0m \u001b[0mnumpy\u001b[0m\u001b[0;34m.\u001b[0m\u001b[0mlinspace\u001b[0m\u001b[0;34m(\u001b[0m\u001b[0;36m0\u001b[0m\u001b[0;34m,\u001b[0m \u001b[0;36m2\u001b[0m\u001b[0;34m,\u001b[0m \u001b[0mnx\u001b[0m\u001b[0;34m)\u001b[0m\u001b[0;34m\u001b[0m\u001b[0m\n\u001b[0m\u001b[1;32m     12\u001b[0m \u001b[0my\u001b[0m \u001b[0;34m=\u001b[0m \u001b[0mnumpy\u001b[0m\u001b[0;34m.\u001b[0m\u001b[0mlinspace\u001b[0m\u001b[0;34m(\u001b[0m\u001b[0;36m0\u001b[0m\u001b[0;34m,\u001b[0m \u001b[0;36m2\u001b[0m\u001b[0;34m,\u001b[0m \u001b[0mny\u001b[0m\u001b[0;34m)\u001b[0m\u001b[0;34m\u001b[0m\u001b[0m\n\u001b[1;32m     13\u001b[0m \u001b[0;34m\u001b[0m\u001b[0m\n",
      "\u001b[0;31mNameError\u001b[0m: name 'numpy' is not defined"
     ]
    }
   ],
   "source": [
    "### variable declarations\n",
    "nx = 31\n",
    "ny = 31\n",
    "nt = 17\n",
    "nu = 0.05\n",
    "dx = 2 / (nx - 1)\n",
    "dy = 2 / (ny - 1)\n",
    "sigma = .25\n",
    "dt = sigma * dx * dy / nu\n",
    "\n",
    "x = numpy.linspace(0, 2, nx)\n",
    "y = numpy.linspace(0, 2, ny)\n",
    "\n",
    "u = numpy.ones((ny, nx))  # create a 1xn vector of 1's\n",
    "un = numpy.ones((ny, nx))\n",
    "\n",
    "### Assign initial conditions\n",
    "# set hat function I.C. : u(.5<=x<=1 && .5<=y<=1 ) is 2\n",
    "u[int(.5 / dy):int(1 / dy + 1),int(.5 / dx):int(1 / dx + 1)] = 2  \n",
    "\n",
    "fig = pyplot.figure()\n",
    "ax = fig.gca(projection='3d')\n",
    "X, Y = numpy.meshgrid(x, y)\n",
    "surf = ax.plot_surface(X, Y, u, rstride=1, cstride=1, cmap=cm.viridis,\n",
    "        linewidth=0, antialiased=False)\n",
    "\n",
    "ax.set_xlim(0, 2)\n",
    "ax.set_ylim(0, 2)\n",
    "ax.set_zlim(1, 2.5)\n",
    "\n",
    "ax.set_xlabel('$x$')\n",
    "ax.set_ylabel('$y$');"
   ]
  },
  {
   "cell_type": "markdown",
   "metadata": {},
   "source": [
    "\\begin{align}\n",
    "u_{i,j}^{n+1} = u_{i,j}^n &+ \\frac{\\nu \\Delta t}{\\Delta x^2}(u_{i+1,j}^n - 2 u_{i,j}^n + u_{i-1,j}^n) \\\\\n",
    "&+ \\frac{\\nu \\Delta t}{\\Delta y^2}(u_{i,j+1}^n-2 u_{i,j}^n + u_{i,j-1}^n)\n",
    "\\end{align}"
   ]
  },
  {
   "cell_type": "code",
   "execution_count": null,
   "metadata": {
    "collapsed": true
   },
   "outputs": [],
   "source": [
    "###Run through nt timesteps\n",
    "def diffuse(nt):\n",
    "    u[int(.5 / dy):int(1 / dy + 1),int(.5 / dx):int(1 / dx + 1)] = 2  \n",
    "    \n",
    "    for n in range(nt + 1): \n",
    "        un = u.copy()\n",
    "        u[1:-1, 1:-1] = (un[1:-1,1:-1] + \n",
    "                        nu * dt / dx**2 * \n",
    "                        (un[1:-1, 2:] - 2 * un[1:-1, 1:-1] + un[1:-1, 0:-2]) +\n",
    "                        nu * dt / dy**2 * \n",
    "                        (un[2:,1: -1] - 2 * un[1:-1, 1:-1] + un[0:-2, 1:-1]))\n",
    "        u[0, :] = 1\n",
    "        u[-1, :] = 1\n",
    "        u[:, 0] = 1\n",
    "        u[:, -1] = 1\n",
    "\n",
    "    \n",
    "    fig = pyplot.figure()\n",
    "    ax = fig.gca(projection='3d')\n",
    "    surf = ax.plot_surface(X, Y, u[:], rstride=1, cstride=1, cmap=cm.viridis,\n",
    "        linewidth=0, antialiased=True)\n",
    "    ax.set_zlim(1, 2.5)\n",
    "    ax.set_xlabel('$x$')\n",
    "    ax.set_ylabel('$y$');\n",
    "    "
   ]
  },
  {
   "cell_type": "code",
   "execution_count": null,
   "metadata": {
    "collapsed": false
   },
   "outputs": [],
   "source": [
    "diffuse(0)"
   ]
  },
  {
   "cell_type": "code",
   "execution_count": null,
   "metadata": {
    "collapsed": false
   },
   "outputs": [],
   "source": [
    "diffuse(50)"
   ]
  },
  {
   "cell_type": "markdown",
   "metadata": {
    "collapsed": true
   },
   "source": [
    "## Wrap up\n",
    "\n",
    "\n",
    "At the end of this lesson, you should know:\n",
    "    \n",
    "- Energy released from decay is deposited in surrounding geologic host media.\n",
    "- Both analytical and numerical methods for determining decay heat contribution of an isotope.\n",
    "- Calculate radiotoxicity of a mixture of isotopes over time.\n",
    "- List mechanisms of radionuclide contaminant transport.\n",
    "- Differentiate between reducing and oxidizing geologic host media. \n",
    "- List the key benefits and challenges in reducing geologic host media.\n",
    "- List the key benefits and challenges in oxidizing geologic host media.\n",
    "\n"
   ]
  },
  {
   "cell_type": "code",
   "execution_count": null,
   "metadata": {
    "collapsed": true
   },
   "outputs": [],
   "source": []
  }
 ],
 "metadata": {
  "anaconda-cloud": {},
  "kernelspec": {
   "display_name": "Python 3",
   "language": "python",
   "name": "python3"
  },
  "language_info": {
   "codemirror_mode": {
    "name": "ipython",
    "version": 3
   },
   "file_extension": ".py",
   "mimetype": "text/x-python",
   "name": "python",
   "nbconvert_exporter": "python",
   "pygments_lexer": "ipython3",
   "version": "3.5.2"
  }
 },
 "nbformat": 4,
 "nbformat_minor": 0
}

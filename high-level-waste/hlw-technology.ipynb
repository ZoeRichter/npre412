{
 "cells": [
  {
   "cell_type": "markdown",
   "metadata": {},
   "source": [
    "# High-Level Waste : Technology\n",
    "\n",
    "Having covered the policy related to high level waste, we will now discuss the technology.\n",
    "\n",
    "## Learning Objectives\n",
    "\n",
    "At the end of this lesson, you will be equipped to:\n",
    "\n",
    "- Recognize the relationship between decay radiation and repository decay heat burden.\n",
    "- Calculate radiotoxicity of a mixture of isotopes over time.\n",
    "- Calculate the decay heat of UNF as a function of reactor power and time since discharge.\n",
    "- List mechanisms of radionuclide contaminant transport.\n",
    "- Differentiate between reducing and oxidizing geologic host media. \n",
    "- List the key benefits and challenges in reducing geologic host media.\n",
    "- List the key benefits and challenges in oxidizing geologic host media.\n",
    "\n"
   ]
  },
  {
   "cell_type": "markdown",
   "metadata": {},
   "source": [
    "## Radioactivity\n",
    "\n",
    "Recall: The SI unit of activity is the becquerel (Bq), equal to one reciprocal second.\n",
    "\n",
    "\\begin{align}\n",
    "A(i) &= -\\frac{dN_i}{dt}\\\\\n",
    "&= \\lambda_iN_i\n",
    "\\end{align}\n",
    "\n",
    "And, given these decays, we also know that \n",
    "\n",
    "\\begin{align}\n",
    "N(t) = N_0e^{t/\\tau}\n",
    "\\end{align}\n",
    "\n",
    "## Decay Heat\n",
    "\n",
    "How do we get from radiation to heat?\n",
    "\n",
    "![https://upload.wikimedia.org/wikipedia/commons/thumb/5/55/Question_Mark.svg/2000px-Question_Mark.svg.png](https://upload.wikimedia.org/wikipedia/commons/thumb/5/55/Question_Mark.svg/2000px-Question_Mark.svg.png)\n",
    "\n",
    "\n",
    "\\begin{align}\n",
    "f(t) &= \\sum_i\\left( \\bar{E}_{\\beta,i} + \\bar{E}_{\\gamma, i} + \\bar{E}_{\\alpha, i}\\right)A(i)\\\\\n",
    "     &= \\sum_i\\left( \\bar{E}_{\\beta,i} + \\bar{E}_{\\gamma, i} + \\bar{E}_{\\alpha, i}\\right)\\lambda_iN_i(t)\\\\\n",
    "\\end{align}\n",
    "\n",
    "\n",
    "Recall that we know how to get the populations $N_i$ of all isotopes built up in the reactor. \n",
    "\n",
    "\n"
   ]
  },
  {
   "cell_type": "code",
   "execution_count": 2,
   "metadata": {
    "collapsed": false
   },
   "outputs": [
    {
     "ename": "RuntimeError",
     "evalue": "",
     "output_type": "error",
     "traceback": [
      "\u001b[1;31m---------------------------------------------------------------------------\u001b[0m",
      "\u001b[1;31mRuntimeError\u001b[0m                              Traceback (most recent call last)",
      "\u001b[1;32m<ipython-input-2-4779636c319e>\u001b[0m in \u001b[0;36m<module>\u001b[1;34m()\u001b[0m\n\u001b[0;32m      1\u001b[0m \u001b[1;32mfrom\u001b[0m \u001b[0mpyne\u001b[0m \u001b[1;32mimport\u001b[0m \u001b[0mdata\u001b[0m\u001b[1;33m\u001b[0m\u001b[0m\n\u001b[0;32m      2\u001b[0m \u001b[1;33m\u001b[0m\u001b[0m\n\u001b[1;32m----> 3\u001b[1;33m \u001b[0mdata\u001b[0m\u001b[1;33m.\u001b[0m\u001b[0mdecay_const\u001b[0m\u001b[1;33m(\u001b[0m\u001b[1;34m'H1'\u001b[0m\u001b[1;33m)\u001b[0m\u001b[1;33m\u001b[0m\u001b[0m\n\u001b[0m",
      "\u001b[1;32mpyne/data.pyx\u001b[0m in \u001b[0;36mpyne.data.decay_const (/home/huff/repos/pyne/build/pyne/data.cxx:10115)\u001b[1;34m()\u001b[0m\n",
      "\u001b[1;31mRuntimeError\u001b[0m: "
     ]
    }
   ],
   "source": [
    "from pyne import data\n",
    "\n",
    "data.decay_const('H1')\n"
   ]
  },
  {
   "cell_type": "markdown",
   "metadata": {},
   "source": [
    "## Decay Heat and Geologic Heat Capacity\n",
    "\n",
    "![concept_features.png](./concept_features.png)\n",
    "\n",
    "\n",
    "![heat_lims.png](./heat_lims.png)"
   ]
  },
  {
   "cell_type": "markdown",
   "metadata": {},
   "source": [
    "## Toxicity\n",
    "\n",
    "One possibility is to use toxicity as a classifying metric. It captures the \n",
    "\n",
    "\\begin{align}\n",
    "\\mbox{Toxicity}(i,k) &= \\frac{A(i)}{DAC(i,k)}\\\\\n",
    "i &= \\mbox{isotope}\\\\\n",
    "k &= \\mbox{medium index, air or water}\\\\\n",
    "DAC &= \\mbox{derived air concentration of isotope i in air or water.} \n",
    "\\end{align}\n",
    "\n",
    "Warning : DAC is confusing. It generally is reported in $\\frac{\\mu Ci}{mL}$. From the NRC glossary, the definition is:\n",
    "\n",
    "> Derived air concentration (DAC) The concentration of a given radionuclide in air which, if breathed by the reference man for a working year of 2,000 hours under conditions of light work (with an inhalation rate of 1.2 cubic meters of air per hour), results in an intake of one annual limit on intake (ALI).\n",
    "\n",
    "Ok, great, so what is ALI?\n",
    "\n",
    "> ALI is the smaller value of intake of a given radionuclide in a year by the \"reference man\" that would result in a committed effective dose equivalent (CEDE) of 5 rems (0.05 sievert) or a committed dose equivalent (CDE) of 50 rems (0.5 sievert) to any individual organ or tissue. "
   ]
  },
  {
   "cell_type": "code",
   "execution_count": null,
   "metadata": {
    "collapsed": true
   },
   "outputs": [],
   "source": []
  }
 ],
 "metadata": {
  "anaconda-cloud": {},
  "kernelspec": {
   "display_name": "Python [Root]",
   "language": "python",
   "name": "Python [Root]"
  },
  "language_info": {
   "codemirror_mode": {
    "name": "ipython",
    "version": 3
   },
   "file_extension": ".py",
   "mimetype": "text/x-python",
   "name": "python",
   "nbconvert_exporter": "python",
   "pygments_lexer": "ipython3",
   "version": "3.5.2"
  }
 },
 "nbformat": 4,
 "nbformat_minor": 0
}

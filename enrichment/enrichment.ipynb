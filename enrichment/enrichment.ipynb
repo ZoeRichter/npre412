{
 "cells": [
  {
   "cell_type": "code",
   "execution_count": 1,
   "metadata": {
    "collapsed": true
   },
   "outputs": [],
   "source": [
    "%matplotlib inline\n",
    "\n",
    "import matplotlib\n",
    "import numpy as np\n",
    "import matplotlib.pyplot as plt"
   ]
  },
  {
   "cell_type": "markdown",
   "metadata": {},
   "source": [
    "# Enrichment\n",
    "\n",
    "Enrichment is the stage at which natural uranium is processed to acheive higher concentrations of fissile $^{235}U$ isotopes.\n",
    "\n",
    "## Learning Objectives\n",
    "\n",
    "- Recall the isotopic content of natural uranium.\n",
    "- Identify target enrichments for various applications.\n",
    "- Distinguish among enrichment technologies.\n",
    "- Calculate the isotopic content of feed, product, and tails during enrichment.\n",
    "- Explain the physical and chemical mechanisms of various enrichment technologies.\n",
    "- Discuss the nonproliferation implications of enrichment technology export control."
   ]
  },
  {
   "cell_type": "markdown",
   "metadata": {},
   "source": [
    "## Natural Uranium\n",
    "\n",
    "Describe the isotopic content of natural uranium in weight and isotope fractions."
   ]
  },
  {
   "cell_type": "markdown",
   "metadata": {},
   "source": [
    "## Enrichment Level\n",
    "\n",
    "_Commercial LWR Fuel_: Commercial nuclear fuel for light water reactors is typically in the range of 3-5%\n",
    "\n",
    "_Research Reactor Fuel_: Research reactor fuel (such as TRIGA reactors in many universities) was previously often as high as 40%. However, a downblending effort was undertaken nationally and the fuel is now much less enriched.\n",
    "\n",
    "_Small Modular Reactor Fuel_: Small modular reactors often bost long running times, such that the fuel rarely needs to be replaced. Though these typically rely on breeding for long term sustainability, the initial enrichment is usually relatively high in these designs.\n",
    "\n",
    "_Navy Fuel_: Classified, but high. \n",
    "\n",
    "_Weapons_: Very high. This varies by weapon type. Does anyone recall the $^{325}U$ enrichment of the Godiva device? (_Hint_: It was 30cm in diameter.)\n"
   ]
  },
  {
   "cell_type": "markdown",
   "metadata": {},
   "source": [
    "## Gaseous Diffusion\n",
    "\n",
    "$^{238}UF_6$ and $^{235}UF_6$ have different effusive rates. This is used to separate them through a porous barrier. \n",
    "\n",
    "$$\\frac{V_L}{V_H} = \\sqrt{\\frac{M_H}{M_L}} = \\alpha$$\n",
    "\n",
    "In the case of $^{238}UF_6$ and $^{235}UF_6$:\n",
    "\n",
    "$$M_H = M_{^{238}U} + 6\\times M_F$$\n",
    "$$\\Rightarrow M_H = 238 + 6\\times 19$$\n",
    "\n",
    "$$M_L = M_{^{235}U} + 6\\times M_F$$\n",
    "$$\\Rightarrow M_H = 235 + 6\\times 19$$"
   ]
  },
  {
   "cell_type": "code",
   "execution_count": 2,
   "metadata": {
    "collapsed": false
   },
   "outputs": [],
   "source": [
    "import math\n",
    "\n",
    "class Enrichment(object):\n",
    "    def __init__(self,           \n",
    "                 f=0, \n",
    "                 p=0, \n",
    "                 w=0, \n",
    "                 x_f=0, \n",
    "                 x_p=0, \n",
    "                 x_w=0):\n",
    "        self.f = f\n",
    "        self.p = p\n",
    "        self.w = w\n",
    "    \n",
    "    def feed(self):\n",
    "        return self.prod + self.tails()\n",
    "    \n",
    "    def prod(self):\n",
    "        return self.feed - self.tails()\n",
    "    \n",
    "    def tails(self):\n",
    "        return self.feed - self.prod()\n",
    "    \n",
    "    def feed_factor(self, f, p):\n",
    "        return f/p\n",
    "     \n",
    "    def waste_factor(self, f, p):\n",
    "        \"\"\"The waste factor is related to the feed factor\"\"\"\n",
    "        self.feed_factor(f, p) - 1\n",
    "        \n",
    "    def v(x):\n",
    "        \"\"\"separation potential\"\"\"\n",
    "        return 2*x - 1 * log(x/(1-x))\n",
    "        \n",
    "    def swu(self, x_p, x_w, x_f):\n",
    "        return P*self.v(x_p) + T*self.v(x_t) - f*self.v(x_f)\n",
    "    \n",
    "    def swu_factor(self, x_p, x_w, x_f):\n",
    "        sf = self.v(x_p) + self.waste_factor(f, p)*v(x_w) - self.feed_factor(f, p)*self.v(x_f)\n",
    "        \n",
    "class GaseousDiffusion(Enrichment):\n",
    "    def alpha(self, m_h, m_l):\n",
    "        \"\"\"effusive rate?\"\"\"\n",
    "        return math.sqrt(m_h/m_l)\n"
   ]
  },
  {
   "cell_type": "code",
   "execution_count": 3,
   "metadata": {
    "collapsed": false
   },
   "outputs": [
    {
     "ename": "TypeError",
     "evalue": "swu_factor() missing 1 required positional argument: 'x'",
     "output_type": "error",
     "traceback": [
      "\u001b[0;31m---------------------------------------------------------------------------\u001b[0m",
      "\u001b[0;31mTypeError\u001b[0m                                 Traceback (most recent call last)",
      "\u001b[0;32m<ipython-input-3-875438e3c5f9>\u001b[0m in \u001b[0;36m<module>\u001b[0;34m()\u001b[0m\n\u001b[1;32m      5\u001b[0m \u001b[0menr\u001b[0m \u001b[0;34m=\u001b[0m \u001b[0;34m[\u001b[0m\u001b[0mx\u001b[0m\u001b[0;34m*\u001b[0m\u001b[0;36m0.01\u001b[0m \u001b[0;32mfor\u001b[0m \u001b[0mx\u001b[0m \u001b[0;32min\u001b[0m \u001b[0mrange\u001b[0m\u001b[0;34m(\u001b[0m\u001b[0;36m0\u001b[0m\u001b[0;34m,\u001b[0m \u001b[0;36m6\u001b[0m\u001b[0;34m,\u001b[0m \u001b[0;36m1\u001b[0m\u001b[0;34m)\u001b[0m\u001b[0;34m]\u001b[0m\u001b[0;34m\u001b[0m\u001b[0m\n\u001b[1;32m      6\u001b[0m \u001b[0;34m\u001b[0m\u001b[0m\n\u001b[0;32m----> 7\u001b[0;31m \u001b[0mplt\u001b[0m\u001b[0;34m.\u001b[0m\u001b[0mplot\u001b[0m\u001b[0;34m(\u001b[0m\u001b[0menr\u001b[0m\u001b[0;34m,\u001b[0m \u001b[0mgd\u001b[0m\u001b[0;34m.\u001b[0m\u001b[0mswu_factor\u001b[0m\u001b[0;34m(\u001b[0m\u001b[0menr\u001b[0m\u001b[0;34m)\u001b[0m\u001b[0;34m)\u001b[0m\u001b[0;34m\u001b[0m\u001b[0m\n\u001b[0m",
      "\u001b[0;31mTypeError\u001b[0m: swu_factor() missing 1 required positional argument: 'x'"
     ]
    }
   ],
   "source": [
    "gd = GaseousDiffusion()\n",
    "m_h = 238 + 6*19\n",
    "m_l = 235 + 6*19 \n",
    "\n",
    "enr = [x*0.01 for x in range(0, 6, 1)]\n",
    "\n",
    "self.feed_factor\n",
    "\n",
    "plt.plot(enr, gd.swu_factor(enr))"
   ]
  },
  {
   "cell_type": "markdown",
   "metadata": {},
   "source": [
    "## Centrifugal Enrichment\n",
    "\n",
    "\n"
   ]
  },
  {
   "cell_type": "code",
   "execution_count": null,
   "metadata": {
    "collapsed": false
   },
   "outputs": [],
   "source": [
    "# An aside about constants.\n",
    "# Use the built-in constants from the scipy library.\n",
    "# The gas constant, for example, can be retrieved thus:\n",
    "from scipy import constants as sc\n",
    "sc.R"
   ]
  },
  {
   "cell_type": "code",
   "execution_count": null,
   "metadata": {
    "collapsed": false
   },
   "outputs": [],
   "source": [
    "from scipy import constants as sc\n",
    "\n",
    "class Centrifugal(Enrichment):\n",
    "    def alpha(self, m_h, m_l, omega, a, t):\n",
    "        \"\"\"\n",
    "        :param omega: angular speed of rotating bowls (rad/s)\n",
    "        :param a: inside radius of rotor\n",
    "        :param m_h: molecular weight of \\[^{238}U^{19}F_6\\]\n",
    "        :param m_l: molecular weight of \\[^{235}U^{19}F_6\\]\n",
    "        :param r: R, molar gas constant\n",
    "        :param t: temperature in Kelvin\n",
    "        \"\"\"\n",
    "        return math.exp(((m_h-m_l)*(omega**2)*(a**2))/(2*sc.R*t))\n",
    "\n",
    "ce = Centrifugal()\n",
    "ce.alpha(m_h, m_l, 10, 1, 300)    \n",
    "    "
   ]
  },
  {
   "cell_type": "code",
   "execution_count": null,
   "metadata": {
    "collapsed": true
   },
   "outputs": [],
   "source": []
  },
  {
   "cell_type": "markdown",
   "metadata": {},
   "source": [
    "## Laser Enrichment\n",
    "\n",
    "\n",
    "\n",
    "*note* laser enrichment can be used on other isotopes. Can you think of any uses for this?"
   ]
  },
  {
   "cell_type": "markdown",
   "metadata": {},
   "source": []
  },
  {
   "cell_type": "code",
   "execution_count": null,
   "metadata": {
    "collapsed": true
   },
   "outputs": [],
   "source": []
  }
 ],
 "metadata": {
  "kernelspec": {
   "display_name": "Python 3",
   "language": "python",
   "name": "python3"
  },
  "language_info": {
   "codemirror_mode": {
    "name": "ipython",
    "version": 3
   },
   "file_extension": ".py",
   "mimetype": "text/x-python",
   "name": "python",
   "nbconvert_exporter": "python",
   "pygments_lexer": "ipython3",
   "version": "3.5.2"
  }
 },
 "nbformat": 4,
 "nbformat_minor": 0
}

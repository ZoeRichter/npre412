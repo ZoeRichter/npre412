{
 "cells": [
  {
   "cell_type": "code",
   "execution_count": 1,
   "metadata": {
    "collapsed": true
   },
   "outputs": [],
   "source": [
    "%matplotlib inline\n",
    "\n",
    "import matplotlib\n",
    "import numpy as np\n",
    "import matplotlib.pyplot as plt"
   ]
  },
  {
   "cell_type": "markdown",
   "metadata": {},
   "source": [
    "# Enrichment\n",
    "\n",
    "Enrichment is the stage at which natural uranium is processed to acheive higher concentrations of fissile $^{235}U$ isotopes.\n",
    "\n",
    "## Learning Objectives\n",
    "\n",
    "- Recall the isotopic content of natural uranium.\n",
    "- Identify target enrichments for various applications.\n",
    "- Distinguish among enrichment technologies.\n",
    "- Discuss the history of enrichment technology development.\n",
    "- Calculate separation potentials.\n",
    "- Quantify the relationship between feed, product, and tails during enrichment.\n",
    "- Explain the physical and chemical mechanisms of various enrichment technologies.\n",
    "- Discuss the nonproliferation implications of enrichment technology export control."
   ]
  },
  {
   "cell_type": "markdown",
   "metadata": {},
   "source": [
    "## Natural Uranium\n",
    "\n",
    "Natural uranium, $U_{nat}$, is uranium found in nature. By weight, it contains 0.711% $^{235}U$, 99.284% $^{238}U$, and a trace (0.0055%) of $^{234}U$.\n"
   ]
  },
  {
   "cell_type": "markdown",
   "metadata": {},
   "source": [
    "## Enrichment Level\n",
    "\n",
    "_Commercial LWR Fuel_: Commercial nuclear fuel for light water reactors is typically in the range of 3-5%\n",
    "\n",
    "_Research Reactor Fuel_: Research reactor fuel (such as TRIGA reactors in many universities) was previously often as high as 40%. However, a downblending effort was undertaken nationally and the fuel is now much less enriched.\n",
    "\n",
    "_Small Modular Reactor Fuel_: Small modular reactors often bost long running times, such that the fuel rarely needs to be replaced. Though these typically rely on breeding for long term sustainability, the initial enrichment is usually relatively high in these designs.\n",
    "\n",
    "_Navy Fuel_: Classified, but high. \n",
    "\n",
    "_Weapons_: Very high. This varies by weapon type. Does anyone recall the $^{325}U$ enrichment of the Godiva device? (_Hint_: It was 30cm in diameter.)\n"
   ]
  },
  {
   "cell_type": "code",
   "execution_count": 2,
   "metadata": {
    "collapsed": false
   },
   "outputs": [],
   "source": [
    "enr_sources = {'natural U':0.007,\n",
    "               'recycled U': 0.01}\n",
    "\n",
    "enr_uses = {'CANDU':0.007,\n",
    "            'LWR': 0.045,\n",
    "            'Research':0.20,\n",
    "            'Weapons': 0.9}\n",
    "\n",
    "import collections\n",
    "od_enr_uses = collections.OrderedDict(sorted(enr_uses.items()))"
   ]
  },
  {
   "cell_type": "code",
   "execution_count": 3,
   "metadata": {
    "collapsed": false
   },
   "outputs": [
    {
     "data": {
      "image/png": "[encoded data removed]",
      "text/plain": [
       "<matplotlib.figure.Figure at 0x7f13234a0e80>"
      ]
     },
     "metadata": {},
     "output_type": "display_data"
    }
   ],
   "source": [
    "import numpy as np\n",
    "import matplotlib.pyplot as plt\n",
    "\n",
    "x=[]\n",
    "y=[]\n",
    "delta_x=0.02\n",
    "delta_y=-0.02\n",
    "\n",
    "for k,v in od_enr_uses.items():\n",
    "    x.append(v)\n",
    "    y.append(v)\n",
    "    plt.text(v + delta_x, v + delta_y, k)\n",
    "t = x\n",
    "area = 20*np.pi\n",
    "plt.scatter(x, y, s=area, c=t, cmap='viridis', alpha=0.6)\n",
    "plt.axis([0,1,0,1])\n",
    "plt.xlabel('Enrichment $(\\% ^{235}U)$')\n",
    "plt.ylabel('Effort $(SWU)$')\n",
    "plt.title('Enrichment for various uses')\n",
    "plt.plot(0.007*np.ones(2), 'g--')    \n",
    "plt.text(0.5, 0.007, 'Natural U', color='g',)\n",
    "\n",
    "plt.show()"
   ]
  },
  {
   "cell_type": "markdown",
   "metadata": {},
   "source": [
    "## Gaseous Diffusion\n",
    "\n",
    "$^{238}UF_6$ and $^{235}UF_6$ have different effusive rates. This is used to separate them through a porous barrier. \n",
    "\n",
    "![http://www.pnausa.org/uploads/1/4/6/7/14674962/6292564.jpg?314](http://www.pnausa.org/uploads/1/4/6/7/14674962/6292564.jpg?314)\n",
    "\n",
    "Effusive rates are based on kinetic energy. At a temperature T, the $UF_6$ molecules have a kinetic energy $kT = \\frac{1}{2}mv^2$. Thus, the velocities, are  $v=\\sqrt{\\left(\\frac{2kT}{m}\\right)}$"
   ]
  },
  {
   "cell_type": "code",
   "execution_count": 60,
   "metadata": {
    "collapsed": false
   },
   "outputs": [
    {
     "name": "stdout",
     "output_type": "stream",
     "text": [
      "1.38064852e-23\n",
      "J K^-1\n"
     ]
    }
   ],
   "source": [
    "# interestingly, if you use python, you rarely have to remember \n",
    "# scientific constants or their SI units\n",
    "from scipy import constants as sc\n",
    "print(sc.Boltzmann)\n",
    "print(sc.unit(u'Boltzmann constant'))\n",
    "\n",
    "import math \n",
    "def vel(t, m):\n",
    "    k = sc.Boltzmann\n",
    "    return math.sqrt(2*k*t/m)"
   ]
  },
  {
   "cell_type": "code",
   "execution_count": 61,
   "metadata": {
    "collapsed": false
   },
   "outputs": [
    {
     "data": {
      "image/png": "[encoded data removed]",
      "text/plain": [
       "<matplotlib.figure.Figure at 0x7f13203e6ac8>"
      ]
     },
     "metadata": {},
     "output_type": "display_data"
    }
   ],
   "source": [
    "import numpy\n",
    "T = np.arange(150-32+273.15,650-32+273.15)\n",
    "m_235 = 235+6*19\n",
    "m_238 = 238+6*19\n",
    "v_235 = np.arange(0., 500.)\n",
    "v_238 = np.arange(0., 500.)\n",
    "\n",
    "for i in range(0, 500):\n",
    "    v_235[i] = vel(T[i], m_235)\n",
    "    v_238[i] = vel(T[i], m_238)\n",
    "    \n",
    "    \n",
    "plt.plot(T, v_235, 'g--')\n",
    "plt.plot(T, v_238, 'b--')\n",
    "\n",
    "plt.xlabel('Temperature $(K)$')\n",
    "plt.ylabel('Velocity $(m/s)$')\n",
    "plt.title('Velocity as a function of temperature')\n",
    "\n",
    "plt.show()"
   ]
  },
  {
   "cell_type": "markdown",
   "metadata": {},
   "source": [
    "The ratio of the speeds, however, at any temperature, remains constant. \n",
    "\n",
    "$$\\alpha = \\frac{V_L}{V_H} = \\sqrt{\\frac{M_H}{M_L}}$$\n",
    "\n",
    "In the case of $^{238}UF_6$ and $^{235}UF_6$:\n",
    "\n",
    "$$M_H = M_{^{238}U} + 6\\times M_F$$\n",
    "$$\\Rightarrow M_H = 238 + 6\\times 19$$\n",
    "\n",
    "$$M_L = M_{^{235}U} + 6\\times M_F$$\n",
    "$$\\Rightarrow M_H = 235 + 6\\times 19$$"
   ]
  },
  {
   "cell_type": "code",
   "execution_count": 14,
   "metadata": {
    "collapsed": false
   },
   "outputs": [
    {
     "data": {
      "image/png": "[encoded data removed]",
      "text/plain": [
       "<matplotlib.figure.Figure at 0x7f132081b780>"
      ]
     },
     "metadata": {},
     "output_type": "display_data"
    }
   ],
   "source": [
    "\n",
    "plt.plot(T, v_235/v_238, 'g--')\n",
    "\n",
    "plt.xlabel('Temperature $(K)$')\n",
    "plt.ylabel('Velocity $(m/s)$')\n",
    "plt.title('Separation factor as a function of T')\n",
    "\n",
    "plt.show()"
   ]
  },
  {
   "cell_type": "markdown",
   "metadata": {},
   "source": [
    "## The mathematics of Gaseous Diffusion\n",
    "\n",
    "\\begin{align}\n",
    "F &= \\mbox{number of kilograms of feed material (per unit time)}\\\\\n",
    "P &= \\mbox{number of kilograms of enriched product (per unit time)}\\\\\n",
    "W &= \\mbox{number of kilograms of uranium in the waste streem (per unit time)}\\\\\n",
    "x_f &= \\mbox{weight fraction of }^{235}U\\mbox{ in the feed material}\\\\\n",
    "x_p &= \\mbox{weight fraction of }^{235}U\\mbox{ in the product material}\\\\\n",
    "x_w &= \\mbox{weight fraction of }^{235}U\\mbox{ in the waste stream (tails assay)}\n",
    "\\end{align}\n",
    "\n",
    "There are two key equations.\n",
    "\n",
    "\\begin{align}\n",
    "F &= P+W\\\\\n",
    "x_fF &= x_pP + x_wW\n",
    "\\end{align}\n",
    "\n",
    "\n",
    "---\n",
    "\n",
    "### Discussion: What is being conserved in each equation?\n",
    "\n",
    "\n",
    "---\n",
    "\n",
    "So, if you know your desired enrichment, rate of enrichment, tails fraction, and feed fraction, you can solve for the Feed and Waste rates:\n",
    "\n",
    "\\begin{align}\n",
    "F &= P \\frac{x_p - x_w}{x_f - x_w}\\\\\n",
    "W &= P \\frac{x_p - x_f}{x_f - x_w}\\\\\n",
    "\\end{align}\n",
    "\n",
    "That seems like a lot to know, thought. Two equations aren't really sufficient to solve for 6 variables, so let's define a few more things.\n",
    "\n",
    "\\begin{align}\n",
    "FF &= \\frac{F}{P} = \\frac{x_p - x_w}{x_f - x_w}\\\\\n",
    "WF &= \\frac{W}{P} = \\frac{x_p - x_f}{x_f - x_w}\\\\\n",
    "\\end{align}\n",
    "\n",
    "\n",
    "Additionally, the work required is referred to in SWU (separative work units). \n",
    "\n",
    "\\begin{align}\n",
    "SWU &= \\left[P*V(x_p) + W*V(x_w) - F(x_f)\\right]\\tau\\\\\n",
    "\\end{align}\n",
    "\n",
    "\n",
    "The SWUs are defined by the effort required for the various ratios to be acheived. Separation potentials are defined thus:\n",
    "\n",
    "\\begin{align}\n",
    "V(x_i &= (2x_i-1)ln\\left(\\frac{x_i}{1-x_i}\\right)\\\\\n",
    "\\end{align}"
   ]
  },
  {
   "cell_type": "code",
   "execution_count": 54,
   "metadata": {
    "collapsed": false
   },
   "outputs": [],
   "source": [
    "import math\n",
    "from math import log \n",
    "\n",
    "class Enrichment(object):\n",
    "    def __init__(self,           \n",
    "                 f=0, \n",
    "                 p=0, \n",
    "                 w=0, \n",
    "                 x_f=0, \n",
    "                 x_p=0, \n",
    "                 x_w=0):\n",
    "        self.f = f\n",
    "        self.p = p\n",
    "        self.w = w\n",
    "        self.x_p = x_p\n",
    "        self.x_f = x_f\n",
    "        self.x_w = x_w\n",
    "        \n",
    "    \n",
    "    def f(self, p, w):\n",
    "        return p - w\n",
    "    \n",
    "    def p(self):\n",
    "        return self.feed - self.tails()\n",
    "    \n",
    "    def w(self):\n",
    "        return self.feed - self.prod()\n",
    "    \n",
    "    def feed_factor(self):\n",
    "        num = self.x_p - self.x_w\n",
    "        denom = self.x_f - self.x_w\n",
    "        return num/denom\n",
    "     \n",
    "    def waste_factor(self):\n",
    "        \"\"\"The waste factor is related to the feed factor\"\"\"\n",
    "        num = self.x_p - self.x_f\n",
    "        denom = self.x_f - self.x_w\n",
    "        return num/denom\n",
    "        \n",
    "    def v(self, x):\n",
    "        \"\"\"separation potential\"\"\"\n",
    "        return 2*x - 1 * log(x/(1-x))\n",
    "        \n",
    "    def swu(self, x_p, x_w, x_f):\n",
    "        return P*self.v(x_p) + T*self.v(x_t) - f*self.v(x_f)\n",
    "    \n",
    "    def swu_factor(self, x_p, x_w, x_f):\n",
    "        sf = self.v(x_p) + self.waste_factor()*self.v(x_w) - \\\n",
    "        self.feed_factor()*self.v(x_f)\n",
    "        \n",
    "    def alpha(self, m_h, m_l):\n",
    "        \"\"\"separation factor\"\"\"\n",
    "        return math.sqrt(self.m_h/self.m_l)\n"
   ]
  },
  {
   "cell_type": "code",
   "execution_count": 59,
   "metadata": {
    "collapsed": false
   },
   "outputs": [
    {
     "name": "stdout",
     "output_type": "stream",
     "text": [
      "[ 4.61511985  3.9318203   3.53609869  3.25805383  3.04443898]\n"
     ]
    },
    {
     "data": {
      "text/plain": [
       "[<matplotlib.lines.Line2D at 0x7f13204172b0>]"
      ]
     },
     "execution_count": 59,
     "metadata": {},
     "output_type": "execute_result"
    },
    {
     "data": {
      "image/png": "[encoded data removed]",
      "text/plain": [
       "<matplotlib.figure.Figure at 0x7f1320497128>"
      ]
     },
     "metadata": {},
     "output_type": "display_data"
    }
   ],
   "source": [
    "#Plot some separation potentials\n",
    "\n",
    "gd = Enrichment()\n",
    "\n",
    "potential = np.arange(1.0, 6.0)\n",
    "x = potential*0.01\n",
    "\n",
    "for i in range(0,5):\n",
    "    potential[i] = gd.v(x[i])    \n",
    "    \n",
    "print(potential)\n",
    "plt.plot(x, potential)\n"
   ]
  },
  {
   "cell_type": "code",
   "execution_count": 42,
   "metadata": {
    "collapsed": false
   },
   "outputs": [
    {
     "name": "stdout",
     "output_type": "stream",
     "text": [
      "[  0.  nan  nan  nan  nan  nan]\n"
     ]
    },
    {
     "data": {
      "text/plain": [
       "[<matplotlib.lines.Line2D at 0x7f13204b5b38>]"
      ]
     },
     "execution_count": 42,
     "metadata": {},
     "output_type": "execute_result"
    },
    {
     "data": {
      "image/png": "[encoded data removed]",
      "text/plain": [
       "<matplotlib.figure.Figure at 0x7f1320529908>"
      ]
     },
     "metadata": {},
     "output_type": "display_data"
    }
   ],
   "source": [
    "\n",
    "m_h = 238 + 6*19\n",
    "m_l = 235 + 6*19 \n",
    "x_w = 0.002\n",
    "x_f = 0.00711\n",
    "x_p = 0.03\n",
    "P = 3.0e5\n",
    "gd = Enrichment(x_w=x_w, x_p=x_p, x_f=x_f, p=P)\n",
    "\n",
    "enr = np.arange(0.0, 6.0)\n",
    "for i in range(1, 6):\n",
    "    enr[i] = gd.swu_factor(i*0.01, x_w=x_w, x_f=x_f)\n",
    "    \n",
    "    \n",
    "print(enr)\n",
    "plt.plot(enr)"
   ]
  },
  {
   "cell_type": "markdown",
   "metadata": {},
   "source": [
    "## Centrifugal Enrichment\n",
    "\n",
    "![http://world-nuclear.org/uploadedImages/org/info/Nuclear_Fuel_Cycle/Enrichment_and_Conversion/centrfge.jpg](http://world-nuclear.org/uploadedImages/org/info/Nuclear_Fuel_Cycle/Enrichment_and_Conversion/centrfge.jpg)\n",
    "A bank of centrifuge stages. \n",
    "\n",
    "### Centrifugal Force\n",
    "\n",
    "Centrifugal enrichment relies on the __centrifugal force__. The centrifugal force is only apparent in the rotating reference frame. In the inertial reference frame, it is not apparent, so it is really a 'fictitious' force. \n",
    "\n",
    "#### Velocity\n",
    "Velocity in a rotating frame of reference, with the absolute angular velocity, $\\omega$, gives\n",
    "\n",
    "$$\\frac{\\operatorname{d}\\boldsymbol{r}}{\\operatorname{d}t} = \\left[\\frac{\\operatorname{d}\\boldsymbol{r}}{\\operatorname{d}t}\\right] + \\boldsymbol{\\omega} \\times \\boldsymbol{r}$$\n",
    "\n",
    "Note that the square brackets in this notation indicate that the argumet is evaluated in So, the velocity in the rotating reference frame is dependent on the rotation, $\\omega$. \n",
    "\n",
    "#### Acceleration\n",
    "\n",
    "Acceleration in a rotating reference frame simply undergoes the same derivative transformation a second time.\n",
    "\n",
    "$$\\begin{align}\n",
    "\\boldsymbol{a} &=\\frac{\\operatorname{d}^2\\boldsymbol{r}}{\\operatorname{d}t^2} = \\frac{\\operatorname{d}}{\\operatorname{d}t}\\frac{\\operatorname{d}\\boldsymbol{r}}{\\operatorname{d}t} = \\frac{\\operatorname{d}}{\\operatorname{d}t} \\left( \\left[\\frac{\\operatorname{d}\\boldsymbol{r}}{\\operatorname{d}t}\\right] + \\boldsymbol{\\omega} \\times \\boldsymbol{r}\\ \\right) \\\\\n",
    " &= \\left[ \\frac{\\operatorname{d}^2 \\boldsymbol{r}}{\\operatorname{d}t^2} \\right] + \\frac{\\operatorname{d} \\boldsymbol{\\omega}}{\\operatorname{d}t}\\times\\boldsymbol{r} + 2 \\boldsymbol{\\omega}\\times \\left[ \\frac{\\operatorname{d} \\boldsymbol{r}}{\\operatorname{d}t} \\right] + \\boldsymbol{\\omega}\\times ( \\boldsymbol{\\omega} \\times \\boldsymbol{r}) \\ .\n",
    "\\end{align}\n",
    "$$\n",
    "\n",
    "#### Questions:\n",
    "\n",
    "- What direction is represented by the vector $\\boldsymbol{r}$?\n",
    "- What direction is represented by the vector $\\boldsymbol{\\omega}$?\n",
    "- Combining these facts with the equation above, what can be said about the direction of the velocity vector $\\frac{\\operatorname{d}\\boldsymbol{r}}{\\operatorname{d}t}$?\n",
    "- What about the direction of the acceleration vector $\\frac{\\operatorname{d}^2 \\boldsymbol{r}}{\\operatorname{d}t^2}$?\n",
    "\n"
   ]
  },
  {
   "cell_type": "code",
   "execution_count": null,
   "metadata": {
    "collapsed": false
   },
   "outputs": [],
   "source": [
    "# An aside about constants.\n",
    "# Use the built-in constants from the scipy library.\n",
    "# The gas constant, for example, can be retrieved thus:\n",
    "from scipy import constants as sc\n",
    "sc.R"
   ]
  },
  {
   "cell_type": "code",
   "execution_count": null,
   "metadata": {
    "collapsed": false
   },
   "outputs": [],
   "source": [
    "from scipy import constants as sc\n",
    "\n",
    "class Centrifugal(Enrichment):\n",
    "    def alpha(self, m_h, m_l, omega, a, t):\n",
    "        \"\"\"\n",
    "        :param omega: angular speed of rotating bowls (rad/s)\n",
    "        :param a: inside radius of rotor\n",
    "        :param m_h: molecular weight of \\[^{238}U^{19}F_6\\]\n",
    "        :param m_l: molecular weight of \\[^{235}U^{19}F_6\\]\n",
    "        :param r: R, molar gas constant\n",
    "        :param t: temperature in Kelvin\n",
    "        \"\"\"\n",
    "        return math.exp(((m_h-m_l)*(omega**2)*(a**2))/(2*sc.R*t))\n",
    "\n",
    "ce = Centrifugal()\n",
    "ce.alpha(m_h, m_l, 10, 1, 300)    \n",
    "    "
   ]
  },
  {
   "cell_type": "markdown",
   "metadata": {},
   "source": [
    "### The Zippe centrifuge\n",
    "\n",
    "The Zippe centrifuge adds a heating element to ordinary gaseous centrifuge enrichment.  \n",
    "\n",
    "![https://upload.wikimedia.org/wikipedia/commons/2/27/Zippe-type_gas_centrifuge.svg](https://upload.wikimedia.org/wikipedia/commons/2/27/Zippe-type_gas_centrifuge.svg)"
   ]
  },
  {
   "cell_type": "markdown",
   "metadata": {
    "collapsed": true
   },
   "source": [
    "## Nozzle Method\n",
    "\n",
    "The nozzle method is another type of enrichment technology."
   ]
  },
  {
   "cell_type": "markdown",
   "metadata": {},
   "source": [
    "## Laser Enrichment\n",
    "\n",
    "\n",
    "\n",
    "*note* laser enrichment can be used on other isotopes. Can you think of any uses for this?"
   ]
  },
  {
   "cell_type": "markdown",
   "metadata": {},
   "source": [
    "## Economics of Enrichment\n",
    "\n",
    "The enrichment technologies used by industry must be energy effecient and economically feasible. \n",
    "\n"
   ]
  },
  {
   "cell_type": "markdown",
   "metadata": {
    "collapsed": true
   },
   "source": [
    "## World Enrichment Capacity"
   ]
  },
  {
   "cell_type": "code",
   "execution_count": null,
   "metadata": {
    "collapsed": false
   },
   "outputs": [],
   "source": []
  },
  {
   "cell_type": "code",
   "execution_count": null,
   "metadata": {
    "collapsed": true
   },
   "outputs": [],
   "source": []
  }
 ],
 "metadata": {
  "kernelspec": {
   "display_name": "Python [Root]",
   "language": "python",
   "name": "Python [Root]"
  },
  "language_info": {
   "codemirror_mode": {
    "name": "ipython",
    "version": 3
   },
   "file_extension": ".py",
   "mimetype": "text/x-python",
   "name": "python",
   "nbconvert_exporter": "python",
   "pygments_lexer": "ipython3",
   "version": "3.5.2"
  }
 },
 "nbformat": 4,
 "nbformat_minor": 0
}

{
 "cells": [
  {
   "cell_type": "code",
   "execution_count": 1,
   "metadata": {
    "collapsed": false
   },
   "outputs": [
    {
     "name": "stdout",
     "output_type": "stream",
     "text": [
      "Electricity Capacity : Northeast Power / Upstate New York : Nuclear, Low price, AEO2015 {'Units': 'GW', 'Frequency': 'A', 'Series ID': 'AEO.2015.LOWPRICE.CAP_NA_ELEP_NA_NUC_NA_NPCCUPNY_GW.A'}\n",
      "Energy Use : Total : Nuclear, East South Central, Low price, AEO2015 {'Units': 'quads', 'Frequency': 'A', 'Series ID': 'AEO.2015.LOWPRICE.CNSM_ENU_TEN_NA_NUC_NA_ESC_QBTU.A'}\n",
      "Electricity : Total Electricity Generation by Fuel : Nuclear, Low price, AEO2015 {'Units': 'billion kWh', 'Frequency': 'A', 'Series ID': 'AEO.2015.LOWPRICE.GEN_NA_ELEP_TGE_NUP_NA_USA_BLNKWH.A'}\n",
      "Electricity : Electric Power Sector : Capacity : Nuclear, United States, Low price, AEO2015 {'Units': 'GW', 'Frequency': 'A', 'Series ID': 'AEO.2015.LOWPRICE.CAP_NA_ELEP_NA_NUP_NA_NA_GW.A'}\n",
      "Energy Use : Electric Power : Nuclear, West South Central, Low price, AEO2015 {'Units': 'quads', 'Frequency': 'A', 'Series ID': 'AEO.2015.LOWPRICE.CNSM_ENU_ELEP_NA_NUC_NA_WSC_QBTU.A'}\n",
      "Electricity Generation : Southwest Power Pool / South : Nuclear, Low price, AEO2015 {'Units': 'billion kWh', 'Frequency': 'A', 'Series ID': 'AEO.2015.LOWPRICE.GEN_NA_ELEP_NA_NUC_NA_SWPPSO_BLNKWH.A'}\n",
      "Energy Use : Electric Power : Nuclear, East North Central, Low price, AEO2015 {'Units': 'quads', 'Frequency': 'A', 'Series ID': 'AEO.2015.LOWPRICE.CNSM_ENU_ELEP_NA_NUC_NA_ENC_QBTU.A'}\n",
      "Energy Use : Total : Nuclear, Pacific, Low price, AEO2015 {'Units': 'quads', 'Frequency': 'A', 'Series ID': 'AEO.2015.LOWPRICE.CNSM_ENU_TEN_NA_NUC_NA_PCF_QBTU.A'}\n",
      "Electricity Capacity : Southwest Power Pool / North : Nuclear, Low price, AEO2015 {'Units': 'GW', 'Frequency': 'A', 'Series ID': 'AEO.2015.LOWPRICE.CAP_NA_ELEP_NA_NUC_NA_SWPPNO_GW.A'}\n",
      "Electricity Capacity : SERC Reliability Corporation / Delta : Nuclear, Low price, AEO2015 {'Units': 'GW', 'Frequency': 'A', 'Series ID': 'AEO.2015.LOWPRICE.CAP_NA_ELEP_NA_NUC_NA_SERCDLT_GW.A'}\n",
      "Electricity Capacity : Reliability First Corporation / West : Nuclear, Low price, AEO2015 {'Units': 'GW', 'Frequency': 'A', 'Series ID': 'AEO.2015.LOWPRICE.CAP_NA_ELEP_NA_NUC_NA_RFCWT_GW.A'}\n",
      "Energy Use : Electric Power : Nuclear, Middle Atlantic, Low price, AEO2015 {'Units': 'quads', 'Frequency': 'A', 'Series ID': 'AEO.2015.LOWPRICE.CNSM_ENU_ELEP_NA_NUC_NA_MDATL_QBTU.A'}\n",
      "Electricity Generation : Reliability First Corporation / Michigan : Nuclear, Low price, AEO2015 {'Units': 'billion kWh', 'Frequency': 'A', 'Series ID': 'AEO.2015.LOWPRICE.GEN_NA_ELEP_NA_NUC_NA_RFCMI_BLNKWH.A'}\n",
      "Energy Use : Total : Nuclear, United States, Low price, AEO2015 {'Units': 'quads', 'Frequency': 'A', 'Series ID': 'AEO.2015.LOWPRICE.CNSM_ENU_TEN_NA_NUC_NA_NA_QBTU.A'}\n",
      "Electricity Generation : Texas Regional Entity : Nuclear, Low price, AEO2015 {'Units': 'billion kWh', 'Frequency': 'A', 'Series ID': 'AEO.2015.LOWPRICE.GEN_NA_ELEP_NA_NUC_NA_TRE_BLNKWH.A'}\n",
      "Electricity Capacity : Cumulative Unplanned Additions : Nuclear, Low price, AEO2015 {'Units': 'GW', 'Frequency': 'A', 'Series ID': 'AEO.2015.LOWPRICE.CAP_NA_ELEP_CUNA_NUP_NA_USA_GW.A'}\n",
      "Electricity Capacity : Northeast Power / NYC-Westchester : Nuclear, Low price, AEO2015 {'Units': 'GW', 'Frequency': 'A', 'Series ID': 'AEO.2015.LOWPRICE.CAP_NA_ELEP_NA_NUC_NA_NPCCNYWE_GW.A'}\n",
      "Electricity Generation : SERC Reliability Corporation / Delta : Nuclear, Low price, AEO2015 {'Units': 'billion kWh', 'Frequency': 'A', 'Series ID': 'AEO.2015.LOWPRICE.GEN_NA_ELEP_NA_NUC_NA_SERCDLT_BLNKWH.A'}\n",
      "Energy Use : Electric Power : Nuclear, United States, Low price, AEO2015 {'Units': 'quads', 'Frequency': 'A', 'Series ID': 'AEO.2015.LOWPRICE.CNSM_ENU_ELEP_NA_NUC_NA_NA_QBTU.A'}\n",
      "Energy Use : Total : Nuclear, Middle Atlantic, Low price, AEO2015 {'Units': 'quads', 'Frequency': 'A', 'Series ID': 'AEO.2015.LOWPRICE.CNSM_ENU_TEN_NA_NUC_NA_MDATL_QBTU.A'}\n",
      "Electricity Generation : Florida Reliability Coordinating Council : Nuclear, Low price, AEO2015 {'Units': 'billion kWh', 'Frequency': 'A', 'Series ID': 'AEO.2015.LOWPRICE.GEN_NA_ELEP_NA_NUC_NA_FLRC_BLNKWH.A'}\n",
      "Energy Use : Electric Power : Nuclear, South Atlantic, Low price, AEO2015 {'Units': 'quads', 'Frequency': 'A', 'Series ID': 'AEO.2015.LOWPRICE.CNSM_ENU_ELEP_NA_NUC_NA_SOATL_QBTU.A'}\n",
      "Electricity Capacity : Southwest Power Pool / South : Nuclear, Low price, AEO2015 {'Units': 'GW', 'Frequency': 'A', 'Series ID': 'AEO.2015.LOWPRICE.CAP_NA_ELEP_NA_NUC_NA_SWPPSO_GW.A'}\n",
      "Energy Use : Total : Nuclear, West South Central, Low price, AEO2015 {'Units': 'quads', 'Frequency': 'A', 'Series ID': 'AEO.2015.LOWPRICE.CNSM_ENU_TEN_NA_NUC_NA_WSC_QBTU.A'}\n",
      "Electricity Capacity : SERC Reliability Corporation / Central : Nuclear, Low price, AEO2015 {'Units': 'GW', 'Frequency': 'A', 'Series ID': 'AEO.2015.LOWPRICE.CAP_NA_ELEP_NA_NUC_NA_SERCCNT_GW.A'}\n",
      "Electricity Capacity : Midwest Reliability Council / East : Nuclear, Low price, AEO2015 {'Units': 'GW', 'Frequency': 'A', 'Series ID': 'AEO.2015.LOWPRICE.CAP_NA_ELEP_NA_NUC_NA_MWRCE_GW.A'}\n",
      "Electricity : Electric Power Sector : Generation : Nuclear, United States, Low price, AEO2015 {'Units': 'billion kWh', 'Frequency': 'A', 'Series ID': 'AEO.2015.LOWPRICE.GEN_NA_ELEP_NA_NUC_NA_NA_BLNKWH.A'}\n",
      "Electricity Capacity : Electric Power Sector : Power Only : Nuclear, Low price, AEO2015 {'Units': 'GW', 'Frequency': 'A', 'Series ID': 'AEO.2015.LOWPRICE.CAP_NA_ELEP_POE_NUP_NA_USA_GW.A'}\n",
      "Electricity Capacity : Texas Regional Entity : Nuclear, Low price, AEO2015 {'Units': 'GW', 'Frequency': 'A', 'Series ID': 'AEO.2015.LOWPRICE.CAP_NA_ELEP_NA_NUC_NA_TRE_GW.A'}\n",
      "Energy Use : Total : Nuclear, West North Central, Low price, AEO2015 {'Units': 'quads', 'Frequency': 'A', 'Series ID': 'AEO.2015.LOWPRICE.CNSM_ENU_TEN_NA_NUC_NA_WNC_QBTU.A'}\n",
      "Electricity Generation : Midwest Reliability Council / West : Nuclear, Low price, AEO2015 {'Units': 'billion kWh', 'Frequency': 'A', 'Series ID': 'AEO.2015.LOWPRICE.GEN_NA_ELEP_NA_NUC_NA_MWRCW_BLNKWH.A'}\n",
      "Energy Use : Electric Power : Nuclear, New England, Low price, AEO2015 {'Units': 'quads', 'Frequency': 'A', 'Series ID': 'AEO.2015.LOWPRICE.CNSM_ENU_ELEP_NA_NUC_NA_NEENGL_QBTU.A'}\n",
      "Electricity Capacity : Western Electricity / Northwest Power Pool : Nuclear, Low price, AEO2015 {'Units': 'GW', 'Frequency': 'A', 'Series ID': 'AEO.2015.LOWPRICE.CAP_NA_ELEP_NA_NUC_NA_WENWPP_GW.A'}\n",
      "Electricity Generation : SERC Reliability Corporation / Central : Nuclear, Low price, AEO2015 {'Units': 'billion kWh', 'Frequency': 'A', 'Series ID': 'AEO.2015.LOWPRICE.GEN_NA_ELEP_NA_NUC_NA_SERCCNT_BLNKWH.A'}\n",
      "Electricity Generation : Midwest Reliability Council / East : Nuclear, Low price, AEO2015 {'Units': 'billion kWh', 'Frequency': 'A', 'Series ID': 'AEO.2015.LOWPRICE.GEN_NA_ELEP_NA_NUC_NA_MWRCE_BLNKWH.A'}\n",
      "Electricity Capacity : SERC Reliability Corporation / Gateway : Nuclear, Low price, AEO2015 {'Units': 'GW', 'Frequency': 'A', 'Series ID': 'AEO.2015.LOWPRICE.CAP_NA_ELEP_NA_NUC_NA_SERCGW_GW.A'}\n",
      "Electricity Generation : Reliability First Corporation / West : Nuclear, Low price, AEO2015 {'Units': 'billion kWh', 'Frequency': 'A', 'Series ID': 'AEO.2015.LOWPRICE.GEN_NA_ELEP_NA_NUC_NA_RFCWT_BLNKWH.A'}\n",
      "Electricity Capacity : Reliability First Corporation / East : Nuclear, Low price, AEO2015 {'Units': 'GW', 'Frequency': 'A', 'Series ID': 'AEO.2015.LOWPRICE.CAP_NA_ELEP_NA_NUC_NA_RFCET_GW.A'}\n",
      "Energy Use : Total : Nuclear, East North Central, Low price, AEO2015 {'Units': 'quads', 'Frequency': 'A', 'Series ID': 'AEO.2015.LOWPRICE.CNSM_ENU_TEN_NA_NUC_NA_ENC_QBTU.A'}\n",
      "Electricity Capacity : Florida Reliability Coordinating Council : Nuclear, Low price, AEO2015 {'Units': 'GW', 'Frequency': 'A', 'Series ID': 'AEO.2015.LOWPRICE.CAP_NA_ELEP_NA_NUC_NA_FLRC_GW.A'}\n",
      "Energy Use : Electric Power : Nuclear, East South Central, Low price, AEO2015 {'Units': 'quads', 'Frequency': 'A', 'Series ID': 'AEO.2015.LOWPRICE.CNSM_ENU_ELEP_NA_NUC_NA_ESC_QBTU.A'}\n",
      "Energy Use : Total : Nuclear, New England, Low price, AEO2015 {'Units': 'quads', 'Frequency': 'A', 'Series ID': 'AEO.2015.LOWPRICE.CNSM_ENU_TEN_NA_NUC_NA_NEENGL_QBTU.A'}\n",
      "Electricity Generation : SERC Reliability Corporation / Gateway : Nuclear, Low price, AEO2015 {'Units': 'billion kWh', 'Frequency': 'A', 'Series ID': 'AEO.2015.LOWPRICE.GEN_NA_ELEP_NA_NUC_NA_SERCGW_BLNKWH.A'}\n",
      "Electricity Capacity : Reliability First Corporation / Michigan : Nuclear, Low price, AEO2015 {'Units': 'GW', 'Frequency': 'A', 'Series ID': 'AEO.2015.LOWPRICE.CAP_NA_ELEP_NA_NUC_NA_RFCMI_GW.A'}\n",
      "Total Energy : Use : Nuclear, Low price, AEO2015 {'Units': 'quads', 'Frequency': 'A', 'Series ID': 'AEO.2015.LOWPRICE.CNSM_USE_TEN_NA_NUC_NA_USA_QBTU.A'}\n",
      "Energy Use : Total : Nuclear, South Atlantic, Low price, AEO2015 {'Units': 'quads', 'Frequency': 'A', 'Series ID': 'AEO.2015.LOWPRICE.CNSM_ENU_TEN_NA_NUC_NA_SOATL_QBTU.A'}\n",
      "Electricity : Electric Power Sector : Power Only : Nuclear, Low price, AEO2015 {'Units': 'billion kWh', 'Frequency': 'A', 'Series ID': 'AEO.2015.LOWPRICE.GEN_NA_ELEP_POE_NUP_NA_USA_BLNKWH.A'}\n",
      "Electricity Capacity : Midwest Reliability Council / West : Nuclear, Low price, AEO2015 {'Units': 'GW', 'Frequency': 'A', 'Series ID': 'AEO.2015.LOWPRICE.CAP_NA_ELEP_NA_NUC_NA_MWRCW_GW.A'}\n",
      "Energy Use : Electric Power : Nuclear, Pacific, Low price, AEO2015 {'Units': 'quads', 'Frequency': 'A', 'Series ID': 'AEO.2015.LOWPRICE.CNSM_ENU_ELEP_NA_NUC_NA_PCF_QBTU.A'}\n",
      "Energy Use : Electric Power : Nuclear, West North Central, Low price, AEO2015 {'Units': 'quads', 'Frequency': 'A', 'Series ID': 'AEO.2015.LOWPRICE.CNSM_ENU_ELEP_NA_NUC_NA_WNC_QBTU.A'}\n",
      "Energy Use : Total : Nuclear, Mountain, Low price, AEO2015 {'Units': 'quads', 'Frequency': 'A', 'Series ID': 'AEO.2015.LOWPRICE.CNSM_ENU_TEN_NA_NUC_NA_MTN_QBTU.A'}\n",
      "Energy Use : Electric Power : Nuclear, Mountain, Low price, AEO2015 {'Units': 'quads', 'Frequency': 'A', 'Series ID': 'AEO.2015.LOWPRICE.CNSM_ENU_ELEP_NA_NUC_NA_MTN_QBTU.A'}\n",
      "Electricity Capacity : Cumulative Planned Additions : Nuclear, Low price, AEO2015 {'Units': 'GW', 'Frequency': 'A', 'Series ID': 'AEO.2015.LOWPRICE.CAP_NA_ELEP_CPA_NUP_NA_USA_GW.A'}\n",
      "Electricity Capacity : Cumulative Retirements : Nuclear, Low price, AEO2015 {'Units': 'GW', 'Frequency': 'A', 'Series ID': 'AEO.2015.LOWPRICE.CAP_NA_ELEP_CRE_NUP_NA_USA_GW.A'}\n",
      "Electricity Generation : Southwest Power Pool / North : Nuclear, Low price, AEO2015 {'Units': 'billion kWh', 'Frequency': 'A', 'Series ID': 'AEO.2015.LOWPRICE.GEN_NA_ELEP_NA_NUC_NA_SWPPNO_BLNKWH.A'}\n",
      "Electricity Capacity : SERC Reliability Corporation / Southeastern : Nuclear, Low price, AEO2015 {'Units': 'GW', 'Frequency': 'A', 'Series ID': 'AEO.2015.LOWPRICE.CAP_NA_ELEP_NA_NUC_NA_SERCSOES_GW.A'}\n",
      "Total Energy : Production : Nuclear, Low price, AEO2015 {'Units': 'quads', 'Frequency': 'A', 'Series ID': 'AEO.2015.LOWPRICE.SUP_PRD_TEN_NA_NUC_NA_USA_QBTU.A'}\n",
      "Electricity Generation : Reliability First Corporation / East : Nuclear, Low price, AEO2015 {'Units': 'billion kWh', 'Frequency': 'A', 'Series ID': 'AEO.2015.LOWPRICE.GEN_NA_ELEP_NA_NUC_NA_RFCET_BLNKWH.A'}\n"
     ]
    },
    {
     "ename": "APIKeyError",
     "evalue": "invalid or missing api_key. For key registration, documentation, and examples see http://www.eia.gov/developer/",
     "output_type": "error",
     "traceback": [
      "\u001b[0;31m---------------------------------------------------------------------------\u001b[0m",
      "\u001b[0;31mAPIKeyError\u001b[0m                               Traceback (most recent call last)",
      "\u001b[0;32m<ipython-input-1-ecd4c40b8f8d>\u001b[0m in \u001b[0;36m<module>\u001b[0;34m()\u001b[0m\n\u001b[1;32m     23\u001b[0m                                          \u001b[0mfilters_to_keep\u001b[0m\u001b[0;34m=\u001b[0m\u001b[0;34m[\u001b[0m\u001b[0;34m'Alabama'\u001b[0m\u001b[0;34m]\u001b[0m\u001b[0;34m,\u001b[0m\u001b[0;34m\u001b[0m\u001b[0m\n\u001b[1;32m     24\u001b[0m                                          \u001b[0mfilters_to_remove\u001b[0m\u001b[0;34m=\u001b[0m\u001b[0;34m[\u001b[0m\u001b[0;34m'quarterly'\u001b[0m\u001b[0;34m]\u001b[0m\u001b[0;34m,\u001b[0m\u001b[0;34m\u001b[0m\u001b[0m\n\u001b[0;32m---> 25\u001b[0;31m                                          return_list=False)\n\u001b[0m\u001b[1;32m     26\u001b[0m \u001b[0;34m\u001b[0m\u001b[0m\n\u001b[1;32m     27\u001b[0m \u001b[0;32mfor\u001b[0m \u001b[0mkey\u001b[0m\u001b[0;34m,\u001b[0m \u001b[0mvalue\u001b[0m \u001b[0;32min\u001b[0m \u001b[0mcategory_search\u001b[0m\u001b[0;34m.\u001b[0m\u001b[0mitems\u001b[0m\u001b[0;34m(\u001b[0m\u001b[0;34m)\u001b[0m\u001b[0;34m:\u001b[0m\u001b[0;34m\u001b[0m\u001b[0m\n",
      "\u001b[0;32m/Users/khuff/anaconda/lib/python3.5/site-packages/eia/api.py\u001b[0m in \u001b[0;36msearch_by_category\u001b[0;34m(self, category, filters_to_keep, filters_to_remove, return_list)\u001b[0m\n\u001b[1;32m    109\u001b[0m                 \u001b[0mglob_invalid_api_key\u001b[0m\u001b[0;34m:\u001b[0m\u001b[0;34m\u001b[0m\u001b[0m\n\u001b[1;32m    110\u001b[0m             \u001b[0merror_msg\u001b[0m \u001b[0;34m=\u001b[0m \u001b[0msearch\u001b[0m\u001b[0;34m.\u001b[0m\u001b[0mjson\u001b[0m\u001b[0;34m(\u001b[0m\u001b[0;34m)\u001b[0m\u001b[0;34m[\u001b[0m\u001b[0;34m'data'\u001b[0m\u001b[0;34m]\u001b[0m\u001b[0;34m[\u001b[0m\u001b[0;34m'error'\u001b[0m\u001b[0;34m]\u001b[0m\u001b[0;34m\u001b[0m\u001b[0m\n\u001b[0;32m--> 111\u001b[0;31m             \u001b[0;32mraise\u001b[0m \u001b[0mAPIKeyError\u001b[0m\u001b[0;34m(\u001b[0m\u001b[0merror_msg\u001b[0m\u001b[0;34m)\u001b[0m\u001b[0;34m\u001b[0m\u001b[0m\n\u001b[0m\u001b[1;32m    112\u001b[0m \u001b[0;34m\u001b[0m\u001b[0m\n\u001b[1;32m    113\u001b[0m         \u001b[0;32melif\u001b[0m \u001b[0;34m(\u001b[0m\u001b[0msearch\u001b[0m\u001b[0;34m.\u001b[0m\u001b[0mjson\u001b[0m\u001b[0;34m(\u001b[0m\u001b[0;34m)\u001b[0m\u001b[0;34m.\u001b[0m\u001b[0mget\u001b[0m\u001b[0;34m(\u001b[0m\u001b[0;34m'category'\u001b[0m\u001b[0;34m)\u001b[0m\u001b[0;34m)\u001b[0m \u001b[0;32mand\u001b[0m\u001b[0;31m \u001b[0m\u001b[0;31m\\\u001b[0m\u001b[0;34m\u001b[0m\u001b[0m\n",
      "\u001b[0;31mAPIKeyError\u001b[0m: invalid or missing api_key. For key registration, documentation, and examples see http://www.eia.gov/developer/"
     ]
    }
   ],
   "source": [
    "import eia\n",
    "\n",
    "api_key = \"YOURAPIKEYHERE\"\n",
    "api = eia.API(api_key)\n",
    "\n",
    "### Search By Keyword ###\n",
    "# set return_list to True if you only want a list of data series names.\n",
    "# filters_to_keep and filters_to_remove filter the search results, and \n",
    "# keep or delete, respectively, search results which contain filtered words.\n",
    "keyword_search = api.search_by_keyword(keyword=['nuclear', 'price'],\n",
    "                                       filters_to_keep=['AEO2015'],\n",
    "                                       filters_to_remove=['high price'],\n",
    "                                       rows=1000, \n",
    "                                       return_list=False)\n",
    "\n",
    "for key, value in keyword_search.items():\n",
    "    print(key, value)\n",
    "\n",
    "\n",
    "### Search By Category ID ###\n",
    "# set return_list to True if you only want a list of data series names\n",
    "category_search = api.search_by_category(category=2,\n",
    "                                         filters_to_keep=['Alabama'],\n",
    "                                         filters_to_remove=['quarterly'],\n",
    "                                         return_list=False)\n",
    "\n",
    "for key, value in category_search.items():\n",
    "    print(key, value)\n",
    "\n",
    "\n",
    "### Search By Date Last Updated ###\n",
    "# set return_list to True if you only want a list of data series names\n",
    "date_search = api.search_by_date(date='2014-01-01T00:00:00Z TO \\\n",
    "                                       2015-01-01T23:59:59Z',\n",
    "                                 filters_to_keep=['Illinois'],\n",
    "                                 filters_to_remove=['annual'],\n",
    "                                 rows=1000, \n",
    "                                 return_list=True)\n",
    "\n",
    "for result in date_search:\n",
    "    print(result)\n"
   ]
  },
  {
   "cell_type": "code",
   "execution_count": null,
   "metadata": {
    "collapsed": false
   },
   "outputs": [],
   "source": [
    "tot_elec = api.data_by_series(\"TOTAL.NUETPUS.A\")\n",
    "tot_cap = api.data_by_series(\"TOTAL.NUCASUS.A\")\n",
    "sum_cap = api.data_by_series(\"TOTAL.NUGBPUS.A\")\n",
    "op_units = api.data_by_series(\"TOTAL.NUOUPUS.A\")\n",
    "nuc_share =  api.data_by_series(\"TOTAL.NUETSUS.M\")\n",
    "\n",
    "\n",
    "tot_elec_series = [\"TOTAL.CLEIBUS.M\",\n",
    "\"TOTAL.HVEGBUS.M\",\n",
    "\"TOTAL.ELNIBUS.M\",\n",
    "\"TOTAL.GEEGBUS.M\",\n",
    "\"TOTAL.NNEIBUS.M\",\n",
    "\"TOTAL.NUEGBUS.M\",\n",
    "\"TOTAL.SOEGBUS.M\",\n",
    "\"TOTAL.BMEIBUS.M\",\n",
    "\"TOTAL.WYEGBUS.M\"]"
   ]
  },
  {
   "cell_type": "code",
   "execution_count": null,
   "metadata": {
    "collapsed": false,
    "scrolled": true
   },
   "outputs": [],
   "source": [
    "import matplotlib.pyplot as plt\n",
    "import matplotlib.cm as cm\n",
    "import mpld3\n",
    "\n",
    "\n",
    "import numpy as np\n",
    "import datetime\n",
    "import math\n",
    "fig = plt.figure()\n",
    "ax1 = fig.add_subplot(111)\n",
    "plt.xlabel('Time')\n",
    "plt.ylabel('US Electricity Consumption (Trillion Btu)')\n",
    "plt.title('Electricity Consumption by Generation Type (Trillion Btu)')\n",
    "\n",
    "colors = cm.rainbow(np.linspace(0, 1, 10))\n",
    "i=0\n",
    "labels = []\n",
    "for series in tot_elec_series:\n",
    "    i+=1\n",
    "    dates = []\n",
    "    dat = api.data_by_series(series)\n",
    "    for title in dat.keys():\n",
    "        lab = title.split(\" \")[0]\n",
    "        labels.append(list(lab)*len(vals.keys()))\n",
    "        vals = dat[title]\n",
    "        times = list(vals.keys())\n",
    "        btus_str = [0 if v=='NA' else v for v in list(vals.values())]\n",
    "        btus = list(map(float, btus_str))\n",
    "    for t in times:\n",
    "        y, m = t.rstrip(\" \").split(\" \")\n",
    "        dates.append(datetime.date(year=int(y), month=int(m), day=1))\n",
    "    scatter = ax1.scatter(dates, btus, label=lab, c=colors[i])\n",
    "            labels.append(lab)\n",
    "\n",
    "    \n",
    "tooltip = mpld3.plugins.PointLabelTooltip(scatter, labels=labels)\n",
    "mpld3.plugins.connect(fig, tooltip)\n",
    "mpld3.display()"
   ]
  },
  {
   "cell_type": "code",
   "execution_count": 2,
   "metadata": {
    "collapsed": false
   },
   "outputs": [
    {
     "data": {
      "text/html": [
       "\n",
       "        <iframe\n",
       "            width=\"100%\"\n",
       "            height=\"500\"\n",
       "            src=\"http:////www.eia.gov/opendata/embed/iframe.php?series_id=TOTAL.NUETPUS.A\"\n",
       "            frameborder=\"0\"\n",
       "            allowfullscreen\n",
       "        ></iframe>\n",
       "        "
      ],
      "text/plain": [
       "<IPython.lib.display.IFrame at 0x1047f5fd0>"
      ]
     },
     "execution_count": 2,
     "metadata": {},
     "output_type": "execute_result"
    }
   ],
   "source": [
    "\n",
    "# Import the IPython display module\n",
    "from IPython.display import IFrame\n",
    "IFrame('http:////www.eia.gov/opendata/embed/iframe.php?series_id=TOTAL.NUETPUS.A', width=\"100%\", height=500)\n"
   ]
  },
  {
   "cell_type": "code",
   "execution_count": 3,
   "metadata": {
    "collapsed": false
   },
   "outputs": [
    {
     "data": {
      "text/html": [
       "\n",
       "\n",
       "<style>\n",
       "\n",
       "</style>\n",
       "\n",
       "<div id=\"fig_el917543711039286898957577\"></div>\n",
       "<script>\n",
       "function mpld3_load_lib(url, callback){\n",
       "  var s = document.createElement('script');\n",
       "  s.src = url;\n",
       "  s.async = true;\n",
       "  s.onreadystatechange = s.onload = callback;\n",
       "  s.onerror = function(){console.warn(\"failed to load library \" + url);};\n",
       "  document.getElementsByTagName(\"head\")[0].appendChild(s);\n",
       "}\n",
       "\n",
       "if(typeof(mpld3) !== \"undefined\" && mpld3._mpld3IsLoaded){\n",
       "   // already loaded: just create the figure\n",
       "   !function(mpld3){\n",
       "       \n",
       "       mpld3.draw_figure(\"fig_el917543711039286898957577\", {\"plugins\": [{\"type\": \"reset\"}, {\"button\": true, \"enabled\": false, \"type\": \"zoom\"}, {\"button\": true, \"enabled\": false, \"type\": \"boxzoom\"}, {\"location\": \"mouse\", \"hoffset\": 0, \"type\": \"tooltip\", \"voffset\": 10, \"id\": \"el91754554543232\", \"labels\": [\"point 1\", \"point 2\", \"point 3\", \"point 4\", \"point 5\", \"point 6\", \"point 7\", \"point 8\", \"point 9\", \"point 10\", \"point 11\", \"point 12\", \"point 13\", \"point 14\", \"point 15\", \"point 16\", \"point 17\", \"point 18\", \"point 19\", \"point 20\", \"point 21\", \"point 22\", \"point 23\", \"point 24\", \"point 25\", \"point 26\", \"point 27\", \"point 28\", \"point 29\", \"point 30\", \"point 31\", \"point 32\", \"point 33\", \"point 34\", \"point 35\", \"point 36\", \"point 37\", \"point 38\", \"point 39\", \"point 40\", \"point 41\", \"point 42\", \"point 43\", \"point 44\", \"point 45\", \"point 46\", \"point 47\", \"point 48\", \"point 49\", \"point 50\", \"point 51\", \"point 52\", \"point 53\", \"point 54\", \"point 55\", \"point 56\", \"point 57\", \"point 58\", \"point 59\", \"point 60\", \"point 61\", \"point 62\", \"point 63\", \"point 64\", \"point 65\", \"point 66\", \"point 67\", \"point 68\", \"point 69\", \"point 70\", \"point 71\", \"point 72\", \"point 73\", \"point 74\", \"point 75\", \"point 76\", \"point 77\", \"point 78\", \"point 79\", \"point 80\", \"point 81\", \"point 82\", \"point 83\", \"point 84\", \"point 85\", \"point 86\", \"point 87\", \"point 88\", \"point 89\", \"point 90\", \"point 91\", \"point 92\", \"point 93\", \"point 94\", \"point 95\", \"point 96\", \"point 97\", \"point 98\", \"point 99\", \"point 100\"]}], \"width\": 640.0, \"data\": {\"data01\": [[0.7111397671788234, 0.43657709807975525], [0.35067113176798, -0.42823259289489013], [1.0419259267462455, 0.6055830299645679], [0.6971158464332817, -0.3925415584772688], [1.318955525986519, 1.3944589296251535], [0.01494719148323157, 1.1115767702718042], [0.7342495461446581, 0.5651546870140924], [-0.5750975744066313, -2.1619950424444854], [0.9453516336517248, -0.8297076656422029], [-0.5622791095925647, -0.34754799206487375], [0.6252662067992066, -0.3309949470107242], [-0.48965211869348646, 0.03995924537778215], [0.856032541985433, 1.0290505185717516], [-0.35185823817031947, 0.6610886687429276], [0.1971880222289721, 0.054925387860590716], [-0.032676942807516644, -1.3346138894909878], [0.0929400379955042, 2.0184095927069077], [-0.24821720459191007, 0.5498587826932937], [-1.3932707854854076, 0.2860066922916199], [-0.39343859609418874, -0.6228582372027693], [0.42040433193318666, -0.44344933765819167], [0.36668938838410087, 0.8873433083721126], [0.16961199204208272, -0.7116537818324341], [0.14524488038437958, 1.8199045884683813], [-0.4971887350167894, -0.5051910646533286], [0.38391507352350923, -1.4387195382436442], [-0.41040646956318927, 0.8319089879580243], [-0.03922871261082432, 0.3494330947636556], [-1.224511821362997, -0.395468347174853], [-1.2465456768155152, 0.9170570846150569], [0.9598727028522945, -1.880638102431635], [-0.5070334327419725, 0.01495681038204826], [-0.6889431189942874, 0.6642960908020641], [0.8053847824763689, -0.17433905083072934], [1.2647960680028925, 0.8630128208497032], [0.892752798624537, 0.7345230754922749], [2.607933748101062, 0.9329229861515768], [-1.05070724812614, -0.6649017508598112], [0.6533333436105725, 0.5996687005687441], [1.3739666323214068, -1.7968890440641145], [-0.24234513077802491, 0.5095856426402374], [-1.9857268334564997, -0.4399694203316235], [0.06583178552588437, 0.23475684527586285], [1.3490804047841718, -0.26836028255760996], [0.6872410416391284, 1.225644632604628], [-0.8898872595011895, 0.05109450378602814], [-0.09757888390814795, 0.5569339444946464], [0.19060038238823235, 0.4169736961949313], [0.35144110974282344, -0.49368932633752377], [-1.3945826843535092, 0.3080697726560884], [-0.0929825302885687, 0.6899470941522906], [-0.6687582009239548, -0.597782082290842], [1.1453768984373798, -0.28729859019973214], [-0.22817520602167088, -2.365734448318431], [0.37936168622502664, 0.775807583658411], [0.37777035877459386, 0.5326119403410537], [-0.2977374512710838, -0.9248688476890922], [0.9327662115294322, 1.5816112546053187], [-0.037045824889995776, 0.14175763210768977], [0.5222582635532477, 2.5056601383908528], [0.6031572236024394, -1.029870106078355], [-0.7171383441728755, 0.34153312506452227], [-1.0554304756571198, 1.2262916001964335], [0.5783621249040641, -0.6379920100080667], [0.7507343002087611, 1.417526321266067], [-0.7213988669362291, 0.2394631823442752], [1.5276032660985344, 1.3048681973535534], [1.1727843690483508, 0.5190002047062964], [0.1537929678357735, -1.0346326801801444], [0.05528835321081816, -0.0325778978780472], [0.8431731135661565, -0.9868276691399236], [-0.9649876207210877, 0.5741278323132758], [-0.9803003077957935, 1.2204078060693193], [-0.2249799769888212, 0.31502889430947995], [2.359003562283904, -0.40867471324257043], [0.49774688491689667, -1.4253847614343977], [-0.5968114142974124, -0.06865269553938415], [2.050746909357131, 0.506670950488307], [1.4483976459884988, -0.20696157643089197], [0.8963029782945522, 0.6504605415103307], [0.07019269274309778, -0.8248109481727703], [-2.2205442979523538, -0.33448539817489037], [-0.9505022335712126, -0.2684180541569064], [-0.41192139410993694, -1.2110220082346252], [1.112796587034758, -0.34443408995951874], [-0.23531868003943196, -0.4710991520867888], [0.3025441846962934, 0.7756868681346414], [-0.06928920323164144, -0.577263052614359], [-1.2820038520110049, 1.5058052389934342], [0.029508493530791224, -0.0801707837068408], [-0.9525671462280322, 2.254015048737298], [-0.15759610796215295, 0.3250102300634531], [-1.6347544803149832, 0.35697050094206717], [-1.9151727079452876, -0.02912783457698851], [0.7845132050100341, 0.402950117581526], [0.22362803955521265, 0.7507840704554574], [-1.0774852308898974, 0.6342113699877722], [-1.765385308465902, -0.4471986187440861], [-0.9645721108268068, -1.888743366085368], [-1.4586640493713272, 0.837726413663077]]}, \"height\": 480.0, \"axes\": [{\"sharex\": [], \"texts\": [{\"alpha\": 1, \"color\": \"#000000\", \"h_anchor\": \"middle\", \"id\": \"el91754554404528\", \"fontsize\": 20.0, \"v_baseline\": \"auto\", \"coordinates\": \"axes\", \"rotation\": -0.0, \"position\": [0.5, 1.0144675925925926], \"zorder\": 3, \"text\": \"Scatter Plot (with tooltips!)\"}], \"ydomain\": [-3.0, 3.0], \"yscale\": \"linear\", \"markers\": [], \"axesbgalpha\": null, \"axesbg\": \"#EEEEEE\", \"xdomain\": [-3.0, 3.0], \"paths\": [], \"xlim\": [-3.0, 3.0], \"zoomable\": true, \"lines\": [], \"sharey\": [], \"id\": \"el91754512709992\", \"axes\": [{\"nticks\": 7, \"fontsize\": 12.0, \"tickvalues\": null, \"scale\": \"linear\", \"position\": \"bottom\", \"tickformat\": null, \"grid\": {\"dasharray\": \"10,0\", \"alpha\": 1.0, \"color\": \"#FFFFFF\", \"gridOn\": true}}, {\"nticks\": 7, \"fontsize\": 12.0, \"tickvalues\": null, \"scale\": \"linear\", \"position\": \"left\", \"tickformat\": null, \"grid\": {\"dasharray\": \"10,0\", \"alpha\": 1.0, \"color\": \"#FFFFFF\", \"gridOn\": true}}], \"images\": [], \"ylim\": [-3.0, 3.0], \"bbox\": [0.125, 0.09999999999999998, 0.775, 0.8], \"collections\": [{\"pathtransforms\": [[33.78272137053571, 0.0, 0.0, 33.78272137053571, 0.0, 0.0], [24.340263140667933, 0.0, 0.0, 24.340263140667933, 0.0, 0.0], [22.522044192636614, 0.0, 0.0, 22.522044192636614, 0.0, 0.0], [33.97713679265857, 0.0, 0.0, 33.97713679265857, 0.0, 0.0], [20.78654793150882, 0.0, 0.0, 20.78654793150882, 0.0, 0.0], [14.373985825137645, 0.0, 0.0, 14.373985825137645, 0.0, 0.0], [21.756640869535786, 0.0, 0.0, 21.756640869535786, 0.0, 0.0], [19.999852776984287, 0.0, 0.0, 19.999852776984287, 0.0, 0.0], [34.01955154557302, 0.0, 0.0, 34.01955154557302, 0.0, 0.0], [22.644978278713985, 0.0, 0.0, 22.644978278713985, 0.0, 0.0], [32.37432825935273, 0.0, 0.0, 32.37432825935273, 0.0, 0.0], [34.010297192235626, 0.0, 0.0, 34.010297192235626, 0.0, 0.0], [28.4634555765838, 0.0, 0.0, 28.4634555765838, 0.0, 0.0], [22.294399932911258, 0.0, 0.0, 22.294399932911258, 0.0, 0.0], [29.693385970690695, 0.0, 0.0, 29.693385970690695, 0.0, 0.0], [29.219622590903537, 0.0, 0.0, 29.219622590903537, 0.0, 0.0], [13.000852358490889, 0.0, 0.0, 13.000852358490889, 0.0, 0.0], [31.305335633709166, 0.0, 0.0, 31.305335633709166, 0.0, 0.0], [24.925019302987312, 0.0, 0.0, 24.925019302987312, 0.0, 0.0], [22.678509406644437, 0.0, 0.0, 22.678509406644437, 0.0, 0.0], [21.52763072367841, 0.0, 0.0, 21.52763072367841, 0.0, 0.0], [22.85904819994133, 0.0, 0.0, 22.85904819994133, 0.0, 0.0], [30.726147391948782, 0.0, 0.0, 30.726147391948782, 0.0, 0.0], [23.667888780463624, 0.0, 0.0, 23.667888780463624, 0.0, 0.0], [23.05465572236462, 0.0, 0.0, 23.05465572236462, 0.0, 0.0], [14.237308020521352, 0.0, 0.0, 14.237308020521352, 0.0, 0.0], [34.26109542397423, 0.0, 0.0, 34.26109542397423, 0.0, 0.0], [25.79056118114764, 0.0, 0.0, 25.79056118114764, 0.0, 0.0], [21.54448148492083, 0.0, 0.0, 21.54448148492083, 0.0, 0.0], [21.44286739285926, 0.0, 0.0, 21.44286739285926, 0.0, 0.0], [15.696069413653127, 0.0, 0.0, 15.696069413653127, 0.0, 0.0], [29.496705591911976, 0.0, 0.0, 29.496705591911976, 0.0, 0.0], [30.05857574757503, 0.0, 0.0, 30.05857574757503, 0.0, 0.0], [12.219374697481738, 0.0, 0.0, 12.219374697481738, 0.0, 0.0], [31.33376454281493, 0.0, 0.0, 31.33376454281493, 0.0, 0.0], [21.739982068811813, 0.0, 0.0, 21.739982068811813, 0.0, 0.0], [8.51081771909031, 0.0, 0.0, 8.51081771909031, 0.0, 0.0], [23.331624439555007, 0.0, 0.0, 23.331624439555007, 0.0, 0.0], [31.298773776753656, 0.0, 0.0, 31.298773776753656, 0.0, 0.0], [22.566905463703822, 0.0, 0.0, 22.566905463703822, 0.0, 0.0], [27.06704304709198, 0.0, 0.0, 27.06704304709198, 0.0, 0.0], [33.84753191068816, 0.0, 0.0, 33.84753191068816, 0.0, 0.0], [3.8318898524149265, 0.0, 0.0, 3.8318898524149265, 0.0, 0.0], [28.011077543126607, 0.0, 0.0, 28.011077543126607, 0.0, 0.0], [26.32717143248638, 0.0, 0.0, 26.32717143248638, 0.0, 0.0], [26.066574955040966, 0.0, 0.0, 26.066574955040966, 0.0, 0.0], [15.152164101518126, 0.0, 0.0, 15.152164101518126, 0.0, 0.0], [9.408196091724013, 0.0, 0.0, 9.408196091724013, 0.0, 0.0], [11.602127561338799, 0.0, 0.0, 11.602127561338799, 0.0, 0.0], [24.68961572010191, 0.0, 0.0, 24.68961572010191, 0.0, 0.0], [18.467129141863147, 0.0, 0.0, 18.467129141863147, 0.0, 0.0], [27.29170418670919, 0.0, 0.0, 27.29170418670919, 0.0, 0.0], [9.12690884579002, 0.0, 0.0, 9.12690884579002, 0.0, 0.0], [31.62672951034845, 0.0, 0.0, 31.62672951034845, 0.0, 0.0], [28.352376530801426, 0.0, 0.0, 28.352376530801426, 0.0, 0.0], [11.536703772546732, 0.0, 0.0, 11.536703772546732, 0.0, 0.0], [5.033112237821184, 0.0, 0.0, 5.033112237821184, 0.0, 0.0], [31.689162578707176, 0.0, 0.0, 31.689162578707176, 0.0, 0.0], [27.656227472749524, 0.0, 0.0, 27.656227472749524, 0.0, 0.0], [6.537109176434381, 0.0, 0.0, 6.537109176434381, 0.0, 0.0], [34.89661597584998, 0.0, 0.0, 34.89661597584998, 0.0, 0.0], [33.54053319424699, 0.0, 0.0, 33.54053319424699, 0.0, 0.0], [30.290589032923396, 0.0, 0.0, 30.290589032923396, 0.0, 0.0], [30.414458948130477, 0.0, 0.0, 30.414458948130477, 0.0, 0.0], [14.786386029966065, 0.0, 0.0, 14.786386029966065, 0.0, 0.0], [25.055793053381084, 0.0, 0.0, 25.055793053381084, 0.0, 0.0], [25.55712119754986, 0.0, 0.0, 25.55712119754986, 0.0, 0.0], [7.132554911048605, 0.0, 0.0, 7.132554911048605, 0.0, 0.0], [33.64937010313636, 0.0, 0.0, 33.64937010313636, 0.0, 0.0], [23.968583756454183, 0.0, 0.0, 23.968583756454183, 0.0, 0.0], [25.5879296532344, 0.0, 0.0, 25.5879296532344, 0.0, 0.0], [34.466715873659325, 0.0, 0.0, 34.466715873659325, 0.0, 0.0], [28.39041025027273, 0.0, 0.0, 28.39041025027273, 0.0, 0.0], [25.90330215276522, 0.0, 0.0, 25.90330215276522, 0.0, 0.0], [27.536059330748763, 0.0, 0.0, 27.536059330748763, 0.0, 0.0], [34.102427515597924, 0.0, 0.0, 34.102427515597924, 0.0, 0.0], [21.82225807417499, 0.0, 0.0, 21.82225807417499, 0.0, 0.0], [20.930749225160096, 0.0, 0.0, 20.930749225160096, 0.0, 0.0], [34.15201505308622, 0.0, 0.0, 34.15201505308622, 0.0, 0.0], [19.435531871508285, 0.0, 0.0, 19.435531871508285, 0.0, 0.0], [16.676692119095303, 0.0, 0.0, 16.676692119095303, 0.0, 0.0], [26.069066356757492, 0.0, 0.0, 26.069066356757492, 0.0, 0.0], [30.644278407299907, 0.0, 0.0, 30.644278407299907, 0.0, 0.0], [25.695730761620506, 0.0, 0.0, 25.695730761620506, 0.0, 0.0], [31.094617005200078, 0.0, 0.0, 31.094617005200078, 0.0, 0.0], [29.24587612679662, 0.0, 0.0, 29.24587612679662, 0.0, 0.0], [32.47678155285001, 0.0, 0.0, 32.47678155285001, 0.0, 0.0], [15.855487893682358, 0.0, 0.0, 15.855487893682358, 0.0, 0.0], [5.839689538304013, 0.0, 0.0, 5.839689538304013, 0.0, 0.0], [28.55873942437176, 0.0, 0.0, 28.55873942437176, 0.0, 0.0], [17.738631979345893, 0.0, 0.0, 17.738631979345893, 0.0, 0.0], [17.730353275501713, 0.0, 0.0, 17.730353275501713, 0.0, 0.0], [12.840588501820783, 0.0, 0.0, 12.840588501820783, 0.0, 0.0], [15.364935159518597, 0.0, 0.0, 15.364935159518597, 0.0, 0.0], [15.247376204095547, 0.0, 0.0, 15.247376204095547, 0.0, 0.0], [30.86965380181526, 0.0, 0.0, 30.86965380181526, 0.0, 0.0], [33.70557164700782, 0.0, 0.0, 33.70557164700782, 0.0, 0.0], [34.72589157751984, 0.0, 0.0, 34.72589157751984, 0.0, 0.0], [24.848415918417718, 0.0, 0.0, 24.848415918417718, 0.0, 0.0], [14.576496824245757, 0.0, 0.0, 14.576496824245757, 0.0, 0.0]], \"offsetcoordinates\": \"data\", \"yindex\": 1, \"alphas\": [0.3], \"facecolors\": [\"#000091\", \"#0000E8\", \"#00D8FF\", \"#00A4FF\", \"#00D0FF\", \"#FAF000\", \"#0000D1\", \"#E7FF0F\", \"#B7FF3F\", \"#0098FF\", \"#00B0FF\", \"#FFDE00\", \"#32FFC3\", \"#0014FF\", \"#BA0000\", \"#32FFC3\", \"#18FFDD\", \"#9F0000\", \"#000CFF\", \"#56FFA0\", \"#FFB100\", \"#0064FF\", \"#32FFC3\", \"#FF3B00\", \"#C7FF2F\", \"#FFC800\", \"#FF4A00\", \"#0014FF\", \"#B10000\", \"#0070FF\", \"#96FF5F\", \"#00BCFF\", \"#FF9F00\", \"#FFCB00\", \"#76FF80\", \"#D50000\", \"#009CFF\", \"#42FFB3\", \"#FF3B00\", \"#DAFF1C\", \"#05ECF1\", \"#FE1200\", \"#000091\", \"#FFDE00\", \"#FF2100\", \"#0030FF\", \"#8D0000\", \"#05ECF1\", \"#0000BF\", \"#42FFB3\", \"#9AFF5C\", \"#FF6B00\", \"#E80000\", \"#001CFF\", \"#73FF83\", \"#FFC000\", \"#0018FF\", \"#B10000\", \"#0008FF\", \"#0008FF\", \"#0088FF\", \"#0000E8\", \"#000088\", \"#0000D1\", \"#0048FF\", \"#0078FF\", \"#B3FF42\", \"#001CFF\", \"#00BCFF\", \"#00007F\", \"#00007F\", \"#FF6B00\", \"#FF2500\", \"#08F0ED\", \"#0000FE\", \"#FF5C00\", \"#C3FF32\", \"#00C8FF\", \"#18FFDD\", \"#FF2C00\", \"#0000E8\", \"#FAF000\", \"#0000B1\", \"#CDFF29\", \"#EDFF08\", \"#DDFF18\", \"#CC0000\", \"#ADFF49\", \"#005CFF\", \"#FF8C00\", \"#63FF93\", \"#DAFF1C\", \"#FF4D00\", \"#7F0000\", \"#FA0F00\", \"#F1FC05\", \"#0054FF\", \"#EC0300\", \"#00C4FF\", \"#00B8FF\"], \"pathcoordinates\": \"display\", \"zorder\": 1, \"xindex\": 0, \"edgewidths\": [1.0], \"id\": \"el91754554543232\", \"edgecolors\": [\"#000000\"], \"offsets\": \"data01\", \"paths\": [[[[0.0, -0.5], [0.13260155, -0.5], [0.25978993539242673, -0.44731684579412084], [0.3535533905932738, -0.3535533905932738], [0.44731684579412084, -0.25978993539242673], [0.5, -0.13260155], [0.5, 0.0], [0.5, 0.13260155], [0.44731684579412084, 0.25978993539242673], [0.3535533905932738, 0.3535533905932738], [0.25978993539242673, 0.44731684579412084], [0.13260155, 0.5], [0.0, 0.5], [-0.13260155, 0.5], [-0.25978993539242673, 0.44731684579412084], [-0.3535533905932738, 0.3535533905932738], [-0.44731684579412084, 0.25978993539242673], [-0.5, 0.13260155], [-0.5, 0.0], [-0.5, -0.13260155], [-0.44731684579412084, -0.25978993539242673], [-0.3535533905932738, -0.3535533905932738], [-0.25978993539242673, -0.44731684579412084], [-0.13260155, -0.5], [0.0, -0.5]], [\"M\", \"C\", \"C\", \"C\", \"C\", \"C\", \"C\", \"C\", \"C\", \"Z\"]]]}], \"xscale\": \"linear\"}], \"id\": \"el91754371103928\"});\n",
       "   }(mpld3);\n",
       "}else if(typeof define === \"function\" && define.amd){\n",
       "   // require.js is available: use it to load d3/mpld3\n",
       "   require.config({paths: {d3: \"https://mpld3.github.io/js/d3.v3.min\"}});\n",
       "   require([\"d3\"], function(d3){\n",
       "      window.d3 = d3;\n",
       "      mpld3_load_lib(\"https://mpld3.github.io/js/mpld3.v0.2.js\", function(){\n",
       "         \n",
       "         mpld3.draw_figure(\"fig_el917543711039286898957577\", {\"plugins\": [{\"type\": \"reset\"}, {\"button\": true, \"enabled\": false, \"type\": \"zoom\"}, {\"button\": true, \"enabled\": false, \"type\": \"boxzoom\"}, {\"location\": \"mouse\", \"hoffset\": 0, \"type\": \"tooltip\", \"voffset\": 10, \"id\": \"el91754554543232\", \"labels\": [\"point 1\", \"point 2\", \"point 3\", \"point 4\", \"point 5\", \"point 6\", \"point 7\", \"point 8\", \"point 9\", \"point 10\", \"point 11\", \"point 12\", \"point 13\", \"point 14\", \"point 15\", \"point 16\", \"point 17\", \"point 18\", \"point 19\", \"point 20\", \"point 21\", \"point 22\", \"point 23\", \"point 24\", \"point 25\", \"point 26\", \"point 27\", \"point 28\", \"point 29\", \"point 30\", \"point 31\", \"point 32\", \"point 33\", \"point 34\", \"point 35\", \"point 36\", \"point 37\", \"point 38\", \"point 39\", \"point 40\", \"point 41\", \"point 42\", \"point 43\", \"point 44\", \"point 45\", \"point 46\", \"point 47\", \"point 48\", \"point 49\", \"point 50\", \"point 51\", \"point 52\", \"point 53\", \"point 54\", \"point 55\", \"point 56\", \"point 57\", \"point 58\", \"point 59\", \"point 60\", \"point 61\", \"point 62\", \"point 63\", \"point 64\", \"point 65\", \"point 66\", \"point 67\", \"point 68\", \"point 69\", \"point 70\", \"point 71\", \"point 72\", \"point 73\", \"point 74\", \"point 75\", \"point 76\", \"point 77\", \"point 78\", \"point 79\", \"point 80\", \"point 81\", \"point 82\", \"point 83\", \"point 84\", \"point 85\", \"point 86\", \"point 87\", \"point 88\", \"point 89\", \"point 90\", \"point 91\", \"point 92\", \"point 93\", \"point 94\", \"point 95\", \"point 96\", \"point 97\", \"point 98\", \"point 99\", \"point 100\"]}], \"width\": 640.0, \"data\": {\"data01\": [[0.7111397671788234, 0.43657709807975525], [0.35067113176798, -0.42823259289489013], [1.0419259267462455, 0.6055830299645679], [0.6971158464332817, -0.3925415584772688], [1.318955525986519, 1.3944589296251535], [0.01494719148323157, 1.1115767702718042], [0.7342495461446581, 0.5651546870140924], [-0.5750975744066313, -2.1619950424444854], [0.9453516336517248, -0.8297076656422029], [-0.5622791095925647, -0.34754799206487375], [0.6252662067992066, -0.3309949470107242], [-0.48965211869348646, 0.03995924537778215], [0.856032541985433, 1.0290505185717516], [-0.35185823817031947, 0.6610886687429276], [0.1971880222289721, 0.054925387860590716], [-0.032676942807516644, -1.3346138894909878], [0.0929400379955042, 2.0184095927069077], [-0.24821720459191007, 0.5498587826932937], [-1.3932707854854076, 0.2860066922916199], [-0.39343859609418874, -0.6228582372027693], [0.42040433193318666, -0.44344933765819167], [0.36668938838410087, 0.8873433083721126], [0.16961199204208272, -0.7116537818324341], [0.14524488038437958, 1.8199045884683813], [-0.4971887350167894, -0.5051910646533286], [0.38391507352350923, -1.4387195382436442], [-0.41040646956318927, 0.8319089879580243], [-0.03922871261082432, 0.3494330947636556], [-1.224511821362997, -0.395468347174853], [-1.2465456768155152, 0.9170570846150569], [0.9598727028522945, -1.880638102431635], [-0.5070334327419725, 0.01495681038204826], [-0.6889431189942874, 0.6642960908020641], [0.8053847824763689, -0.17433905083072934], [1.2647960680028925, 0.8630128208497032], [0.892752798624537, 0.7345230754922749], [2.607933748101062, 0.9329229861515768], [-1.05070724812614, -0.6649017508598112], [0.6533333436105725, 0.5996687005687441], [1.3739666323214068, -1.7968890440641145], [-0.24234513077802491, 0.5095856426402374], [-1.9857268334564997, -0.4399694203316235], [0.06583178552588437, 0.23475684527586285], [1.3490804047841718, -0.26836028255760996], [0.6872410416391284, 1.225644632604628], [-0.8898872595011895, 0.05109450378602814], [-0.09757888390814795, 0.5569339444946464], [0.19060038238823235, 0.4169736961949313], [0.35144110974282344, -0.49368932633752377], [-1.3945826843535092, 0.3080697726560884], [-0.0929825302885687, 0.6899470941522906], [-0.6687582009239548, -0.597782082290842], [1.1453768984373798, -0.28729859019973214], [-0.22817520602167088, -2.365734448318431], [0.37936168622502664, 0.775807583658411], [0.37777035877459386, 0.5326119403410537], [-0.2977374512710838, -0.9248688476890922], [0.9327662115294322, 1.5816112546053187], [-0.037045824889995776, 0.14175763210768977], [0.5222582635532477, 2.5056601383908528], [0.6031572236024394, -1.029870106078355], [-0.7171383441728755, 0.34153312506452227], [-1.0554304756571198, 1.2262916001964335], [0.5783621249040641, -0.6379920100080667], [0.7507343002087611, 1.417526321266067], [-0.7213988669362291, 0.2394631823442752], [1.5276032660985344, 1.3048681973535534], [1.1727843690483508, 0.5190002047062964], [0.1537929678357735, -1.0346326801801444], [0.05528835321081816, -0.0325778978780472], [0.8431731135661565, -0.9868276691399236], [-0.9649876207210877, 0.5741278323132758], [-0.9803003077957935, 1.2204078060693193], [-0.2249799769888212, 0.31502889430947995], [2.359003562283904, -0.40867471324257043], [0.49774688491689667, -1.4253847614343977], [-0.5968114142974124, -0.06865269553938415], [2.050746909357131, 0.506670950488307], [1.4483976459884988, -0.20696157643089197], [0.8963029782945522, 0.6504605415103307], [0.07019269274309778, -0.8248109481727703], [-2.2205442979523538, -0.33448539817489037], [-0.9505022335712126, -0.2684180541569064], [-0.41192139410993694, -1.2110220082346252], [1.112796587034758, -0.34443408995951874], [-0.23531868003943196, -0.4710991520867888], [0.3025441846962934, 0.7756868681346414], [-0.06928920323164144, -0.577263052614359], [-1.2820038520110049, 1.5058052389934342], [0.029508493530791224, -0.0801707837068408], [-0.9525671462280322, 2.254015048737298], [-0.15759610796215295, 0.3250102300634531], [-1.6347544803149832, 0.35697050094206717], [-1.9151727079452876, -0.02912783457698851], [0.7845132050100341, 0.402950117581526], [0.22362803955521265, 0.7507840704554574], [-1.0774852308898974, 0.6342113699877722], [-1.765385308465902, -0.4471986187440861], [-0.9645721108268068, -1.888743366085368], [-1.4586640493713272, 0.837726413663077]]}, \"height\": 480.0, \"axes\": [{\"sharex\": [], \"texts\": [{\"alpha\": 1, \"color\": \"#000000\", \"h_anchor\": \"middle\", \"id\": \"el91754554404528\", \"fontsize\": 20.0, \"v_baseline\": \"auto\", \"coordinates\": \"axes\", \"rotation\": -0.0, \"position\": [0.5, 1.0144675925925926], \"zorder\": 3, \"text\": \"Scatter Plot (with tooltips!)\"}], \"ydomain\": [-3.0, 3.0], \"yscale\": \"linear\", \"markers\": [], \"axesbgalpha\": null, \"axesbg\": \"#EEEEEE\", \"xdomain\": [-3.0, 3.0], \"paths\": [], \"xlim\": [-3.0, 3.0], \"zoomable\": true, \"lines\": [], \"sharey\": [], \"id\": \"el91754512709992\", \"axes\": [{\"nticks\": 7, \"fontsize\": 12.0, \"tickvalues\": null, \"scale\": \"linear\", \"position\": \"bottom\", \"tickformat\": null, \"grid\": {\"dasharray\": \"10,0\", \"alpha\": 1.0, \"color\": \"#FFFFFF\", \"gridOn\": true}}, {\"nticks\": 7, \"fontsize\": 12.0, \"tickvalues\": null, \"scale\": \"linear\", \"position\": \"left\", \"tickformat\": null, \"grid\": {\"dasharray\": \"10,0\", \"alpha\": 1.0, \"color\": \"#FFFFFF\", \"gridOn\": true}}], \"images\": [], \"ylim\": [-3.0, 3.0], \"bbox\": [0.125, 0.09999999999999998, 0.775, 0.8], \"collections\": [{\"pathtransforms\": [[33.78272137053571, 0.0, 0.0, 33.78272137053571, 0.0, 0.0], [24.340263140667933, 0.0, 0.0, 24.340263140667933, 0.0, 0.0], [22.522044192636614, 0.0, 0.0, 22.522044192636614, 0.0, 0.0], [33.97713679265857, 0.0, 0.0, 33.97713679265857, 0.0, 0.0], [20.78654793150882, 0.0, 0.0, 20.78654793150882, 0.0, 0.0], [14.373985825137645, 0.0, 0.0, 14.373985825137645, 0.0, 0.0], [21.756640869535786, 0.0, 0.0, 21.756640869535786, 0.0, 0.0], [19.999852776984287, 0.0, 0.0, 19.999852776984287, 0.0, 0.0], [34.01955154557302, 0.0, 0.0, 34.01955154557302, 0.0, 0.0], [22.644978278713985, 0.0, 0.0, 22.644978278713985, 0.0, 0.0], [32.37432825935273, 0.0, 0.0, 32.37432825935273, 0.0, 0.0], [34.010297192235626, 0.0, 0.0, 34.010297192235626, 0.0, 0.0], [28.4634555765838, 0.0, 0.0, 28.4634555765838, 0.0, 0.0], [22.294399932911258, 0.0, 0.0, 22.294399932911258, 0.0, 0.0], [29.693385970690695, 0.0, 0.0, 29.693385970690695, 0.0, 0.0], [29.219622590903537, 0.0, 0.0, 29.219622590903537, 0.0, 0.0], [13.000852358490889, 0.0, 0.0, 13.000852358490889, 0.0, 0.0], [31.305335633709166, 0.0, 0.0, 31.305335633709166, 0.0, 0.0], [24.925019302987312, 0.0, 0.0, 24.925019302987312, 0.0, 0.0], [22.678509406644437, 0.0, 0.0, 22.678509406644437, 0.0, 0.0], [21.52763072367841, 0.0, 0.0, 21.52763072367841, 0.0, 0.0], [22.85904819994133, 0.0, 0.0, 22.85904819994133, 0.0, 0.0], [30.726147391948782, 0.0, 0.0, 30.726147391948782, 0.0, 0.0], [23.667888780463624, 0.0, 0.0, 23.667888780463624, 0.0, 0.0], [23.05465572236462, 0.0, 0.0, 23.05465572236462, 0.0, 0.0], [14.237308020521352, 0.0, 0.0, 14.237308020521352, 0.0, 0.0], [34.26109542397423, 0.0, 0.0, 34.26109542397423, 0.0, 0.0], [25.79056118114764, 0.0, 0.0, 25.79056118114764, 0.0, 0.0], [21.54448148492083, 0.0, 0.0, 21.54448148492083, 0.0, 0.0], [21.44286739285926, 0.0, 0.0, 21.44286739285926, 0.0, 0.0], [15.696069413653127, 0.0, 0.0, 15.696069413653127, 0.0, 0.0], [29.496705591911976, 0.0, 0.0, 29.496705591911976, 0.0, 0.0], [30.05857574757503, 0.0, 0.0, 30.05857574757503, 0.0, 0.0], [12.219374697481738, 0.0, 0.0, 12.219374697481738, 0.0, 0.0], [31.33376454281493, 0.0, 0.0, 31.33376454281493, 0.0, 0.0], [21.739982068811813, 0.0, 0.0, 21.739982068811813, 0.0, 0.0], [8.51081771909031, 0.0, 0.0, 8.51081771909031, 0.0, 0.0], [23.331624439555007, 0.0, 0.0, 23.331624439555007, 0.0, 0.0], [31.298773776753656, 0.0, 0.0, 31.298773776753656, 0.0, 0.0], [22.566905463703822, 0.0, 0.0, 22.566905463703822, 0.0, 0.0], [27.06704304709198, 0.0, 0.0, 27.06704304709198, 0.0, 0.0], [33.84753191068816, 0.0, 0.0, 33.84753191068816, 0.0, 0.0], [3.8318898524149265, 0.0, 0.0, 3.8318898524149265, 0.0, 0.0], [28.011077543126607, 0.0, 0.0, 28.011077543126607, 0.0, 0.0], [26.32717143248638, 0.0, 0.0, 26.32717143248638, 0.0, 0.0], [26.066574955040966, 0.0, 0.0, 26.066574955040966, 0.0, 0.0], [15.152164101518126, 0.0, 0.0, 15.152164101518126, 0.0, 0.0], [9.408196091724013, 0.0, 0.0, 9.408196091724013, 0.0, 0.0], [11.602127561338799, 0.0, 0.0, 11.602127561338799, 0.0, 0.0], [24.68961572010191, 0.0, 0.0, 24.68961572010191, 0.0, 0.0], [18.467129141863147, 0.0, 0.0, 18.467129141863147, 0.0, 0.0], [27.29170418670919, 0.0, 0.0, 27.29170418670919, 0.0, 0.0], [9.12690884579002, 0.0, 0.0, 9.12690884579002, 0.0, 0.0], [31.62672951034845, 0.0, 0.0, 31.62672951034845, 0.0, 0.0], [28.352376530801426, 0.0, 0.0, 28.352376530801426, 0.0, 0.0], [11.536703772546732, 0.0, 0.0, 11.536703772546732, 0.0, 0.0], [5.033112237821184, 0.0, 0.0, 5.033112237821184, 0.0, 0.0], [31.689162578707176, 0.0, 0.0, 31.689162578707176, 0.0, 0.0], [27.656227472749524, 0.0, 0.0, 27.656227472749524, 0.0, 0.0], [6.537109176434381, 0.0, 0.0, 6.537109176434381, 0.0, 0.0], [34.89661597584998, 0.0, 0.0, 34.89661597584998, 0.0, 0.0], [33.54053319424699, 0.0, 0.0, 33.54053319424699, 0.0, 0.0], [30.290589032923396, 0.0, 0.0, 30.290589032923396, 0.0, 0.0], [30.414458948130477, 0.0, 0.0, 30.414458948130477, 0.0, 0.0], [14.786386029966065, 0.0, 0.0, 14.786386029966065, 0.0, 0.0], [25.055793053381084, 0.0, 0.0, 25.055793053381084, 0.0, 0.0], [25.55712119754986, 0.0, 0.0, 25.55712119754986, 0.0, 0.0], [7.132554911048605, 0.0, 0.0, 7.132554911048605, 0.0, 0.0], [33.64937010313636, 0.0, 0.0, 33.64937010313636, 0.0, 0.0], [23.968583756454183, 0.0, 0.0, 23.968583756454183, 0.0, 0.0], [25.5879296532344, 0.0, 0.0, 25.5879296532344, 0.0, 0.0], [34.466715873659325, 0.0, 0.0, 34.466715873659325, 0.0, 0.0], [28.39041025027273, 0.0, 0.0, 28.39041025027273, 0.0, 0.0], [25.90330215276522, 0.0, 0.0, 25.90330215276522, 0.0, 0.0], [27.536059330748763, 0.0, 0.0, 27.536059330748763, 0.0, 0.0], [34.102427515597924, 0.0, 0.0, 34.102427515597924, 0.0, 0.0], [21.82225807417499, 0.0, 0.0, 21.82225807417499, 0.0, 0.0], [20.930749225160096, 0.0, 0.0, 20.930749225160096, 0.0, 0.0], [34.15201505308622, 0.0, 0.0, 34.15201505308622, 0.0, 0.0], [19.435531871508285, 0.0, 0.0, 19.435531871508285, 0.0, 0.0], [16.676692119095303, 0.0, 0.0, 16.676692119095303, 0.0, 0.0], [26.069066356757492, 0.0, 0.0, 26.069066356757492, 0.0, 0.0], [30.644278407299907, 0.0, 0.0, 30.644278407299907, 0.0, 0.0], [25.695730761620506, 0.0, 0.0, 25.695730761620506, 0.0, 0.0], [31.094617005200078, 0.0, 0.0, 31.094617005200078, 0.0, 0.0], [29.24587612679662, 0.0, 0.0, 29.24587612679662, 0.0, 0.0], [32.47678155285001, 0.0, 0.0, 32.47678155285001, 0.0, 0.0], [15.855487893682358, 0.0, 0.0, 15.855487893682358, 0.0, 0.0], [5.839689538304013, 0.0, 0.0, 5.839689538304013, 0.0, 0.0], [28.55873942437176, 0.0, 0.0, 28.55873942437176, 0.0, 0.0], [17.738631979345893, 0.0, 0.0, 17.738631979345893, 0.0, 0.0], [17.730353275501713, 0.0, 0.0, 17.730353275501713, 0.0, 0.0], [12.840588501820783, 0.0, 0.0, 12.840588501820783, 0.0, 0.0], [15.364935159518597, 0.0, 0.0, 15.364935159518597, 0.0, 0.0], [15.247376204095547, 0.0, 0.0, 15.247376204095547, 0.0, 0.0], [30.86965380181526, 0.0, 0.0, 30.86965380181526, 0.0, 0.0], [33.70557164700782, 0.0, 0.0, 33.70557164700782, 0.0, 0.0], [34.72589157751984, 0.0, 0.0, 34.72589157751984, 0.0, 0.0], [24.848415918417718, 0.0, 0.0, 24.848415918417718, 0.0, 0.0], [14.576496824245757, 0.0, 0.0, 14.576496824245757, 0.0, 0.0]], \"offsetcoordinates\": \"data\", \"yindex\": 1, \"alphas\": [0.3], \"facecolors\": [\"#000091\", \"#0000E8\", \"#00D8FF\", \"#00A4FF\", \"#00D0FF\", \"#FAF000\", \"#0000D1\", \"#E7FF0F\", \"#B7FF3F\", \"#0098FF\", \"#00B0FF\", \"#FFDE00\", \"#32FFC3\", \"#0014FF\", \"#BA0000\", \"#32FFC3\", \"#18FFDD\", \"#9F0000\", \"#000CFF\", \"#56FFA0\", \"#FFB100\", \"#0064FF\", \"#32FFC3\", \"#FF3B00\", \"#C7FF2F\", \"#FFC800\", \"#FF4A00\", \"#0014FF\", \"#B10000\", \"#0070FF\", \"#96FF5F\", \"#00BCFF\", \"#FF9F00\", \"#FFCB00\", \"#76FF80\", \"#D50000\", \"#009CFF\", \"#42FFB3\", \"#FF3B00\", \"#DAFF1C\", \"#05ECF1\", \"#FE1200\", \"#000091\", \"#FFDE00\", \"#FF2100\", \"#0030FF\", \"#8D0000\", \"#05ECF1\", \"#0000BF\", \"#42FFB3\", \"#9AFF5C\", \"#FF6B00\", \"#E80000\", \"#001CFF\", \"#73FF83\", \"#FFC000\", \"#0018FF\", \"#B10000\", \"#0008FF\", \"#0008FF\", \"#0088FF\", \"#0000E8\", \"#000088\", \"#0000D1\", \"#0048FF\", \"#0078FF\", \"#B3FF42\", \"#001CFF\", \"#00BCFF\", \"#00007F\", \"#00007F\", \"#FF6B00\", \"#FF2500\", \"#08F0ED\", \"#0000FE\", \"#FF5C00\", \"#C3FF32\", \"#00C8FF\", \"#18FFDD\", \"#FF2C00\", \"#0000E8\", \"#FAF000\", \"#0000B1\", \"#CDFF29\", \"#EDFF08\", \"#DDFF18\", \"#CC0000\", \"#ADFF49\", \"#005CFF\", \"#FF8C00\", \"#63FF93\", \"#DAFF1C\", \"#FF4D00\", \"#7F0000\", \"#FA0F00\", \"#F1FC05\", \"#0054FF\", \"#EC0300\", \"#00C4FF\", \"#00B8FF\"], \"pathcoordinates\": \"display\", \"zorder\": 1, \"xindex\": 0, \"edgewidths\": [1.0], \"id\": \"el91754554543232\", \"edgecolors\": [\"#000000\"], \"offsets\": \"data01\", \"paths\": [[[[0.0, -0.5], [0.13260155, -0.5], [0.25978993539242673, -0.44731684579412084], [0.3535533905932738, -0.3535533905932738], [0.44731684579412084, -0.25978993539242673], [0.5, -0.13260155], [0.5, 0.0], [0.5, 0.13260155], [0.44731684579412084, 0.25978993539242673], [0.3535533905932738, 0.3535533905932738], [0.25978993539242673, 0.44731684579412084], [0.13260155, 0.5], [0.0, 0.5], [-0.13260155, 0.5], [-0.25978993539242673, 0.44731684579412084], [-0.3535533905932738, 0.3535533905932738], [-0.44731684579412084, 0.25978993539242673], [-0.5, 0.13260155], [-0.5, 0.0], [-0.5, -0.13260155], [-0.44731684579412084, -0.25978993539242673], [-0.3535533905932738, -0.3535533905932738], [-0.25978993539242673, -0.44731684579412084], [-0.13260155, -0.5], [0.0, -0.5]], [\"M\", \"C\", \"C\", \"C\", \"C\", \"C\", \"C\", \"C\", \"C\", \"Z\"]]]}], \"xscale\": \"linear\"}], \"id\": \"el91754371103928\"});\n",
       "      });\n",
       "    });\n",
       "}else{\n",
       "    // require.js not available: dynamically load d3 & mpld3\n",
       "    mpld3_load_lib(\"https://mpld3.github.io/js/d3.v3.min.js\", function(){\n",
       "         mpld3_load_lib(\"https://mpld3.github.io/js/mpld3.v0.2.js\", function(){\n",
       "                 \n",
       "                 mpld3.draw_figure(\"fig_el917543711039286898957577\", {\"plugins\": [{\"type\": \"reset\"}, {\"button\": true, \"enabled\": false, \"type\": \"zoom\"}, {\"button\": true, \"enabled\": false, \"type\": \"boxzoom\"}, {\"location\": \"mouse\", \"hoffset\": 0, \"type\": \"tooltip\", \"voffset\": 10, \"id\": \"el91754554543232\", \"labels\": [\"point 1\", \"point 2\", \"point 3\", \"point 4\", \"point 5\", \"point 6\", \"point 7\", \"point 8\", \"point 9\", \"point 10\", \"point 11\", \"point 12\", \"point 13\", \"point 14\", \"point 15\", \"point 16\", \"point 17\", \"point 18\", \"point 19\", \"point 20\", \"point 21\", \"point 22\", \"point 23\", \"point 24\", \"point 25\", \"point 26\", \"point 27\", \"point 28\", \"point 29\", \"point 30\", \"point 31\", \"point 32\", \"point 33\", \"point 34\", \"point 35\", \"point 36\", \"point 37\", \"point 38\", \"point 39\", \"point 40\", \"point 41\", \"point 42\", \"point 43\", \"point 44\", \"point 45\", \"point 46\", \"point 47\", \"point 48\", \"point 49\", \"point 50\", \"point 51\", \"point 52\", \"point 53\", \"point 54\", \"point 55\", \"point 56\", \"point 57\", \"point 58\", \"point 59\", \"point 60\", \"point 61\", \"point 62\", \"point 63\", \"point 64\", \"point 65\", \"point 66\", \"point 67\", \"point 68\", \"point 69\", \"point 70\", \"point 71\", \"point 72\", \"point 73\", \"point 74\", \"point 75\", \"point 76\", \"point 77\", \"point 78\", \"point 79\", \"point 80\", \"point 81\", \"point 82\", \"point 83\", \"point 84\", \"point 85\", \"point 86\", \"point 87\", \"point 88\", \"point 89\", \"point 90\", \"point 91\", \"point 92\", \"point 93\", \"point 94\", \"point 95\", \"point 96\", \"point 97\", \"point 98\", \"point 99\", \"point 100\"]}], \"width\": 640.0, \"data\": {\"data01\": [[0.7111397671788234, 0.43657709807975525], [0.35067113176798, -0.42823259289489013], [1.0419259267462455, 0.6055830299645679], [0.6971158464332817, -0.3925415584772688], [1.318955525986519, 1.3944589296251535], [0.01494719148323157, 1.1115767702718042], [0.7342495461446581, 0.5651546870140924], [-0.5750975744066313, -2.1619950424444854], [0.9453516336517248, -0.8297076656422029], [-0.5622791095925647, -0.34754799206487375], [0.6252662067992066, -0.3309949470107242], [-0.48965211869348646, 0.03995924537778215], [0.856032541985433, 1.0290505185717516], [-0.35185823817031947, 0.6610886687429276], [0.1971880222289721, 0.054925387860590716], [-0.032676942807516644, -1.3346138894909878], [0.0929400379955042, 2.0184095927069077], [-0.24821720459191007, 0.5498587826932937], [-1.3932707854854076, 0.2860066922916199], [-0.39343859609418874, -0.6228582372027693], [0.42040433193318666, -0.44344933765819167], [0.36668938838410087, 0.8873433083721126], [0.16961199204208272, -0.7116537818324341], [0.14524488038437958, 1.8199045884683813], [-0.4971887350167894, -0.5051910646533286], [0.38391507352350923, -1.4387195382436442], [-0.41040646956318927, 0.8319089879580243], [-0.03922871261082432, 0.3494330947636556], [-1.224511821362997, -0.395468347174853], [-1.2465456768155152, 0.9170570846150569], [0.9598727028522945, -1.880638102431635], [-0.5070334327419725, 0.01495681038204826], [-0.6889431189942874, 0.6642960908020641], [0.8053847824763689, -0.17433905083072934], [1.2647960680028925, 0.8630128208497032], [0.892752798624537, 0.7345230754922749], [2.607933748101062, 0.9329229861515768], [-1.05070724812614, -0.6649017508598112], [0.6533333436105725, 0.5996687005687441], [1.3739666323214068, -1.7968890440641145], [-0.24234513077802491, 0.5095856426402374], [-1.9857268334564997, -0.4399694203316235], [0.06583178552588437, 0.23475684527586285], [1.3490804047841718, -0.26836028255760996], [0.6872410416391284, 1.225644632604628], [-0.8898872595011895, 0.05109450378602814], [-0.09757888390814795, 0.5569339444946464], [0.19060038238823235, 0.4169736961949313], [0.35144110974282344, -0.49368932633752377], [-1.3945826843535092, 0.3080697726560884], [-0.0929825302885687, 0.6899470941522906], [-0.6687582009239548, -0.597782082290842], [1.1453768984373798, -0.28729859019973214], [-0.22817520602167088, -2.365734448318431], [0.37936168622502664, 0.775807583658411], [0.37777035877459386, 0.5326119403410537], [-0.2977374512710838, -0.9248688476890922], [0.9327662115294322, 1.5816112546053187], [-0.037045824889995776, 0.14175763210768977], [0.5222582635532477, 2.5056601383908528], [0.6031572236024394, -1.029870106078355], [-0.7171383441728755, 0.34153312506452227], [-1.0554304756571198, 1.2262916001964335], [0.5783621249040641, -0.6379920100080667], [0.7507343002087611, 1.417526321266067], [-0.7213988669362291, 0.2394631823442752], [1.5276032660985344, 1.3048681973535534], [1.1727843690483508, 0.5190002047062964], [0.1537929678357735, -1.0346326801801444], [0.05528835321081816, -0.0325778978780472], [0.8431731135661565, -0.9868276691399236], [-0.9649876207210877, 0.5741278323132758], [-0.9803003077957935, 1.2204078060693193], [-0.2249799769888212, 0.31502889430947995], [2.359003562283904, -0.40867471324257043], [0.49774688491689667, -1.4253847614343977], [-0.5968114142974124, -0.06865269553938415], [2.050746909357131, 0.506670950488307], [1.4483976459884988, -0.20696157643089197], [0.8963029782945522, 0.6504605415103307], [0.07019269274309778, -0.8248109481727703], [-2.2205442979523538, -0.33448539817489037], [-0.9505022335712126, -0.2684180541569064], [-0.41192139410993694, -1.2110220082346252], [1.112796587034758, -0.34443408995951874], [-0.23531868003943196, -0.4710991520867888], [0.3025441846962934, 0.7756868681346414], [-0.06928920323164144, -0.577263052614359], [-1.2820038520110049, 1.5058052389934342], [0.029508493530791224, -0.0801707837068408], [-0.9525671462280322, 2.254015048737298], [-0.15759610796215295, 0.3250102300634531], [-1.6347544803149832, 0.35697050094206717], [-1.9151727079452876, -0.02912783457698851], [0.7845132050100341, 0.402950117581526], [0.22362803955521265, 0.7507840704554574], [-1.0774852308898974, 0.6342113699877722], [-1.765385308465902, -0.4471986187440861], [-0.9645721108268068, -1.888743366085368], [-1.4586640493713272, 0.837726413663077]]}, \"height\": 480.0, \"axes\": [{\"sharex\": [], \"texts\": [{\"alpha\": 1, \"color\": \"#000000\", \"h_anchor\": \"middle\", \"id\": \"el91754554404528\", \"fontsize\": 20.0, \"v_baseline\": \"auto\", \"coordinates\": \"axes\", \"rotation\": -0.0, \"position\": [0.5, 1.0144675925925926], \"zorder\": 3, \"text\": \"Scatter Plot (with tooltips!)\"}], \"ydomain\": [-3.0, 3.0], \"yscale\": \"linear\", \"markers\": [], \"axesbgalpha\": null, \"axesbg\": \"#EEEEEE\", \"xdomain\": [-3.0, 3.0], \"paths\": [], \"xlim\": [-3.0, 3.0], \"zoomable\": true, \"lines\": [], \"sharey\": [], \"id\": \"el91754512709992\", \"axes\": [{\"nticks\": 7, \"fontsize\": 12.0, \"tickvalues\": null, \"scale\": \"linear\", \"position\": \"bottom\", \"tickformat\": null, \"grid\": {\"dasharray\": \"10,0\", \"alpha\": 1.0, \"color\": \"#FFFFFF\", \"gridOn\": true}}, {\"nticks\": 7, \"fontsize\": 12.0, \"tickvalues\": null, \"scale\": \"linear\", \"position\": \"left\", \"tickformat\": null, \"grid\": {\"dasharray\": \"10,0\", \"alpha\": 1.0, \"color\": \"#FFFFFF\", \"gridOn\": true}}], \"images\": [], \"ylim\": [-3.0, 3.0], \"bbox\": [0.125, 0.09999999999999998, 0.775, 0.8], \"collections\": [{\"pathtransforms\": [[33.78272137053571, 0.0, 0.0, 33.78272137053571, 0.0, 0.0], [24.340263140667933, 0.0, 0.0, 24.340263140667933, 0.0, 0.0], [22.522044192636614, 0.0, 0.0, 22.522044192636614, 0.0, 0.0], [33.97713679265857, 0.0, 0.0, 33.97713679265857, 0.0, 0.0], [20.78654793150882, 0.0, 0.0, 20.78654793150882, 0.0, 0.0], [14.373985825137645, 0.0, 0.0, 14.373985825137645, 0.0, 0.0], [21.756640869535786, 0.0, 0.0, 21.756640869535786, 0.0, 0.0], [19.999852776984287, 0.0, 0.0, 19.999852776984287, 0.0, 0.0], [34.01955154557302, 0.0, 0.0, 34.01955154557302, 0.0, 0.0], [22.644978278713985, 0.0, 0.0, 22.644978278713985, 0.0, 0.0], [32.37432825935273, 0.0, 0.0, 32.37432825935273, 0.0, 0.0], [34.010297192235626, 0.0, 0.0, 34.010297192235626, 0.0, 0.0], [28.4634555765838, 0.0, 0.0, 28.4634555765838, 0.0, 0.0], [22.294399932911258, 0.0, 0.0, 22.294399932911258, 0.0, 0.0], [29.693385970690695, 0.0, 0.0, 29.693385970690695, 0.0, 0.0], [29.219622590903537, 0.0, 0.0, 29.219622590903537, 0.0, 0.0], [13.000852358490889, 0.0, 0.0, 13.000852358490889, 0.0, 0.0], [31.305335633709166, 0.0, 0.0, 31.305335633709166, 0.0, 0.0], [24.925019302987312, 0.0, 0.0, 24.925019302987312, 0.0, 0.0], [22.678509406644437, 0.0, 0.0, 22.678509406644437, 0.0, 0.0], [21.52763072367841, 0.0, 0.0, 21.52763072367841, 0.0, 0.0], [22.85904819994133, 0.0, 0.0, 22.85904819994133, 0.0, 0.0], [30.726147391948782, 0.0, 0.0, 30.726147391948782, 0.0, 0.0], [23.667888780463624, 0.0, 0.0, 23.667888780463624, 0.0, 0.0], [23.05465572236462, 0.0, 0.0, 23.05465572236462, 0.0, 0.0], [14.237308020521352, 0.0, 0.0, 14.237308020521352, 0.0, 0.0], [34.26109542397423, 0.0, 0.0, 34.26109542397423, 0.0, 0.0], [25.79056118114764, 0.0, 0.0, 25.79056118114764, 0.0, 0.0], [21.54448148492083, 0.0, 0.0, 21.54448148492083, 0.0, 0.0], [21.44286739285926, 0.0, 0.0, 21.44286739285926, 0.0, 0.0], [15.696069413653127, 0.0, 0.0, 15.696069413653127, 0.0, 0.0], [29.496705591911976, 0.0, 0.0, 29.496705591911976, 0.0, 0.0], [30.05857574757503, 0.0, 0.0, 30.05857574757503, 0.0, 0.0], [12.219374697481738, 0.0, 0.0, 12.219374697481738, 0.0, 0.0], [31.33376454281493, 0.0, 0.0, 31.33376454281493, 0.0, 0.0], [21.739982068811813, 0.0, 0.0, 21.739982068811813, 0.0, 0.0], [8.51081771909031, 0.0, 0.0, 8.51081771909031, 0.0, 0.0], [23.331624439555007, 0.0, 0.0, 23.331624439555007, 0.0, 0.0], [31.298773776753656, 0.0, 0.0, 31.298773776753656, 0.0, 0.0], [22.566905463703822, 0.0, 0.0, 22.566905463703822, 0.0, 0.0], [27.06704304709198, 0.0, 0.0, 27.06704304709198, 0.0, 0.0], [33.84753191068816, 0.0, 0.0, 33.84753191068816, 0.0, 0.0], [3.8318898524149265, 0.0, 0.0, 3.8318898524149265, 0.0, 0.0], [28.011077543126607, 0.0, 0.0, 28.011077543126607, 0.0, 0.0], [26.32717143248638, 0.0, 0.0, 26.32717143248638, 0.0, 0.0], [26.066574955040966, 0.0, 0.0, 26.066574955040966, 0.0, 0.0], [15.152164101518126, 0.0, 0.0, 15.152164101518126, 0.0, 0.0], [9.408196091724013, 0.0, 0.0, 9.408196091724013, 0.0, 0.0], [11.602127561338799, 0.0, 0.0, 11.602127561338799, 0.0, 0.0], [24.68961572010191, 0.0, 0.0, 24.68961572010191, 0.0, 0.0], [18.467129141863147, 0.0, 0.0, 18.467129141863147, 0.0, 0.0], [27.29170418670919, 0.0, 0.0, 27.29170418670919, 0.0, 0.0], [9.12690884579002, 0.0, 0.0, 9.12690884579002, 0.0, 0.0], [31.62672951034845, 0.0, 0.0, 31.62672951034845, 0.0, 0.0], [28.352376530801426, 0.0, 0.0, 28.352376530801426, 0.0, 0.0], [11.536703772546732, 0.0, 0.0, 11.536703772546732, 0.0, 0.0], [5.033112237821184, 0.0, 0.0, 5.033112237821184, 0.0, 0.0], [31.689162578707176, 0.0, 0.0, 31.689162578707176, 0.0, 0.0], [27.656227472749524, 0.0, 0.0, 27.656227472749524, 0.0, 0.0], [6.537109176434381, 0.0, 0.0, 6.537109176434381, 0.0, 0.0], [34.89661597584998, 0.0, 0.0, 34.89661597584998, 0.0, 0.0], [33.54053319424699, 0.0, 0.0, 33.54053319424699, 0.0, 0.0], [30.290589032923396, 0.0, 0.0, 30.290589032923396, 0.0, 0.0], [30.414458948130477, 0.0, 0.0, 30.414458948130477, 0.0, 0.0], [14.786386029966065, 0.0, 0.0, 14.786386029966065, 0.0, 0.0], [25.055793053381084, 0.0, 0.0, 25.055793053381084, 0.0, 0.0], [25.55712119754986, 0.0, 0.0, 25.55712119754986, 0.0, 0.0], [7.132554911048605, 0.0, 0.0, 7.132554911048605, 0.0, 0.0], [33.64937010313636, 0.0, 0.0, 33.64937010313636, 0.0, 0.0], [23.968583756454183, 0.0, 0.0, 23.968583756454183, 0.0, 0.0], [25.5879296532344, 0.0, 0.0, 25.5879296532344, 0.0, 0.0], [34.466715873659325, 0.0, 0.0, 34.466715873659325, 0.0, 0.0], [28.39041025027273, 0.0, 0.0, 28.39041025027273, 0.0, 0.0], [25.90330215276522, 0.0, 0.0, 25.90330215276522, 0.0, 0.0], [27.536059330748763, 0.0, 0.0, 27.536059330748763, 0.0, 0.0], [34.102427515597924, 0.0, 0.0, 34.102427515597924, 0.0, 0.0], [21.82225807417499, 0.0, 0.0, 21.82225807417499, 0.0, 0.0], [20.930749225160096, 0.0, 0.0, 20.930749225160096, 0.0, 0.0], [34.15201505308622, 0.0, 0.0, 34.15201505308622, 0.0, 0.0], [19.435531871508285, 0.0, 0.0, 19.435531871508285, 0.0, 0.0], [16.676692119095303, 0.0, 0.0, 16.676692119095303, 0.0, 0.0], [26.069066356757492, 0.0, 0.0, 26.069066356757492, 0.0, 0.0], [30.644278407299907, 0.0, 0.0, 30.644278407299907, 0.0, 0.0], [25.695730761620506, 0.0, 0.0, 25.695730761620506, 0.0, 0.0], [31.094617005200078, 0.0, 0.0, 31.094617005200078, 0.0, 0.0], [29.24587612679662, 0.0, 0.0, 29.24587612679662, 0.0, 0.0], [32.47678155285001, 0.0, 0.0, 32.47678155285001, 0.0, 0.0], [15.855487893682358, 0.0, 0.0, 15.855487893682358, 0.0, 0.0], [5.839689538304013, 0.0, 0.0, 5.839689538304013, 0.0, 0.0], [28.55873942437176, 0.0, 0.0, 28.55873942437176, 0.0, 0.0], [17.738631979345893, 0.0, 0.0, 17.738631979345893, 0.0, 0.0], [17.730353275501713, 0.0, 0.0, 17.730353275501713, 0.0, 0.0], [12.840588501820783, 0.0, 0.0, 12.840588501820783, 0.0, 0.0], [15.364935159518597, 0.0, 0.0, 15.364935159518597, 0.0, 0.0], [15.247376204095547, 0.0, 0.0, 15.247376204095547, 0.0, 0.0], [30.86965380181526, 0.0, 0.0, 30.86965380181526, 0.0, 0.0], [33.70557164700782, 0.0, 0.0, 33.70557164700782, 0.0, 0.0], [34.72589157751984, 0.0, 0.0, 34.72589157751984, 0.0, 0.0], [24.848415918417718, 0.0, 0.0, 24.848415918417718, 0.0, 0.0], [14.576496824245757, 0.0, 0.0, 14.576496824245757, 0.0, 0.0]], \"offsetcoordinates\": \"data\", \"yindex\": 1, \"alphas\": [0.3], \"facecolors\": [\"#000091\", \"#0000E8\", \"#00D8FF\", \"#00A4FF\", \"#00D0FF\", \"#FAF000\", \"#0000D1\", \"#E7FF0F\", \"#B7FF3F\", \"#0098FF\", \"#00B0FF\", \"#FFDE00\", \"#32FFC3\", \"#0014FF\", \"#BA0000\", \"#32FFC3\", \"#18FFDD\", \"#9F0000\", \"#000CFF\", \"#56FFA0\", \"#FFB100\", \"#0064FF\", \"#32FFC3\", \"#FF3B00\", \"#C7FF2F\", \"#FFC800\", \"#FF4A00\", \"#0014FF\", \"#B10000\", \"#0070FF\", \"#96FF5F\", \"#00BCFF\", \"#FF9F00\", \"#FFCB00\", \"#76FF80\", \"#D50000\", \"#009CFF\", \"#42FFB3\", \"#FF3B00\", \"#DAFF1C\", \"#05ECF1\", \"#FE1200\", \"#000091\", \"#FFDE00\", \"#FF2100\", \"#0030FF\", \"#8D0000\", \"#05ECF1\", \"#0000BF\", \"#42FFB3\", \"#9AFF5C\", \"#FF6B00\", \"#E80000\", \"#001CFF\", \"#73FF83\", \"#FFC000\", \"#0018FF\", \"#B10000\", \"#0008FF\", \"#0008FF\", \"#0088FF\", \"#0000E8\", \"#000088\", \"#0000D1\", \"#0048FF\", \"#0078FF\", \"#B3FF42\", \"#001CFF\", \"#00BCFF\", \"#00007F\", \"#00007F\", \"#FF6B00\", \"#FF2500\", \"#08F0ED\", \"#0000FE\", \"#FF5C00\", \"#C3FF32\", \"#00C8FF\", \"#18FFDD\", \"#FF2C00\", \"#0000E8\", \"#FAF000\", \"#0000B1\", \"#CDFF29\", \"#EDFF08\", \"#DDFF18\", \"#CC0000\", \"#ADFF49\", \"#005CFF\", \"#FF8C00\", \"#63FF93\", \"#DAFF1C\", \"#FF4D00\", \"#7F0000\", \"#FA0F00\", \"#F1FC05\", \"#0054FF\", \"#EC0300\", \"#00C4FF\", \"#00B8FF\"], \"pathcoordinates\": \"display\", \"zorder\": 1, \"xindex\": 0, \"edgewidths\": [1.0], \"id\": \"el91754554543232\", \"edgecolors\": [\"#000000\"], \"offsets\": \"data01\", \"paths\": [[[[0.0, -0.5], [0.13260155, -0.5], [0.25978993539242673, -0.44731684579412084], [0.3535533905932738, -0.3535533905932738], [0.44731684579412084, -0.25978993539242673], [0.5, -0.13260155], [0.5, 0.0], [0.5, 0.13260155], [0.44731684579412084, 0.25978993539242673], [0.3535533905932738, 0.3535533905932738], [0.25978993539242673, 0.44731684579412084], [0.13260155, 0.5], [0.0, 0.5], [-0.13260155, 0.5], [-0.25978993539242673, 0.44731684579412084], [-0.3535533905932738, 0.3535533905932738], [-0.44731684579412084, 0.25978993539242673], [-0.5, 0.13260155], [-0.5, 0.0], [-0.5, -0.13260155], [-0.44731684579412084, -0.25978993539242673], [-0.3535533905932738, -0.3535533905932738], [-0.25978993539242673, -0.44731684579412084], [-0.13260155, -0.5], [0.0, -0.5]], [\"M\", \"C\", \"C\", \"C\", \"C\", \"C\", \"C\", \"C\", \"C\", \"Z\"]]]}], \"xscale\": \"linear\"}], \"id\": \"el91754371103928\"});\n",
       "            })\n",
       "         });\n",
       "}\n",
       "</script>"
      ],
      "text/plain": [
       "<IPython.core.display.HTML object>"
      ]
     },
     "execution_count": 3,
     "metadata": {},
     "output_type": "execute_result"
    }
   ],
   "source": [
    "import matplotlib.pyplot as plt\n",
    "import numpy as np\n",
    "import mpld3\n",
    "\n",
    "fig, ax = plt.subplots(subplot_kw=dict(axisbg='#EEEEEE'))\n",
    "N = 100\n",
    "\n",
    "scatter = ax.scatter(np.random.normal(size=N),\n",
    "                     np.random.normal(size=N),\n",
    "                     c=np.random.random(size=N),\n",
    "                     s=1000 * np.random.random(size=N),\n",
    "                     alpha=0.3,\n",
    "                     cmap=plt.cm.jet)\n",
    "ax.grid(color='white', linestyle='solid')\n",
    "\n",
    "ax.set_title(\"Scatter Plot (with tooltips!)\", size=20)\n",
    "\n",
    "labels = ['point {0}'.format(i + 1) for i in range(N)]\n",
    "tooltip = mpld3.plugins.PointLabelTooltip(scatter, labels=labels)\n",
    "mpld3.plugins.connect(fig, tooltip)\n",
    "\n",
    "mpld3.display()"
   ]
  },
  {
   "cell_type": "code",
   "execution_count": 8,
   "metadata": {
    "collapsed": false
   },
   "outputs": [
    {
     "data": {
      "text/plain": [
       "[1,\n",
       " 2,\n",
       " 3,\n",
       " 1,\n",
       " 2,\n",
       " 3,\n",
       " 1,\n",
       " 2,\n",
       " 3,\n",
       " 1,\n",
       " 2,\n",
       " 3,\n",
       " 1,\n",
       " 2,\n",
       " 3,\n",
       " 1,\n",
       " 2,\n",
       " 3,\n",
       " 1,\n",
       " 2,\n",
       " 3,\n",
       " 1,\n",
       " 2,\n",
       " 3,\n",
       " 1,\n",
       " 2,\n",
       " 3,\n",
       " 1,\n",
       " 2,\n",
       " 3]"
      ]
     },
     "execution_count": 8,
     "metadata": {},
     "output_type": "execute_result"
    }
   ],
   "source": [
    "[1,2,3]*10"
   ]
  },
  {
   "cell_type": "code",
   "execution_count": null,
   "metadata": {
    "collapsed": true
   },
   "outputs": [],
   "source": []
  }
 ],
 "metadata": {
  "kernelspec": {
   "display_name": "Python 3",
   "language": "python",
   "name": "python3"
  },
  "language_info": {
   "codemirror_mode": {
    "name": "ipython",
    "version": 3
   },
   "file_extension": ".py",
   "mimetype": "text/x-python",
   "name": "python",
   "nbconvert_exporter": "python",
   "pygments_lexer": "ipython3",
   "version": "3.5.2"
  }
 },
 "nbformat": 4,
 "nbformat_minor": 0
}

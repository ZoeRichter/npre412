{
 "cells": [
  {
   "cell_type": "code",
   "execution_count": 22,
   "metadata": {
    "collapsed": true
   },
   "outputs": [],
   "source": [
    "%matplotlib notebook\n",
    "%matplotlib inline\n",
    "import math\n",
    "import matplotlib.pyplot as plt\n"
   ]
  },
  {
   "cell_type": "markdown",
   "metadata": {},
   "source": [
    "\n",
    "# Nuclear Power Economics and Fuel Management\n",
    "\n"
   ]
  },
  {
   "cell_type": "markdown",
   "metadata": {},
   "source": [
    "## Syllabus\n"
   ]
  },
  {
   "cell_type": "code",
   "execution_count": 23,
   "metadata": {
    "collapsed": false
   },
   "outputs": [
    {
     "data": {
      "text/html": [
       "\n",
       "        <iframe\n",
       "            width=\"1000\"\n",
       "            height=\"700\"\n",
       "            src=\"./syllabus.pdf\"\n",
       "            frameborder=\"0\"\n",
       "            allowfullscreen\n",
       "        ></iframe>\n",
       "        "
      ],
      "text/plain": [
       "<IPython.lib.display.IFrame at 0x1092a9320>"
      ]
     },
     "execution_count": 23,
     "metadata": {},
     "output_type": "execute_result"
    }
   ],
   "source": [
    "from IPython.display import IFrame\n",
    "IFrame(\"./syllabus.pdf\", width=1000, height=700)"
   ]
  },
  {
   "cell_type": "code",
   "execution_count": 24,
   "metadata": {
    "collapsed": false
   },
   "outputs": [
    {
     "data": {
      "text/html": [
       "\n",
       "        <iframe\n",
       "            width=\"1000\"\n",
       "            height=\"700\"\n",
       "            src=\"http://katyhuff.github.io\"\n",
       "            frameborder=\"0\"\n",
       "            allowfullscreen\n",
       "        ></iframe>\n",
       "        "
      ],
      "text/plain": [
       "<IPython.lib.display.IFrame at 0x10a14cb00>"
      ]
     },
     "execution_count": 24,
     "metadata": {},
     "output_type": "execute_result"
    }
   ],
   "source": [
    "from IPython.display import IFrame\n",
    "IFrame(\"http://katyhuff.github.io\", width=1000, height=700)"
   ]
  },
  {
   "cell_type": "markdown",
   "metadata": {},
   "source": [
    "## Assessment\n",
    "\n",
    "\n",
    "My goal (and, hopefully your goal) is for you to learn this material. If I have done my job right, your grade in this class will reflect just that -- how much you have learned. To do this for many learning types, your comprehension of the readings will be assessed with quizzes, your ability to apply what you've learned from class on your own will be assessed with the homeworks and projects, and your wholistic retention of the material will be assessed with tests.\n",
    "\n",
    "![http://www.phdcomics.com/comics/archive/phd051910s.gif](http://www.phdcomics.com/comics/archive/phd051910s.gif)\n"
   ]
  },
  {
   "cell_type": "markdown",
   "metadata": {
    "collapsed": true
   },
   "source": [
    "### Monday Background Assignments\n",
    "\n",
    "Rather than introducing you to concepts during class, I think our time is better spent if we focus on exploring those concepts through demonstration and discussion together. **This 'active learning' educational strategy is backed by science, but is also just more respectful of your ability to learn things on your own.** Therefore, the lectures will assume you have studied the background materials ahead of time. This will include book sections, government reports, videos, and other resources. You will be expected to study the material outside of class before the start of each week. This will include book sections, government reports, videos, and other resources.\n",
    "\n",
    "**On Monday of each week I'll assign a list of material. You'll have 7 days to study that material before we start covering those concepts in class.**\n",
    "\n",
    "![http://illinois.edu/assets/img/about/landmarks/grainger.jpg](http://illinois.edu/assets/img/about/landmarks/grainger.jpg)\n",
    "\n",
    "### Monday Quizzes\n",
    "\n",
    "To help me calibrate the in-class discussion, a weekly quiz will assess your comprehension of the background material. The quizzes can be taken online at any time during the week, but they must be completed by Monday at 10am, 7 days after the material was assigned.\n",
    "\n",
    "### Friday Homework Assignments\n",
    "\n",
    "Homeworks will be assigned each Friday concerning the material covered that week. You will have 7 days to do the homework, so it will be due at 10am on the following Friday. You'll notice that my office hours are also on Friday. This is intentional, because I feel office hours are most effective if you come to them after handing in your homework to discuss the parts that you didn't get. \n",
    "\n",
    "### Projects\n",
    "\n",
    "The class will involve a few longer projects, some of those will only be assigned to graduate students. \n",
    "\n",
    "### Tests\n",
    "\n",
    "The midterms will take place in class. They will be independent of one another. The final will be comprehensive.\n",
    "\n",
    "### Participation\n",
    "\n",
    "I will notice when you are not in class, but attendance won't directly affect your grades. It may, however, indirectly affect your grades. If you miss something I demonstrate in class, you'll have a lot more trouble proving that you've learned it. \n",
    "\n",
    "## How to get an A\n",
    "\n",
    "My dear friend, mathematician Kathryn Mann, has a great summary of [how to get an A in her class.](https://math.berkeley.edu/~kpmann/getanA.pdf). Everything she says about her math classes is true for this class as well. You should expect to spend 3 hours outside of class for every hour you spend in class. So, for a 3 credit class, you'll need to spend 3 hours a week in class and 9 hours outside of class on the coursework. If you find you're spending much less or much more time on this class, please let me know. \n",
    "\n",
    "## Late Work\n",
    "\n",
    "**Late work has a halflife of 1 hour.**\n",
    "\n",
    "There will be no negotiation about this **except in the case of absence documented by an absence letter from the Dean of Students.** The university policy for requesting such a letter is [here](http://studentcode.illinois.edu/article1_part5_1-501.html) . Please note that such a letter is appropriate for many types of conflicts, but that religious conflicts require special early handling. In accordance with university policy, students seeking an excused absence for religious reasons should complete the Request for Accommodation for Religious Observances Form, which can be found on the Office of the Dean of Students website. The student should submit this form to the instructor and the Office of the Dean of Students by the end of the second week of the course to which it applies.\n"
   ]
  },
  {
   "cell_type": "code",
   "execution_count": 82,
   "metadata": {
    "collapsed": false
   },
   "outputs": [],
   "source": [
    "import math\n",
    "def late_grade(hours_late, grade=100, half_life=1):\n",
    "    \"\"\"This function describes how much credit you will get for late work\"\"\"\n",
    "    lam = math.log(2)/half_life\n",
    "    return grade*math.exp(-lam*hours_late)"
   ]
  },
  {
   "cell_type": "code",
   "execution_count": 83,
   "metadata": {
    "collapsed": false
   },
   "outputs": [
    {
     "data": {
      "text/plain": [
       "<matplotlib.text.Text at 0x10fa17588>"
      ]
     },
     "execution_count": 83,
     "metadata": {},
     "output_type": "execute_result"
    },
    {
     "data": {
      "image/png": "[encoded data removed]",
      "text/plain": [
       "<matplotlib.figure.Figure at 0x10f7d4dd8>"
      ]
     },
     "metadata": {},
     "output_type": "display_data"
    }
   ],
   "source": [
    "# This code plots how much credit you'll get over time\n",
    "\n",
    "import numpy as np\n",
    "y = np.arange(24)\n",
    "x = np.arange(24)\n",
    "for h in range(0,24):\n",
    "    x[h] = h\n",
    "    y[h] = late_grade(h)\n",
    "    \n",
    "\n",
    "plt.scatter(x, y, color='blue', s=y*20, alpha=0.4)    \n",
    "plt.plot(x, y, color='red')    \n",
    "\n",
    "plt.ylabel('Percent of Grade Earned')\n",
    "plt.xlabel('Hours Late')\n",
    "plt.title('Grade Decay')\n"
   ]
  },
  {
   "cell_type": "code",
   "execution_count": 81,
   "metadata": {
    "collapsed": false
   },
   "outputs": [
    {
     "name": "stdout",
     "output_type": "stream",
     "text": [
      "If you turn in your homework an hour late, you'll get  50.0 % credit.\n",
      "If you turn in your homework six hours late, you'll get  1.56 % credit.\n",
      "If you turn in your homework a day late, you'll get  0.0 % credit.\n",
      "If you turn in your homework two days late, you'll get  0.0 % credit.\n",
      "If you turn in your homework three days late, you'll get  0.0 % credit.\n"
     ]
    }
   ],
   "source": [
    "print(\"If you turn in your homework an hour late, you'll get \", round(late_grade(1),2), \"% credit.\")\n",
    "print(\"If you turn in your homework six hours late, you'll get \", round(late_grade(6),2), \"% credit.\")\n",
    "print(\"If you turn in your homework a day late, you'll get \", round(late_grade(24),2), \"% credit.\")\n",
    "print(\"If you turn in your homework two days late, you'll get \", round(late_grade(48),2), \"% credit.\")\n",
    "print(\"If you turn in your homework three days late, you'll get \", round(late_grade(72),2), \"% credit.\")"
   ]
  },
  {
   "cell_type": "markdown",
   "metadata": {},
   "source": [
    "\n",
    "\n",
    "## Communications\n",
    "\n",
    "![http://www.phdcomics.com/comics/archive/phd042215s.gif](http://www.phdcomics.com/comics/archive/phd042215s.gif)"
   ]
  },
  {
   "cell_type": "code",
   "execution_count": null,
   "metadata": {
    "collapsed": true
   },
   "outputs": [],
   "source": []
  },
  {
   "cell_type": "markdown",
   "metadata": {},
   "source": [
    "## Python, IPython, Jupyter, and the Notebooks\n",
    "\n",
    "Rather than reading equations off of slides, I will display lecture notes, equations, and images in \"Jupyter notebooks\" like this one. Sometimes, I will call them by their old name, \"IPython notebooks,\" but I'm talking about \"Jupyter notebooks\". Interleaved with the course notes, we will often write small functions in the Python programming language to represent the equations we are talking about. This will allow you to interact with the math, changing variables, modifying the models, and exploring the parameter space. \n",
    "\n",
    "### But I don't know Python!\n",
    "\n",
    "*You don't have to know Python to take this class.* However, you will need to learn a little along the way. I will provide lots of example code to support your completion of homework assignments and I will never ask you to write functioning code as part of any written exam. Programming is really hard without the internet. \n",
    "\n",
    "### Exercises\n",
    "\n",
    "Watch for blocks titled **Exercise** in the notebooks. Those mark moments when I will ask you, during class, to try something out, explore an equation, or arrive at an answer. These are short and are not meant to be difficult. They exist to quickly solidify an idea before we move on to the next one. I will often randomly call on students (with a random number generator populated with the enrollment list) to give solutions to the exercises, so **a failure to show up and participate will be noticed.** \n",
    "\n",
    "### Installing Python, IPython, Jupyter, and the Notebooks\n",
    "\n",
    "Because engaging in the exercises will be required, you'll need to have a computer equipped with Python and a basic set of scientific python libraries. Your first homework, due before our next class, is to install Python according to the instructions here:\n",
    "\n",
    "\n",
    "_If you already have Python installed_ we're going to have to make sure you have a setup that will work. Run the check script. If there are failures, let's chat. It is very likely that I'll have you set up a brand new python environment."
   ]
  },
  {
   "cell_type": "markdown",
   "metadata": {},
   "source": [
    "## Git and Github\n",
    "\n",
    "These notebooks are stored \"in the cloud,\" which is to say that they are stored on someone else's computers. Those computers are servers at GitHub, a sometimes silly but also very important company in the beautiful city of San Francisco. GitHub stores \"git repositories\" which are collections of files that are \"version controlled\" by the the program \"git.\" This is a lot to keep track of, and I won't require that you learn git to participate in this class. However, I strongly recommend using git and GitHub and to keep track of your research code. So, I will incentivize you to learn and use these tools by giving bonus points here and there for use of git and GitHub. For example, I will be giving 1 bonus point per homework for those of you who submit your homework to me using git. \n",
    "\n",
    "### Installing Git\n",
    "\n",
    "\n",
    "\n",
    "### Setting Up GitHub\n",
    "\n",
    "\n",
    "\n"
   ]
  }
 ],
 "metadata": {
  "kernelspec": {
   "display_name": "Python 3",
   "language": "python",
   "name": "python3"
  },
  "language_info": {
   "codemirror_mode": {
    "name": "ipython",
    "version": 3
   },
   "file_extension": ".py",
   "mimetype": "text/x-python",
   "name": "python",
   "nbconvert_exporter": "python",
   "pygments_lexer": "ipython3",
   "version": "3.5.2"
  }
 },
 "nbformat": 4,
 "nbformat_minor": 0
}

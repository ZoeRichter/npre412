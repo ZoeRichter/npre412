{
 "cells": [
  {
   "cell_type": "markdown",
   "metadata": {},
   "source": [
    "# An Overview of Nuclear Power\n",
    "\n",
    "Do not be fooled. The nuclear power industry is not driven by public opinion, positive or negative. It, like all other industries, is driven by economics."
   ]
  },
  {
   "cell_type": "markdown",
   "metadata": {},
   "source": [
    "## World net electricity generation by fuel type"
   ]
  },
  {
   "cell_type": "markdown",
   "metadata": {},
   "source": [
    "## Countries with highest dependence on nuclear power"
   ]
  },
  {
   "cell_type": "markdown",
   "metadata": {},
   "source": [
    "## Nuclear energy share in the US"
   ]
  },
  {
   "cell_type": "markdown",
   "metadata": {},
   "source": [
    "### Question: Why did the US not build new nuclear reactors for 30 years?\n"
   ]
  },
  {
   "cell_type": "markdown",
   "metadata": {},
   "source": [
    "## New builds\n",
    "\n",
    "EIA Projection of World Nuclear Power Growth through 2025\n",
    "\n",
    "### China\n",
    "\n",
    "### India\n",
    "\n",
    "### Finland\n",
    "\n",
    "### US\n"
   ]
  },
  {
   "cell_type": "markdown",
   "metadata": {},
   "source": [
    "## Important terminology\n",
    "\n",
    "- Macroeconomics: The large scale behavior of economies (national and international prosperity, etc.)\n",
    "- Microeconomics: The behavior of commodity markets, industries\n",
    "- Engineering Economics: Analysis of particular investments based on technologies, pricing, commodity markets, etc. \n",
    "- Accounting: Tracking the actual progress of balances, perhaps involving investments.\n",
    "- Available Capital: Liquid funds today\n",
    "- Investment: Paying capital now in the hopes toward an effort that will improve the value of that money later\n",
    "- Debt: Paying in the future for the priviledge of money now\n"
   ]
  },
  {
   "cell_type": "code",
   "execution_count": 4,
   "metadata": {
    "collapsed": false
   },
   "outputs": [
    {
     "data": {
      "text/html": [
       "\n",
       "        <iframe\n",
       "            width=\"700\"\n",
       "            height=\"1000\"\n",
       "            src=\"https://upload.wikimedia.org/wikipedia/commons/6/6f/IL_PowerStations1.pdf\"\n",
       "            frameborder=\"0\"\n",
       "            allowfullscreen\n",
       "        ></iframe>\n",
       "        "
      ],
      "text/plain": [
       "<IPython.lib.display.IFrame at 0x10437acf8>"
      ]
     },
     "execution_count": 4,
     "metadata": {},
     "output_type": "execute_result"
    }
   ],
   "source": [
    "from IPython.display import IFrame\n",
    "\n",
    "IFrame(\"https://upload.wikimedia.org/wikipedia/commons/6/6f/IL_PowerStations1.pdf\", width=700, height=1000)"
   ]
  },
  {
   "cell_type": "code",
   "execution_count": 6,
   "metadata": {
    "collapsed": false
   },
   "outputs": [
    {
     "data": {
      "text/html": [
       "\n",
       "        <iframe\n",
       "            width=\"1000\"\n",
       "            height=\"1000\"\n",
       "            src=\"http://www.nrc.gov/reactors/operating/map-power-reactors.html\"\n",
       "            frameborder=\"0\"\n",
       "            allowfullscreen\n",
       "        ></iframe>\n",
       "        "
      ],
      "text/plain": [
       "<IPython.lib.display.IFrame at 0x10437a518>"
      ]
     },
     "execution_count": 6,
     "metadata": {},
     "output_type": "execute_result"
    }
   ],
   "source": [
    "IFrame(\"http://www.nrc.gov/reactors/operating/map-power-reactors.html\", width=1000, height=1000)\n"
   ]
  },
  {
   "cell_type": "code",
   "execution_count": null,
   "metadata": {
    "collapsed": true
   },
   "outputs": [],
   "source": []
  }
 ],
 "metadata": {
  "kernelspec": {
   "display_name": "Python 3",
   "language": "python",
   "name": "python3"
  },
  "language_info": {
   "codemirror_mode": {
    "name": "ipython",
    "version": 3
   },
   "file_extension": ".py",
   "mimetype": "text/x-python",
   "name": "python",
   "nbconvert_exporter": "python",
   "pygments_lexer": "ipython3",
   "version": "3.5.2"
  }
 },
 "nbformat": 4,
 "nbformat_minor": 0
}

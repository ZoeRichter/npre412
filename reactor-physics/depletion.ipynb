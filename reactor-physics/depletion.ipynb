{
 "cells": [
  {
   "cell_type": "code",
   "execution_count": 1,
   "metadata": {
    "collapsed": true
   },
   "outputs": [],
   "source": [
    "%matplotlib inline\n",
    "\n",
    "import matplotlib\n",
    "import numpy as np\n",
    "import matplotlib.pyplot as plt\n",
    "\n",
    "plt.rcParams[\"figure.figsize\"] = (12, 9)\n",
    "plt.rcParams[\"font.size\"] = 18"
   ]
  },
  {
   "cell_type": "markdown",
   "metadata": {},
   "source": [
    "# Depletion and Conversion\n",
    "\n",
    "A key feature of reactor physics is the depletion of fuel and buildup of other fission products. \n",
    "\n",
    "## Learning Objectives\n",
    "\n",
    "- Describe the relationship between reactivity loss and fuel burnup.\n",
    "- Calculate changes in core power distribution with fuel depletion.\n",
    "- Calculate the need for core reloading based on fuel burnup.\n",
    "- Recognize the relationship between reactivity control and core power distribution.\n",
    "- Calculate depletion of both fuel isotopes and burnable poisons.\n",
    "- Quantify the conversion of uranium into plutonium.\n",
    "- Identify the physical meaning of the capture cross section.\n",
    "- Evaluate the evolution of fuel composition throughout the lifetime of a reactor.\n",
    "- Analyze the energy produced during the cycle based on core power, reactivity control, and depletion."
   ]
  },
  {
   "cell_type": "markdown",
   "metadata": {},
   "source": [
    "## Fuel Depletion\n",
    "\n",
    "Decays, fissions, and absorptions compete throughout the life of the reactor.\n",
    "\n",
    "![./fuel_comp.png](./fuel_comp.png)\n",
    "\n",
    "### Decay\n",
    "\n",
    "Recall decay.\n",
    "\n",
    "$$\n",
    "\\begin{align}\n",
    "        \\frac{dN}{dt} &= -\\lambda N \\\\\n",
    "       \\Rightarrow N_i(t) &= N_i(0)e^{-\\lambda t}\\\\\n",
    "\\end{align}\n",
    "$$\n",
    "\n",
    "where\n",
    "\n",
    "$$\n",
    "\\begin{align}\n",
    "        N_i(t) &= \\mbox{number of isotopes i adjusted for decay}\\\\\n",
    "        N_i(0)&= \\mbox{initial condition}\\\\\n",
    "        \\lambda &= \\frac{ln(2)}{t_{1/2}} = \\mbox{decay constant} \\\\\n",
    "        t &= \\mbox{time elapsed [s]}\\\\\n",
    "        t_{1/2} &= 1 = \\mbox{half-life [s]} \\\\\n",
    "\\end{align}\n",
    "$$\n"
   ]
  },
  {
   "cell_type": "code",
   "execution_count": 2,
   "metadata": {
    "collapsed": false
   },
   "outputs": [
    {
     "name": "stderr",
     "output_type": "stream",
     "text": [
      "/home/huff/anaconda3/lib/python3.5/site-packages/IPython/core/formatters.py:92: DeprecationWarning: DisplayFormatter._ipython_display_formatter_default is deprecated: use @default decorator instead.\n",
      "  def _ipython_display_formatter_default(self):\n",
      "/home/huff/anaconda3/lib/python3.5/site-packages/IPython/core/formatters.py:669: DeprecationWarning: PlainTextFormatter._singleton_printers_default is deprecated: use @default decorator instead.\n",
      "  def _singleton_printers_default(self):\n"
     ]
    },
    {
     "data": {
      "text/html": [
       "\n",
       "\n",
       "<style>\n",
       "\n",
       "</style>\n",
       "\n",
       "<div id=\"fig_el241381399575640482166847080363\"></div>\n",
       "<script>\n",
       "function mpld3_load_lib(url, callback){\n",
       "  var s = document.createElement('script');\n",
       "  s.src = url;\n",
       "  s.async = true;\n",
       "  s.onreadystatechange = s.onload = callback;\n",
       "  s.onerror = function(){console.warn(\"failed to load library \" + url);};\n",
       "  document.getElementsByTagName(\"head\")[0].appendChild(s);\n",
       "}\n",
       "\n",
       "if(typeof(mpld3) !== \"undefined\" && mpld3._mpld3IsLoaded){\n",
       "   // already loaded: just create the figure\n",
       "   !function(mpld3){\n",
       "       \n",
       "       mpld3.draw_figure(\"fig_el241381399575640482166847080363\", {\"axes\": [{\"ylim\": [-20.0, 120.0], \"axesbgalpha\": null, \"xlim\": [-5.0, 25.0], \"id\": \"el24138139957564050624\", \"yscale\": \"linear\", \"paths\": [], \"axes\": [{\"tickvalues\": null, \"position\": \"bottom\", \"tickformat\": null, \"scale\": \"linear\", \"fontsize\": 18.0, \"grid\": {\"gridOn\": false}, \"nticks\": 7}, {\"tickvalues\": null, \"position\": \"left\", \"tickformat\": null, \"scale\": \"linear\", \"fontsize\": 18.0, \"grid\": {\"gridOn\": false}, \"nticks\": 8}], \"zoomable\": true, \"xdomain\": [-5.0, 25.0], \"xscale\": \"linear\", \"images\": [], \"sharex\": [], \"axesbg\": \"#FFFFFF\", \"ydomain\": [-20.0, 120.0], \"texts\": [{\"h_anchor\": \"middle\", \"rotation\": -0.0, \"position\": [0.5, -0.05197132616487454], \"coordinates\": \"axes\", \"v_baseline\": \"hanging\", \"id\": \"el24138139957525033032\", \"zorder\": 3, \"text\": \"Time\", \"color\": \"#000000\", \"alpha\": 1, \"fontsize\": 18.0}, {\"h_anchor\": \"middle\", \"rotation\": -90.0, \"position\": [-0.07022849462365591, 0.5], \"coordinates\": \"axes\", \"v_baseline\": \"auto\", \"id\": \"el24138139957525104400\", \"zorder\": 3, \"text\": \"N_i(t)\", \"color\": \"#000000\", \"alpha\": 1, \"fontsize\": 18.0}, {\"h_anchor\": \"middle\", \"rotation\": -0.0, \"position\": [0.5, 1.0099561927518916], \"coordinates\": \"axes\", \"v_baseline\": \"auto\", \"id\": \"el24138139957525200008\", \"zorder\": 3, \"text\": \"N_i\", \"color\": \"#000000\", \"alpha\": 1, \"fontsize\": 21.599999999999998}], \"bbox\": [0.125, 0.125, 0.775, 0.775], \"lines\": [{\"xindex\": 0, \"zorder\": 2, \"yindex\": 1, \"coordinates\": \"data\", \"linewidth\": 1.0, \"id\": \"el24138139957524848256\", \"alpha\": 1, \"color\": \"#FF0000\", \"dasharray\": \"10,0\", \"data\": \"data01\"}], \"collections\": [{\"xindex\": 0, \"offsetcoordinates\": \"data\", \"id\": \"el24138139957564048160\", \"edgecolors\": [\"#0000FF\"], \"edgewidths\": [1.0], \"alphas\": [0.4], \"zorder\": 1, \"pathtransforms\": [[49.69039949999532, 0.0, 0.0, 49.69039949999532, 0.0, 0.0], [35.136418446315325, 0.0, 0.0, 35.136418446315325, 0.0, 0.0], [24.84519974999766, 0.0, 0.0, 24.84519974999766, 0.0, 0.0], [17.21325931647741, 0.0, 0.0, 17.21325931647741, 0.0, 0.0], [12.171612389003691, 0.0, 0.0, 12.171612389003691, 0.0, 0.0], [8.606629658238704, 0.0, 0.0, 8.606629658238704, 0.0, 0.0], [4.969039949999533, 0.0, 0.0, 4.969039949999533, 0.0, 0.0], [0.0, 0.0, 0.0, 0.0, 0.0, 0.0], [0.0, 0.0, 0.0, 0.0, 0.0, 0.0], [0.0, 0.0, 0.0, 0.0, 0.0, 0.0], [0.0, 0.0, 0.0, 0.0, 0.0, 0.0], [0.0, 0.0, 0.0, 0.0, 0.0, 0.0], [0.0, 0.0, 0.0, 0.0, 0.0, 0.0], [0.0, 0.0, 0.0, 0.0, 0.0, 0.0], [0.0, 0.0, 0.0, 0.0, 0.0, 0.0], [0.0, 0.0, 0.0, 0.0, 0.0, 0.0], [0.0, 0.0, 0.0, 0.0, 0.0, 0.0], [0.0, 0.0, 0.0, 0.0, 0.0, 0.0], [0.0, 0.0, 0.0, 0.0, 0.0, 0.0], [0.0, 0.0, 0.0, 0.0, 0.0, 0.0], [0.0, 0.0, 0.0, 0.0, 0.0, 0.0], [0.0, 0.0, 0.0, 0.0, 0.0, 0.0], [0.0, 0.0, 0.0, 0.0, 0.0, 0.0], [0.0, 0.0, 0.0, 0.0, 0.0, 0.0]], \"paths\": [[[[0.0, -0.5], [0.13260155, -0.5], [0.25978993539242673, -0.44731684579412084], [0.3535533905932738, -0.3535533905932738], [0.44731684579412084, -0.25978993539242673], [0.5, -0.13260155], [0.5, 0.0], [0.5, 0.13260155], [0.44731684579412084, 0.25978993539242673], [0.3535533905932738, 0.3535533905932738], [0.25978993539242673, 0.44731684579412084], [0.13260155, 0.5], [0.0, 0.5], [-0.13260155, 0.5], [-0.25978993539242673, 0.44731684579412084], [-0.3535533905932738, 0.3535533905932738], [-0.44731684579412084, 0.25978993539242673], [-0.5, 0.13260155], [-0.5, 0.0], [-0.5, -0.13260155], [-0.44731684579412084, -0.25978993539242673], [-0.3535533905932738, -0.3535533905932738], [-0.25978993539242673, -0.44731684579412084], [-0.13260155, -0.5], [0.0, -0.5]], [\"M\", \"C\", \"C\", \"C\", \"C\", \"C\", \"C\", \"C\", \"C\", \"Z\"]]], \"yindex\": 1, \"facecolors\": [\"#0000FF\"], \"pathcoordinates\": \"display\", \"offsets\": \"data01\"}], \"markers\": [], \"sharey\": []}], \"id\": \"el24138139957564048216\", \"height\": 720.0, \"width\": 960.0, \"plugins\": [{\"type\": \"reset\"}, {\"button\": true, \"enabled\": false, \"type\": \"zoom\"}, {\"button\": true, \"enabled\": false, \"type\": \"boxzoom\"}, {\"hoffset\": 0, \"location\": \"mouse\", \"id\": \"el24138139957564048160\", \"labels\": [\"100% remaining\", \"50% remaining\", \"25% remaining\", \"12% remaining\", \"6% remaining\", \"3% remaining\", \"1% remaining\", \"0% remaining\", \"0% remaining\", \"0% remaining\", \"0% remaining\", \"0% remaining\", \"0% remaining\", \"0% remaining\", \"0% remaining\", \"0% remaining\", \"0% remaining\", \"0% remaining\", \"0% remaining\", \"0% remaining\", \"0% remaining\", \"0% remaining\", \"0% remaining\", \"0% remaining\"], \"type\": \"tooltip\", \"voffset\": 10}], \"data\": {\"data01\": [[0.0, 100.0], [1.0, 50.0], [2.0, 25.0], [3.0, 12.0], [4.0, 6.0], [5.0, 3.0], [6.0, 1.0], [7.0, 0.0], [8.0, 0.0], [9.0, 0.0], [10.0, 0.0], [11.0, 0.0], [12.0, 0.0], [13.0, 0.0], [14.0, 0.0], [15.0, 0.0], [16.0, 0.0], [17.0, 0.0], [18.0, 0.0], [19.0, 0.0], [20.0, 0.0], [21.0, 0.0], [22.0, 0.0], [23.0, 0.0]]}});\n",
       "   }(mpld3);\n",
       "}else if(typeof define === \"function\" && define.amd){\n",
       "   // require.js is available: use it to load d3/mpld3\n",
       "   require.config({paths: {d3: \"https://mpld3.github.io/js/d3.v3.min\"}});\n",
       "   require([\"d3\"], function(d3){\n",
       "      window.d3 = d3;\n",
       "      mpld3_load_lib(\"https://mpld3.github.io/js/mpld3.v0.2.js\", function(){\n",
       "         \n",
       "         mpld3.draw_figure(\"fig_el241381399575640482166847080363\", {\"axes\": [{\"ylim\": [-20.0, 120.0], \"axesbgalpha\": null, \"xlim\": [-5.0, 25.0], \"id\": \"el24138139957564050624\", \"yscale\": \"linear\", \"paths\": [], \"axes\": [{\"tickvalues\": null, \"position\": \"bottom\", \"tickformat\": null, \"scale\": \"linear\", \"fontsize\": 18.0, \"grid\": {\"gridOn\": false}, \"nticks\": 7}, {\"tickvalues\": null, \"position\": \"left\", \"tickformat\": null, \"scale\": \"linear\", \"fontsize\": 18.0, \"grid\": {\"gridOn\": false}, \"nticks\": 8}], \"zoomable\": true, \"xdomain\": [-5.0, 25.0], \"xscale\": \"linear\", \"images\": [], \"sharex\": [], \"axesbg\": \"#FFFFFF\", \"ydomain\": [-20.0, 120.0], \"texts\": [{\"h_anchor\": \"middle\", \"rotation\": -0.0, \"position\": [0.5, -0.05197132616487454], \"coordinates\": \"axes\", \"v_baseline\": \"hanging\", \"id\": \"el24138139957525033032\", \"zorder\": 3, \"text\": \"Time\", \"color\": \"#000000\", \"alpha\": 1, \"fontsize\": 18.0}, {\"h_anchor\": \"middle\", \"rotation\": -90.0, \"position\": [-0.07022849462365591, 0.5], \"coordinates\": \"axes\", \"v_baseline\": \"auto\", \"id\": \"el24138139957525104400\", \"zorder\": 3, \"text\": \"N_i(t)\", \"color\": \"#000000\", \"alpha\": 1, \"fontsize\": 18.0}, {\"h_anchor\": \"middle\", \"rotation\": -0.0, \"position\": [0.5, 1.0099561927518916], \"coordinates\": \"axes\", \"v_baseline\": \"auto\", \"id\": \"el24138139957525200008\", \"zorder\": 3, \"text\": \"N_i\", \"color\": \"#000000\", \"alpha\": 1, \"fontsize\": 21.599999999999998}], \"bbox\": [0.125, 0.125, 0.775, 0.775], \"lines\": [{\"xindex\": 0, \"zorder\": 2, \"yindex\": 1, \"coordinates\": \"data\", \"linewidth\": 1.0, \"id\": \"el24138139957524848256\", \"alpha\": 1, \"color\": \"#FF0000\", \"dasharray\": \"10,0\", \"data\": \"data01\"}], \"collections\": [{\"xindex\": 0, \"offsetcoordinates\": \"data\", \"id\": \"el24138139957564048160\", \"edgecolors\": [\"#0000FF\"], \"edgewidths\": [1.0], \"alphas\": [0.4], \"zorder\": 1, \"pathtransforms\": [[49.69039949999532, 0.0, 0.0, 49.69039949999532, 0.0, 0.0], [35.136418446315325, 0.0, 0.0, 35.136418446315325, 0.0, 0.0], [24.84519974999766, 0.0, 0.0, 24.84519974999766, 0.0, 0.0], [17.21325931647741, 0.0, 0.0, 17.21325931647741, 0.0, 0.0], [12.171612389003691, 0.0, 0.0, 12.171612389003691, 0.0, 0.0], [8.606629658238704, 0.0, 0.0, 8.606629658238704, 0.0, 0.0], [4.969039949999533, 0.0, 0.0, 4.969039949999533, 0.0, 0.0], [0.0, 0.0, 0.0, 0.0, 0.0, 0.0], [0.0, 0.0, 0.0, 0.0, 0.0, 0.0], [0.0, 0.0, 0.0, 0.0, 0.0, 0.0], [0.0, 0.0, 0.0, 0.0, 0.0, 0.0], [0.0, 0.0, 0.0, 0.0, 0.0, 0.0], [0.0, 0.0, 0.0, 0.0, 0.0, 0.0], [0.0, 0.0, 0.0, 0.0, 0.0, 0.0], [0.0, 0.0, 0.0, 0.0, 0.0, 0.0], [0.0, 0.0, 0.0, 0.0, 0.0, 0.0], [0.0, 0.0, 0.0, 0.0, 0.0, 0.0], [0.0, 0.0, 0.0, 0.0, 0.0, 0.0], [0.0, 0.0, 0.0, 0.0, 0.0, 0.0], [0.0, 0.0, 0.0, 0.0, 0.0, 0.0], [0.0, 0.0, 0.0, 0.0, 0.0, 0.0], [0.0, 0.0, 0.0, 0.0, 0.0, 0.0], [0.0, 0.0, 0.0, 0.0, 0.0, 0.0], [0.0, 0.0, 0.0, 0.0, 0.0, 0.0]], \"paths\": [[[[0.0, -0.5], [0.13260155, -0.5], [0.25978993539242673, -0.44731684579412084], [0.3535533905932738, -0.3535533905932738], [0.44731684579412084, -0.25978993539242673], [0.5, -0.13260155], [0.5, 0.0], [0.5, 0.13260155], [0.44731684579412084, 0.25978993539242673], [0.3535533905932738, 0.3535533905932738], [0.25978993539242673, 0.44731684579412084], [0.13260155, 0.5], [0.0, 0.5], [-0.13260155, 0.5], [-0.25978993539242673, 0.44731684579412084], [-0.3535533905932738, 0.3535533905932738], [-0.44731684579412084, 0.25978993539242673], [-0.5, 0.13260155], [-0.5, 0.0], [-0.5, -0.13260155], [-0.44731684579412084, -0.25978993539242673], [-0.3535533905932738, -0.3535533905932738], [-0.25978993539242673, -0.44731684579412084], [-0.13260155, -0.5], [0.0, -0.5]], [\"M\", \"C\", \"C\", \"C\", \"C\", \"C\", \"C\", \"C\", \"C\", \"Z\"]]], \"yindex\": 1, \"facecolors\": [\"#0000FF\"], \"pathcoordinates\": \"display\", \"offsets\": \"data01\"}], \"markers\": [], \"sharey\": []}], \"id\": \"el24138139957564048216\", \"height\": 720.0, \"width\": 960.0, \"plugins\": [{\"type\": \"reset\"}, {\"button\": true, \"enabled\": false, \"type\": \"zoom\"}, {\"button\": true, \"enabled\": false, \"type\": \"boxzoom\"}, {\"hoffset\": 0, \"location\": \"mouse\", \"id\": \"el24138139957564048160\", \"labels\": [\"100% remaining\", \"50% remaining\", \"25% remaining\", \"12% remaining\", \"6% remaining\", \"3% remaining\", \"1% remaining\", \"0% remaining\", \"0% remaining\", \"0% remaining\", \"0% remaining\", \"0% remaining\", \"0% remaining\", \"0% remaining\", \"0% remaining\", \"0% remaining\", \"0% remaining\", \"0% remaining\", \"0% remaining\", \"0% remaining\", \"0% remaining\", \"0% remaining\", \"0% remaining\", \"0% remaining\"], \"type\": \"tooltip\", \"voffset\": 10}], \"data\": {\"data01\": [[0.0, 100.0], [1.0, 50.0], [2.0, 25.0], [3.0, 12.0], [4.0, 6.0], [5.0, 3.0], [6.0, 1.0], [7.0, 0.0], [8.0, 0.0], [9.0, 0.0], [10.0, 0.0], [11.0, 0.0], [12.0, 0.0], [13.0, 0.0], [14.0, 0.0], [15.0, 0.0], [16.0, 0.0], [17.0, 0.0], [18.0, 0.0], [19.0, 0.0], [20.0, 0.0], [21.0, 0.0], [22.0, 0.0], [23.0, 0.0]]}});\n",
       "      });\n",
       "    });\n",
       "}else{\n",
       "    // require.js not available: dynamically load d3 & mpld3\n",
       "    mpld3_load_lib(\"https://mpld3.github.io/js/d3.v3.min.js\", function(){\n",
       "         mpld3_load_lib(\"https://mpld3.github.io/js/mpld3.v0.2.js\", function(){\n",
       "                 \n",
       "                 mpld3.draw_figure(\"fig_el241381399575640482166847080363\", {\"axes\": [{\"ylim\": [-20.0, 120.0], \"axesbgalpha\": null, \"xlim\": [-5.0, 25.0], \"id\": \"el24138139957564050624\", \"yscale\": \"linear\", \"paths\": [], \"axes\": [{\"tickvalues\": null, \"position\": \"bottom\", \"tickformat\": null, \"scale\": \"linear\", \"fontsize\": 18.0, \"grid\": {\"gridOn\": false}, \"nticks\": 7}, {\"tickvalues\": null, \"position\": \"left\", \"tickformat\": null, \"scale\": \"linear\", \"fontsize\": 18.0, \"grid\": {\"gridOn\": false}, \"nticks\": 8}], \"zoomable\": true, \"xdomain\": [-5.0, 25.0], \"xscale\": \"linear\", \"images\": [], \"sharex\": [], \"axesbg\": \"#FFFFFF\", \"ydomain\": [-20.0, 120.0], \"texts\": [{\"h_anchor\": \"middle\", \"rotation\": -0.0, \"position\": [0.5, -0.05197132616487454], \"coordinates\": \"axes\", \"v_baseline\": \"hanging\", \"id\": \"el24138139957525033032\", \"zorder\": 3, \"text\": \"Time\", \"color\": \"#000000\", \"alpha\": 1, \"fontsize\": 18.0}, {\"h_anchor\": \"middle\", \"rotation\": -90.0, \"position\": [-0.07022849462365591, 0.5], \"coordinates\": \"axes\", \"v_baseline\": \"auto\", \"id\": \"el24138139957525104400\", \"zorder\": 3, \"text\": \"N_i(t)\", \"color\": \"#000000\", \"alpha\": 1, \"fontsize\": 18.0}, {\"h_anchor\": \"middle\", \"rotation\": -0.0, \"position\": [0.5, 1.0099561927518916], \"coordinates\": \"axes\", \"v_baseline\": \"auto\", \"id\": \"el24138139957525200008\", \"zorder\": 3, \"text\": \"N_i\", \"color\": \"#000000\", \"alpha\": 1, \"fontsize\": 21.599999999999998}], \"bbox\": [0.125, 0.125, 0.775, 0.775], \"lines\": [{\"xindex\": 0, \"zorder\": 2, \"yindex\": 1, \"coordinates\": \"data\", \"linewidth\": 1.0, \"id\": \"el24138139957524848256\", \"alpha\": 1, \"color\": \"#FF0000\", \"dasharray\": \"10,0\", \"data\": \"data01\"}], \"collections\": [{\"xindex\": 0, \"offsetcoordinates\": \"data\", \"id\": \"el24138139957564048160\", \"edgecolors\": [\"#0000FF\"], \"edgewidths\": [1.0], \"alphas\": [0.4], \"zorder\": 1, \"pathtransforms\": [[49.69039949999532, 0.0, 0.0, 49.69039949999532, 0.0, 0.0], [35.136418446315325, 0.0, 0.0, 35.136418446315325, 0.0, 0.0], [24.84519974999766, 0.0, 0.0, 24.84519974999766, 0.0, 0.0], [17.21325931647741, 0.0, 0.0, 17.21325931647741, 0.0, 0.0], [12.171612389003691, 0.0, 0.0, 12.171612389003691, 0.0, 0.0], [8.606629658238704, 0.0, 0.0, 8.606629658238704, 0.0, 0.0], [4.969039949999533, 0.0, 0.0, 4.969039949999533, 0.0, 0.0], [0.0, 0.0, 0.0, 0.0, 0.0, 0.0], [0.0, 0.0, 0.0, 0.0, 0.0, 0.0], [0.0, 0.0, 0.0, 0.0, 0.0, 0.0], [0.0, 0.0, 0.0, 0.0, 0.0, 0.0], [0.0, 0.0, 0.0, 0.0, 0.0, 0.0], [0.0, 0.0, 0.0, 0.0, 0.0, 0.0], [0.0, 0.0, 0.0, 0.0, 0.0, 0.0], [0.0, 0.0, 0.0, 0.0, 0.0, 0.0], [0.0, 0.0, 0.0, 0.0, 0.0, 0.0], [0.0, 0.0, 0.0, 0.0, 0.0, 0.0], [0.0, 0.0, 0.0, 0.0, 0.0, 0.0], [0.0, 0.0, 0.0, 0.0, 0.0, 0.0], [0.0, 0.0, 0.0, 0.0, 0.0, 0.0], [0.0, 0.0, 0.0, 0.0, 0.0, 0.0], [0.0, 0.0, 0.0, 0.0, 0.0, 0.0], [0.0, 0.0, 0.0, 0.0, 0.0, 0.0], [0.0, 0.0, 0.0, 0.0, 0.0, 0.0]], \"paths\": [[[[0.0, -0.5], [0.13260155, -0.5], [0.25978993539242673, -0.44731684579412084], [0.3535533905932738, -0.3535533905932738], [0.44731684579412084, -0.25978993539242673], [0.5, -0.13260155], [0.5, 0.0], [0.5, 0.13260155], [0.44731684579412084, 0.25978993539242673], [0.3535533905932738, 0.3535533905932738], [0.25978993539242673, 0.44731684579412084], [0.13260155, 0.5], [0.0, 0.5], [-0.13260155, 0.5], [-0.25978993539242673, 0.44731684579412084], [-0.3535533905932738, 0.3535533905932738], [-0.44731684579412084, 0.25978993539242673], [-0.5, 0.13260155], [-0.5, 0.0], [-0.5, -0.13260155], [-0.44731684579412084, -0.25978993539242673], [-0.3535533905932738, -0.3535533905932738], [-0.25978993539242673, -0.44731684579412084], [-0.13260155, -0.5], [0.0, -0.5]], [\"M\", \"C\", \"C\", \"C\", \"C\", \"C\", \"C\", \"C\", \"C\", \"Z\"]]], \"yindex\": 1, \"facecolors\": [\"#0000FF\"], \"pathcoordinates\": \"display\", \"offsets\": \"data01\"}], \"markers\": [], \"sharey\": []}], \"id\": \"el24138139957564048216\", \"height\": 720.0, \"width\": 960.0, \"plugins\": [{\"type\": \"reset\"}, {\"button\": true, \"enabled\": false, \"type\": \"zoom\"}, {\"button\": true, \"enabled\": false, \"type\": \"boxzoom\"}, {\"hoffset\": 0, \"location\": \"mouse\", \"id\": \"el24138139957564048160\", \"labels\": [\"100% remaining\", \"50% remaining\", \"25% remaining\", \"12% remaining\", \"6% remaining\", \"3% remaining\", \"1% remaining\", \"0% remaining\", \"0% remaining\", \"0% remaining\", \"0% remaining\", \"0% remaining\", \"0% remaining\", \"0% remaining\", \"0% remaining\", \"0% remaining\", \"0% remaining\", \"0% remaining\", \"0% remaining\", \"0% remaining\", \"0% remaining\", \"0% remaining\", \"0% remaining\", \"0% remaining\"], \"type\": \"tooltip\", \"voffset\": 10}], \"data\": {\"data01\": [[0.0, 100.0], [1.0, 50.0], [2.0, 25.0], [3.0, 12.0], [4.0, 6.0], [5.0, 3.0], [6.0, 1.0], [7.0, 0.0], [8.0, 0.0], [9.0, 0.0], [10.0, 0.0], [11.0, 0.0], [12.0, 0.0], [13.0, 0.0], [14.0, 0.0], [15.0, 0.0], [16.0, 0.0], [17.0, 0.0], [18.0, 0.0], [19.0, 0.0], [20.0, 0.0], [21.0, 0.0], [22.0, 0.0], [23.0, 0.0]]}});\n",
       "            })\n",
       "         });\n",
       "}\n",
       "</script>"
      ],
      "text/plain": [
       "<IPython.core.display.HTML object>"
      ]
     },
     "execution_count": 2,
     "metadata": {},
     "output_type": "execute_result"
    }
   ],
   "source": [
    "import math\n",
    "def n_decay(t, n_initial=100, half_life=1):\n",
    "    \"\"\"This function describes the decay of an isotope\"\"\"\n",
    "    lam = math.log(2)/half_life\n",
    "    return n_initial*math.exp(-lam*t)\n",
    "\n",
    "\n",
    "# This code plots the decay of an isotope\n",
    "import numpy as np\n",
    "y = np.arange(24)\n",
    "x = np.arange(24)\n",
    "for t in range(0,24):\n",
    "    x[t] = t\n",
    "    y[t] = n_decay(t)\n",
    "    \n",
    "# creates a figure and axes with matplotlib\n",
    "fig, ax = plt.subplots()\n",
    "scatter = plt.scatter(x, y, color='blue', s=y*20, alpha=0.4)    \n",
    "ax.plot(x, y, color='red')    \n",
    "\n",
    "# adds labels to the plot\n",
    "ax.set_ylabel('N_i(t)')\n",
    "ax.set_xlabel('Time')\n",
    "ax.set_title('N_i')\n",
    "\n",
    "# adds tooltips\n",
    "import mpld3\n",
    "labels = ['{0}% remaining'.format(i) for i in y]\n",
    "tooltip = mpld3.plugins.PointLabelTooltip(scatter, labels=labels)\n",
    "mpld3.plugins.connect(fig, tooltip)\n",
    "\n",
    "mpld3.display()"
   ]
  },
  {
   "cell_type": "markdown",
   "metadata": {},
   "source": [
    "### Fission Yield\n",
    "\n",
    "Recall fission yield.\n",
    "\n",
    "\n",
    "![https://upload.wikimedia.org/wikipedia/commons/6/68/ThermalFissionYield.svg](https://upload.wikimedia.org/wikipedia/commons/6/68/ThermalFissionYield.svg)\n",
    "\n",
    "\n",
    "These are percentages, so the sum of the individual isotopic yeilds for all isotopes produced is 1 (a.k.a $100\\%$).\n",
    "\n",
    "\\begin{align}\n",
    "\\sum_{i=1}^I\\gamma_i &= 1\n",
    "\\end{align}\n",
    "\n",
    "So, the amount of a single isotope produced by fission is:\n",
    "\n",
    "\n",
    "\\begin{align}\n",
    "F_i &= \\gamma_i\\Sigma_f\\phi\\\\\n",
    "    &= Y_i\\Sigma_f\\phi\\\\\n",
    "    \\end{align}\n",
    "where\n",
    "    \\begin{align}\n",
    "\\gamma_i &= Y_i = \\mbox{fission yield of nuclide i}\\\\\n",
    "\\end{align}\n"
   ]
  },
  {
   "cell_type": "markdown",
   "metadata": {},
   "source": [
    "### Reaction Rates\n",
    "\n",
    "Similarly, recall that we went over reaction rates.\n",
    "\n",
    "- The microscopic cross section is just the likelihood of the event per unit area. \n",
    "- The macroscopic cross section is just the likelihood of the event per unit area of a certain density of target isotopes.\n",
    "- The reaction rate is the macroscopic cross section times the flux of incident neutrons.\n",
    "\n",
    "\\begin{align}\n",
    "R_{i,j}(\\vec{r}) &= N_j(\\vec{r})\\int dE \\phi(\\vec{r},E)\\sigma_{i,j}(E)\\\\\n",
    "R_{i,j}(\\vec{r}) &= \\mbox{reactions of type i involving isotope j } [reactions/cm^2s]\\\\\n",
    "N_j(\\vec{r}) &= \\mbox{number of nuclei participating in the reactions }\\\\\n",
    "E &= \\mbox{energy}\\\\\n",
    "\\phi(\\vec{r},E)&= \\mbox{flux of neutrons with energy E at position i}\\\\\n",
    "\\sigma_{i,j}(E)&= \\mbox{cross section}\\\\\n",
    "\\end{align}\n",
    "\n",
    "\n",
    "We said this can be written more simply as $R_x = \\sigma_x I N$, where I is intensity of the neutron flux. In the notation of the above equation, we can describe the production of an isotope by neutron absorption by another isotope as :\n",
    "\n",
    "\\begin{align}\n",
    "\\mbox{isotope i production via neutron absorption in m} = f_{im}\\sigma_{am}N_m  \\phi\n",
    "\\end{align}"
   ]
  },
  {
   "cell_type": "markdown",
   "metadata": {},
   "source": [
    "### Total composition evolution\n",
    "\n",
    "\\begin{align}\n",
    "\\frac{dN_i}{dt} &= \\sum_{m=1}^{M}l_{im}\\lambda_mN_m + \\phi\\sum_{m=1}^{M}f_{im}\\sigma_mN_m - (\\lambda_i + \\phi\\sigma_i + r_i - c_i)N_i + F_i\\Big|_{i\\in [1,M]}\\\\\n",
    "\\end{align}\n",
    "\\begin{align}\n",
    "N_i &= \\mbox{atom density of nuclide i}\\\\\n",
    "M &= \\mbox{number of nuclides}\\\\\n",
    "l_{im} &= \\mbox{fraction of decays of nuclide m that result in formation of nuclide i}\\\\\n",
    "\\lambda_i &= \\mbox{radioactive decay constant of nuclide i}\\\\\n",
    "\\phi &= \\mbox{neutron flux, averaged over position and energy}\\\\\n",
    "f_{im} &= \\mbox{fraction of neutron absorption by nuclide m leading to the formation of nuclide i}\\\\\n",
    "\\sigma_m &= \\mbox{average neutron absorption cross section of nuclide m}\\\\\n",
    "r_i &= \\mbox{continuous removal rate of nuclide i from the system}\\\\\n",
    "c_i &= \\mbox{continuous feed rate of nuclide i}\\\\\n",
    "F_i &= \\mbox{production rate of nuclide i directly from fission}\\\\\n",
    "\\end{align}\n",
    "\n",
    "\n",
    "![./u_conc_bu.png](./u_conc_bu.png)\n",
    "\n",
    "![./pu_conc_bu.png](./pu_conc_bu.png)\n"
   ]
  },
  {
   "cell_type": "markdown",
   "metadata": {},
   "source": [
    "### Example: $^{135}Xe$\n",
    "\n",
    "**Discussion: What is interesting about Xenon?**\n",
    "    \n",
    "    \n",
    "$^{135}Xe$ is produced directly by fission and from the decay of iodine.\n",
    "\n",
    "\\begin{align}\n",
    "\\frac{dN_{xe}}{dt} &= \\sum_{m=1}^{M}l_{Xem}\\lambda_mN_m + \\phi\\sum_{m=1}^{M}f_{Xem}\\sigma_mN_m - (\\lambda_{Xe} + \\phi\\sigma_{Xe} + r_{Xe} - c_{Xe})N_{Xe} + F_{Xe}\\\\\n",
    " &= -\\lambda_{Xe}N_{Xe}  - \\sigma_{aXe}\\phi N_{Xe} + \\lambda_IN_I + F_{Xe}\\\\\n",
    " &= -\\lambda_{Xe}N_{Xe}  - \\sigma_{aXe}\\phi N_{Xe} + \\lambda_IN_I + \\gamma_{Xe}\\Sigma_f\\phi\\\\\n",
    " \\gamma_{Xe} &= 0.003\\\\\n",
    " \\gamma_{I} &= 0.061\\\\\n",
    "\\end{align}"
   ]
  },
  {
   "cell_type": "markdown",
   "metadata": {},
   "source": [
    "### Example: $^{239}Pu$    \n",
    "\n",
    "\n",
    "\\begin{align}\n",
    "\\frac{dN_{Pu}}{dt} &= \\sum_{m=1}^{M}l_{Pum}\\lambda_mN_m + \\phi\\sum_{m=1}^{M}f_{Pum}\\sigma_mN_m - (\\lambda_{Pu} + \\phi\\sigma_{Pu} + r_{Pu} - c_{Pu})N_{Pu} + F_{Pu}\\\\\n",
    "\\end{align}\n",
    "\n",
    "\n",
    "Let's formulate this equation together.\n",
    "\n",
    "\n",
    "$$\\mathrm{^{238}_{\\ 92}U \\ + \\ ^{1}_{0}n \\ \\longrightarrow \\ ^{239}_{\\ 92}U \\ \\xrightarrow [23.5\\ min]{\\beta^-} \\ ^{239}_{\\ 93}Np \\ \\xrightarrow [2.3565\\ d]{\\beta^-} \\ ^{239}_{\\ 94}Pu}$$\n",
    "\n",
    "\n",
    "- Decay of what nuclides result in the formation of $^{239}Pu$?\n",
    "- Does $^{239}Pu$ decay?\n",
    "- Is there a nuclide that becomes  $^{239}Pu$ after it absorbs a neutron?\n",
    "- Does  $^{239}Pu$ ever absorb neutrons?\n",
    "- Is  $^{239}Pu$ ever produced directly from fission?\n"
   ]
  },
  {
   "cell_type": "markdown",
   "metadata": {},
   "source": [
    "\n",
    "Answers: \n",
    "\n",
    "- Decay of what nuclides result in the formation of $^{239}Pu$?\n",
    "- Does $^{239}Pu$ decay?\n",
    "- Neutron absorption in what nuclide results in  $^{239}Pu$?\n",
    "- Does  $^{239}Pu$ ever absorb neutrons?\n",
    "- Is  $^{239}Pu$ ever produced directly from fission?\n"
   ]
  },
  {
   "cell_type": "markdown",
   "metadata": {},
   "source": [
    "## Burnable Poisons\n",
    "\n",
    "- Gadolinia ($Gd_2O_3$) or erbia ($Er_2O_3$) common\n",
    "- Natural Erbium consists of Er166, Er167, Er168  and Er170 primarily.  Er167 has large thermal  cross section.\n",
    "- Gd is an early life burnable poison, typically gone by 10‐20 GWd\n",
    "- Boron also used widely.\n",
    "- Can be mixed with the fuel or a coating on the pellet."
   ]
  },
  {
   "cell_type": "markdown",
   "metadata": {},
   "source": [
    "\\begin{align}\n",
    "\\frac{dN^P(t)}{dt} &= -g(t)\\sigma_{aP}N^P(t)\\phi\\\\\n",
    "g(t) &= \\frac{\\mbox{average flux inside BP}}{\\mbox{average flux in core}}\\\\\n",
    "\\sigma_{aP} &=\\mbox{neutron absorption cross section of the BP}\\\\\n",
    "N^P(t) &= \\mbox{number of atoms of the BP at time t}\n",
    "\\end{align}\n",
    "\n",
    "![./er_conc_bu.png](./er_conc_bu.png)\n",
    "\n",
    "![./er_reactivity_bu.png](./er_reactivity_bu.png)"
   ]
  },
  {
   "cell_type": "code",
   "execution_count": null,
   "metadata": {
    "collapsed": true
   },
   "outputs": [],
   "source": []
  }
 ],
 "metadata": {
  "anaconda-cloud": {},
  "kernelspec": {
   "display_name": "Python [Root]",
   "language": "python",
   "name": "Python [Root]"
  },
  "language_info": {
   "codemirror_mode": {
    "name": "ipython",
    "version": 3
   },
   "file_extension": ".py",
   "mimetype": "text/x-python",
   "name": "python",
   "nbconvert_exporter": "python",
   "pygments_lexer": "ipython3",
   "version": "3.5.2"
  }
 },
 "nbformat": 4,
 "nbformat_minor": 0
}

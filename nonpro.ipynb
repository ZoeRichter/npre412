{
 "cells": [
  {
   "cell_type": "markdown",
   "metadata": {},
   "source": [
    "## Cuban Missile Crisis\n",
    "Early 80s\n",
    "\n",
    "## NPT\n",
    "Signed in the height of the cold war.\n",
    "\n",
    "## UK, US, USSR, France, China\n",
    "\n",
    "Countries without nuclear weapons promised not to develop them in return for nuclear power technology.\n",
    "\n",
    "Those that already have weapons agreed to disarm. \n",
    "\n",
    "NPT is reviewed annually. \n",
    "\n",
    "## Prevent spread\n",
    "\n",
    "## Promote cooperation in peaceful uses\n",
    "\n",
    "## Acheive nuclear disarmament\n",
    "\n",
    "\n",
    "## NK Left\n",
    "\n",
    "## Israel, India, Pakistan never joined\n",
    "\n",
    "\n",
    "## Article 6\n",
    "\n",
    "Countries must \"negotiate in good faith.\"\n",
    "\n",
    "## Ban\n",
    "\n",
    "South america and africa have both banned the use production, stockpiling, and transfer of nuclear weapons. So, you can't finance nuclear weapons there, you can't dock your ship there.\n",
    "\n",
    "\n",
    "\n",
    "## CTBT\n",
    "\n",
    "## Atoms for Peace\n",
    "speech\n",
    "\n",
    "## Megatons to Megawatts (1993 - 2003)\n",
    "\n",
    "- **20** year program\n",
    "- **500 tons** of HEU (**90%** enriched)\n",
    "- Soviet era warheads -> downblended to $<5\\%$ enriched \n",
    "\n",
    "Under this Agreement, United States and Russia agreed to commercially implement a 20-year program to convert 500 metric tons of HEU (uranium 235 enriched to 90 percent) taken from Soviet era warheads, into LEU, low enriched uranium (less than 5 percent uranium 235).The terms of the agreement required that it be implemented on commercial terms without government funds. The agreement named the Department of Energy as the executive agent for the U.S. side.[4] The DOE appointed the newly privatized United States Enrichment Corporation (USEC) as the commercial agent, its executive program contractor. The Russian Federation designated Techsnabexport (TENEX) a commercial subsidiary of its Ministry for Atomic Energy (Minatom), as the agent to implement the program on commercial terms. On January 14, 1994, the commercial contract between USEC and TENEX (HEU-LEU Contract) was signed. The terms also required that the HEU be converted by dilution (downblending) to LEU in Russian nuclear facilities. USEC would then purchase the low enriched fuel and transport it to its facilities in the USA. The first shipment of LEU took place in May 1995.\n",
    "\n",
    "\n",
    "## IAEA Safeguards\n",
    "\n",
    "150 million euro per year. \n",
    "\n",
    "Director General \n",
    "\n",
    "### Material Accountancy\n",
    "\n",
    "### Locks and Surveillance\n",
    "\n"
   ]
  },
  {
   "cell_type": "markdown",
   "metadata": {},
   "source": [
    "## Significant Quantities\n",
    "Direct use nuclear material\n",
    "|======|========|======|\n",
    "| Pu | \t8 kg  | Pu | \n",
    "| 233U\t | 8 kg  | 233U |\n",
    "| HEU (235U < 20%) | \t25 kg 235U | \n",
    "| Indirect use nuclear material |\n",
    "| U(235U < 20%)b |\t75 kg 235U |\n",
    "| (or 10 t natural U |\n",
    "| or 20 t depleted U) |\n",
    "| Th\t| 20 t |  Th |\n",
    "\n",
    "\n",
    "### Example: Significant Quantity of Enriched U\n",
    "\n",
    "Determine the \n",
    "\n"
   ]
  },
  {
   "cell_type": "code",
   "execution_count": null,
   "metadata": {
    "collapsed": true
   },
   "outputs": [],
   "source": []
  },
  {
   "cell_type": "markdown",
   "metadata": {},
   "source": [
    "### Example: Diversion Timing\n",
    "\n",
    "Based on "
   ]
  },
  {
   "cell_type": "markdown",
   "metadata": {},
   "source": [
    "## Detection Uncertainty"
   ]
  }
 ],
 "metadata": {
  "kernelspec": {
   "display_name": "Python 3",
   "language": "python",
   "name": "python3"
  },
  "language_info": {
   "codemirror_mode": {
    "name": "ipython",
    "version": 3
   },
   "file_extension": ".py",
   "mimetype": "text/x-python",
   "name": "python",
   "nbconvert_exporter": "python",
   "pygments_lexer": "ipython3",
   "version": "3.5.2"
  }
 },
 "nbformat": 4,
 "nbformat_minor": 0
}

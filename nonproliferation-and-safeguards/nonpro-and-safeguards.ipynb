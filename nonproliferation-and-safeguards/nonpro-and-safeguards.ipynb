{
 "cells": [
  {
   "cell_type": "markdown",
   "metadata": {},
   "source": [
    "Aside: [http://illinois.edu/calendar/detail/990/33249682](http://illinois.edu/calendar/detail/990/33249682)\n",
    "\n",
    "\n",
    "\n",
    "# Non-Proliferation and Safeguards\n",
    "\n",
    "This unit covers discussions of nuclear non-proliferation and safeguards in the context of nuclear power and the nuclear fuel cycle. "
   ]
  },
  {
   "cell_type": "code",
   "execution_count": 2,
   "metadata": {
    "collapsed": false,
    "scrolled": true
   },
   "outputs": [
    {
     "data": {
      "text/html": [
       "\n",
       "        <iframe\n",
       "            width=\"700\"\n",
       "            height=\"400\"\n",
       "            src=\"https://embed.polleverywhere.com/free_text_polls/LaKxXWF9y4JKkue?short_poll=true\"\n",
       "            frameborder=\"0\"\n",
       "            allowfullscreen\n",
       "        ></iframe>\n",
       "        "
      ],
      "text/plain": [
       "<IPython.lib.display.IFrame at 0x103ce2710>"
      ]
     },
     "execution_count": 2,
     "metadata": {},
     "output_type": "execute_result"
    }
   ],
   "source": [
    "from IPython.display import IFrame\n",
    "IFrame(\"https://embed.polleverywhere.com/free_text_polls/LaKxXWF9y4JKkue?short_poll=true\", width=\"700\", height=\"400\")"
   ]
  },
  {
   "cell_type": "code",
   "execution_count": 28,
   "metadata": {
    "collapsed": false
   },
   "outputs": [
    {
     "data": {
      "text/html": [
       "\n",
       "        <iframe\n",
       "            width=\"700\"\n",
       "            height=\"400\"\n",
       "            src=\"https://embed.polleverywhere.com/multiple_choice_polls/YiHjKwlUd1Cit6s?short_poll=true\"\n",
       "            frameborder=\"0\"\n",
       "            allowfullscreen\n",
       "        ></iframe>\n",
       "        "
      ],
      "text/plain": [
       "<IPython.lib.display.IFrame at 0x7fd8945ae048>"
      ]
     },
     "execution_count": 28,
     "metadata": {},
     "output_type": "execute_result"
    }
   ],
   "source": [
    "IFrame(\"https://embed.polleverywhere.com/multiple_choice_polls/YiHjKwlUd1Cit6s?short_poll=true\", width=\"700\", height=\"400\")"
   ]
  },
  {
   "cell_type": "code",
   "execution_count": 29,
   "metadata": {
    "collapsed": false
   },
   "outputs": [
    {
     "data": {
      "text/html": [
       "\n",
       "        <iframe\n",
       "            width=\"700\"\n",
       "            height=\"400\"\n",
       "            src=\"https://embed.polleverywhere.com/free_text_polls/lBcbliuSuQGKea6?short_poll=true\"\n",
       "            frameborder=\"0\"\n",
       "            allowfullscreen\n",
       "        ></iframe>\n",
       "        "
      ],
      "text/plain": [
       "<IPython.lib.display.IFrame at 0x7fd8945ae2b0>"
      ]
     },
     "execution_count": 29,
     "metadata": {},
     "output_type": "execute_result"
    }
   ],
   "source": [
    "IFrame(\"https://embed.polleverywhere.com/free_text_polls/lBcbliuSuQGKea6?short_poll=true\", width=\"700\", height=\"400\")"
   ]
  },
  {
   "cell_type": "markdown",
   "metadata": {},
   "source": [
    "![http://huckcdn.lwlies.com/admin/wp-content/uploads/2015/08/Huck-Nuclear-Hiroshima-C-958x559.jpg](http://huckcdn.lwlies.com/admin/wp-content/uploads/2015/08/Huck-Nuclear-Hiroshima-C-958x559.jpg)\n",
    "<center>Source: [Huck Magazine, Photography by Campaign for Nuclear Disarmament](http://www.huckmagazine.com/perspectives/activism-2/anti-nuclear-protest-art-will-stop-tracks/)</center>\n",
    "\n",
    "## Learning Objectives\n",
    "\n",
    "At the end of this lesson, you will be equipped to:\n",
    "\n",
    "- Recognize the position and history of movements against nuclear weapons.\n",
    "- List key events in the history of nuclear weapons.\n",
    "- Identify nuclear weapons states.\n",
    "- Characterize the agreements between nuclear weapons states.\n",
    "- Analyze the relationship between nuclear weapons and nuclear power.\n",
    "- Name the national and international agencies responsible for enforcing non-proliferation treaties.\n",
    "- Recognize methods used to enforce nuclear safeguards.\n",
    "- Apply knowledge of the NPT to current and recent events. \n",
    "- Differentiate between fact and fiction. \n",
    "- Discuss the failures of our nuclear weapons program (Bikini Atoll, \n"
   ]
  },
  {
   "cell_type": "markdown",
   "metadata": {},
   "source": [
    "## Art to Consider\n",
    "\n",
    "\n",
    "![https://upload.wikimedia.org/wikipedia/commons/thumb/d/d2/Peace_sign.svg/220px-Peace_sign.svg.png](https://upload.wikimedia.org/wikipedia/commons/thumb/d/d2/Peace_sign.svg/220px-Peace_sign.svg.png)\n"
   ]
  },
  {
   "cell_type": "markdown",
   "metadata": {},
   "source": [
    "### Hiroshima survivor Hiroharu Kono\n",
    "\n",
    "![http://huckcdn.lwlies.com/admin/wp-content/uploads/2015/08/hiroshima-museum.jpg](http://huckcdn.lwlies.com/admin/wp-content/uploads/2015/08/hiroshima-museum.jpg)\n",
    "\n",
    "\n",
    "### Yusaku Kamekura\n",
    "\n",
    "![http://huckcdn.lwlies.com/admin/wp-content/uploads/2015/08/f8cca55bdd5014300ca91e5e830ab52a.jpg](http://huckcdn.lwlies.com/admin/wp-content/uploads/2015/08/f8cca55bdd5014300ca91e5e830ab52a.jpg)"
   ]
  },
  {
   "cell_type": "markdown",
   "metadata": {},
   "source": [
    "# How Did We Get Here?\n",
    "\n",
    "\n",
    "\n",
    "\n",
    "## The Making of the Atomic Bomb\n",
    "\n",
    "The best way to learn about this topic is to read Richard Rhodes excellent book, The Making of The Atomic Bomb. \n",
    "\n",
    "\n",
    "\n",
    "However, let's summarize:\n",
    "\n",
    "### 1930 \n",
    "German nationalists acheive shocking election victory.\n",
    "\n",
    "\n",
    "### 1938 \n",
    "Theory of Nuclear Fission (Discovered on December 17,  1938 and explained theoretically in January 1939).\n",
    "\n",
    "\n",
    "### 1939\n",
    " Szilard and Wigner draft the Einstein-Szilard letter. \n",
    "\n",
    "<a title=\"Albert Einstein [Public domain], via Wikimedia Commons\" href=\"https://commons.wikimedia.org/wiki/File%3AEinstein-Roosevelt-letter.png\"><img width=\"1500\" alt=\"Einstein-Roosevelt-letter\" src=\"https://upload.wikimedia.org/wikipedia/commons/b/bf/Einstein-Roosevelt-letter.png\"/></a>"
   ]
  },
  {
   "cell_type": "markdown",
   "metadata": {},
   "source": [
    "### 1940 - 1946\n",
    "Manhattan Project\n",
    "\n",
    "\n",
    "![https://upload.wikimedia.org/wikipedia/commons/thumb/5/5b/Manhattan_Project_US_Canada_Map_2.svg/700px-Manhattan_Project_US_Canada_Map_2.svg.png](https://upload.wikimedia.org/wikipedia/commons/thumb/5/5b/Manhattan_Project_US_Canada_Map_2.svg/700px-Manhattan_Project_US_Canada_Map_2.svg.png)\n",
    "\n",
    "\n",
    "![http://1.bp.blogspot.com/_zJpnTu57Koc/TOfleUGOP2I/AAAAAAAAYV8/Emhujm51JBs/s1600/LI-sculp-WP-060b.jpg](http://1.bp.blogspot.com/_zJpnTu57Koc/TOfleUGOP2I/AAAAAAAAYV8/Emhujm51JBs/s1600/LI-sculp-WP-060b.jpg)\n",
    "\n",
    "\n",
    "![https://atomictrauma.files.wordpress.com/2012/04/cropped-manhattan-project-sign6.jpg](https://atomictrauma.files.wordpress.com/2012/04/cropped-manhattan-project-sign6.jpg)"
   ]
  },
  {
   "cell_type": "markdown",
   "metadata": {},
   "source": [
    "### July, 16 1945 \n",
    "\n",
    "- Trinity Nuclear Test\n",
    "- \"The Gadget\"/\"Fat Man\"\n",
    "  - 6.19-kilogram (13.6 lb) Pu\n",
    "  - Implosion type plutonium weapon\n",
    "  - energy equivalent of 22 kilotons of TNT (92 TJ)\n",
    "  \n",
    "<a title=\"By Berlyn Brixner [Public domain], via Wikimedia Commons\" href=\"https://commons.wikimedia.org/wiki/File%3ATrinity_Test_Fireball_16ms.jpg\"><img width=\"512\" alt=\"Trinity Test Fireball 16ms\" src=\"https://upload.wikimedia.org/wikipedia/commons/thumb/7/78/Trinity_Test_Fireball_16ms.jpg/512px-Trinity_Test_Fireball_16ms.jpg\"/></a>\n",
    "\n",
    "![https://upload.wikimedia.org/wikipedia/commons/thumb/3/35/Trinity_Site_Obelisk_National_Historic_Landmark.jpg/768px-Trinity_Site_Obelisk_National_Historic_Landmark.jpg](https://upload.wikimedia.org/wikipedia/commons/thumb/3/35/Trinity_Site_Obelisk_National_Historic_Landmark.jpg/768px-Trinity_Site_Obelisk_National_Historic_Landmark.jpg)"
   ]
  },
  {
   "cell_type": "markdown",
   "metadata": {},
   "source": [
    "### 8:15 a.m., August 6, 1945\n",
    "\n",
    "- Hiroshima\n",
    "- population 340,000 - 350,000\n",
    "- Enola Gay, B-29\n",
    "- \"Little Boy\"\n",
    "  - contained 64 kg (141 lb) of enriched uranium.\n",
    "  - less than 1 kg completely detonated.\n",
    "  - energy equivalent of 15 kilotons of TNT (63 TJ).\n",
    "  - gun type.\n",
    "- 70,000 people dead instantly. \n",
    "- 90,000–166,000 after the first year. About 70% of the city's buildings were destroyed, and another 7% severely damaged.\n",
    "\n",
    "<a title=\"By US government DOD and/or DOE photograph [Public domain], via Wikimedia Commons\" href=\"https://commons.wikimedia.org/wiki/File%3ALittle_boy.jpg\"><img width=\"512\" alt=\"Little boy\" src=\"https://upload.wikimedia.org/wikipedia/commons/6/6a/Little_boy.jpg\"/></a>"
   ]
  },
  {
   "cell_type": "markdown",
   "metadata": {},
   "source": [
    "### 11:02 a.m., August 9, 1945\n",
    "\n",
    "\n",
    "- Nagasaki.\n",
    "- population 263,000\n",
    "- Bockscar, B-29\n",
    "- \"Fat Man\"\n",
    "  - contained 14 pounds (6.4 kg) Pu\n",
    "  - energy equivalent of 21 kilotons of TNT (88 TJ; 1 g mass equivalent)\n",
    "  - implosion type\n",
    "- 35,000 people were killed instantly\n",
    "- 39,000 - 80,000 by the end of 1945\n",
    "- Fireball temp 3,900 °C (7,050 °F) \n",
    "- Winds over 1,000 km/h (620 mph)\n",
    "\n",
    "<a title=\"By U.S. Department of Defense (U.S. Department of Defense) [Public domain], via Wikimedia Commons\" href=\"https://commons.wikimedia.org/wiki/File%3AFat_man.jpg\"><img width=\"512\" alt=\"Fat man\" src=\"https://upload.wikimedia.org/wikipedia/commons/c/c2/Fat_man.jpg\"/></a>"
   ]
  },
  {
   "cell_type": "markdown",
   "metadata": {},
   "source": [
    "### 6:45 a.m., March 1, 1954\n",
    "\n",
    "\n",
    "- Castle Bravo.\n",
    "- dry fuel hydrogen bomb\n",
    "- energy released: 15 megatons of TNT\n",
    "- vastly exceeded expected  4 to 8 megatons (because of an unexpectedly high involvement of lithium-7 in the fusion reaction)\n",
    "- shifting winds ---> greatest contamination every perpetrated by the U.S. \n",
    "- Japanese fishing boat (fishermen died, contaminated fish were sold)\n",
    "\n",
    "\n",
    "![https://upload.wikimedia.org/wikipedia/commons/f/f7/Bravo_fallout2.png](https://upload.wikimedia.org/wikipedia/commons/f/f7/Bravo_fallout2.png)\n"
   ]
  },
  {
   "cell_type": "markdown",
   "metadata": {},
   "source": [
    "### 11:32 a.m. October 30, 1961\n",
    "\n",
    "- Tsar Bomba / Ivan / Vanya\n",
    "- Soviet RDS-220, three-stage hydrogen bomb\n",
    "  - 2nd/3rd stages had 238U \"tamper\" to reduce fast fissions & fallout\n",
    "  - 97% of the total yield resulted from thermonuclear fusion\n",
    "  - energy released: 50 megaton TNT (210 PJ)\n",
    "\n",
    "\n",
    "<a title=\"By Fastfission [Public domain], via Wikimedia Commons\" href=\"https://commons.wikimedia.org/wiki/File%3AComparative_nuclear_fireball_sizes.svg\"><img width=\"512\" alt=\"Comparative nuclear fireball sizes\" src=\"https://upload.wikimedia.org/wikipedia/commons/thumb/f/f9/Comparative_nuclear_fireball_sizes.svg/512px-Comparative_nuclear_fireball_sizes.svg.png\"/></a>"
   ]
  },
  {
   "cell_type": "markdown",
   "metadata": {},
   "source": [
    "### October 16–28, 1962 \n",
    "Cuban Missile Crisis"
   ]
  },
  {
   "cell_type": "markdown",
   "metadata": {},
   "source": [
    "### 1963\n",
    "Partial test ban treaty. \n"
   ]
  },
  {
   "cell_type": "markdown",
   "metadata": {
    "collapsed": true
   },
   "source": [
    "## 1970 : NPT\n",
    "\n",
    "Opened for signature in 1968, the treaty entered into force in 1970\n",
    "\n",
    "\n",
    "The goals of the NPT were to: \n",
    "\n",
    "- Prevent the spread of nuclear weapons\n",
    "- Promote cooperation in peaceful uses of nuclear technology\n",
    "- Acheive nuclear disarmament\n",
    "\n",
    "Accordingly: \n",
    "\n",
    "- Countries with weapons (UK, US, USSR, France, China) agree not to share.\n",
    "- Countries without nuclear weapons promised not to develop them in return for nuclear power technology.\n",
    "- Those that already have weapons agreed to disarm. (Article 6: Countries must \"negotiate in good faith.\")\n",
    "\n",
    "NPT is reviewed annually. \n",
    "\n",
    "### Membership\n",
    "\n",
    "<p><a href=\"https://commons.wikimedia.org/wiki/File:NPT_parties.svg#/media/File:NPT_parties.svg\"><img src=\"https://upload.wikimedia.org/wikipedia/commons/thumb/b/ba/NPT_parties.svg/1200px-NPT_parties.svg.png\" alt=\"NPT parties.svg\"></a><br>By <a href=\"//commons.wikimedia.org/wiki/File:NPT_Participation.svg\" title=\"File:NPT Participation.svg\">File:NPT Participation.svg</a>: <a href=\"//commons.wikimedia.org/wiki/User:Allstar86\" title=\"User:Allstar86\">Allstar86</a>, <a href=\"//commons.wikimedia.org/wiki/User:L.tak\" title=\"User:L.tak\">L.tak</a>, <a href=\"//commons.wikimedia.org/w/index.php?title=User:Danlaycock&amp;action=edit&amp;redlink=1\" class=\"new\" title=\"User:Danlaycock (page does not exist)\">Danlaycock</a>\n",
    "derivative work: <a href=\"//commons.wikimedia.org/w/index.php?title=User:Danlaycock&amp;action=edit&amp;redlink=1\" class=\"new\" title=\"User:Danlaycock (page does not exist)\">Danlaycock</a> - This file was derived from:\n",
    "&nbsp;<a href=\"//commons.wikimedia.org/wiki/File:NPT_Participation.svg\" title=\"File:NPT Participation.svg\">NPT Participation.svg</a>, <a href=\"http://creativecommons.org/licenses/by-sa/3.0\" title=\"Creative Commons Attribution-Share Alike 3.0\">CC BY-SA 3.0</a>, <a href=\"https://commons.wikimedia.org/w/index.php?curid=31123238\">Link</a></p>\n",
    "\n",
    "\n",
    "![./legend.png](./legend.png)\n",
    "\n",
    "#### Renegged\n",
    "Only North Korea has backed out of their agreement. \n",
    "\n",
    "\n",
    "#### Never signed\n",
    "\n",
    "Indian, Pakistan, and Israel never joined. All three now have weapons. \n",
    "\n",
    "\n"
   ]
  },
  {
   "cell_type": "markdown",
   "metadata": {},
   "source": [
    "### 1996 \n",
    "\n",
    "Comprehensive Test Ban Treaty"
   ]
  },
  {
   "cell_type": "markdown",
   "metadata": {},
   "source": [
    "\n",
    "## Megatons to Megawatts (1993 - 2003)\n",
    "\n",
    "- **20** year program\n",
    "- **500 tons** of HEU (**90%** enriched)\n",
    "- Soviet era warheads -> downblended to $<5\\%$ enriched \n",
    "- To be mplemented on commercial terms without government funds. \n",
    "  - United States named Enrichment Corporation (USEC) as the commercial agent\n",
    "  - the Russian Federation designated Techsnabexport (TENEX) as its commercial agent.\n",
    "- The first shipment of LEU took place in May 1995.\n",
    "\n",
    "\n",
    "![http://www.centrusenergy.com/wp-content/uploads/2016/03/MegatonstToMegawatts20KLogoStack-History-Slider.png](http://www.centrusenergy.com/wp-content/uploads/2016/03/MegatonstToMegawatts20KLogoStack-History-Slider.png)\n",
    "\n",
    "\n",
    "**Practice: Can You prove this is an accurate statement?**\n",
    "\n",
    "\n",
    "Think back to enrichment. This is another feed factor problem. \n",
    "\n",
    "\\begin{align}\n",
    "x_p &= 0.05\\\\\n",
    "x_w &= 0.002\\\\\n",
    "x_f &= 0.9\\\\\n",
    "\\end{align}\n",
    "\n",
    "Thus, we can find the feed factor (kg feed per kg enriched):\n",
    "\n",
    "\\begin{align}\n",
    "FF &= \\frac{F}{P}\\\\\n",
    "   &= \\frac{x_p - x_w}{x_f - x_w}\\\\\n",
    "   &= \\frac{0.05 - 0.002}{0.9 - 0.002}\\\\\n",
    "   & \\\\\n",
    "   &= 0.0535\n",
    "\\end{align}\n",
    "\n",
    "We also know the amount of feed, F, was 500 tons.\n",
    "\n",
    "\\begin{align}\n",
    "FF = \\frac{F}{P}\\\\\n",
    "FF = 0.0535\\\\\n",
    "F = 5.0\\times 10^5\\\\\n",
    "\\end{align}"
   ]
  },
  {
   "cell_type": "code",
   "execution_count": 2,
   "metadata": {
    "collapsed": false
   },
   "outputs": [
    {
     "name": "stdout",
     "output_type": "stream",
     "text": [
      "0.053452115812917596  kg of the HEU are needed to produce 1kg fuel.\n",
      "Therefore,  18.708333333333332  kg of the new will be produced per kg of HEU\n",
      "Therefore,  9354166.666666666  kg of the new low enriched uranium was produced\n"
     ]
    }
   ],
   "source": [
    "F = 500000 # kg\n",
    "x_p = 0.05  # sold to US\n",
    "x_w = 0.002 # depleted U\n",
    "x_f = 0.9   # feed from  HEU\n",
    "\n",
    "def ff(x_p, x_w, x_f):\n",
    "    num = x_p - x_w\n",
    "    denom = x_f - x_w\n",
    "    return num/denom\n",
    "\n",
    "print(ff(x_p, x_w, x_f), \n",
    "      \" kg of the HEU are needed to produce 1kg fuel.\")\n",
    "print(\"Therefore, \",1/ff(x_p, x_w, x_f),\n",
    "      \" kg of the new will be produced per kg of HEU\")\n",
    "print(\"Therefore, \",F/ff(x_p, x_w, x_f),\n",
    "      \" kg of the new low enriched uranium was produced\")      \n"
   ]
  },
  {
   "cell_type": "markdown",
   "metadata": {},
   "source": [
    "Now, based on our fuel utilization discussions, how many MWh is that?\n",
    "\n",
    "\\begin{align}\n",
    "M = \\frac{Q}{BU}\\\\\n",
    "Q = \\frac{P_0 \\cdot CF \\cdot T}{\\eta_{th}}\\\\\n",
    "\\end{align}\n",
    "\n",
    "We want to solve for $P_0 CF T$, which will be in units of MWd (and we can convert to MWh.)\n",
    "\\begin{align}\n",
    "\\Rightarrow &M = \\frac{P_0 \\cdot CF \\cdot T}{\\eta_{th}BU}\\\\\n",
    "\\Rightarrow &M \\eta_{th} BU = \\frac{P_0 \\cdot CF \\cdot T}{\\eta_{th}BU}\\\\\n",
    "\\Rightarrow &P_0 \\cdot CF \\cdot T [MWh] = M\\eta_{th}BU[MWd]\\times 24 \\left[\\frac{h}{d}\\right]  \\\\\n",
    "\\end{align}\n",
    "\n",
    "\n",
    "So, let's assume some typical values appropriate for 5% enriched fuel (this will give high-ish burnups).\n",
    "\n",
    "\\begin{align}\n",
    "\\eta_{th} = 0.33\\mbox{ [MWe/MWth]}\\\\ \n",
    "BU = 50000\\mbox{ [MWd/ton] } = 50 \\mbox{ [MWd/kg] }\\\\\n",
    "\\end{align}"
   ]
  },
  {
   "cell_type": "code",
   "execution_count": 3,
   "metadata": {
    "collapsed": false
   },
   "outputs": [
    {
     "name": "stdout",
     "output_type": "stream",
     "text": [
      "And finally, the program produced  4.153250e+09  MWh.\n"
     ]
    }
   ],
   "source": [
    "M = F/ff(x_p, x_w, x_f)\n",
    "#cf = 0.90\n",
    "eta = 0.37\n",
    "h_per_d = 24\n",
    "bu = 50\n",
    "\n",
    "PCFT = M*eta*bu*h_per_d\n",
    "print(\"And finally, the program produced \",'%e' % PCFT, \" MWh.\")"
   ]
  },
  {
   "cell_type": "code",
   "execution_count": 24,
   "metadata": {
    "collapsed": false
   },
   "outputs": [
    {
     "data": {
      "text/html": [
       "<video controls src=\"https://img.buzzfeed.com/buzzfeed-static/static/2014-07/3/11/enhanced/webdr04/anigif_enhanced-buzz-21275-1404402138-31.gif?output-format=mp4\" loop=1 autoplay width=100%/>"
      ],
      "text/plain": [
       "<IPython.core.display.HTML object>"
      ]
     },
     "execution_count": 24,
     "metadata": {},
     "output_type": "execute_result"
    }
   ],
   "source": [
    "\n",
    "from IPython.core.display import HTML\n",
    "HTML(\"\"\"<video controls src=\"{0}\" loop=1 autoplay width=100%/>\"\"\".format('https://img.buzzfeed.com/buzzfeed-static/static/2014-07/3/11/enhanced/webdr04/anigif_enhanced-buzz-21275-1404402138-31.gif?output-format=mp4'))\n"
   ]
  },
  {
   "cell_type": "markdown",
   "metadata": {},
   "source": [
    "# Friday: IAEA, Safeguards, MUF, SQ, Etc.\n",
    "\n",
    "\n",
    "Please note, the remainder of this lecture is a compilation of material from the following two sources.\n",
    "\n",
    "- [Nuclear 101: How IAEA Safeguards Work. Matthew Bunn.](https://www.youtube.com/watch?v=hQ-WSC-D-yw&index=1&list=PLp1QSxtgPnf49U1tLv15Mmq8sC-eyuBk9).\n",
    "- [NSSPI at TAMU](http://nsspi.tamu.edu/)\n",
    "- [Jake Vanderplas' AstroHackWeek intro to stats](https://github.com/AstroHackWeek/AstroHackWeek2014/blob/d172aae2736294d1fb61893f774cc6de0112ad7a/day2/ClassicalStatsPython.ipynb)"
   ]
  },
  {
   "cell_type": "markdown",
   "metadata": {},
   "source": [
    "## IAEA\n",
    "Facts about the IAEA. \n",
    "\n",
    "- What is it?\n",
    "- Where is it?\n",
    "- Why is it?\n",
    "- Who is it?\n",
    "- Who leads it?\n",
    "- Who works there?\n",
    "- When did it start?"
   ]
  },
  {
   "cell_type": "markdown",
   "metadata": {},
   "source": [
    "## IAEA Safeguards\n",
    "\n",
    "150 million euro per year. \n",
    "\n",
    "Director General... \n",
    "\n",
    "\n",
    "Declared/undeclared facilities. \n",
    "\n",
    "\n",
    "### Material Accountancy\n",
    "\n",
    "\n",
    "## Significant Quantities\n",
    "Direct use nuclear material\n",
    "\n",
    "|  Material    |  SQ       |\n",
    "|--------|---------|\n",
    "| Pu    | \t8 kg  Pu | \n",
    "| 233U\t | 8 kg  233U |\n",
    "| HEU (235U $\\ge$ 20%) | \t25 kg 235U |  \n",
    "\n",
    "Indirect use nuclear material\n",
    "\n",
    "|  Material    |  SQ       |\n",
    "|--------|---------|\n",
    "| U(235U < 20%) |\t75 kg 235U | \n",
    "| Natural U | 10 t |\n",
    "| Depleted U | 20t |\n",
    "| Th\t| 20 t  Th |\n",
    "\n",
    "\n",
    "### Example: Significant Quantity\n",
    "\n",
    "A small nuclear nation purchases, on the black market, 35 kg of 40% enriched uranium. How many significant quantities is that?"
   ]
  },
  {
   "cell_type": "markdown",
   "metadata": {},
   "source": [
    "### Aside: Other nuclear materials\n",
    "\n",
    "What materials might the IAEA also watch?\n",
    "\n",
    "### Containment and Surveillance\n",
    " \n",
    "So that the IAEA needs not re-inspect unaltered materials, a typical method is to contain and label that material with tamper-resistant labels or to apply surveillance to the facility.\n",
    "\n",
    "#### Containment"
   ]
  },
  {
   "cell_type": "markdown",
   "metadata": {},
   "source": [
    "## Material Unaccounted For\n",
    "\n",
    "\n",
    "The material unaccounted for is what we worry about. It may have been diverted by a **nefarious actor**.\n",
    "\n",
    "This is often written simply as the \"book inventory\" minus the \"ending physical inventory.\"\n",
    "\n",
    "\\begin{align}\n",
    "MUF &= BI - PE\\\\\n",
    "\\end{align}\n",
    "\n",
    "The book inventory is just the inventory in the beginning (or last time IAEA made an assessment) plus anything that was added and minus anything that was removed. \n",
    "\n",
    "\\begin{align}\n",
    "BI &= (PB + X - Y)\\\\\n",
    "MUF &= (PB + X - Y) - PE\\\\\n",
    "PB &= \\mbox{Beginning Physical inventory}\\\\\n",
    "X &= \\mbox{Increases to inventory}\\\\\n",
    "Y &= \\mbox{Removal from inventory}\\\\\n",
    "PE &= \\mbox{Ending Physical inventory}\\\\\n",
    "\\end{align}\n",
    "\n",
    "\n",
    "### Stream Diversion\n",
    "\n",
    "**ASIDE: Hanford example.**\n",
    "\n",
    "While MUF at each individual inspection may not be a signficant quantity, the sum might be. \n",
    "\n",
    "\\begin{align}\n",
    "MUF_c = \\sum_{t=t_i}^{t=t_f} MUF_t\n",
    "\\end{align}\n",
    "\n",
    "### Item v. Bulk Material Accounting\n",
    "\n",
    "For item based accounting one counts the **number** of things (assemblies, containers with tags), so MUF should be an integer. If $MUF \\ne 0$, either:\n",
    "\n",
    "- there has been an accounting error\n",
    "- there has been some diversion of items\n",
    "\n",
    "For bulk accounting, the MUF is rarely exactly zero. No detector is perfect, but also the processing of fluids, powders, gases, and other bulk masses is inherently lossy. So, it is important in this case to quantify the uncertainty in the material balance.\n",
    "\n",
    "\\begin{align}\n",
    "\\sigma_{MUF} = \\mbox{uncertainty of MUF}\\\\\n",
    "\\end{align}\n",
    "\n",
    "### Constraints\n",
    "\n",
    "The two following constraints are important red flags.\n",
    "\\begin{align}\n",
    "\\big|MUF\\big|< 3\\sigma_{MUF}\\\\\n",
    "MUF_c < 1 SQ\n",
    "\\end{align}\n",
    "\n",
    "\n",
    "## Measurement uncertainties\n",
    "\n",
    "**No detector is perfect** \n",
    "\n",
    "So, let's talk statistics. \n",
    "\n",
    "### Sampling\n",
    "![http://nsspi.tamu.edu/media/187348/figure%201.%20measured%20values%20from%2020%20measurements%20of%20the%20same%20sample._499x362.jpg](http://nsspi.tamu.edu/media/187348/figure%201.%20measured%20values%20from%2020%20measurements%20of%20the%20same%20sample._499x362.jpg)\n",
    "\n",
    "![http://nsspi.tamu.edu/media/187353/figure%202.%20frequency%20of%20each%20measurement%20value%20occurring%20in%20the%20dataset%20of%2020%20measurements._499x362.jpg](http://nsspi.tamu.edu/media/187353/figure%202.%20frequency%20of%20each%20measurement%20value%20occurring%20in%20the%20dataset%20of%2020%20measurements._499x362.jpg)\n",
    "\n",
    "#### Mean\n",
    "\n",
    "The mean is easy:\n",
    "\n",
    "\\begin{align}\n",
    "\\bar{x} = \\frac{1}{N}\\sum_{n=1}^{N}x_n\n",
    "\\end{align}\n",
    "\n",
    "\n",
    "\n",
    "#### Standard deviation:\n",
    "\n",
    "First, we describe the experimental variance (\\sigma^2). The standard deviation is the square root of the variance.\n",
    "\n",
    "\\begin{align}\n",
    "\\sigma = \\sqrt{\\frac{1}{N-1}\\sum_{i-1}^{N}(x_i -\\bar{x})^2}\n",
    "\\end{align}\n",
    "\n",
    "The relative standard deviation, S, is normalized by the mean:\n",
    "\n",
    "\\begin{align}\n",
    "S = \\frac{\\sigma}{\\bar{x}} = \\frac{\\sqrt{\\frac{1}{N-1}\\sum_{i-1}^{N}(x_i -\\bar{x})^2}}{\\bar{x}}\n",
    "\\end{align}\n",
    "\n",
    "\n",
    "#### Uncertainty\n",
    "\n",
    "The measured value ($\\bar{x}$) and the true value (T) differ because of uncertainty. First, there is random error, $\\epsilon$. Second, there is systematic error, $\\Delta$. These can be either negative or positive.\n",
    "\n",
    "\\begin{align}\n",
    "\\bar{x} = T + \\epsilon + \\Delta\n",
    "\\end{align}\n",
    "\n",
    "To model this, we can relate these errors back to the standard deviation, such that:\n",
    "\n",
    "\\begin{align}\n",
    "\\sigma^2 = \\sigma_r^2 + \\sigma_s^2\n",
    "\\end{align}"
   ]
  },
  {
   "cell_type": "markdown",
   "metadata": {},
   "source": [
    "### Example, MUF Uncertainty\n",
    "\n",
    "You are an inspector at Natanz. \n",
    "\n",
    "**On February 1,** \n",
    "- you concluded that there were 4 canisters on site \n",
    "- that collectively hold 8.2kg of 5% enriched uranium. \n",
    "- You tag the canisters with tamper-resistant seals.\n",
    "\n",
    "**On March 1,** \n",
    "- You count 5 canisters. \n",
    "- Three of the original 4 canisters remain tagged. \n",
    "- The missing one contined 1kg of 5% enriched uranium (according to your records).\n",
    "- You are told that in February, 2kg of 5% enriched uranium was created,\n",
    "- but that the 1kg canister had been shipped to a reactor facility. \n",
    "\n",
    "\n",
    "**What is the book inventory?**"
   ]
  },
  {
   "cell_type": "code",
   "execution_count": 8,
   "metadata": {
    "collapsed": false
   },
   "outputs": [
    {
     "ename": "SyntaxError",
     "evalue": "invalid syntax (<ipython-input-8-7fb6e05be5ad>, line 2)",
     "output_type": "error",
     "traceback": [
      "\u001b[1;36m  File \u001b[1;32m\"<ipython-input-8-7fb6e05be5ad>\"\u001b[1;36m, line \u001b[1;32m2\u001b[0m\n\u001b[1;33m    PB =\u001b[0m\n\u001b[1;37m         ^\u001b[0m\n\u001b[1;31mSyntaxError\u001b[0m\u001b[1;31m:\u001b[0m invalid syntax\n"
     ]
    }
   ],
   "source": [
    "\n",
    "PB = \n",
    "X = \n",
    "Y = \n",
    "BI = PB + X - Y \n",
    "\n",
    "print(BI)"
   ]
  },
  {
   "cell_type": "markdown",
   "metadata": {},
   "source": [
    "To determine the MUF, you take 10 readings of the new canister and you get the following results for its contained ${235}U amount are:\n",
    "\n",
    "m = [1.10, 1.015, 1.022, 0.998, 0.989, 1.071, 1.077, 0.970, 0.92, 1.01]\n"
   ]
  },
  {
   "cell_type": "code",
   "execution_count": 20,
   "metadata": {
    "collapsed": false,
    "scrolled": true
   },
   "outputs": [
    {
     "name": "stdout",
     "output_type": "stream",
     "text": [
      "0.144804938196\n"
     ]
    },
    {
     "data": {
      "text/plain": [
       "4360.4651162790997"
      ]
     },
     "execution_count": 20,
     "metadata": {},
     "output_type": "execute_result"
    }
   ],
   "source": [
    "m = [1.10, 1.015, 1.022, 0.998, 0.989, 1.071, 1.077, 0.970, 0.92, 1.01]\n",
    "mean_m = sum(m)/len(m)\n",
    "\n",
    "dif = 0\n",
    "for i in m:\n",
    "    dif += pow(i-mean_m, 2)\n",
    "sig_sq = dif/(len(m)-1)\n",
    "sig = math.sqrt(sig_sq)\n",
    "\n",
    "muf = abs(mean_m -1)\n",
    "print(3*sig - muf)\n"
   ]
  },
  {
   "cell_type": "markdown",
   "metadata": {},
   "source": [
    "Okay, so let's say were' only sortof confident in our measurement. How many samples does one have to take to draw appropriate conclusions. \n",
    "\n",
    "\\begin{align}\n",
    "n &= N\\left( 1 - \\beta^{x/M}\\right)\\\\\n",
    "n &= \\mbox{number of samples per item}\\\\\n",
    "N &= \\mbox{number of items per facility}\\\\\n",
    "\\beta &= \\mbox{non-detection probability}\\\\\n",
    "x &= \\mbox{average nuclear material weight}\\\\\n",
    "M &= \\mbox{mass detection goal}\\\\\n",
    "\\end{align}"
   ]
  },
  {
   "cell_type": "code",
   "execution_count": 5,
   "metadata": {
    "collapsed": false
   },
   "outputs": [
    {
     "data": {
      "text/plain": [
       "18.223456604205744"
      ]
     },
     "execution_count": 5,
     "metadata": {},
     "output_type": "execute_result"
    }
   ],
   "source": [
    "# Imagine a facility with 100 cans of Pu\n",
    "N = 100 # PuOx cans\n",
    "x = 1.0 # kg Pu per can\n",
    "\n",
    "# How confident do we need to be?\n",
    "beta = 0.2 #80% confidence\n",
    "M = 8 #kg Pu, (1SQ)\n",
    "\n",
    "def n(items, beta, x, M):\n",
    "    return items*(1 - pow(beta, x/M))\n",
    "\n",
    "n(N, beta, x, M)"
   ]
  },
  {
   "cell_type": "code",
   "execution_count": 6,
   "metadata": {
    "collapsed": false
   },
   "outputs": [
    {
     "name": "stdout",
     "output_type": "stream",
     "text": [
      "The sample mean is is: 2.2407\n",
      "The sample median should be similar (for a symmetric distribution): 2.7324\n",
      "The sample variance is: 3.1450\n",
      "The sample standard deviation should be sqrt(variance): 1.7734\n",
      "The 0.25 quantile is : 1.6221\n",
      "The 0.5 quantile should be the same as the median: 2.7324\n",
      "The 0.25 quantile is : 1.6221\n"
     ]
    }
   ],
   "source": [
    "import numpy as np\n",
    "from pylab import *\n",
    "### First, make some data\n",
    "s = 10 ## size of the sample\n",
    "\n",
    "## create s random normally distributed numbers with a mean of 2 and a standard deviation of 2\n",
    "sample = np.random.normal(2,2, size=s) \n",
    "#sample = np.random.chisquare(4, size=s)\n",
    "#sample = np.random.poisson(20, size=s)\n",
    "mn = np.mean(sample)\n",
    "md = np.median(sample)\n",
    "vr = np.var(sample)\n",
    "st = np.std(sample)\n",
    "\n",
    "## import quantiles from scipy\n",
    "from scipy.stats.mstats import mquantiles as quantiles\n",
    "\n",
    "## a popular choice are the 0.25, 0.5 and 0.75 quantiles\n",
    "qn = quantiles(sample, [0.25, 0.5, 0.75])\n",
    "\n",
    "## print results\n",
    "print(\"The sample mean is is: %.4f\"%mn)\n",
    "print(\"The sample median should be similar (for a symmetric distribution): %.4f\"%md)\n",
    "print(\"The sample variance is: %.4f\"%vr)\n",
    "print(\"The sample standard deviation should be sqrt(variance): %.4f\"%st)\n",
    "print(\"The 0.25 quantile is : %.4f\"%qn[0])\n",
    "print(\"The 0.5 quantile should be the same as the median: %.4f\"%qn[1])\n",
    "print(\"The 0.25 quantile is : %.4f\"%qn[0])"
   ]
  },
  {
   "cell_type": "markdown",
   "metadata": {},
   "source": [
    "- Understand the concepts of detection, delay, and response technologies.\n",
    "- Formulate different response strategies (including deterrence, denial, containment, pursuit, and recapture) for different facilities and considering on-site and/or o ff-site response.\n",
    "- Defense-in-depth\n",
    "- PRA\n",
    "- Knowledge of the history o f nuclear weapons development\n",
    "- Know the countries who have developed nuclear weapons and the political reasons for their development\n",
    "- Understand the skills, capabilities, and materials needed by a proliferator to produce a nuclear weapon.\n",
    "- Knowledge o f current the NPT and the Additional Protocols\n",
    "- Be able to calculate HEU and Pu production quantities for various nuclear facilities.\n",
    "- Identify proliferation-risks/safeguards-weaknesses in a nuclear fuel cycle or in a collection of facilities.\n",
    "- Understand the methods for safeguarding nuclear material at declared facilities and describe the technology used to measure bulk nuclear materials.\n",
    "- Describe methods for identifying covert nuclear activities and how they can be applied to treaty verification.\n",
    "- Know the types “Special Nuclear Material”\n",
    "- Understand the types of radiation that is emitted by SNM \n",
    "- Understand the challenges o f detecting SNM\n",
    "- Be able to calculate uranium enrichment from spectra\n",
    "- Know what detection systems should be used and under what circumstances\n",
    "- Understand the various forms of SNM for each step o f an open and closed fuel cycle\n",
    "- Calculate and identify possible points o f MUF\n",
    "- De fine and calculate separative work units for uranium enrichment\n",
    "- Be able to describe the methods used for accounting and control of SNM\n",
    "- Discuss the elements o f proliferation resistance\n",
    "- Know the quantities of SNM created in SNF for various burn-ups and reactor types\n",
    "- Statistics applied in safeguards\n",
    "- Describe the fundamentals of how nuclear m aterial safeguards are implemented to secure nuclear material from diversion by the country."
   ]
  }
 ],
 "metadata": {
  "anaconda-cloud": {},
  "kernelspec": {
   "display_name": "Python [Root]",
   "language": "python",
   "name": "Python [Root]"
  },
  "language_info": {
   "codemirror_mode": {
    "name": "ipython",
    "version": 3
   },
   "file_extension": ".py",
   "mimetype": "text/x-python",
   "name": "python",
   "nbconvert_exporter": "python",
   "pygments_lexer": "ipython3",
   "version": "3.5.2"
  }
 },
 "nbformat": 4,
 "nbformat_minor": 0
}

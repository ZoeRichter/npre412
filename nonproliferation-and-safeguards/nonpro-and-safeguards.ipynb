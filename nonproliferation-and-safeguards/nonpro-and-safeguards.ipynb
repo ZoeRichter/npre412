{
 "cells": [
  {
   "cell_type": "markdown",
   "metadata": {},
   "source": [
    "Aside: [http://illinois.edu/calendar/detail/990/33249682](http://illinois.edu/calendar/detail/990/33249682)\n",
    "\n",
    "\n",
    "\n",
    "# Non-Proliferation and Safeguards\n",
    "\n",
    "This unit covers discussions of nuclear non-proliferation and safeguards in the context of nuclear power and the nuclear fuel cycle. "
   ]
  },
  {
   "cell_type": "code",
   "execution_count": 27,
   "metadata": {
    "collapsed": false,
    "scrolled": true
   },
   "outputs": [
    {
     "data": {
      "text/html": [
       "\n",
       "        <iframe\n",
       "            width=\"700\"\n",
       "            height=\"400\"\n",
       "            src=\"https://embed.polleverywhere.com/free_text_polls/LaKxXWF9y4JKkue?short_poll=true\"\n",
       "            frameborder=\"0\"\n",
       "            allowfullscreen\n",
       "        ></iframe>\n",
       "        "
      ],
      "text/plain": [
       "<IPython.lib.display.IFrame at 0x7fd8945ae160>"
      ]
     },
     "execution_count": 27,
     "metadata": {},
     "output_type": "execute_result"
    }
   ],
   "source": [
    "from IPython.display import IFrame\n",
    "IFrame(\"https://embed.polleverywhere.com/free_text_polls/LaKxXWF9y4JKkue?short_poll=true\", width=\"700\", height=\"400\")"
   ]
  },
  {
   "cell_type": "code",
   "execution_count": 28,
   "metadata": {
    "collapsed": false
   },
   "outputs": [
    {
     "data": {
      "text/html": [
       "\n",
       "        <iframe\n",
       "            width=\"700\"\n",
       "            height=\"400\"\n",
       "            src=\"https://embed.polleverywhere.com/multiple_choice_polls/YiHjKwlUd1Cit6s?short_poll=true\"\n",
       "            frameborder=\"0\"\n",
       "            allowfullscreen\n",
       "        ></iframe>\n",
       "        "
      ],
      "text/plain": [
       "<IPython.lib.display.IFrame at 0x7fd8945ae048>"
      ]
     },
     "execution_count": 28,
     "metadata": {},
     "output_type": "execute_result"
    }
   ],
   "source": [
    "IFrame(\"https://embed.polleverywhere.com/multiple_choice_polls/YiHjKwlUd1Cit6s?short_poll=true\", width=\"700\", height=\"400\")"
   ]
  },
  {
   "cell_type": "code",
   "execution_count": 29,
   "metadata": {
    "collapsed": false
   },
   "outputs": [
    {
     "data": {
      "text/html": [
       "\n",
       "        <iframe\n",
       "            width=\"700\"\n",
       "            height=\"400\"\n",
       "            src=\"https://embed.polleverywhere.com/free_text_polls/lBcbliuSuQGKea6?short_poll=true\"\n",
       "            frameborder=\"0\"\n",
       "            allowfullscreen\n",
       "        ></iframe>\n",
       "        "
      ],
      "text/plain": [
       "<IPython.lib.display.IFrame at 0x7fd8945ae2b0>"
      ]
     },
     "execution_count": 29,
     "metadata": {},
     "output_type": "execute_result"
    }
   ],
   "source": [
    "IFrame(\"https://embed.polleverywhere.com/free_text_polls/lBcbliuSuQGKea6?short_poll=true\", width=\"700\", height=\"400\")"
   ]
  },
  {
   "cell_type": "markdown",
   "metadata": {},
   "source": [
    "![http://huckcdn.lwlies.com/admin/wp-content/uploads/2015/08/Huck-Nuclear-Hiroshima-C-958x559.jpg](http://huckcdn.lwlies.com/admin/wp-content/uploads/2015/08/Huck-Nuclear-Hiroshima-C-958x559.jpg)\n",
    "<center>Source: [Huck Magazine, Photography by Campaign for Nuclear Disarmament](http://www.huckmagazine.com/perspectives/activism-2/anti-nuclear-protest-art-will-stop-tracks/)</center>\n",
    "\n",
    "## Learning Objectives\n",
    "\n",
    "At the end of this lesson, you will be equipped to:\n",
    "\n",
    "- Recognize the position and history of movements against nuclear weapons.\n",
    "- List key events in the history of nuclear weapons.\n",
    "- Identify nuclear weapons states.\n",
    "- Characterize the agreements between nuclear weapons states.\n",
    "- Analyze the relationship between nuclear weapons and nuclear power.\n",
    "- Name the national and international agencies responsible for enforcing non-proliferation treaties.\n",
    "- Recognize methods used to enforce nuclear safeguards.\n",
    "- Apply knowledge of the NPT to current and recent events. \n",
    "- Differentiate between fact and fiction. \n",
    "- Discuss the failures of our nuclear weapons program (Bikini Atoll, \n"
   ]
  },
  {
   "cell_type": "markdown",
   "metadata": {},
   "source": [
    "## Art to Consider\n",
    "\n",
    "\n",
    "![https://upload.wikimedia.org/wikipedia/commons/thumb/d/d2/Peace_sign.svg/220px-Peace_sign.svg.png](https://upload.wikimedia.org/wikipedia/commons/thumb/d/d2/Peace_sign.svg/220px-Peace_sign.svg.png)\n"
   ]
  },
  {
   "cell_type": "markdown",
   "metadata": {},
   "source": [
    "### Hiroshima survivor Hiroharu Kono\n",
    "\n",
    "![http://huckcdn.lwlies.com/admin/wp-content/uploads/2015/08/hiroshima-museum.jpg](http://huckcdn.lwlies.com/admin/wp-content/uploads/2015/08/hiroshima-museum.jpg)\n",
    "\n",
    "\n",
    "### Yusaku Kamekura\n",
    "\n",
    "![http://huckcdn.lwlies.com/admin/wp-content/uploads/2015/08/f8cca55bdd5014300ca91e5e830ab52a.jpg](http://huckcdn.lwlies.com/admin/wp-content/uploads/2015/08/f8cca55bdd5014300ca91e5e830ab52a.jpg)"
   ]
  },
  {
   "cell_type": "markdown",
   "metadata": {},
   "source": [
    "# How Did We Get Here?\n",
    "\n",
    "\n",
    "\n",
    "\n",
    "## The Making of the Atomic Bomb\n",
    "\n",
    "The best way to learn about this topic is to read Richard Rhodes excellent book, The Making of The Atomic Bomb. \n",
    "\n",
    "\n",
    "\n",
    "However, let's summarize:\n",
    "\n",
    "### 1930 \n",
    "German nationalists acheive shocking election victory.\n",
    "\n",
    "\n",
    "### 1938 \n",
    "Theory of Nuclear Fission (Discovered on December 17,  1938 and explained theoretically in January 1939).\n",
    "\n",
    "\n",
    "### 1939\n",
    " Szilard and Wigner draft the Einstein-Szilard letter. \n",
    "\n",
    "<a title=\"Albert Einstein [Public domain], via Wikimedia Commons\" href=\"https://commons.wikimedia.org/wiki/File%3AEinstein-Roosevelt-letter.png\"><img width=\"1500\" alt=\"Einstein-Roosevelt-letter\" src=\"https://upload.wikimedia.org/wikipedia/commons/b/bf/Einstein-Roosevelt-letter.png\"/></a>"
   ]
  },
  {
   "cell_type": "markdown",
   "metadata": {},
   "source": [
    "### 1940 - 1946\n",
    "Manhattan Project\n",
    "\n",
    "\n",
    "![https://upload.wikimedia.org/wikipedia/commons/thumb/5/5b/Manhattan_Project_US_Canada_Map_2.svg/700px-Manhattan_Project_US_Canada_Map_2.svg.png](https://upload.wikimedia.org/wikipedia/commons/thumb/5/5b/Manhattan_Project_US_Canada_Map_2.svg/700px-Manhattan_Project_US_Canada_Map_2.svg.png)\n",
    "\n",
    "\n",
    "![http://1.bp.blogspot.com/_zJpnTu57Koc/TOfleUGOP2I/AAAAAAAAYV8/Emhujm51JBs/s1600/LI-sculp-WP-060b.jpg](http://1.bp.blogspot.com/_zJpnTu57Koc/TOfleUGOP2I/AAAAAAAAYV8/Emhujm51JBs/s1600/LI-sculp-WP-060b.jpg)\n",
    "\n",
    "\n",
    "![https://atomictrauma.files.wordpress.com/2012/04/cropped-manhattan-project-sign6.jpg](https://atomictrauma.files.wordpress.com/2012/04/cropped-manhattan-project-sign6.jpg)"
   ]
  },
  {
   "cell_type": "markdown",
   "metadata": {},
   "source": [
    "### July, 16 1945 \n",
    "\n",
    "- Trinity Nuclear Test\n",
    "- \"The Gadget\"/\"Fat Man\"\n",
    "  - 6.19-kilogram (13.6 lb) Pu\n",
    "  - Implosion type plutonium weapon\n",
    "  - energy equivalent of 22 kilotons of TNT (92 TJ)\n",
    "  \n",
    "<a title=\"By Berlyn Brixner [Public domain], via Wikimedia Commons\" href=\"https://commons.wikimedia.org/wiki/File%3ATrinity_Test_Fireball_16ms.jpg\"><img width=\"512\" alt=\"Trinity Test Fireball 16ms\" src=\"https://upload.wikimedia.org/wikipedia/commons/thumb/7/78/Trinity_Test_Fireball_16ms.jpg/512px-Trinity_Test_Fireball_16ms.jpg\"/></a>\n",
    "\n",
    "![https://upload.wikimedia.org/wikipedia/commons/thumb/3/35/Trinity_Site_Obelisk_National_Historic_Landmark.jpg/768px-Trinity_Site_Obelisk_National_Historic_Landmark.jpg](https://upload.wikimedia.org/wikipedia/commons/thumb/3/35/Trinity_Site_Obelisk_National_Historic_Landmark.jpg/768px-Trinity_Site_Obelisk_National_Historic_Landmark.jpg)"
   ]
  },
  {
   "cell_type": "markdown",
   "metadata": {},
   "source": [
    "### 8:15 a.m., August 6, 1945\n",
    "\n",
    "- Hiroshima\n",
    "- population 340,000 - 350,000\n",
    "- Enola Gay, B-29\n",
    "- \"Little Boy\"\n",
    "  - contained 64 kg (141 lb) of enriched uranium.\n",
    "  - less than 1 kg completely detonated.\n",
    "  - energy equivalent of 15 kilotons of TNT (63 TJ).\n",
    "  - gun type.\n",
    "- 70,000 people dead instantly. \n",
    "- 90,000–166,000 after the first year. About 70% of the city's buildings were destroyed, and another 7% severely damaged.\n",
    "\n",
    "<a title=\"By US government DOD and/or DOE photograph [Public domain], via Wikimedia Commons\" href=\"https://commons.wikimedia.org/wiki/File%3ALittle_boy.jpg\"><img width=\"512\" alt=\"Little boy\" src=\"https://upload.wikimedia.org/wikipedia/commons/6/6a/Little_boy.jpg\"/></a>"
   ]
  },
  {
   "cell_type": "markdown",
   "metadata": {},
   "source": [
    "### 11:02 a.m., August 9, 1945\n",
    "\n",
    "\n",
    "- Nagasaki.\n",
    "- population 263,000\n",
    "- Bockscar, B-29\n",
    "- \"Fat Man\"\n",
    "  - contained 14 pounds (6.4 kg) Pu\n",
    "  - energy equivalent of 21 kilotons of TNT (88 TJ; 1 g mass equivalent)\n",
    "  - implosion type\n",
    "- 35,000 people were killed instantly\n",
    "- 39,000 - 80,000 by the end of 1945\n",
    "- Fireball temp 3,900 °C (7,050 °F) \n",
    "- Winds over 1,000 km/h (620 mph)\n",
    "\n",
    "<a title=\"By U.S. Department of Defense (U.S. Department of Defense) [Public domain], via Wikimedia Commons\" href=\"https://commons.wikimedia.org/wiki/File%3AFat_man.jpg\"><img width=\"512\" alt=\"Fat man\" src=\"https://upload.wikimedia.org/wikipedia/commons/c/c2/Fat_man.jpg\"/></a>"
   ]
  },
  {
   "cell_type": "markdown",
   "metadata": {},
   "source": [
    "### 6:45 a.m., March 1, 1954\n",
    "\n",
    "\n",
    "- Castle Bravo.\n",
    "- dry fuel hydrogen bomb\n",
    "- energy released: 15 megatons of TNT\n",
    "- vastly exceeded expected  4 to 8 megatons (because of an unexpectedly high involvement of lithium-7 in the fusion reaction)\n",
    "- shifting winds ---> greatest contamination every perpetrated by the U.S. \n",
    "- Japanese fishing boat (fishermen died, contaminated fish were sold)\n",
    "\n",
    "\n",
    "![https://upload.wikimedia.org/wikipedia/commons/f/f7/Bravo_fallout2.png](https://upload.wikimedia.org/wikipedia/commons/f/f7/Bravo_fallout2.png)\n"
   ]
  },
  {
   "cell_type": "markdown",
   "metadata": {},
   "source": [
    "### 11:32 a.m. October 30, 1961\n",
    "\n",
    "- Tsar Bomba / Ivan / Vanya\n",
    "- Soviet RDS-220, three-stage hydrogen bomb\n",
    "  - 2nd/3rd stages had 238U \"tamper\" to reduce fast fissions & fallout\n",
    "  - 97% of the total yield resulted from thermonuclear fusion\n",
    "  - energy released: 50 megaton TNT (210 PJ)\n",
    "\n",
    "\n",
    "<a title=\"By Fastfission [Public domain], via Wikimedia Commons\" href=\"https://commons.wikimedia.org/wiki/File%3AComparative_nuclear_fireball_sizes.svg\"><img width=\"512\" alt=\"Comparative nuclear fireball sizes\" src=\"https://upload.wikimedia.org/wikipedia/commons/thumb/f/f9/Comparative_nuclear_fireball_sizes.svg/512px-Comparative_nuclear_fireball_sizes.svg.png\"/></a>"
   ]
  },
  {
   "cell_type": "markdown",
   "metadata": {},
   "source": [
    "### October 16–28, 1962 \n",
    "Cuban Missile Crisis"
   ]
  },
  {
   "cell_type": "markdown",
   "metadata": {
    "collapsed": true
   },
   "source": [
    "## 1970 : NPT\n",
    "\n",
    "Opened for signature in 1968, the treaty entered into force in 1970\n",
    "\n",
    "\n",
    "The goals of the NPT were to: \n",
    "\n",
    "- Prevent the spread of nuclear weapons\n",
    "- Promote cooperation in peaceful uses of nuclear technology\n",
    "- Acheive nuclear disarmament\n",
    "\n",
    "Accordingly: \n",
    "\n",
    "- Countries with weapons (UK, US, USSR, France, China) agree not to share.\n",
    "- Countries without nuclear weapons promised not to develop them in return for nuclear power technology.\n",
    "- Those that already have weapons agreed to disarm. (Article 6: Countries must \"negotiate in good faith.\")\n",
    "\n",
    "NPT is reviewed annually. \n",
    "\n",
    "### Membership\n",
    "\n",
    "<p><a href=\"https://commons.wikimedia.org/wiki/File:NPT_parties.svg#/media/File:NPT_parties.svg\"><img src=\"https://upload.wikimedia.org/wikipedia/commons/thumb/b/ba/NPT_parties.svg/1200px-NPT_parties.svg.png\" alt=\"NPT parties.svg\"></a><br>By <a href=\"//commons.wikimedia.org/wiki/File:NPT_Participation.svg\" title=\"File:NPT Participation.svg\">File:NPT Participation.svg</a>: <a href=\"//commons.wikimedia.org/wiki/User:Allstar86\" title=\"User:Allstar86\">Allstar86</a>, <a href=\"//commons.wikimedia.org/wiki/User:L.tak\" title=\"User:L.tak\">L.tak</a>, <a href=\"//commons.wikimedia.org/w/index.php?title=User:Danlaycock&amp;action=edit&amp;redlink=1\" class=\"new\" title=\"User:Danlaycock (page does not exist)\">Danlaycock</a>\n",
    "derivative work: <a href=\"//commons.wikimedia.org/w/index.php?title=User:Danlaycock&amp;action=edit&amp;redlink=1\" class=\"new\" title=\"User:Danlaycock (page does not exist)\">Danlaycock</a> - This file was derived from:\n",
    "&nbsp;<a href=\"//commons.wikimedia.org/wiki/File:NPT_Participation.svg\" title=\"File:NPT Participation.svg\">NPT Participation.svg</a>, <a href=\"http://creativecommons.org/licenses/by-sa/3.0\" title=\"Creative Commons Attribution-Share Alike 3.0\">CC BY-SA 3.0</a>, <a href=\"https://commons.wikimedia.org/w/index.php?curid=31123238\">Link</a></p>\n",
    "\n",
    "\n",
    "![./legend.png](./legend.png)\n",
    "\n",
    "#### Renegged\n",
    "Only North Korea has backed out of their agreement. \n",
    "\n",
    "\n",
    "#### Never signed\n",
    "\n",
    "Indian, Pakistan, and Israel never joined. All three now have weapons. \n",
    "\n",
    "\n"
   ]
  },
  {
   "cell_type": "markdown",
   "metadata": {},
   "source": [
    "\n",
    "## Megatons to Megawatts (1993 - 2003)\n",
    "\n",
    "- **20** year program\n",
    "- **500 tons** of HEU (**90%** enriched)\n",
    "- Soviet era warheads -> downblended to $<5\\%$ enriched \n",
    "- To be mplemented on commercial terms without government funds. \n",
    "  - United States named Enrichment Corporation (USEC) as the commercial agent\n",
    "  - the Russian Federation designated Techsnabexport (TENEX) as its commercial agent.\n",
    "- The first shipment of LEU took place in May 1995.\n",
    "\n",
    "\n",
    "![http://www.centrusenergy.com/wp-content/uploads/2016/03/MegatonstToMegawatts20KLogoStack-History-Slider.png](http://www.centrusenergy.com/wp-content/uploads/2016/03/MegatonstToMegawatts20KLogoStack-History-Slider.png)\n",
    "\n",
    "\n",
    "**Practice: Can You prove this is an accurate statement?**\n",
    "\n",
    "\n",
    "Think back to enrichment. This is another feed factor problem. \n",
    "\n",
    "\\begin{align}\n",
    "x_p &= 0.05\\\\\n",
    "x_w &= 0.002\\\\\n",
    "x_f &= 0.9\\\\\n",
    "\\end{align}\n",
    "\n",
    "Thus, we can find the feed factor (kg feed per kg enriched):\n",
    "\n",
    "\\begin{align}\n",
    "FF &= \\frac{F}{P}\\\\\n",
    "   &= \\frac{x_p - x_w}{x_f - x_w}\\\\\n",
    "   &= \\frac{0.05 - 0.002}{0.9 - 0.002}\\\\\n",
    "   & \\\\\n",
    "   &= 0.0535\n",
    "\\end{align}\n",
    "\n",
    "We also know the amount of feed, F, was 500 tons.\n",
    "\n",
    "\\begin{align}\n",
    "FF = \\frac{F}{P}\\\\\n",
    "FF = 0.0535\\\\\n",
    "F = 5.0\\times 10^5\\\\\n",
    "\\end{align}"
   ]
  },
  {
   "cell_type": "code",
   "execution_count": 22,
   "metadata": {
    "collapsed": false
   },
   "outputs": [
    {
     "name": "stdout",
     "output_type": "stream",
     "text": [
      "0.053452115812917596  kg of the HEU are needed to produce 1kg fuel.\n",
      "Therefore,  18.708333333333332  kg of the new will be produced per kg of HEU\n",
      "Therefore,  9354166.666666666  kg of the new low enriched uranium was produced\n"
     ]
    }
   ],
   "source": [
    "F = 500000 # kg\n",
    "x_p = 0.05  # sold to US\n",
    "x_w = 0.002 # depleted U\n",
    "x_f = 0.9   # feed from  HEU\n",
    "\n",
    "def ff(x_p, x_w, x_f):\n",
    "    num = x_p - x_w\n",
    "    denom = x_f - x_w\n",
    "    return num/denom\n",
    "\n",
    "print(ff(x_p, x_w, x_f), \n",
    "      \" kg of the HEU are needed to produce 1kg fuel.\")\n",
    "print(\"Therefore, \",1/ff(x_p, x_w, x_f),\n",
    "      \" kg of the new will be produced per kg of HEU\")\n",
    "print(\"Therefore, \",F/ff(x_p, x_w, x_f),\n",
    "      \" kg of the new low enriched uranium was produced\")      \n"
   ]
  },
  {
   "cell_type": "markdown",
   "metadata": {},
   "source": [
    "Now, based on our fuel utilization discussions, how many MWh is that?\n",
    "\n",
    "\\begin{align}\n",
    "M = \\frac{Q}{BU}\\\\\n",
    "Q = \\frac{P_0 \\cdot CF \\cdot T}{\\eta_{th}}\\\\\n",
    "\\end{align}\n",
    "\n",
    "We want to solve for $P_0 T$, which will be in units of MWd (and we can convert to MWh.)\n",
    "\\begin{align}\n",
    "\\Rightarrow &M = \\frac{P_0 \\cdot CF \\cdot T}{\\eta_{th}BU}\\\\\n",
    "\\Rightarrow &\\frac{M}{CF} = \\frac{P_0 \\cdot T}{\\eta_{th}BU}\\\\\n",
    "\\Rightarrow &P_0 \\cdot T [MWh] = \\frac{M\\eta_{th}BU}{CF}[MWd]\\times 24 \\left[\\frac{h}{d}\\right]  \\\\\n",
    "\\end{align}\n",
    "\n",
    "\n",
    "So, let's assume some typical values appropriate for 5% enriched fuel (this will give high-ish burnups).\n",
    "\n",
    "\\begin{align}\n",
    "CF = 0.90 \\\\\n",
    "\\eta_{th} = 0.33\\mbox{ [MWe/MWth]}\\\\ \n",
    "BU = 50000\\mbox{ [MWd/ton] } = 50 \\mbox{ [MWd/kg] }\\\\\n",
    "\\end{align}"
   ]
  },
  {
   "cell_type": "code",
   "execution_count": 25,
   "metadata": {
    "collapsed": false
   },
   "outputs": [
    {
     "name": "stdout",
     "output_type": "stream",
     "text": [
      "4.115833e+09\n"
     ]
    }
   ],
   "source": [
    "M = F/ff(x_p, x_w, x_f)\n",
    "cf = 0.90\n",
    "eta = 0.33\n",
    "h_per_d = 24\n",
    "bu = 50\n",
    "\n",
    "PT = M*eta*bu*h_per_d/cf\n",
    "print('%e' % PT)"
   ]
  },
  {
   "cell_type": "code",
   "execution_count": 24,
   "metadata": {
    "collapsed": false
   },
   "outputs": [
    {
     "data": {
      "text/html": [
       "<video controls src=\"https://img.buzzfeed.com/buzzfeed-static/static/2014-07/3/11/enhanced/webdr04/anigif_enhanced-buzz-21275-1404402138-31.gif?output-format=mp4\" loop=1 autoplay width=100%/>"
      ],
      "text/plain": [
       "<IPython.core.display.HTML object>"
      ]
     },
     "execution_count": 24,
     "metadata": {},
     "output_type": "execute_result"
    }
   ],
   "source": [
    "\n",
    "from IPython.core.display import HTML\n",
    "HTML(\"\"\"<video controls src=\"{0}\" loop=1 autoplay width=100%/>\"\"\".format('https://img.buzzfeed.com/buzzfeed-static/static/2014-07/3/11/enhanced/webdr04/anigif_enhanced-buzz-21275-1404402138-31.gif?output-format=mp4'))\n"
   ]
  },
  {
   "cell_type": "markdown",
   "metadata": {},
   "source": [
    "\n",
    "\n",
    "\n",
    "# Friday: IAEA, Safeguards, MUF, SQ, Etc.\n",
    "\n",
    "\n",
    "\n",
    "\n",
    "## IAEA Safeguards\n",
    "\n",
    "150 million euro per year. \n",
    "\n",
    "Director General... \n",
    "\n",
    "### Material Accountancy\n",
    "\n",
    "\n",
    "## Significant Quantities\n",
    "Direct use nuclear material\n",
    "\n",
    "|======|========|======|\n",
    "| Pu    | \t8 kg  | Pu | \n",
    "| 233U\t | 8 kg  | 233U |\n",
    "| HEU (235U < 20%) | \t25 kg 235U |  | \n",
    "| Indirect use nuclear material | | |\n",
    "| U(235U < 20%)b |\t75 kg 235U | (or 10 t natural U | | \n",
    "| Th\t| 20 t |  Th |\n",
    "\n",
    "\n",
    "### Example: Significant Quantity of Enriched U\n",
    "\n",
    "Determine the \n",
    "\n",
    "### Locks and Surveillance\n",
    "\n",
    "## Material Unaccounted For\n",
    "\n",
    "$$MUF = (PB + X - Y) - PE$$\n",
    "\n",
    "\n",
    "PB = Beginning Physical inventory\n",
    "X = Increases to inventory\n",
    "Y = Removal from inventory\n",
    "PE = Ending Physical inventory"
   ]
  },
  {
   "cell_type": "markdown",
   "metadata": {},
   "source": [
    "- Understand the concepts of detection, delay, and response technologies.\n",
    "- Formulate different response strategies (including deterrence, denial, containment, pursuit, and recapture) for different facilities and considering on-site and/or o ff-site response.\n",
    "- Defense-in-depth\n",
    "- PRA\n",
    "- Knowledge of the history o f nuclear weapons development\n",
    "- Know the countries who have developed nuclear weapons and the political reasons for their development\n",
    "- Understand the skills, capabilities, and materials needed by a proliferator to produce a nuclear weapon.\n",
    "- Knowledge o f current the NPT and the Additional Protocols\n",
    "- Be able to calculate HEU and Pu production quantities for various nuclear facilities.\n",
    "- Identify proliferation-risks/safeguards-weaknesses in a nuclear fuel cycle or in a collection of facilities.\n",
    "- Understand the methods for safeguarding nuclear material at declared facilities and describe the technology used to measure bulk nuclear materials.\n",
    "- Describe methods for identifying covert nuclear activities and how they can be applied to treaty verification.\n",
    "- Know the types “Special Nuclear Material”\n",
    "- Understand the types of radiation that is emitted by SNM \n",
    "- Understand the challenges o f detecting SNM\n",
    "- Be able to calculate uranium enrichment from spectra\n",
    "- Know what detection systems should be used and under what circumstances\n",
    "- Understand the various forms of SNM for each step o f an open and closed fuel cycle\n",
    "- Calculate and identify possible points o f MUF\n",
    "- De fine and calculate separative work units for uranium enrichment\n",
    "- Be able to describe the methods used for accounting and control of SNM\n",
    "- Discuss the elements o f proliferation resistance\n",
    "- Know the quantities of SNM created in SNF for various burn-ups and reactor types\n",
    "- Statistics applied in safeguards\n",
    "- Describe the fundamentals of how nuclear m aterial safeguards are implemented to secure nuclear material from diversion by the country."
   ]
  }
 ],
 "metadata": {
  "anaconda-cloud": {},
  "kernelspec": {
   "display_name": "Python [Root]",
   "language": "python",
   "name": "Python [Root]"
  },
  "language_info": {
   "codemirror_mode": {
    "name": "ipython",
    "version": 3
   },
   "file_extension": ".py",
   "mimetype": "text/x-python",
   "name": "python",
   "nbconvert_exporter": "python",
   "pygments_lexer": "ipython3",
   "version": "3.5.2"
  }
 },
 "nbformat": 4,
 "nbformat_minor": 0
}
